{
 "cells": [
  {
   "cell_type": "markdown",
   "metadata": {
    "slideshow": {
     "slide_type": "slide"
    }
   },
   "source": [
    "# MUTRAFF COMPARE SCENARIOS\n",
    "Compares two traffic scenarios data analysis based on BASTRA simulator.\n",
    "\n",
    "Author: Alvaro Paricio. sept.2016\n",
    "\n",
    "## References\n",
    "* For Wilcoxon tests:\n",
    "    * http://docs.scipy.org/doc/scipy-0.14.0/reference/generated/scipy.stats.wilcoxon.html\n",
    "    * https://gist.github.com/mblondel/1761714\n",
    "    * http://www.randalolson.com/2012/08/06/statistical-analysis-made-easy-in-python/"
   ]
  },
  {
   "cell_type": "markdown",
   "metadata": {},
   "source": [
    "## Imports"
   ]
  },
  {
   "cell_type": "code",
   "execution_count": 1,
   "metadata": {
    "slideshow": {
     "slide_type": "fragment"
    }
   },
   "outputs": [],
   "source": [
    "%matplotlib inline\n",
    "\n",
    "import os\n",
    "import fileinput\n",
    "import re\n",
    "import numpy as np\n",
    "import matplotlib.pyplot as plt\n",
    "import matplotlib.patches as mpatches\n",
    "import matplotlib.mlab as mlab\n",
    "import matplotlib.lines as mlines\n",
    "import matplotlib as mpl\n",
    "from IPython.display import display, HTML\n",
    "# from scipy.stats import ttest_1samp, wilcoxon, ttest_ind, mannwhitneyu\n",
    "from scipy import stats as st\n",
    "\n",
    "import sklearn as sk\n",
    "import pandas as pd"
   ]
  },
  {
   "cell_type": "markdown",
   "metadata": {},
   "source": [
    "# HTML formatting\n",
    "The toggle button allows code hiding."
   ]
  },
  {
   "cell_type": "code",
   "execution_count": 2,
   "metadata": {},
   "outputs": [
    {
     "data": {
      "text/html": [
       "<script>jQuery(function() {if (jQuery(\"body.notebook_app\").length == 0) { jQuery(\".input_area\").toggle(); jQuery(\".prompt\").toggle();}});</script>"
      ]
     },
     "metadata": {},
     "output_type": "display_data"
    },
    {
     "data": {
      "text/html": [
       "<button onclick=\"jQuery('.input_area').toggle(); jQuery('.prompt').toggle();\">Toggle code</button>"
      ]
     },
     "metadata": {},
     "output_type": "display_data"
    }
   ],
   "source": [
    "from IPython.display import display\n",
    "from IPython.display import HTML\n",
    "import IPython.core.display as di\n",
    "\n",
    "# This line will hide code by default when the notebook is exported as HTML\n",
    "di.display_html('<script>jQuery(function() {if (jQuery(\"body.notebook_app\").length == 0) { jQuery(\".input_area\").toggle(); jQuery(\".prompt\").toggle();}});</script>', raw=True)\n",
    "\n",
    "# This line will add a button to toggle visibility of code blocks, for use with the HTML export version\n",
    "di.display_html('''<button onclick=\"jQuery('.input_area').toggle(); jQuery('.prompt').toggle();\">Toggle code</button>''', raw=True)"
   ]
  },
  {
   "cell_type": "markdown",
   "metadata": {},
   "source": [
    "### Experiments catalog\n",
    "Load experiments catalog\n",
    "\n",
    "Check the notebook **Mutraff Display Experiments** to selected which experiments are available for each scenario."
   ]
  },
  {
   "cell_type": "code",
   "execution_count": 3,
   "metadata": {
    "scrolled": false
   },
   "outputs": [
    {
     "name": "stdout",
     "output_type": "stream",
     "text": [
      "Experiments Library init\n",
      "Created experiment catalog: default\n",
      "Loading experiment catalog from CATALOGO DE EXPERIMENTOS.csv\n"
     ]
    }
   ],
   "source": [
    "from MutraffExperiments.ExperimentCatalog import ExperimentCatalog\n",
    "\n",
    "theExps = ExperimentCatalog('default')\n",
    "theExps.loadExperimentsFromCSV( 'CATALOGO DE EXPERIMENTOS.csv' )"
   ]
  },
  {
   "cell_type": "markdown",
   "metadata": {},
   "source": [
    "### Execution options"
   ]
  },
  {
   "cell_type": "code",
   "execution_count": 28,
   "metadata": {},
   "outputs": [],
   "source": [
    "# OPTIONS\n",
    "flag_show_scenarios = True\n",
    "flag_show_fleets = False\n",
    "flag_show_heat_maps = False\n",
    "flag_show_city_map = False\n",
    "flag_show_heat_maps_speed = True\n",
    "flag_show_demand_stats = True\n",
    "flag_show_traveltime_stats = True\n",
    "flag_show_route_stats = True\n",
    "flag_show_paired_stats = True\n",
    "flag_show_paired_histo_secs = True\n",
    "flag_show_paired_histo_perc = True\n",
    "flag_show_paired_histo_usage = True\n",
    "flag_show_paired_histo_cumsum = True\n",
    "flag_paired_stats_save_csv = False\n",
    "flag_display_gmaps = False\n",
    "flag_print_histogram_shape = False\n",
    "flag_route_calc_num_ON = True\n",
    "flag_labels_incidents = True\n",
    "flag_labels_from_catalog = True\n",
    "\n",
    "conf_paired_stats_confidence = 0.05\n",
    "conf_single_stats_confidence = 0.05\n",
    "\n",
    "MID_FONT_SIZE=10\n",
    "BIG_FONT_SIZE=18\n",
    "LEGEND_FONT_SIZE=18\n",
    "\n",
    "exp={}\n",
    "\n",
    "BASTRA_PATH=\"/Users/alvaro/Desktop/workspace/mutraff/uah-gist-mutraff-bastra\"\n",
    "label1=\"GRID16/MuTRAFF OFF/full traffic\"\n",
    "label2=\"GRID16/MuTRAFF ON/full traffic/1MAP/random5/logit100\""
   ]
  },
  {
   "cell_type": "markdown",
   "metadata": {},
   "source": [
    "### Function: set_experiments\n",
    "Scenarios setup"
   ]
  },
  {
   "cell_type": "code",
   "execution_count": 5,
   "metadata": {},
   "outputs": [],
   "source": [
    "exp_idx1=0\n",
    "exp_idx2=0\n",
    "experiment1=\"\"\n",
    "experiment2=\"\"\n",
    "label1=\"\"\n",
    "label2=\"\"\n",
    "CAT_LABEL1=\"\"\n",
    "CAT_LABEL2=\"\"\n",
    "def set_experiments(idx1,idx2):\n",
    "    global experiment1, experiment2, label1, label2, exp_idx1, exp_idx2, CAT_LABEL1, CAT_LABEL2\n",
    "    exp_idx1=idx1\n",
    "    exp_idx2=idx2\n",
    "    experiment1=theExps.experiments[idx1]['FILE']\n",
    "    experiment2=theExps.experiments[idx2]['FILE']\n",
    "    label1=theExps.experiments[idx1]['LABEL']\n",
    "    label2=theExps.experiments[idx2]['LABEL']\n",
    "    CAT_LABEL1=theExps.experiments[idx1]['LABEL']\n",
    "    CAT_LABEL2=theExps.experiments[idx2]['LABEL']"
   ]
  },
  {
   "cell_type": "markdown",
   "metadata": {
    "slideshow": {
     "slide_type": "subslide"
    }
   },
   "source": [
    "## Functions"
   ]
  },
  {
   "cell_type": "code",
   "execution_count": 6,
   "metadata": {},
   "outputs": [
    {
     "data": {
      "text/html": [
       "<script>jQuery(function() {if (jQuery(\"body.notebook_app\").length == 0) { jQuery(\".input_area\").toggle(); jQuery(\".prompt\").toggle();}});</script>"
      ]
     },
     "metadata": {},
     "output_type": "display_data"
    },
    {
     "data": {
      "text/html": [
       "<button onclick=\"jQuery('.input_area').toggle(); jQuery('.prompt').toggle();\">Toggle code</button>"
      ]
     },
     "metadata": {},
     "output_type": "display_data"
    }
   ],
   "source": [
    "# Toggle CODE ON/OFF\n",
    "from IPython.display import display\n",
    "from IPython.display import HTML\n",
    "import IPython.core.display as di\n",
    "\n",
    "# This line will hide code by default when the notebook is exported as HTML\n",
    "di.display_html('<script>jQuery(function() {if (jQuery(\"body.notebook_app\").length == 0) { jQuery(\".input_area\").toggle(); jQuery(\".prompt\").toggle();}});</script>', raw=True)\n",
    "\n",
    "# This line will add a button to toggle visibility of code blocks, for use with the HTML export version\n",
    "di.display_html('''<button onclick=\"jQuery('.input_area').toggle(); jQuery('.prompt').toggle();\">Toggle code</button>''', raw=True)"
   ]
  },
  {
   "cell_type": "code",
   "execution_count": 7,
   "metadata": {},
   "outputs": [],
   "source": [
    "# Reporting functions\n",
    "\n",
    "idx1=0\n",
    "idx2=0\n",
    "idx3=0\n",
    "def print_h0( title ):\n",
    "    global idx1, idx2, idx3\n",
    "    display(HTML(\"<h2>\"+ title + \"</h2>\"))\n",
    "    display(HTML(\"<style>div.output_subarea table {font-size: 10px;}</style>\"))\n",
    "\n",
    "    idx1 = 0\n",
    "    idx2 = 0\n",
    "    idx3 = 0\n",
    "\n",
    "def print_h1( title, chapter ):\n",
    "    global idx1, idx2, idx3\n",
    "    idx1 +=1\n",
    "    idx2 = 0\n",
    "    idx3 = 0\n",
    "    display(HTML(\"<h4>\"+str(idx1)+\". \"+ title+\". \"+ chapter + \"</h4>\"))\n",
    "\n",
    "def print_h2( title, chapter ):\n",
    "    global idx1, idx2, idx3\n",
    "    idx2 +=1\n",
    "    idx3 = 0\n",
    "    display(HTML(\"<h5>\"+str(idx1)+\".\"+str(idx2)+\". \"+ title+\". \"+ chapter + \"</h5>\"))\n",
    "\n",
    "def print_h3( title, chapter ):\n",
    "    global idx1, idx2, idx3\n",
    "    idx3 +=1\n",
    "    display(HTML(\"<h6>\"+str(idx1)+\".\"+str(idx2)+\".\"+str(idx3)+\". \"+ title+\". \"+ chapter + \"</h6>\"))\n"
   ]
  },
  {
   "cell_type": "code",
   "execution_count": 8,
   "metadata": {},
   "outputs": [],
   "source": [
    "#### Function str_vals_percent\n",
    "# Given two values, print them with their percent difference\n",
    "def str_val( n ):\n",
    "    return \"{0:.2f}\".format(n)\n",
    "def str_perc( n1, n2 ):\n",
    "    txt = \"{0:.2f}\".format((n2-n1)*100/n1) + \"%\"\n",
    "    return txt\n",
    "def str_vals_percent( n1, n2 ):\n",
    "    return \"[\" + str_val(n1) + \",\" + str_val(n2) +\"] \"+ str_perc( n1, n2 ) "
   ]
  },
  {
   "cell_type": "code",
   "execution_count": 9,
   "metadata": {},
   "outputs": [],
   "source": [
    "#### Function dataset_obtain_unique_fleets\n",
    "# Extract unique values for 'veh_types' column from the datasets.\n",
    "#\n",
    "# Support 0,1,2 datasets. Easy to extend to more dataserts. Not needed by now.\n",
    "def dataset_obtain_unique_fleets( *ds ):\n",
    "    size = len(ds)\n",
    "    if( len(ds) == 0):\n",
    "        return []\n",
    "    if( len(ds) == 1):\n",
    "        return ds[0]['veh_type'].unique()\n",
    "    if( len(ds) == 2):\n",
    "        vt1 = ds[0]['veh_type'].unique()\n",
    "        vt2 = ds[1]['veh_type'].unique()\n",
    "        return list(set().union(vt2, vt2))"
   ]
  },
  {
   "cell_type": "code",
   "execution_count": 10,
   "metadata": {},
   "outputs": [],
   "source": [
    "#### Function dataset_filter_per_veh_type\n",
    "# Filter a dataset per type of veh_type\n",
    "def dataset_filter_per_veh_type(ds, vt):\n",
    "    return ds.loc[ ds['veh_type']==vt ]"
   ]
  },
  {
   "cell_type": "code",
   "execution_count": 11,
   "metadata": {},
   "outputs": [],
   "source": [
    "def compare_values(diff,op):\n",
    "  if( diff==0):\n",
    "    return \"hasn't changed\"\n",
    "  if( op == '>'):\n",
    "    return \"has improved\" if diff>0 else \"gets worse\"\n",
    "  if( op == '<'):\n",
    "    return \"has improved\" if diff<0 else \"gets worse\"\n",
    "  return \"\"\n",
    "\n",
    "#### Function printPairedStats\n",
    "# Print paired statistics for two data sets\n",
    "# Print Statistics for paired values\n",
    "def printPairedStats( title, label1, ds_raw1, label2, ds_raw2 ):\n",
    "    if( not flag_show_paired_stats ):\n",
    "        return\n",
    "\n",
    "    confidence_str = str(conf_paired_stats_confidence)+\"%\"\n",
    "    # Copy DataFrames and change column names\n",
    "    ds1 = ds_raw1.loc[ ds_raw1['t_arrival_secs'] > 0 ].copy()\n",
    "    ds2 = ds_raw2.loc[ ds_raw2['t_arrival_secs'] > 0 ].copy()\n",
    "    # WARNING: CHECK WITH THIS SENTENCE THAT EVERYTHING IS CORRECT:\n",
    "    # print(ds1.columns)\n",
    "    # print(ds2.columns)\n",
    "    if flag_route_calc_num_ON:\n",
    "        ds1.columns = ['id1','veh_type1','t_depart_secs1','t_arrival_secs1','t_traveltime_secs1',\n",
    "                   'origin1','destiny1', 'route_calc_num1',\n",
    "                   'route_detail1','route_path_num1','route_distance1','is_attended1','has_finished1',\n",
    "                   'maps1','tripfile1']\n",
    "        ds2.columns = ['id2','veh_type2','t_depart_secs2','t_arrival_secs2','t_traveltime_secs2',\n",
    "                   'origin2','destiny2', 'route_calc_num2',\n",
    "                   'route_detail2','route_path_num2','route_distance2','is_attended2','has_finished2',\n",
    "                   'maps2','tripfile2']\n",
    "    else:\n",
    "        ds1.columns = ['id1','veh_type1','t_depart_secs1','t_arrival_secs1','t_traveltime_secs1',\n",
    "                   'origin1','destiny1',\n",
    "                   'route_detail1','route_path_num1','route_distance1','is_attended1','has_finished1',\n",
    "                   'maps1','tripfile1']\n",
    "        ds2.columns = ['id2','veh_type2','t_depart_secs2','t_arrival_secs2','t_traveltime_secs2',\n",
    "                   'origin2','destiny2',\n",
    "                   'route_detail2','route_path_num2','route_distance2','is_attended2','has_finished2',\n",
    "                   'maps2','tripfile2']\n",
    "        \n",
    "    # Inner join for vehicles that completed in both scenarios\n",
    "    ds3 = pd.merge(left=ds1,right=ds2, left_on='id1', right_on='id2')\n",
    "    ds3['diff_traveltime_secs']=ds3['t_traveltime_secs1']-ds3['t_traveltime_secs2']\n",
    "    # percent\n",
    "    ds3['diff_traveltime_perc']=100.0*ds3['diff_traveltime_secs']/ds3['t_traveltime_secs1']\n",
    "\n",
    "    # Inner join for vehicles that completed and used TWM in both scenarios\n",
    "    # ds4 used TWM\n",
    "    # ds5 didn't use TWM\n",
    "    ds4 = ds3.loc[ ds3['is_attended2'] == True ].copy()\n",
    "    ds5 = ds3.loc[ ds3['is_attended2'] == False ].copy()\n",
    "\n",
    "    travel_times1 = ds3['t_traveltime_secs1']\n",
    "    travel_times2 = ds3['t_traveltime_secs2']\n",
    "\n",
    "    # --- VARIANCE COMPARISON STATISTICS\n",
    "    x_t_test  = st.ttest_ind( travel_times1, travel_times2 )\n",
    "    if( x_t_test.pvalue < conf_paired_stats_confidence ):\n",
    "        x_t_test_str = \"Variances are different (standard independent 2 sample test) \"\n",
    "    else:\n",
    "        x_t_test_str = \"We cannot assure that variances are equal\"\n",
    "    r_t_test  = st.ttest_ind( ds1['route_path_num1'], ds2['route_path_num2'])\n",
    "    if( r_t_test.pvalue < conf_paired_stats_confidence ):\n",
    "        r_t_test_str = \"Variances are different (standard independent 2 sample test) \"\n",
    "    else:\n",
    "        r_t_test_str = \"We cannot assure that variances are equal\"\n",
    "\n",
    "    # SHAPIRO normality test\n",
    "    diff_shapiro1_secs=st.shapiro(ds3['diff_traveltime_secs'])\n",
    "    diff_shapiro1_perc=st.shapiro(ds3['diff_traveltime_perc'])\n",
    "    diff_shapiro1_secs_str = (\"Distrib is not normal\" if diff_shapiro1_secs[1] < conf_paired_stats_confidence else \"cannot reject that is normal\")\n",
    "    diff_shapiro1_perc_str = (\"Distrib is not normal\" if diff_shapiro1_perc[1] < conf_paired_stats_confidence else \"cannot reject that is normal\")\n",
    "\n",
    "    # SIGN AND RANK SIGN WILCOXON TESTS\n",
    "    diff_ranksign_test = st.wilcoxon( travel_times1, travel_times2 )\n",
    "    diff_ranksign_test_str = (\"Medians are sensitive different. TWM has a statistical significative impact\" if diff_ranksign_test.pvalue < conf_paired_stats_confidence else \"cannot reject that Medians are sensitive different\")\n",
    "    \n",
    "    theStats = pd.DataFrame([\n",
    "        [ 'Travel Time', 'T-TEST',  '(t_stat)(p_value)', confidence_str, x_t_test_str, 'stat='+str(x_t_test.statistic), 'p_val='+str(x_t_test.pvalue) ],\n",
    "        [ 'Route Length', 'T-TEST',  '(t_stat)(p_value)', confidence_str, r_t_test_str, 'stat='+str(r_t_test.statistic), 'p_val='+str(r_t_test.pvalue) ],\n",
    "        [ 'Travel Time', 'Wilcoxon Paired RankSign',  '', confidence_str, diff_ranksign_test_str, 'stat='+str(diff_ranksign_test.statistic), 'p_val='+str(diff_ranksign_test.pvalue) ],\n",
    "        [ 'Diff in Travel Time', 'Shapiro',  '', confidence_str, r_t_test_str, 'stat='+str(r_t_test.statistic), 'p_val='+str(r_t_test.pvalue) ],\n",
    "        [ 'Travel Time Diff secs', 'Shapiro Normality', 'secs', confidence_str, diff_shapiro1_secs_str, '', diff_shapiro1_secs[1] ],\n",
    "        [ 'Travel Time Diff secs', 'mean',  't.units', confidence_str, compare_values(np.mean(ds3['diff_traveltime_secs']),'>'), np.mean(ds3['diff_traveltime_secs']), ''],\n",
    "        [ 'Travel Time Diff secs', 'median',  't.units', confidence_str, compare_values(np.median(ds3['diff_traveltime_secs']),'>'),np.median(ds3['diff_traveltime_secs']), '' ],\n",
    "        [ 'Travel Time Diff secs', 'std.deviation',  't.units', confidence_str, compare_values(np.std(ds3['diff_traveltime_secs']),'>'), np.std(ds3['diff_traveltime_secs']), '' ],\n",
    "        [ 'Travel Time Diff %', 'Shapiro Normality', '%', '', diff_shapiro1_perc_str, '', diff_shapiro1_perc[1] ],\n",
    "        [ 'Travel Time Diff %', 'mean',  '%', '', compare_values(np.mean(ds3['diff_traveltime_perc']),'>'), np.mean(ds3['diff_traveltime_perc']), ''],\n",
    "        [ 'Travel Time Diff %', 'median',  '%', '', compare_values(np.median(ds3['diff_traveltime_perc']),'>'), np.median(ds3['diff_traveltime_perc']), '' ],\n",
    "        [ 'Travel Time Diff %', 'std.deviation',  '%', '', compare_values(np.std(ds3['diff_traveltime_perc']),'>'), np.std(ds3['diff_traveltime_perc']), '' ],\n",
    "        ])\n",
    "    theStats.columns = [ '', 'Stat', 'Units', 'confidence', 'Analysis', 'stat', 'pvalue']\n",
    "    print_h2(title,\"PAIRED STATISTICS\")\n",
    "    display(HTML(theStats.to_html()))\n",
    "    \n",
    "    if( flag_show_paired_histo_secs ):\n",
    "        print_h2(title,\"PAIRED - Individual Absolute Traveltime Enhancement histogram\")\n",
    "        cols = 80\n",
    "        fig, ax = plt.subplots(figsize=(18,8))\n",
    "\n",
    "        plt.xlabel('Travel Time Enhancement (time units)')\n",
    "        plt.ylabel('Frecuency')\n",
    "        plt.rc('axes', labelsize=BIG_FONT_SIZE)\n",
    "        plt.title(\"Absolute Individual travel time enhancement (time units)\" )\n",
    "\n",
    "        # y_vals_secs, x_bins, patches = ax.hist(ds3['diff_traveltime_secs'], cols, normed=0, color=['blue'], alpha=0.30, histtype='bar')\n",
    "        y_vals_secs, x_bins, patches = ax.hist(ds3['diff_traveltime_secs'], cols, normed=0, color=['red'], histtype='bar')\n",
    "\n",
    "        plt.show()\n",
    "\n",
    "    if( flag_show_paired_histo_perc ):\n",
    "        print_h2(title,\"PAIRED - Individual Relative Traveltime Enhancement histogram %\")\n",
    "        fig, ax = plt.subplots(figsize=(18,8))\n",
    "\n",
    "        plt.xlabel('Travel Time Enhancement (%)')\n",
    "        plt.ylabel('Frecuency')\n",
    "        plt.rc('axes', labelsize=BIG_FONT_SIZE)\n",
    "        plt.title(\"Percentual Relative Individual travel time enhancement\" )\n",
    "\n",
    "        # bins = np.linspace(-100, 100, 200)\n",
    "        # y_vals, x_bins, patches = ax.hist(ds3['diff_traveltime_perc'], bins, normed=0, color=['blue'], alpha=0.30, histtype='bar')\n",
    "        cols = 80\n",
    "        # y_vals, x_bins, patches = ax.hist(ds3['diff_traveltime_perc'], cols, normed=0, color=['blue'], alpha=0.30, histtype='bar')\n",
    "        y_vals, x_bins, patches = ax.hist(ds3['diff_traveltime_perc'], cols, normed=0, color=['red'], histtype='bar')\n",
    "\n",
    "        plt.show()\n",
    "\n",
    "        # Percent Graphic zoom...\n",
    "        bins = np.linspace(-100, 100, 200)\n",
    "        fig, ax = plt.subplots(figsize=(18,8))\n",
    "\n",
    "        plt.xlabel('Travel Time Enhancement (%)')\n",
    "        plt.ylabel('Frecuency')\n",
    "        plt.rc('axes', labelsize=BIG_FONT_SIZE)\n",
    "        \n",
    "        # plt.title(\"(Zoomed -100%,100%) Percentual Individual travel time enhancement (% enhancement relative to original travel time)\" )\n",
    "        plt.title(\"Percentual Relative Individual travel time enhancement (zoom -100%,100%)\" )\n",
    "        # y_vals, x_bins, patches = ax.hist(ds3['diff_traveltime_perc'], bins, normed=0, color=['blue'], alpha=0.30, histtype='bar')\n",
    "        y_vals, x_bins, patches = ax.hist(ds3['diff_traveltime_perc'], bins, normed=0, color=['red'], histtype='bar')\n",
    "\n",
    "        plt.show()\n",
    "        if( flag_show_paired_histo_cumsum ):\n",
    "            print_h2(title,\"PAIRED - Cumulative distribution of Individual Traveltime Enhancement\")\n",
    "            fig, ax = plt.subplots(figsize=(18,8))\n",
    "\n",
    "            bins = len(y_vals)\n",
    "            y_cum = np.cumsum(y_vals)\n",
    "            y_cum_max = y_cum[bins-1]\n",
    "            y_cum = y_cum/y_cum_max\n",
    "\n",
    "            x1 = np.ones(bins)\n",
    "            x_cum = np.cumsum(x1)\n",
    "            #x_cum = x_cum/bins\n",
    "\n",
    "            #print( \"Enhancement differences (X):\", x_cum )\n",
    "            #print( \"Enhancement differences (Y):\", y_cum )\n",
    "\n",
    "            plt.title(\"Cumulative distribution of Individual travel time enhancement\" )\n",
    "            plt.xlabel('Travel Time Enhancenment')\n",
    "            plt.ylabel('Probability')\n",
    "            plt.rc('axes', labelsize=BIG_FONT_SIZE)\n",
    "            # plot the cumulative function\n",
    "            # plt.plot(base[:-1], cumulative, c='red')\n",
    "            plt.plot(x_cum, y_cum, c='red')\n",
    "            # plot the survival function\n",
    "            # plt.plot(base[:-1], len(ds3['diff_traveltime_perc'])-cumulative, c='brown')\n",
    "            plt.show()\n",
    "\n",
    "    if( flag_show_paired_histo_usage ):\n",
    "        print_h2(title,\"PAIRED - TWM Usage - Individual absolute traveltime enhancement histogram\")\n",
    "        # Graph for Using TWM or not\n",
    "        cols = 80\n",
    "        fig, ax = plt.subplots(figsize=(18,8))\n",
    "\n",
    "        plt.xlabel('Travel Time Enhancement based on TWM usage (time units)')\n",
    "        plt.ylabel('Frecuency')\n",
    "        plt.rc('axes', labelsize=BIG_FONT_SIZE)\n",
    "        plt.title(\"Absolute Individual travel time enhancenment (time units)\" )\n",
    "\n",
    "        if flag_labels_incidents:\n",
    "            # ax.hist([ds4['diff_traveltime_secs'],ds5['diff_traveltime_secs']], cols, color=['red','green'], label=['Incident','Normal'], alpha=0.7, histtype='bar')      \n",
    "            ax.hist([ds4['diff_traveltime_secs'],ds5['diff_traveltime_secs']], cols, color=['red','green'], label=[CAT_LABEL2,CAT_LABEL1], alpha=0.7, histtype='bar')      \n",
    "        else:\n",
    "            ax.hist([ds4['diff_traveltime_secs'],ds5['diff_traveltime_secs']], cols, color=['red','green'], label=['Using TWM','Not using TWM'], alpha=0.7, histtype='bar')      \n",
    "        ax.grid(True)\n",
    "        ax.legend(loc='upper right', fontsize=LEGEND_FONT_SIZE)\n",
    "        plt.show()\n",
    "        \n",
    "        print_h2(title,\"PAIRED - TWM Usage - Individual relative traveltime enhancement histogram\")\n",
    "        fig, ax = plt.subplots(figsize=(18,8))\n",
    "        plt.xlabel('Travel Time Enhancement (%)')\n",
    "        plt.ylabel('Frecuency')\n",
    "        plt.rc('axes', labelsize=BIG_FONT_SIZE)\n",
    "        plt.title(\"Percentual Relative Individual travel time enhancement\" )\n",
    "\n",
    "        cols = 80\n",
    "        if flag_labels_incidents:\n",
    "            # ax.hist([ds4['diff_traveltime_perc'],ds5['diff_traveltime_perc']], cols, color=['red','green'], label=['Incident','Normal'], alpha=0.7, histtype='bar')\n",
    "            ax.hist([ds4['diff_traveltime_perc'],ds5['diff_traveltime_perc']], cols, color=['red','green'], label=[CAT_LABEL2,CAT_LABEL1], alpha=0.7, histtype='bar')\n",
    "        else:\n",
    "            ax.hist([ds4['diff_traveltime_perc'],ds5['diff_traveltime_perc']], cols, color=['red','green'], label=['Using TWM','Not using TWM'], alpha=0.7, histtype='bar')\n",
    "        ax.grid(True)\n",
    "        ax.legend(loc='upper left', fontsize=LEGEND_FONT_SIZE)\n",
    "        plt.show()\n",
    "\n",
    "        # Percent Graphic zoom...\n",
    "        bins = np.linspace(-100, 100, 100)\n",
    "        fig, ax = plt.subplots(figsize=(18,8))\n",
    "\n",
    "        plt.xlabel('Travel Time Enhancement (%)')\n",
    "        plt.ylabel('Frecuency')\n",
    "        plt.rc('axes', labelsize=BIG_FONT_SIZE)\n",
    "        # plt.title(\"(Zoomed -100%,100%) Percentual Individual travel time enhancement based on TWM usage\" )\n",
    "        plt.title(\"Percentual Relative Individual travel time enhancement (zoom -100%,100%)\" )\n",
    "        if flag_labels_incidents:\n",
    "            # ax.hist([ds4['diff_traveltime_perc'],ds5['diff_traveltime_perc']], bins, color=['red','green'], label=['Incident','Normal'], alpha=0.7, histtype='bar')\n",
    "            ax.hist([ds4['diff_traveltime_perc'],ds5['diff_traveltime_perc']], bins, color=['red','green'], label=[CAT_LABEL2,CAT_LABEL1], alpha=0.7, histtype='bar')\n",
    "        else:\n",
    "            ax.hist([ds4['diff_traveltime_perc'],ds5['diff_traveltime_perc']], bins, color=['red','green'], label=['Using TWM','Not using TWM'], alpha=0.7, histtype='bar')\n",
    "        ax.grid(True)\n",
    "        ax.legend(loc='upper left', fontsize=LEGEND_FONT_SIZE)\n",
    "        plt.show()\n",
    "\n",
    "    if( flag_paired_stats_save_csv ):\n",
    "        stats_file = '/tmp/mutraff-'+label1+\"-\"+label2+\".csv\"\n",
    "        ds3.to_csv( stats_file )\n",
    "        print( \"Saved file \" + stats_file )\n"
   ]
  },
  {
   "cell_type": "code",
   "execution_count": 12,
   "metadata": {
    "slideshow": {
     "slide_type": "skip"
    }
   },
   "outputs": [],
   "source": [
    "#### Function draw_2histograms\n",
    "# Plots the comparison between two overlapped histograms based on the datasets.\n",
    "def draw_2histograms( title, label1, experiment1, ds_raw1, label2, experiment2, ds_raw2 ):\n",
    "    print(\"CAT_LABEL1:\"+CAT_LABEL1)\n",
    "    confidence_str = str(conf_single_stats_confidence)+\"%\"\n",
    "\n",
    "    ds1 = ds_raw1.loc[ ds_raw1['t_arrival_secs'] > 0 ]\n",
    "    ds2 = ds_raw2.loc[ ds_raw2['t_arrival_secs'] > 0 ]\n",
    "    ds3 = ds_raw2.loc[ ds_raw2['is_attended'] == True ]\n",
    "\n",
    "    travel_times1 = ds1['t_traveltime_secs']\n",
    "    travel_times2 = ds2['t_traveltime_secs']\n",
    "    travel_times = [ travel_times1, travel_times2 ]\n",
    "\n",
    "    cols = 80\n",
    "    fig, ax = plt.subplots(figsize=(18,8))\n",
    "\n",
    "    plt.xlabel('Travel Time')\n",
    "    plt.ylabel('Frecuency')\n",
    "    plt.rc('axes', labelsize=BIG_FONT_SIZE, titlesize=BIG_FONT_SIZE)\n",
    "    # plt.title(\"Travel Times Histogram: \"+label1+\" <--> \"+label2 )\n",
    "    plt.title(\"Traveltime Histograms Compared\" )\n",
    "    \n",
    "    # y_vals1, x_bins1, patches1 = ax.hist(travel_times1, histtype='bar', cols, normed=0, facecolor='green', alpha=0.30)\n",
    "    # y_vals2, x_bins2, patches2 = ax.hist(travel_times2, histtype='bar', cols, normed=0, facecolor='blue', alpha=0.30)\n",
    "    # [y_vals1, y_vals2], x_bins, patches = ax.hist(travel_times, cols, normed=0, color=['green', 'red'], alpha=0.30, histtype='bar')\n",
    "    if flag_labels_incidents:\n",
    "        # [y_vals1, y_vals2], x_bins, patches = ax.hist(travel_times, cols, normed=0, color=['green', 'red'], histtype='bar', label=['Incident','Normal'])\n",
    "        [y_vals1, y_vals2], x_bins, patches = ax.hist(travel_times, cols, normed=0, color=['green', 'red'], histtype='bar', label=[CAT_LABEL1,CAT_LABEL2])\n",
    "    else:\n",
    "        [y_vals1, y_vals2], x_bins, patches = ax.hist(travel_times, cols, normed=0, color=['green', 'red'], histtype='bar', label=['Using TWM','Not using TWM'])\n",
    "    \n",
    "    conf_int=0.68\n",
    "    \n",
    "    # first histogram ------------------------------------\n",
    "    x_size1   = len(travel_times1)\n",
    "    x_mean1   = np.mean(travel_times1)\n",
    "    x_median1 = np.median(travel_times1)\n",
    "    x_std1    = np.std(travel_times1)\n",
    "    x_var1    = np.var(travel_times1)\n",
    "    x_conf_int1  = st.norm.interval(conf_int, loc=x_mean1, scale=x_std1)\n",
    "    x_m_conf_int1= st.norm.interval(conf_int, loc=x_mean1, scale=x_std1/np.sqrt(x_size1))\n",
    "    x_shapiro1=st.shapiro(travel_times1)\n",
    "    x_shapiro_str1 = confidence_str + (\"is not normal\" if x_shapiro1[1] < conf_single_stats_confidence else \"cannot reject that is normal\")\n",
    "    y_mean1   = np.mean(y_vals1)\n",
    "    y_median1 = np.median(y_vals1)\n",
    "    y_std1    = np.std(y_vals1)\n",
    "    r_mean1   = np.mean(ds1['route_path_num'])\n",
    "    r_median1 = np.median(ds1['route_path_num'])\n",
    "    r_std1    = np.std(ds1['route_path_num'])\n",
    "    r_var1    = np.var(ds1['route_path_num'])\n",
    "    r_conf_int1= st.norm.interval(conf_int, loc=r_mean1, scale=r_std1)\n",
    "    r_conf_int1= st.norm.interval(conf_int, loc=r_mean1, scale=r_std1)\n",
    "    r_m_conf_int1= st.norm.interval(conf_int, loc=r_mean1, scale=r_std1/np.sqrt(x_size1))\n",
    "    # l_mean1   = np.mean(ds1['route_length'])\n",
    "    # l_median1 = np.median(ds1['route_length'])\n",
    "    l_mean1   = 1\n",
    "    l_median1 = 1\n",
    "\n",
    "    # add a 'best fit' line\n",
    "    y1_vals1 = np.append( y_vals1, y_vals1[cols-1] )\n",
    "\n",
    "    x2_mean1   = [ x_mean1   for i in y1_vals1 ]\n",
    "    x3_median1 = [ x_median1 for i in y1_vals1 ]\n",
    "    y2_mean1   = [ y_mean1   for i in x_bins ]\n",
    "    y3_median1 = [ y_median1 for i in x_bins ]\n",
    "\n",
    "    # second histogram ------------------------------------\n",
    "    x_size2   = len(travel_times2)\n",
    "    x_mean2   = np.mean(travel_times2)\n",
    "    x_median2 = np.median(travel_times2)\n",
    "    x_std2    = np.std(travel_times2)\n",
    "    x_var2    = np.var(travel_times2)\n",
    "    x_conf_int2  = st.norm.interval(conf_int, loc=x_mean2, scale=x_std2)\n",
    "    x_m_conf_int2= st.norm.interval(conf_int, loc=x_mean2, scale=x_std2/np.sqrt(x_size2))\n",
    "    x_shapiro2=st.shapiro(travel_times2)\n",
    "    x_shapiro_str2 = confidence_str + (\"is not normal\" if x_shapiro2[1] < conf_single_stats_confidence else \"cannot reject that is normal\")\n",
    "    y_mean2   = np.mean(y_vals2)\n",
    "    y_median2 = np.median(y_vals2)\n",
    "    y_std2    = np.std(y_vals2)\n",
    "    r_mean2   = np.mean(ds2['route_path_num'])\n",
    "    r_median2 = np.median(ds2['route_path_num'])\n",
    "    r_std2    = np.std(ds2['route_path_num'])\n",
    "    r_var2    = np.var(ds2['route_path_num'])\n",
    "    r_conf_int2  = st.norm.interval(conf_int, loc=r_mean2, scale=r_std2)\n",
    "    r_m_conf_int2= st.norm.interval(conf_int, loc=r_mean2, scale=r_std2/np.sqrt(x_size2))\n",
    "    r_t_test  = st.ttest_ind( ds1['route_path_num'], ds2['route_path_num'])\n",
    "    # l_mean2   = np.mean(ds2['route_length'])\n",
    "    # l_median2 = np.median(ds2['route_length'])\n",
    "    l_mean2   = 1\n",
    "    l_median2 = 1\n",
    "     \n",
    "    # add a 'best fit' line\n",
    "    y1_vals2 = np.append( y_vals2, y_vals2[cols-1] )\n",
    "\n",
    "    x2_mean2   = [ x_mean2   for i in y1_vals2 ]\n",
    "    x3_median2 = [ x_median2 for i in y1_vals2 ]\n",
    "    y2_mean2   = [ y_mean2   for i in x_bins ]\n",
    "    y3_median2 = [ y_median2 for i in x_bins ]\n",
    "\n",
    "    if( flag_show_demand_stats ):\n",
    "      theStats = pd.DataFrame([\n",
    "        [ 'Trips Planned', 'num',  'trips', str_perc(ds_raw1['id'].count(),ds_raw2['id'].count()), ds_raw1['id'].count(), ds_raw2['id'].count()],\n",
    "        [ 'Trips Routed',  'num',  'trips', str_perc(travel_times1.count(),travel_times2.count()), travel_times1.count(), travel_times2.count()],\n",
    "        [ 'Trips using TWM',  'num',  'trips', str_perc(travel_times1.count(),len(ds3)), travel_times1.count(), len(ds3)],\n",
    "        ])\n",
    "      theStats.columns = [ '', 'Stat', 'Units', 'variation', label1, label2]        \n",
    "      print_h2(title, \"NON-PAIRED STATS - ROUTED DEMAND\")\n",
    "      display(HTML(theStats.to_html()))\n",
    "\n",
    "    if( flag_show_traveltime_stats ):\n",
    "      theStats = pd.DataFrame([\n",
    "        [ 'Travel Time', 'mean',  't.units', str_perc(x_mean1,x_mean2), x_mean1, x_mean2 ],\n",
    "        [ 'Travel Time', 'median',  't.units', str_perc(x_median1,x_median2), x_median1, x_median2 ],\n",
    "        # [ 'Travel Time', 'variance',  't.units', str_perc(x_var1,x_var2), x_var1, x_var2 ],\n",
    "        [ 'Travel Time', 'std.deviation',  't.units', str_perc(x_std1,x_std2), x_std1,x_std2 ],\n",
    "        [ 'Travel Time', 'Value Confidence Interval',  't.units', '', str(x_conf_int1), str(x_conf_int2) ],\n",
    "        [ 'Travel Time', 'Mean Confidence Interval',  't.units', '', str(x_m_conf_int1), str(x_m_conf_int2) ],\n",
    "        [ 'Travel Time', 'Shapiro', '', '', x_shapiro_str1, x_shapiro_str2 ]\n",
    "        ])\n",
    "      theStats.columns = [ '', 'Stat', 'Units', 'variation', label1, label2]\n",
    "      print_h2(title, \"NON-PAIRED STATS - TRAVELTIME\")\n",
    "      display(HTML(theStats.to_html()))\n",
    "\n",
    "    if( flag_show_route_stats ):\n",
    "      theStats = pd.DataFrame([\n",
    "        [ 'Route Length', 'mean',  'mts', str_perc(r_mean1,r_mean2), r_mean1, r_mean2 ],\n",
    "        [ 'Route Length', 'median',  'mts', str_perc(r_median1,r_median2), r_median1, r_median2 ],\n",
    "        # [ 'Route Length', 'variance',  'mts', str_perc(r_var1,r_var2), r_var1, r_var2 ],\n",
    "        [ 'Route Length', 'std.deviation',  'mts', str_perc(r_std1,r_std2), r_std1, r_std2 ],\n",
    "        [ 'Route Length', 'Value Confidence Interval',  'mts', '', str(r_conf_int1), str(r_conf_int2) ],\n",
    "        [ 'Route Length', 'Mean Confidence Interval',  'mts', '', str(r_m_conf_int1), str(r_m_conf_int2) ],\n",
    "        ])\n",
    "      theStats.columns = [ '', 'Stat', 'Units', 'variation', label1, label2]        \n",
    "      print_h2(title, \"NON-PAIRED STATS - ROUTE LENGTH\")\n",
    "      display(HTML(theStats.to_html()))\n",
    "\n",
    "    print_h2(title, \"NON-PAIRED STATS - TRAVELTIMES COMPARED HISTOGRAM\")\n",
    "    if ( flag_print_histogram_shape ):\n",
    "        line_estimation1 = ax.plot(x_bins, y1_vals1, 'r-', label='Estimation', linewidth=2, color='darkgreen')\n",
    "        line_estimation2 = ax.plot(x_bins, y1_vals2, 'r-', label='Estimation', linewidth=2, color='darkred')\n",
    "\n",
    "    max_y = np.linspace(0, max( max(y_vals1), max(y_vals2)), num=len(x_bins))\n",
    "    line_mean1 = ax.plot(x2_mean1, max_y, label='Mean', linestyle='--', linewidth=2, color='darkgreen')\n",
    "    line_median1 = ax.plot(x3_median1, max_y, label='Median', linestyle='-', linewidth=2, color='darkgreen')\n",
    "\n",
    "    line_mean2 = ax.plot(x2_mean2, y1_vals2, label='Mean', linestyle='--', linewidth=2, color='darkred')\n",
    "    line_median2 = ax.plot(x3_median2, max_y, label='Median', linestyle='-', linewidth=2, color='darkred')\n",
    "\n",
    "    mean_line1   = mlines.Line2D([], [], linestyle='--',color='darkgreen', markersize=1, label='Mean: '+CAT_LABEL1)\n",
    "    median_line1 = mlines.Line2D([], [], linestyle='-', color='darkgreen', markersize=1, label='Median: '+CAT_LABEL1)\n",
    "    mean_line2   = mlines.Line2D([], [], linestyle='--',color='darkred',  markersize=1, label='Mean: '+CAT_LABEL2)\n",
    "    median_line2 = mlines.Line2D([], [], linestyle='-', color='darkred',  markersize=1, label='Median: '+CAT_LABEL2)\n",
    "    if flag_labels_incidents:\n",
    "        # red_patch = mpatches.Patch(color='red', label='Incident')\n",
    "        # green_patch = mpatches.Patch(color='green', label='No Incident')\n",
    "        red_patch = mpatches.Patch(color='red', label=CAT_LABEL2)\n",
    "        green_patch = mpatches.Patch(color='green', label=CAT_LABEL1)\n",
    "    else:\n",
    "        red_patch = mpatches.Patch(color='red', label='Using TWM')\n",
    "        green_patch = mpatches.Patch(color='green', label='Not using TWM')\n",
    "    ax.legend(handles=[red_patch, green_patch, median_line1, mean_line1, median_line2, mean_line2], loc='upper right', fancybox=True, framealpha=0.5)\n",
    "    plt.rc('legend', fontsize=LEGEND_FONT_SIZE)\n",
    "    # plt.axis([travel_times.min(), travel_times.max()+1, 0, 0.03])\n",
    "    ax.grid(True)\n",
    "\n",
    "    # If plotting OUTSIDE the notebook, set interactive mode ON/OFF\n",
    "    # plt.ioff()\n",
    "    # plt.ion()\n",
    "\n",
    "    plt.show()"
   ]
  },
  {
   "cell_type": "code",
   "execution_count": 13,
   "metadata": {
    "slideshow": {
     "slide_type": "skip"
    }
   },
   "outputs": [],
   "source": [
    "#### Function draw_1histograms\n",
    "# Plots the comparison between two overlapped histograms based on the datasets.\n",
    "def draw_1histograms( title, label1, experiment1, ds_raw1, label2, experiment2, ds_raw2 ):\n",
    "    confidence_str = str(conf_single_stats_confidence)+\"%\"\n",
    "\n",
    "    ds1 = ds_raw1.loc[ ds_raw1['t_arrival_secs'] > 0 ]\n",
    "    ds2 = ds_raw2.loc[ ds_raw2['t_arrival_secs'] > 0 ]\n",
    "    ds3 = ds_raw2.loc[ ds_raw2['is_attended'] == True ]\n",
    "\n",
    "    travel_times1 = ds1['t_traveltime_secs']\n",
    "    travel_times2 = ds2['t_traveltime_secs']\n",
    "    travel_times = [ travel_times1 ]\n",
    "\n",
    "    cols = 80\n",
    "    fig, ax = plt.subplots(figsize=(18,8))\n",
    "\n",
    "    plt.xlabel('Travel Time')\n",
    "    plt.ylabel('Frecuency')\n",
    "    plt.rc('axes', labelsize=BIG_FONT_SIZE, titlesize=BIG_FONT_SIZE)\n",
    "    # plt.title(\"Travel Times Histogram: \"+label1+\" <--> \"+label2 )\n",
    "    plt.title(\"Traveltime Histograms\" )\n",
    "    \n",
    "    # y_vals1, x_bins1, patches1 = ax.hist(travel_times1, histtype='bar', cols, normed=0, facecolor='green', alpha=0.30)\n",
    "    # y_vals2, x_bins2, patches2 = ax.hist(travel_times2, histtype='bar', cols, normed=0, facecolor='blue', alpha=0.30)\n",
    "    # [y_vals1, y_vals2], x_bins, patches = ax.hist(travel_times, cols, normed=0, color=['green', 'red'], alpha=0.30, histtype='bar')\n",
    "    if flag_labels_incidents:\n",
    "        # y_vals1, x_bins, patches = ax.hist(travel_times, cols, normed=0, color=['green'], histtype='bar', label=['Normal'])\n",
    "        y_vals1, x_bins, patches = ax.hist(travel_times, cols, normed=0, color=['green'], histtype='bar', label=[CAT_LABEL1])\n",
    "    else:\n",
    "        y_vals1, x_bins, patches = ax.hist(travel_times, cols, normed=0, color=['green'], histtype='bar', label=['Not using TWM'])\n",
    "    \n",
    "    conf_int=0.68\n",
    "    \n",
    "    # first histogram ------------------------------------\n",
    "    x_size1   = len(travel_times1)\n",
    "    x_mean1   = np.mean(travel_times1)\n",
    "    x_median1 = np.median(travel_times1)\n",
    "    x_std1    = np.std(travel_times1)\n",
    "    x_var1    = np.var(travel_times1)\n",
    "    x_conf_int1  = st.norm.interval(conf_int, loc=x_mean1, scale=x_std1)\n",
    "    x_m_conf_int1= st.norm.interval(conf_int, loc=x_mean1, scale=x_std1/np.sqrt(x_size1))\n",
    "    x_shapiro1=st.shapiro(travel_times1)\n",
    "    x_shapiro_str1 = confidence_str + (\"is not normal\" if x_shapiro1[1] < conf_single_stats_confidence else \"cannot reject that is normal\")\n",
    "    y_mean1   = np.mean(y_vals1)\n",
    "    y_median1 = np.median(y_vals1)\n",
    "    y_std1    = np.std(y_vals1)\n",
    "    r_mean1   = np.mean(ds1['route_path_num'])\n",
    "    r_median1 = np.median(ds1['route_path_num'])\n",
    "    r_std1    = np.std(ds1['route_path_num'])\n",
    "    r_var1    = np.var(ds1['route_path_num'])\n",
    "    r_conf_int1= st.norm.interval(conf_int, loc=r_mean1, scale=r_std1)\n",
    "    r_conf_int1= st.norm.interval(conf_int, loc=r_mean1, scale=r_std1)\n",
    "    r_m_conf_int1= st.norm.interval(conf_int, loc=r_mean1, scale=r_std1/np.sqrt(x_size1))\n",
    "    # l_mean1   = np.mean(ds1['route_length'])\n",
    "    # l_median1 = np.median(ds1['route_length'])\n",
    "    l_mean1   = 1\n",
    "    l_median1 = 1\n",
    "\n",
    "    # add a 'best fit' line\n",
    "    y1_vals1 = np.append( y_vals1, y_vals1[cols-1] )\n",
    "\n",
    "    x2_mean1   = [ x_mean1   for i in y1_vals1 ]\n",
    "    x3_median1 = [ x_median1 for i in y1_vals1 ]\n",
    "    y2_mean1   = [ y_mean1   for i in x_bins ]\n",
    "    y3_median1 = [ y_median1 for i in x_bins ]\n",
    "\n",
    "    max_y = np.linspace(0, max(y_vals1), num=len(x_bins))\n",
    "    line_mean1 = ax.plot(x2_mean1, max_y, label='Mean', linestyle='--', linewidth=2, color='darkgreen')\n",
    "    line_median1 = ax.plot(x3_median1, max_y, label='Median', linestyle='-', linewidth=2, color='darkgreen')\n",
    "\n",
    "    mean_line1   = mlines.Line2D([], [], linestyle='--',color='darkgreen', markersize=1, label='Mean: '+CAT_LABEL1)\n",
    "    median_line1 = mlines.Line2D([], [], linestyle='-', color='darkgreen', markersize=1, label='Median: '+CAT_LABEL1)\n",
    "\n",
    "    if flag_labels_incidents:\n",
    "        # red_patch = mpatches.Patch(color='red', label='Incident')\n",
    "        # green_patch = mpatches.Patch(color='green', label='No Incident')\n",
    "        red_patch = mpatches.Patch(color='red', label=CAT_LABEL2)\n",
    "        green_patch = mpatches.Patch(color='green', label=CAT_LABEL1)\n",
    "    else:\n",
    "        red_patch = mpatches.Patch(color='red', label='Using TWM')\n",
    "        green_patch = mpatches.Patch(color='green', label='Not using TWM')\n",
    "\n",
    "    ax.legend(handles=[green_patch, median_line1, mean_line1], loc='upper right', fancybox=True, framealpha=0.5)\n",
    "    plt.rc('legend', fontsize=LEGEND_FONT_SIZE)\n",
    "    # plt.axis([travel_times.min(), travel_times.max()+1, 0, 0.03])\n",
    "    ax.grid(True)\n",
    "\n",
    "    # If plotting OUTSIDE the notebook, set interactive mode ON/OFF\n",
    "    # plt.ioff()\n",
    "    # plt.ion()\n",
    "\n",
    "    plt.show()"
   ]
  },
  {
   "cell_type": "code",
   "execution_count": 14,
   "metadata": {},
   "outputs": [],
   "source": [
    "#### Function map_coord\n",
    "# Maps edge coordinates into a grid representation for heatmaps.\n",
    "# Receives as input parameters:\n",
    "#    * (x,y) values to be mapped\n",
    "#    * (max, min)(x,y) value ranges for x,y\n",
    "#    * grid dimensions\n",
    "# Test code to create distribution in array of heatmap\n",
    "def map_coord(x,y,min_x,max_x,min_y,max_y,dim_x,dim_y):\n",
    "    c_x = int(x/(max_x-min_x)*dim_x)\n",
    "    c_y = int(y/(max_y-min_y)*dim_y)\n",
    "    # print( \"(x,y):(\", x, \":\", y, \") --> coords:(\", c_x, \",\", c_y, \")\")\n",
    "    return [ c_x, c_y ]"
   ]
  },
  {
   "cell_type": "code",
   "execution_count": 15,
   "metadata": {},
   "outputs": [],
   "source": [
    "def subplot_heatmap(title, column, criteria, heatmap, scale_min, scale_max, vals, x_min, x_max, y_min, y_max, grid_size_x, grid_size_y):\n",
    "    max_v = vals[column].max()\n",
    "    min_v = vals[column].min()\n",
    "\n",
    "    heatmap.grid(True)\n",
    "    heatmap.set_title(title+\" / min:\"+str(min_v)+\", max:\"+str(max_v) )\n",
    "    vmap = np.zeros( (grid_size_x+1,grid_size_y+1) )\n",
    "    for i in range(len(vals)):\n",
    "        idx = vals.index[i]\n",
    "        x, y = map_coord( vals.loc[idx,'av_x'], vals.loc[idx,'av_y'],\n",
    "                    x_min,x_max,y_min,y_max, grid_size_x, grid_size_y )\n",
    "        vals.loc[idx,'canvas_x'] = x\n",
    "        vals.loc[idx,'canvas_y'] = y\n",
    "        # METHOD: AGGREGATE VALUES \n",
    "        # OTHER METHODS WOULD BE POSSIBLE !!!\n",
    "        if( criteria.lower() == 'max' ):\n",
    "            # print( \"i={}, column={}, x={}, y={}\".format(i,column,x,y))\n",
    "            if( vals.loc[idx,column]> vmap[x,y] ):\n",
    "                vmap[x,y] = vals.loc[idx,column]\n",
    "        else:\n",
    "            if( criteria.lower() == 'min' ):\n",
    "                if( vals.loc[idx,column]< vmap[x,y] ):\n",
    "                    vmap[x,y] = vals.loc[idx,column]\n",
    "            else:\n",
    "                # Additive criteria:\n",
    "                vmap[x,y] += vals.loc[idx,column]\n",
    "        \n",
    "        # if( values.loc[idx,column] > 0.1 ):\n",
    "        #  print( \"{:d} : {:d},{:d} = {:f} <-- {:f},{:f}\".format(\n",
    "        #        i, x, y, values.loc[idx,column], values.loc[idx,'av_x'], values.loc[idx,'av_y']),\n",
    "        #        \"...\", canvas_x_min,canvas_x_max,canvas_y_min,canvas_y_max, size_x, size_y )\n",
    "    hot_vals = pd.DataFrame( vmap )\n",
    "    # print(values[['canvas_x','canvas_y',column,'av_x','av_y']].sort_values(by=column,ascending=False))\n",
    "    \n",
    "    # interploation='bilinear', 'bicubic', 'nearest'\n",
    "    # other colormaps are also possible such as: 'Reds'\n",
    "    #  XXXXXXXXXXXXXXXX\n",
    "    img = heatmap.imshow( hot_vals, cmap='YlOrBr', interpolation='bicubic', vmin=scale_min, vmax=scale_max, alpha=0.3)\n",
    "    return img"
   ]
  },
  {
   "cell_type": "code",
   "execution_count": 16,
   "metadata": {
    "scrolled": false
   },
   "outputs": [],
   "source": [
    "#### Function plot_traffic_heatmap\n",
    "# Creates a heatmap plot for a given variable in a determinate time epoch. Considers only data coming from this epoch.\n",
    "#Input parameters:\n",
    "#    * Plot title\n",
    "#    * Traffic network edges (as map representation)\n",
    "#    * Edge dat sets obtained\n",
    "#    * Size of the heatmap grid to be represented\n",
    "#    * Time epoch to be considered\n",
    "def plot_traffic_heatmap_single( title, img, edges, edge_ds_1, edge_ds_2, column, criteria, grid_size_x, grid_size_y, epoch ):\n",
    "\n",
    "    # Extract the columns edge and <<measure>>\n",
    "    ds1 = edge_ds_1.loc[ edge_ds_1['time']==epoch ][['edge_id',column]]\n",
    "    ds2 = edge_ds_2.loc[ edge_ds_2['time']==epoch ][['edge_id',column]]\n",
    "    \n",
    "    # merge with edge coordinates\n",
    "    values1 = pd.merge(ds1, edges, how='left', left_on=['edge_id'], right_on=['name'])\n",
    "    values2 = pd.merge(ds2, edges, how='left', left_on=['edge_id'], right_on=['name'])\n",
    "    \n",
    "    # print(values)\n",
    "    max_v1 = values1[column].max()\n",
    "    max_v2 = values2[column].max()\n",
    "    min_v1 = values1[column].min()\n",
    "    min_v2 = values2[column].min()\n",
    "    max_v = max( [ max_v1, max_v2 ] )\n",
    "    min_v = min( [ min_v1, min_v2 ] )\n",
    "\n",
    "    #Calculate canvas axis x,y over the whole map\n",
    "    edge_vals_x = edges[['x1','x2']]\n",
    "    x_min = edge_vals_x.values.min()\n",
    "    x_max = edge_vals_x.values.max()\n",
    "    \n",
    "    edge_vals_y = edges[['y1','y2']]\n",
    "    y_min = edge_vals_y.values.min()\n",
    "    y_max = edge_vals_y.values.max()\n",
    "    # print(\"VALUES\",\"min:\", min_v, \" max:\",max_v)\n",
    "    # print(\"X_AXIS\",\"min:\", canvas_x_min, \" max:\",canvas_x_max)\n",
    "    # print(\"Y_AXIS\",\"min:\", canvas_y_min, \" max:\",canvas_y_max)\n",
    "\n",
    "    # XXXXXXXXXXXXXXXXXXXXXXXXXXXXXXXXX\n",
    "    fig, heatmaps = plt.subplots(1, 2, figsize=(20,8) )\n",
    "    # print( \"LOADING IMG {}\".format(img))\n",
    "    if (img and os.path.isfile(img)):\n",
    "        plt_img = plt.imread(img)\n",
    "        # heatmaps.imshow(img, extent=[0, 400, 0, 300])\n",
    "        heatmaps[0].imshow(plt_img, extent=[0, grid_size_x, grid_size_y, 0])\n",
    "        heatmaps[1].imshow(plt_img, extent=[0, grid_size_x, grid_size_y, 0])\n",
    "\n",
    "    # fig, heatmaps = plt.subplots(1, 2 )\n",
    "    fig.suptitle( title+\". Time: \"+str(epoch) )\n",
    "    # plt.figure(figsize=(20,8))\n",
    "    im = subplot_heatmap(column, column, criteria, heatmaps[0], min_v, max_v,\n",
    "                    values1, x_min, x_max, y_min, y_max, grid_size_x, grid_size_y)\n",
    "    im = subplot_heatmap(column,  column, criteria, heatmaps[1], min_v, max_v,\n",
    "                    values2, x_min, x_max, y_min, y_max, grid_size_x, grid_size_y)\n",
    "    \n",
    "    fig.subplots_adjust(right=0.8)\n",
    "    # cbar_ax = fig.add_axes([0.85, 0.15, 0.05, 0.7])\n",
    "    # cbar_ax = fig.add_axes()\n",
    "    # fig.colorbar(im, cax=cbar_ax)\n",
    "    cax,kw = mpl.colorbar.make_axes([ax for ax in heatmaps.flat])\n",
    "    plt.colorbar(im, cax=cax, **kw)\n",
    "    plt.show()"
   ]
  },
  {
   "cell_type": "code",
   "execution_count": 17,
   "metadata": {},
   "outputs": [],
   "source": [
    "def plot_traffic_heatmap( title, img, edge_map, edge_stats1, edge_stats2, measure, criteria, grid_size_x, grid_size_y, graphic_samples ):\n",
    "\n",
    "    times = edge_stats1.time.unique()\n",
    "    graphic_step = int((len(times)-1)/graphic_samples)\n",
    "    # print(\"=== COMPARING\",measure,\"in\", graphic_samples, \"steps\")\n",
    "\n",
    "    for t in range(0,graphic_samples):\n",
    "        timestamp = times[t*graphic_step]\n",
    "        print (measure+\"[time:\"+str(timestamp)+\"]\" )\n",
    "        plot_traffic_heatmap_single( \"Halted vehicles (num)\", img, edge_map,\n",
    "                             edge_stats1, edge_stats2, measure, criteria,\n",
    "                             grid_size_x, grid_size_y, timestamp )\n",
    "\n",
    "    plot_traffic_heatmap_single( \"Halted vehicles (num)\", img, edge_map,\n",
    "                             edge_stats1, edge_stats2, measure, criteria,\n",
    "                             grid_size_x, grid_size_y, times[len(times)-1] )"
   ]
  },
  {
   "cell_type": "code",
   "execution_count": 18,
   "metadata": {
    "scrolled": false
   },
   "outputs": [],
   "source": [
    "#### Function plot_traffic_heatmap\n",
    "# Creates a heatmap plot for a given variable in a determinate time epoch. Considers only data coming from this epoch.\n",
    "#Input parameters:\n",
    "#    * Plot title\n",
    "#    * Traffic network edges (as map representation)\n",
    "#    * Edge dat sets obtained\n",
    "#    * Size of the heatmap grid to be represented\n",
    "#    * Time epoch to be considered\n",
    "def plot_city_traffic_heatmap_single( title, img, edges, edge_ds_1, edge_ds_2, column, criteria, grid_size_x, grid_size_y, epoch ):\n",
    "\n",
    "    # Extract the columns edge and <<measure>>\n",
    "    ds1 = edge_ds_1.loc[ edge_ds_1['time']==epoch ][['edge_id',column]]\n",
    "    ds2 = edge_ds_2.loc[ edge_ds_2['time']==epoch ][['edge_id',column]]\n",
    "    \n",
    "    # merge with edge coordinates\n",
    "    values1 = pd.merge(ds1, edges, how='left', left_on=['edge_id'], right_on=['name'])\n",
    "    values2 = pd.merge(ds2, edges, how='left', left_on=['edge_id'], right_on=['name'])\n",
    "    \n",
    "    # print(values)\n",
    "    max_v1 = values1[column].max()\n",
    "    max_v2 = values2[column].max()\n",
    "    min_v1 = values1[column].min()\n",
    "    min_v2 = values2[column].min()\n",
    "    max_v = max( [ max_v1, max_v2 ] )\n",
    "    min_v = min( [ min_v1, min_v2 ] )\n",
    "\n",
    "    #Calculate canvas axis x,y over the whole map\n",
    "    edge_vals_x = edges[['x1','x2']]\n",
    "    x_min = edge_vals_x.values.min()\n",
    "    x_max = edge_vals_x.values.max()\n",
    "    \n",
    "    edge_vals_y = edges[['y1','y2']]\n",
    "    y_min = edge_vals_y.values.min()\n",
    "    y_max = edge_vals_y.values.max()\n",
    "    # print(\"VALUES\",\"min:\", min_v, \" max:\",max_v)\n",
    "    # print(\"X_AXIS\",\"min:\", canvas_x_min, \" max:\",canvas_x_max)\n",
    "    # print(\"Y_AXIS\",\"min:\", canvas_y_min, \" max:\",canvas_y_max)\n",
    "\n",
    "    # XXXXXXXXXXXXXXXXXXXXXXXXXXXXXXXXX\n",
    "    fig, heatmaps = plt.subplots(1, 2, figsize=(20,8) )\n",
    "    # print( \"LOADING IMG {}\".format(img))\n",
    "    if (img and os.path.isfile(img)):\n",
    "        plt_img = plt.imread(img)\n",
    "        # heatmaps.imshow(img, extent=[0, 400, 0, 300])\n",
    "        heatmaps[0].imshow(plt_img, extent=[0, grid_size_x, grid_size_y, 0])\n",
    "        heatmaps[1].imshow(plt_img, extent=[0, grid_size_x, grid_size_y, 0])\n",
    "\n",
    "    # fig, heatmaps = plt.subplots(1, 2 )\n",
    "    fig.suptitle( title+\". Time: \"+str(epoch) )\n",
    "    # plt.figure(figsize=(20,8))\n",
    "    im = subplot_heatmap(column, column, criteria, heatmaps[0], min_v, max_v,\n",
    "                    values1, x_min, x_max, y_min, y_max, grid_size_x, grid_size_y)\n",
    "    im = subplot_heatmap(column,  column, criteria, heatmaps[1], min_v, max_v,\n",
    "                    values2, x_min, x_max, y_min, y_max, grid_size_x, grid_size_y)\n",
    "    \n",
    "    fig.subplots_adjust(right=0.8)\n",
    "    # cbar_ax = fig.add_axes([0.85, 0.15, 0.05, 0.7])\n",
    "    # cbar_ax = fig.add_axes()\n",
    "    # fig.colorbar(im, cax=cbar_ax)\n",
    "    cax,kw = mpl.colorbar.make_axes([ax for ax in heatmaps.flat])\n",
    "    plt.colorbar(im, cax=cax, **kw)\n",
    "    plt.show()"
   ]
  },
  {
   "cell_type": "code",
   "execution_count": 19,
   "metadata": {},
   "outputs": [],
   "source": [
    "def plot_city_traffic_heatmap( title, img, edge_map, edge_stats1, edge_stats2, measure, criteria, grid_size_x, grid_size_y, graphic_samples ):\n",
    "\n",
    "    times = edge_stats1.time.unique()\n",
    "    graphic_step = int((len(times)-1)/graphic_samples)\n",
    "    # print(\"=== COMPARING\",measure,\"in\", graphic_samples, \"steps\")\n",
    "\n",
    "    for t in range(0,graphic_samples):\n",
    "        timestamp = times[t*graphic_step]\n",
    "        print (measure+\"[time:\"+str(timestamp)+\"]\" )\n",
    "        plot_city_traffic_heatmap_single( \"Halted vehicles (num)\", img, edge_map,\n",
    "                             edge_stats1, edge_stats2, measure, criteria,\n",
    "                             grid_size_x, grid_size_y, timestamp )\n",
    "\n",
    "    plot_city_traffic_heatmap_single( \"Halted vehicles (num)\", img, edge_map,\n",
    "                             edge_stats1, edge_stats2, measure, criteria,\n",
    "                             grid_size_x, grid_size_y, times[len(times)-1] )"
   ]
  },
  {
   "cell_type": "code",
   "execution_count": 20,
   "metadata": {},
   "outputs": [],
   "source": [
    "#### Function load_scenario_data + compare_scenarios\n",
    "# Uploads results from 2 scenario executions and plotting the histogram curves based on the dataset.\n",
    "# * Select only those vehicles that finish the trip, i.e. have arrive time > 0.\n",
    "def load_scenario_data( path, label, experiment ):\n",
    "    expr = re.compile('^__.+')\n",
    "    data={}\n",
    "    # print( \"Scenario: \", label, \"\\nExperiment: \", experiment, \"\\n\" )\n",
    "    descriptor = path + \"/experiments/tmp/\" + experiment + \"/SCENARIO_DESCRIPTION.md\"\n",
    "    # print( \"FILE:\", descriptor, \"\\n\")\n",
    "    data['TITLE']=label\n",
    "    data['EXPERIMENT']=experiment\n",
    "    data['EXPERIMENT_PATH'] = path + \"/experiments/tmp/\" + experiment\n",
    "    for line in fileinput.input([descriptor]):\n",
    "        if( expr.match(line) ):\n",
    "            [key,val] = line.rstrip().split(\"=\")\n",
    "            data[key]=val\n",
    "    if '__MAP_IMAGE' in data:\n",
    "        data['IMAGE_PATH'] = path + \"/scenes/TEMPLATES/cities/\" + data['__NET_NAME'] + \"/images/\" + data['__MAP_IMAGE']\n",
    "    else:\n",
    "        data['IMAGE_PATH'] = None\n",
    "    return data\n",
    "    \n",
    "def print_scenarios( path, label1, experiment1, label2, experiment2 ):\n",
    "    par1 = load_scenario_data(path, label1, experiment1)\n",
    "    par2 = load_scenario_data(path, label2, experiment2)\n",
    "    df = pd.DataFrame([par1, par2]).T\n",
    "    df.columns = ['exp1','exp2']\n",
    "    display(HTML(df.to_html()))\n",
    "    return df\n"
   ]
  },
  {
   "cell_type": "code",
   "execution_count": 21,
   "metadata": {
    "slideshow": {
     "slide_type": "skip"
    }
   },
   "outputs": [],
   "source": [
    "\n",
    "def compare_scenarios( path, lab1, experiment_1, lab2, experiment_2 ):\n",
    "    print_h0(\"EXPERIMENT SCENARIOS COMPARISON\")\n",
    "\n",
    "    global experiment1, experiment2, label1, label2, exp_idx1, exp_idx2\n",
    "\n",
    "    print(\"EXP1[{}]\\n  {}\\n  {}\".format(exp_idx1,label1,experiment1))\n",
    "    print()\n",
    "    print(\"EXP2[{}]\\n  {}\\n  {}\".format(exp_idx2,label2,experiment2))\n",
    "\n",
    "    if( flag_show_scenarios ):\n",
    "        df = print_scenarios( BASTRA_PATH, lab1, experiment1, lab2, experiment2 )\n",
    "\n",
    "    path1 = df.loc['EXPERIMENT_PATH','exp1']\n",
    "    path2 = df.loc['EXPERIMENT_PATH','exp2']\n",
    "    datafile1 = path1 + \"/\" + experiment1 + \".csv\"\n",
    "    datafile2 = path2 + \"/\" + experiment2 + \".csv\"\n",
    "    label1 = lab1\n",
    "    label2 = lab2\n",
    "    label1 = df.loc['__PREFIX','exp1']\n",
    "    label2 = df.loc['__PREFIX','exp2']\n",
    "    # print( \"DATAFILE: \", datafile )\n",
    "    # ds means \"dataset\"\n",
    "    ds_raw1 = pd.read_csv(datafile1)\n",
    "    ds_raw2 = pd.read_csv(datafile2)\n",
    "    veh_types = dataset_obtain_unique_fleets( ds_raw1, ds_raw2 )\n",
    "\n",
    "    print_h1(\"GLOBAL TRAFFIC\",\"STATISTICS\")\n",
    "    # draw_2histograms( \"GLOBAL TRAFFIC\", label1, experiment1, ds_raw1, label2, experiment2, ds_raw2 )\n",
    "    draw_2histograms( \"GLOBAL TRAFFIC\", label1, experiment1, ds_raw1, label2, experiment2, ds_raw2 )\n",
    "    # Print Statistics for paired values\n",
    "    printPairedStats( \"GLOBAL TRAFFIC\", label1, ds_raw1, label2, ds_raw2 )\n",
    "\n",
    "    if( flag_show_fleets ):\n",
    "      if ( len(veh_types) > 0 ):\n",
    "        for vt in veh_types:\n",
    "          ds_raw1b = dataset_filter_per_veh_type(ds_raw1, vt)\n",
    "          ds_raw2b = dataset_filter_per_veh_type(ds_raw2, vt)\n",
    "          # ds_raw1b.head()\n",
    "        \n",
    "          print_h1(\"FLEET: \"+vt,\"STATISTICS\")\n",
    "          draw_2histograms( \"FLEET: \"+vt,\n",
    "                    label1, experiment1, ds_raw1b, label2, experiment2, ds_raw2b )\n",
    "          # Print Statistics for paired values\n",
    "          printPairedStats( \"FLEET: \"+vt, label1, ds_raw1b, label2, ds_raw2b )\n",
    "    \n",
    "    edge_map_file1 = path1 + \"/edges.csv\"\n",
    "    edge_map1 = pd.read_csv( edge_map_file1)\n",
    "    edge_stats_file1 = path1 + \"/edge_stats.csv\"\n",
    "    edge_stats1 = pd.read_csv( edge_stats_file1)\n",
    "    edge_stats_file2 = path2 + \"/edge_stats.csv\"\n",
    "    edge_stats2 = pd.read_csv( edge_stats_file2)\n",
    "\n",
    "    # print(label1, \" / \", label2)\n",
    "    img = None\n",
    "    if( flag_show_city_map ):\n",
    "      try:\n",
    "        img = df.loc['IMAGE_PATH','exp1']\n",
    "        #long_from = float(df.loc['__MAP_GPS_LONG_FROM','exp1'])\n",
    "        #long_to = float(df.loc['__MAP_GPS_LONG_TO','exp1'])\n",
    "        #lat_from = float(df.loc['__MAP_GPS_LAT_FROM','exp1'])\n",
    "        #lat_to = float(df.loc['__MAP_GPS_LAT_TO','exp1'])\n",
    "        long_scale = int(float(df.loc['__MAP_GPS_LONG_SCALE','exp1']))\n",
    "        lat_scale = int(float(df.loc['__MAP_GPS_LAT_SCALE','exp1']))\n",
    "        # print(\"=== ROAD EDGE STATISTICS COLLECTED:\", edge_stats1.columns.values.tolist())\n",
    "        #the_long = long_to - long_from\n",
    "        #the_lat = lat_to - lat_from\n",
    "        graphic_samples = 2\n",
    "    \n",
    "        print_h2(\"GLOBAL TRAFFIC\", \"GEOGRAPHICAL DENSITIES DISTRIBUTIONS\")\n",
    "\n",
    "        measure = 'traf_av_occupancy'\n",
    "        print_h3(\"GLOBAL TRAFFIC\", \"CONGESTION - EDGE TRAVELTIMES\")\n",
    "        plot_city_traffic_heatmap( \"Congestion (traveltime)\", img, edge_map1,\n",
    "                            edge_stats1, edge_stats2, measure, \"max\",\n",
    "                            lat_scale,long_scale, graphic_samples )\n",
    "        # plot_traffic_heatmap( \"Congestion (traveltime)\", img, edge_map1,\n",
    "        #                     edge_stats1, edge_stats2, measure, \"max\",\n",
    "        #                     lat_scale,long_scale, graphic_samples )\n",
    "      except:  \n",
    "        print(\"CITY MAP PARAMETERS ARE NOT FOUND. CANNOT PRINT HEATMAPS\")\n",
    "        \n",
    "    # print(label1, \" / \", label2)\n",
    "    if( flag_show_heat_maps ):\n",
    "      # print(\"=== ROAD EDGE STATISTICS COLLECTED:\", edge_stats1.columns.values.tolist())\n",
    "      graphic_samples = 10\n",
    "    \n",
    "      print_h2(\"GLOBAL TRAFFIC\", \"GEOGRAPHICAL DENSITIES DISTRIBUTIONS\")\n",
    "\n",
    "      measure = 'traf_av_occupancy'\n",
    "      print_h3(\"GLOBAL TRAFFIC\", \"CONGESTION - EDGE TRAVELTIMES\")\n",
    "      plot_traffic_heatmap( \"Congestion (traveltime)\", img, edge_map1,\n",
    "                             edge_stats1, edge_stats2, measure, \"max\",\n",
    "                             32,32, graphic_samples )\n",
    "\n",
    "        \n",
    "      measure = 'traf_halted_veh_num'\n",
    "      print_h3(\"GLOBAL TRAFFIC\", \"CONGESTION - EDGE HALTED VEHICLES\")\n",
    "      plot_traffic_heatmap( \"Halted vehicles (num)\", img, edge_map1,\n",
    "                             edge_stats1, edge_stats2, measure, \"add\",\n",
    "                             16,16, graphic_samples )\n",
    "\n",
    "      if( flag_show_heat_maps_speed ):\n",
    "        measure = 'traf_av_speed'\n",
    "        print_h3(\"GLOBAL TRAFFIC\", \"CONGESTION - EDGE SPEEDS\")\n",
    "        plot_traffic_heatmap( \"Mean speed (m/s)\", img, edge_map1,\n",
    "                               edge_stats1, edge_stats2, measure, \"min\",\n",
    "                               16,16, graphic_samples )\n",
    "    # print_h2(\"GLOBAL TRAFFIC\", \"GOOGLE MAPS\")\n",
    "    # plot_gmaps( \"GLOBAL TRAFFIC\", edge_map1, edge_stats1, edge_stats2 )"
   ]
  },
  {
   "cell_type": "markdown",
   "metadata": {},
   "source": [
    "# **EXPERIMENTS**"
   ]
  },
  {
   "cell_type": "markdown",
   "metadata": {},
   "source": [
    "###  GRID16 - L traffic experiments"
   ]
  },
  {
   "cell_type": "code",
   "execution_count": 22,
   "metadata": {},
   "outputs": [],
   "source": [
    "# L - Effect of number of maps rand5 + logit50\n",
    "# L - Effect of number of maps rand5 + logit100\n",
    "#set_experiments(4,54)\n",
    "#set_experiments(4,59)\n",
    "#set_experiments(4,64)\n",
    "#set_experiments(4,69)\n",
    "\n",
    "# L - Effect of number of maps rand2 + logit50\n",
    "#set_experiments(4,76) # logit50\n",
    "#set_experiments(4,81) # logit50\n",
    "\n",
    "# L - Effect of number of maps rand2 + logit100\n",
    "#set_experiments(4,74) # logit100\n",
    "#set_experiments(4,79) # logit100\n",
    "#set_experiments(64,79) # logit100"
   ]
  },
  {
   "cell_type": "markdown",
   "metadata": {},
   "source": [
    "###  GRID16 -  XL traffic experiments"
   ]
  },
  {
   "cell_type": "code",
   "execution_count": 23,
   "metadata": {},
   "outputs": [],
   "source": [
    "set_experiments(500,586) # 1-MAP-50%\n",
    "set_experiments(500,591) #2-MAP-50%\n",
    "set_experiments(500,596)#4-MAP-50%\n",
    "set_experiments(500,601)#8-MAP-50%\n",
    "\n",
    "set_experiments(586,601)#1/8-MAPS-50%\n",
    "\n",
    "# 2,4 MAPS high weights at 100%\n",
    "set_experiments(505,604)\n",
    "set_experiments(505,609)\n",
    "\n",
    "\n",
    "#set_experiments(55,601)\n"
   ]
  },
  {
   "cell_type": "markdown",
   "metadata": {},
   "source": [
    "###  GRID16 -  XL2 traffic experiments"
   ]
  },
  {
   "cell_type": "code",
   "execution_count": 24,
   "metadata": {},
   "outputs": [],
   "source": [
    "#set_experiments(6,146)\n",
    "set_experiments(646,647)\n"
   ]
  },
  {
   "cell_type": "markdown",
   "metadata": {},
   "source": [
    "## Tele-porting effect"
   ]
  },
  {
   "cell_type": "markdown",
   "metadata": {},
   "source": [
    "###  GRID16 - Teleporting 30"
   ]
  },
  {
   "cell_type": "code",
   "execution_count": 25,
   "metadata": {},
   "outputs": [],
   "source": [
    "set_experiments(650,666)"
   ]
  },
  {
   "cell_type": "markdown",
   "metadata": {},
   "source": [
    "### GRID16 - Teleporting 60"
   ]
  },
  {
   "cell_type": "code",
   "execution_count": 26,
   "metadata": {},
   "outputs": [],
   "source": [
    "set_experiments(1000,1001)"
   ]
  },
  {
   "cell_type": "markdown",
   "metadata": {},
   "source": [
    "## Radial16 experiments"
   ]
  },
  {
   "cell_type": "code",
   "execution_count": 27,
   "metadata": {
    "slideshow": {
     "slide_type": "-"
    }
   },
   "outputs": [],
   "source": [
    "set_experiments(1211,1212)"
   ]
  },
  {
   "cell_type": "markdown",
   "metadata": {},
   "source": [
    "## MADRID Experiments"
   ]
  },
  {
   "cell_type": "code",
   "execution_count": 28,
   "metadata": {
    "slideshow": {
     "slide_type": "-"
    }
   },
   "outputs": [],
   "source": [
    "# Las Tablas\n",
    "set_experiments(1270,1276)"
   ]
  },
  {
   "cell_type": "markdown",
   "metadata": {},
   "source": [
    "## EXPERIMENTOS IEEE - ACCESS - v1"
   ]
  },
  {
   "cell_type": "code",
   "execution_count": 29,
   "metadata": {},
   "outputs": [],
   "source": [
    "# M Traffic 2800 - 1 Lane\n",
    "set_experiments(7,7)\n",
    "set_experiments(37,37)"
   ]
  },
  {
   "cell_type": "code",
   "execution_count": 30,
   "metadata": {},
   "outputs": [],
   "source": [
    "# M Traffic 2800 -2 lanes\n",
    "set_experiments(37,38)"
   ]
  },
  {
   "cell_type": "code",
   "execution_count": 31,
   "metadata": {},
   "outputs": [],
   "source": [
    "#XS TRaffic 1300 - 8 maps\n",
    "set_experiments(20,23)\n",
    "set_experiments(20,24)\n",
    "set_experiments(20,25)\n",
    "set_experiments(20,26)\n",
    "set_experiments(20,27)"
   ]
  },
  {
   "cell_type": "code",
   "execution_count": 32,
   "metadata": {},
   "outputs": [],
   "source": [
    "#XS TRaffic 1300 - 16 maps\n",
    "set_experiments(20,62)\n",
    "set_experiments(20,63)\n",
    "set_experiments(20,61)\n",
    "set_experiments(20,60)\n"
   ]
  },
  {
   "cell_type": "markdown",
   "metadata": {},
   "source": [
    "### estos son los buenos!"
   ]
  },
  {
   "cell_type": "code",
   "execution_count": 271,
   "metadata": {},
   "outputs": [],
   "source": [
    "#M Traffic 2800 - 2lanes\n",
    "set_experiments(30,31)\n",
    "set_experiments(30,32)\n"
   ]
  },
  {
   "cell_type": "code",
   "execution_count": 34,
   "metadata": {},
   "outputs": [],
   "source": [
    "#M Traffic 2800 - Individual perceptions\n",
    "set_experiments(30,32)"
   ]
  },
  {
   "cell_type": "markdown",
   "metadata": {},
   "source": [
    "## IEEE - ACCESS : REAL CITY - ALCALA DE HENARES - v1"
   ]
  },
  {
   "cell_type": "markdown",
   "metadata": {},
   "source": [
    "### ESTOS SON LOS BUENOS !!!!"
   ]
  },
  {
   "cell_type": "code",
   "execution_count": 34,
   "metadata": {},
   "outputs": [],
   "source": [
    "#ALCALA: 1181 + 1182\n",
    "set_experiments(1170,1181)     # 16xTWM + logit50\n",
    "set_experiments(1170,1182)     # 16xTWM + logit100\n",
    "\n",
    "set_experiments(1170,1180)"
   ]
  },
  {
   "cell_type": "markdown",
   "metadata": {},
   "source": [
    "## IEEE - ACCESS : REAL CITY - ALCALA DE HENARES - v2 - Multiple experiments"
   ]
  },
  {
   "cell_type": "code",
   "execution_count": 22,
   "metadata": {},
   "outputs": [],
   "source": [
    "set_experiments(2430,2433)  # 8TWM - logit50\n",
    "set_experiments(2430,2434)  # 8TWM - logit100\n",
    "set_experiments(2500,2501)\n",
    "set_experiments(2510,2512)\n",
    "\n",
    "set_experiments(2430,2443)\n",
    "set_experiments(2500,2501)\n",
    "set_experiments(2420,2422)    # \"2L exp\"\n",
    "set_experiments(2430,2433)    # 3L3h exp + 8maps\n",
    "\n",
    "set_experiments(2430,2443)    # 3L3h exp + 16maps +logit100\n",
    "set_experiments(2430,2444)    # 3L3h exp + 16maps +logit100"
   ]
  },
  {
   "cell_type": "code",
   "execution_count": 30,
   "metadata": {},
   "outputs": [],
   "source": [
    "set_experiments(2430,2433)"
   ]
  },
  {
   "cell_type": "markdown",
   "metadata": {},
   "source": [
    "### TWM for incident management"
   ]
  },
  {
   "cell_type": "code",
   "execution_count": 37,
   "metadata": {},
   "outputs": [],
   "source": [
    "set_experiments(2602,2604)  # No TELE60 \n",
    "set_experiments(2604,2610)  # No TELE60 \n",
    "set_experiments(2602,2613)  # Compare two experiments of noTWM + no incident\n",
    "set_experiments(2602,2611)  # NoTWM vs Incident2\n",
    "set_experiments(2611,2614)  # Incident2 + 1xTWM\n",
    "set_experiments(2602,2615)  # NoTWM vs Incident3\n",
    "set_experiments(2615,2616)  # Incident3 + 1xTWM\n"
   ]
  },
  {
   "cell_type": "markdown",
   "metadata": {},
   "source": [
    "### Foresight experiments"
   ]
  },
  {
   "cell_type": "code",
   "execution_count": 38,
   "metadata": {},
   "outputs": [],
   "source": [
    "set_experiments(2512,2513)  # TELE600 crosstraffic con incident\n",
    "set_experiments(2600,2601)  # TELE60 sin / con incident\n",
    "set_experiments(2605,2607)  # \n"
   ]
  },
  {
   "cell_type": "markdown",
   "metadata": {
    "collapsed": true
   },
   "source": [
    "### ALCALA - 3L3h - Sin Teleporting"
   ]
  },
  {
   "cell_type": "code",
   "execution_count": 39,
   "metadata": {},
   "outputs": [],
   "source": [
    "set_experiments(2430,2500)"
   ]
  },
  {
   "cell_type": "markdown",
   "metadata": {},
   "source": [
    "### ALCALA - L3h - No Teleporting"
   ]
  },
  {
   "cell_type": "code",
   "execution_count": 40,
   "metadata": {},
   "outputs": [],
   "source": [
    "set_experiments(2630,2632)\n",
    "set_experiments(2611,2612)\n"
   ]
  },
  {
   "cell_type": "markdown",
   "metadata": {},
   "source": [
    "## GRID16 INCIDENT MANAGEMENT\n",
    "Una version a escala de la gestión de incidentes y su resolucion con mapas, para ser ampliada a entornos de ciudad real.  \n",
    "El escenario es crear un flujo de trafico de izquierda (TAZ10) a derecha (TAZ20) con 4 calles en cada TAZ los traficos se entremezclan.  \n",
    "En la mitad de la simulacion se produce un triple bloqueo en tres calles, y se aplica un mapa con radio 2 para descongestionar.\n",
    "* 2704 - Experimento sin incidente.\n",
    "* 2705 - Experimento con incidente\n",
    "* 2706 - Experimento con TWM y logit100.\n",
    "* 2707 - Experimento con TWM y logit50."
   ]
  },
  {
   "cell_type": "code",
   "execution_count": 253,
   "metadata": {},
   "outputs": [],
   "source": [
    "# Compara sin incidente y con incidente\n",
    "set_experiments(2704,2705)\n",
    "# Compara incidente sin mapa a incidente con TWM 100%\n",
    "set_experiments(2705,2706)\n",
    "# Compara incidente sin mapa a incidente con TWM 50%\n",
    "set_experiments(2705,2707)"
   ]
  },
  {
   "cell_type": "markdown",
   "metadata": {},
   "source": [
    "## ALCALA H INCIDENT MANAGEMENT\n",
    "Gestión de incidentes y su resolucion con mapas, para ser ampliada a entornos de ciudad real.  \n",
    "El escenario es crear un flujo de trafico direccional desde la carretera de Loeches (TAZ5) al barrio El Val (TAZ50) con un incidente en el medio y su resolucion con TWM.  \n",
    "La simulacion dura 7200 uds y en la mitad de la simulacion se produce un incidiente en una de las vias mas usadas por los vehiculos (ver herramienta de analisis de uso), y se aplica un mapa con radio 5 para descongestionar.\n",
    "* 2800 - Experimento sin incidente.\n",
    "* 2801 - Experimento con incidente\n",
    "* 2802 - Experimento con TWM y logit10.\n",
    "* 2803 - Experimento con TWM y logit20.\n",
    "* 2804 - Experimento con TWM y logit50.\n",
    "* 2805 - Experimento con TWM y logit100."
   ]
  },
  {
   "cell_type": "code",
   "execution_count": 262,
   "metadata": {},
   "outputs": [],
   "source": [
    "# DEMANDA XS\n",
    "set_experiments(2800,2801)\n",
    "set_experiments(2801,2804)\n",
    "\n"
   ]
  },
  {
   "cell_type": "markdown",
   "metadata": {},
   "source": [
    "# EXPERIMENTS EXECUTION AND ANALYSIS"
   ]
  },
  {
   "cell_type": "code",
   "execution_count": 35,
   "metadata": {
    "scrolled": false,
    "slideshow": {
     "slide_type": "slide"
    }
   },
   "outputs": [
    {
     "data": {
      "text/html": [
       "<h2>EXPERIMENT SCENARIOS COMPARISON</h2>"
      ],
      "text/plain": [
       "<IPython.core.display.HTML object>"
      ]
     },
     "metadata": {},
     "output_type": "display_data"
    },
    {
     "data": {
      "text/html": [
       "<style>div.output_subarea table {font-size: 10px;}</style>"
      ],
      "text/plain": [
       "<IPython.core.display.HTML object>"
      ]
     },
     "metadata": {},
     "output_type": "display_data"
    },
    {
     "name": "stdout",
     "output_type": "stream",
     "text": [
      "EXP1[1170]\n",
      "  alcalahenares(XL)  No TWM -  -  \n",
      "  alcalahenares_XL_nomutraff_tele60_nomaps_fulltraffic_170206_085516\n",
      "\n",
      "EXP2[1180]\n",
      "  alcalahenares(XL) 16 TWM - uniform(5) - logit20 \n",
      "  alcalahenares_XL_mutraff_tele60_uni5x16_timeALL_fulltraffic_logit20_170206_220415\n"
     ]
    },
    {
     "data": {
      "text/html": [
       "<table border=\"1\" class=\"dataframe\">\n",
       "  <thead>\n",
       "    <tr style=\"text-align: right;\">\n",
       "      <th></th>\n",
       "      <th>exp1</th>\n",
       "      <th>exp2</th>\n",
       "    </tr>\n",
       "  </thead>\n",
       "  <tbody>\n",
       "    <tr>\n",
       "      <th>EXPERIMENT</th>\n",
       "      <td>alcalahenares_XL_nomutraff_tele60_nomaps_fullt...</td>\n",
       "      <td>alcalahenares_XL_mutraff_tele60_uni5x16_timeAL...</td>\n",
       "    </tr>\n",
       "    <tr>\n",
       "      <th>EXPERIMENT_PATH</th>\n",
       "      <td>/Users/alvaro/Desktop/workspace/mutraff/uah-gi...</td>\n",
       "      <td>/Users/alvaro/Desktop/workspace/mutraff/uah-gi...</td>\n",
       "    </tr>\n",
       "    <tr>\n",
       "      <th>IMAGE_PATH</th>\n",
       "      <td>None</td>\n",
       "      <td>None</td>\n",
       "    </tr>\n",
       "    <tr>\n",
       "      <th>TITLE</th>\n",
       "      <td>alcalahenares(XL)  No TWM -  -</td>\n",
       "      <td>alcalahenares(XL) 16 TWM - uniform(5) - logit20</td>\n",
       "    </tr>\n",
       "    <tr>\n",
       "      <th>__BASTRA_FORESIGHT_HALTING</th>\n",
       "      <td>0</td>\n",
       "      <td>0</td>\n",
       "    </tr>\n",
       "    <tr>\n",
       "      <th>__BASTRA_FORESIGHT_PENALTY</th>\n",
       "      <td>1</td>\n",
       "      <td>1</td>\n",
       "    </tr>\n",
       "    <tr>\n",
       "      <th>__BASTRA_FORESIGHT_STEPS</th>\n",
       "      <td>0</td>\n",
       "      <td>0</td>\n",
       "    </tr>\n",
       "    <tr>\n",
       "      <th>__BASTRA_FORESIGHT_TRIES</th>\n",
       "      <td>0</td>\n",
       "      <td>0</td>\n",
       "    </tr>\n",
       "    <tr>\n",
       "      <th>__BASTRA_LOGIT</th>\n",
       "      <td>0</td>\n",
       "      <td>0.2</td>\n",
       "    </tr>\n",
       "    <tr>\n",
       "      <th>__BASTRA_USE_BALANCE</th>\n",
       "      <td>false</td>\n",
       "      <td>true</td>\n",
       "    </tr>\n",
       "    <tr>\n",
       "      <th>__GRID_SIZE</th>\n",
       "      <td>16</td>\n",
       "      <td>16</td>\n",
       "    </tr>\n",
       "    <tr>\n",
       "      <th>__LANES</th>\n",
       "      <td>1</td>\n",
       "      <td>1</td>\n",
       "    </tr>\n",
       "    <tr>\n",
       "      <th>__MAP_TIME_END</th>\n",
       "      <td>10000</td>\n",
       "      <td>10000</td>\n",
       "    </tr>\n",
       "    <tr>\n",
       "      <th>__MAP_TIME_INI</th>\n",
       "      <td>0</td>\n",
       "      <td>0</td>\n",
       "    </tr>\n",
       "    <tr>\n",
       "      <th>__MAP_USAGE</th>\n",
       "      <td>nomaps</td>\n",
       "      <td>uni5x16_timeALL</td>\n",
       "    </tr>\n",
       "    <tr>\n",
       "      <th>__MAX_SPEED</th>\n",
       "      <td>13.9</td>\n",
       "      <td>13.9</td>\n",
       "    </tr>\n",
       "    <tr>\n",
       "      <th>__NET_NAME</th>\n",
       "      <td>alcalahenares</td>\n",
       "      <td>alcalahenares</td>\n",
       "    </tr>\n",
       "    <tr>\n",
       "      <th>__NET_TYPE</th>\n",
       "      <td>city</td>\n",
       "      <td>city</td>\n",
       "    </tr>\n",
       "    <tr>\n",
       "      <th>__PREDEFINED_TRAFFIC_DEMAND</th>\n",
       "      <td></td>\n",
       "      <td>../DEMANDS/alcalahenares/alcalahenares.XL.type...</td>\n",
       "    </tr>\n",
       "    <tr>\n",
       "      <th>__PREFIX</th>\n",
       "      <td>alcalahenares_XL_nomutraff_tele60_nomaps_fullt...</td>\n",
       "      <td>alcalahenares_XL_mutraff_tele60_uni5x16_timeAL...</td>\n",
       "    </tr>\n",
       "    <tr>\n",
       "      <th>__ROADLENGTH</th>\n",
       "      <td>50</td>\n",
       "      <td>50</td>\n",
       "    </tr>\n",
       "    <tr>\n",
       "      <th>__ROUTING_ALGORITHM</th>\n",
       "      <td></td>\n",
       "      <td></td>\n",
       "    </tr>\n",
       "    <tr>\n",
       "      <th>__SET_AS_PREDEFINED_TRAFFIC_DEMAND</th>\n",
       "      <td>../DEMANDS/alcalahenares/alcalahenares.XL.type...</td>\n",
       "      <td></td>\n",
       "    </tr>\n",
       "    <tr>\n",
       "      <th>__SIMUL_TIME_END</th>\n",
       "      <td>10000</td>\n",
       "      <td>10000</td>\n",
       "    </tr>\n",
       "    <tr>\n",
       "      <th>__SIMUL_TIME_INI</th>\n",
       "      <td>0</td>\n",
       "      <td>0</td>\n",
       "    </tr>\n",
       "    <tr>\n",
       "      <th>__SPIDER_ARMS</th>\n",
       "      <td>0</td>\n",
       "      <td>0</td>\n",
       "    </tr>\n",
       "    <tr>\n",
       "      <th>__SPIDER_CIRCLES</th>\n",
       "      <td>0</td>\n",
       "      <td>0</td>\n",
       "    </tr>\n",
       "    <tr>\n",
       "      <th>__SUMO_GUI</th>\n",
       "      <td>false</td>\n",
       "      <td>false</td>\n",
       "    </tr>\n",
       "    <tr>\n",
       "      <th>__SUMO_PORT</th>\n",
       "      <td>4081</td>\n",
       "      <td>4081</td>\n",
       "    </tr>\n",
       "    <tr>\n",
       "      <th>__TELEPORTING</th>\n",
       "      <td>60</td>\n",
       "      <td>60</td>\n",
       "    </tr>\n",
       "    <tr>\n",
       "      <th>__TRAFFIC_BASELINE</th>\n",
       "      <td>10000</td>\n",
       "      <td>10000</td>\n",
       "    </tr>\n",
       "    <tr>\n",
       "      <th>__TRAFFIC_BRANCH</th>\n",
       "      <td>2000</td>\n",
       "      <td>5000</td>\n",
       "    </tr>\n",
       "    <tr>\n",
       "      <th>__TRAFFIC_TYPE</th>\n",
       "      <td>fulltraffic</td>\n",
       "      <td>fulltraffic</td>\n",
       "    </tr>\n",
       "    <tr>\n",
       "      <th>__USE_BASTRA</th>\n",
       "      <td>nomutraff</td>\n",
       "      <td>mutraff</td>\n",
       "    </tr>\n",
       "  </tbody>\n",
       "</table>"
      ],
      "text/plain": [
       "<IPython.core.display.HTML object>"
      ]
     },
     "metadata": {},
     "output_type": "display_data"
    },
    {
     "data": {
      "text/html": [
       "<h4>1. GLOBAL TRAFFIC. STATISTICS</h4>"
      ],
      "text/plain": [
       "<IPython.core.display.HTML object>"
      ]
     },
     "metadata": {},
     "output_type": "display_data"
    },
    {
     "name": "stdout",
     "output_type": "stream",
     "text": [
      "CAT_LABEL1:alcalahenares(XL)  No TWM -  -  \n"
     ]
    },
    {
     "name": "stderr",
     "output_type": "stream",
     "text": [
      "/Users/alvaro/anaconda3/lib/python3.6/site-packages/matplotlib/axes/_axes.py:6462: UserWarning: The 'normed' kwarg is deprecated, and has been replaced by the 'density' kwarg.\n",
      "  warnings.warn(\"The 'normed' kwarg is deprecated, and has been \"\n",
      "/Users/alvaro/anaconda3/lib/python3.6/site-packages/scipy/stats/morestats.py:1309: UserWarning: p-value may not be accurate for N > 5000.\n",
      "  warnings.warn(\"p-value may not be accurate for N > 5000.\")\n"
     ]
    },
    {
     "data": {
      "text/html": [
       "<h5>1.1. GLOBAL TRAFFIC. NON-PAIRED STATS - ROUTED DEMAND</h5>"
      ],
      "text/plain": [
       "<IPython.core.display.HTML object>"
      ]
     },
     "metadata": {},
     "output_type": "display_data"
    },
    {
     "data": {
      "text/html": [
       "<table border=\"1\" class=\"dataframe\">\n",
       "  <thead>\n",
       "    <tr style=\"text-align: right;\">\n",
       "      <th></th>\n",
       "      <th></th>\n",
       "      <th>Stat</th>\n",
       "      <th>Units</th>\n",
       "      <th>variation</th>\n",
       "      <th>alcalahenares_XL_nomutraff_tele60_nomaps_fulltraffic</th>\n",
       "      <th>alcalahenares_XL_mutraff_tele60_uni5x16_timeALL_fulltraffic_logit20</th>\n",
       "    </tr>\n",
       "  </thead>\n",
       "  <tbody>\n",
       "    <tr>\n",
       "      <th>0</th>\n",
       "      <td>Trips Planned</td>\n",
       "      <td>num</td>\n",
       "      <td>trips</td>\n",
       "      <td>0.00%</td>\n",
       "      <td>18694</td>\n",
       "      <td>18694</td>\n",
       "    </tr>\n",
       "    <tr>\n",
       "      <th>1</th>\n",
       "      <td>Trips Routed</td>\n",
       "      <td>num</td>\n",
       "      <td>trips</td>\n",
       "      <td>0.96%</td>\n",
       "      <td>17895</td>\n",
       "      <td>18067</td>\n",
       "    </tr>\n",
       "    <tr>\n",
       "      <th>2</th>\n",
       "      <td>Trips using TWM</td>\n",
       "      <td>num</td>\n",
       "      <td>trips</td>\n",
       "      <td>-79.15%</td>\n",
       "      <td>17895</td>\n",
       "      <td>3731</td>\n",
       "    </tr>\n",
       "  </tbody>\n",
       "</table>"
      ],
      "text/plain": [
       "<IPython.core.display.HTML object>"
      ]
     },
     "metadata": {},
     "output_type": "display_data"
    },
    {
     "data": {
      "text/html": [
       "<h5>1.2. GLOBAL TRAFFIC. NON-PAIRED STATS - TRAVELTIME</h5>"
      ],
      "text/plain": [
       "<IPython.core.display.HTML object>"
      ]
     },
     "metadata": {},
     "output_type": "display_data"
    },
    {
     "data": {
      "text/html": [
       "<table border=\"1\" class=\"dataframe\">\n",
       "  <thead>\n",
       "    <tr style=\"text-align: right;\">\n",
       "      <th></th>\n",
       "      <th></th>\n",
       "      <th>Stat</th>\n",
       "      <th>Units</th>\n",
       "      <th>variation</th>\n",
       "      <th>alcalahenares_XL_nomutraff_tele60_nomaps_fulltraffic</th>\n",
       "      <th>alcalahenares_XL_mutraff_tele60_uni5x16_timeALL_fulltraffic_logit20</th>\n",
       "    </tr>\n",
       "  </thead>\n",
       "  <tbody>\n",
       "    <tr>\n",
       "      <th>0</th>\n",
       "      <td>Travel Time</td>\n",
       "      <td>mean</td>\n",
       "      <td>t.units</td>\n",
       "      <td>-4.75%</td>\n",
       "      <td>2169.13</td>\n",
       "      <td>2066.11</td>\n",
       "    </tr>\n",
       "    <tr>\n",
       "      <th>1</th>\n",
       "      <td>Travel Time</td>\n",
       "      <td>median</td>\n",
       "      <td>t.units</td>\n",
       "      <td>-7.25%</td>\n",
       "      <td>1297</td>\n",
       "      <td>1203</td>\n",
       "    </tr>\n",
       "    <tr>\n",
       "      <th>2</th>\n",
       "      <td>Travel Time</td>\n",
       "      <td>std.deviation</td>\n",
       "      <td>t.units</td>\n",
       "      <td>-3.59%</td>\n",
       "      <td>2153.82</td>\n",
       "      <td>2076.58</td>\n",
       "    </tr>\n",
       "    <tr>\n",
       "      <th>3</th>\n",
       "      <td>Travel Time</td>\n",
       "      <td>Value Confidence Interval</td>\n",
       "      <td>t.units</td>\n",
       "      <td></td>\n",
       "      <td>(27.25058189860556, 4311.01787297706)</td>\n",
       "      <td>(1.0401170147879384, 4131.188697951728)</td>\n",
       "    </tr>\n",
       "    <tr>\n",
       "      <th>4</th>\n",
       "      <td>Travel Time</td>\n",
       "      <td>Mean Confidence Interval</td>\n",
       "      <td>t.units</td>\n",
       "      <td></td>\n",
       "      <td>(2153.122801036236, 2185.1456538394273)</td>\n",
       "      <td>(2050.750819296066, 2081.477995670448)</td>\n",
       "    </tr>\n",
       "    <tr>\n",
       "      <th>5</th>\n",
       "      <td>Travel Time</td>\n",
       "      <td>Shapiro</td>\n",
       "      <td></td>\n",
       "      <td></td>\n",
       "      <td>0.05%is not normal</td>\n",
       "      <td>0.05%is not normal</td>\n",
       "    </tr>\n",
       "  </tbody>\n",
       "</table>"
      ],
      "text/plain": [
       "<IPython.core.display.HTML object>"
      ]
     },
     "metadata": {},
     "output_type": "display_data"
    },
    {
     "data": {
      "text/html": [
       "<h5>1.3. GLOBAL TRAFFIC. NON-PAIRED STATS - ROUTE LENGTH</h5>"
      ],
      "text/plain": [
       "<IPython.core.display.HTML object>"
      ]
     },
     "metadata": {},
     "output_type": "display_data"
    },
    {
     "data": {
      "text/html": [
       "<table border=\"1\" class=\"dataframe\">\n",
       "  <thead>\n",
       "    <tr style=\"text-align: right;\">\n",
       "      <th></th>\n",
       "      <th></th>\n",
       "      <th>Stat</th>\n",
       "      <th>Units</th>\n",
       "      <th>variation</th>\n",
       "      <th>alcalahenares_XL_nomutraff_tele60_nomaps_fulltraffic</th>\n",
       "      <th>alcalahenares_XL_mutraff_tele60_uni5x16_timeALL_fulltraffic_logit20</th>\n",
       "    </tr>\n",
       "  </thead>\n",
       "  <tbody>\n",
       "    <tr>\n",
       "      <th>0</th>\n",
       "      <td>Route Length</td>\n",
       "      <td>mean</td>\n",
       "      <td>mts</td>\n",
       "      <td>0.73%</td>\n",
       "      <td>48.1902</td>\n",
       "      <td>48.5439</td>\n",
       "    </tr>\n",
       "    <tr>\n",
       "      <th>1</th>\n",
       "      <td>Route Length</td>\n",
       "      <td>median</td>\n",
       "      <td>mts</td>\n",
       "      <td>0.00%</td>\n",
       "      <td>44</td>\n",
       "      <td>44</td>\n",
       "    </tr>\n",
       "    <tr>\n",
       "      <th>2</th>\n",
       "      <td>Route Length</td>\n",
       "      <td>std.deviation</td>\n",
       "      <td>mts</td>\n",
       "      <td>0.90%</td>\n",
       "      <td>27.4472</td>\n",
       "      <td>27.6942</td>\n",
       "    </tr>\n",
       "    <tr>\n",
       "      <th>3</th>\n",
       "      <td>Route Length</td>\n",
       "      <td>Value Confidence Interval</td>\n",
       "      <td>mts</td>\n",
       "      <td></td>\n",
       "      <td>(20.895129728765532, 75.48519997226828)</td>\n",
       "      <td>(21.003182332654315, 76.08465737510016)</td>\n",
       "    </tr>\n",
       "    <tr>\n",
       "      <th>4</th>\n",
       "      <td>Route Length</td>\n",
       "      <td>Mean Confidence Interval</td>\n",
       "      <td>mts</td>\n",
       "      <td></td>\n",
       "      <td>(47.986123680077476, 48.394206020956325)</td>\n",
       "      <td>(48.33902429559124, 48.74881541216323)</td>\n",
       "    </tr>\n",
       "  </tbody>\n",
       "</table>"
      ],
      "text/plain": [
       "<IPython.core.display.HTML object>"
      ]
     },
     "metadata": {},
     "output_type": "display_data"
    },
    {
     "data": {
      "text/html": [
       "<h5>1.4. GLOBAL TRAFFIC. NON-PAIRED STATS - TRAVELTIMES COMPARED HISTOGRAM</h5>"
      ],
      "text/plain": [
       "<IPython.core.display.HTML object>"
      ]
     },
     "metadata": {},
     "output_type": "display_data"
    },
    {
     "data": {
      "image/png": "[encoded data removed]",
      "text/plain": [
       "<Figure size 1296x576 with 1 Axes>"
      ]
     },
     "metadata": {},
     "output_type": "display_data"
    },
    {
     "data": {
      "text/html": [
       "<h5>1.5. GLOBAL TRAFFIC. PAIRED STATISTICS</h5>"
      ],
      "text/plain": [
       "<IPython.core.display.HTML object>"
      ]
     },
     "metadata": {},
     "output_type": "display_data"
    },
    {
     "data": {
      "text/html": [
       "<table border=\"1\" class=\"dataframe\">\n",
       "  <thead>\n",
       "    <tr style=\"text-align: right;\">\n",
       "      <th></th>\n",
       "      <th></th>\n",
       "      <th>Stat</th>\n",
       "      <th>Units</th>\n",
       "      <th>confidence</th>\n",
       "      <th>Analysis</th>\n",
       "      <th>stat</th>\n",
       "      <th>pvalue</th>\n",
       "    </tr>\n",
       "  </thead>\n",
       "  <tbody>\n",
       "    <tr>\n",
       "      <th>0</th>\n",
       "      <td>Travel Time</td>\n",
       "      <td>T-TEST</td>\n",
       "      <td>(t_stat)(p_value)</td>\n",
       "      <td>0.05%</td>\n",
       "      <td>Variances are different (standard independent ...</td>\n",
       "      <td>stat=6.877278573114768</td>\n",
       "      <td>p_val=6.2007278475204085e-12</td>\n",
       "    </tr>\n",
       "    <tr>\n",
       "      <th>1</th>\n",
       "      <td>Route Length</td>\n",
       "      <td>T-TEST</td>\n",
       "      <td>(t_stat)(p_value)</td>\n",
       "      <td>0.05%</td>\n",
       "      <td>We cannot assure that variances are equal</td>\n",
       "      <td>stat=-1.216511522020104</td>\n",
       "      <td>p_val=0.22379810913645015</td>\n",
       "    </tr>\n",
       "    <tr>\n",
       "      <th>2</th>\n",
       "      <td>Travel Time</td>\n",
       "      <td>Wilcoxon Paired RankSign</td>\n",
       "      <td></td>\n",
       "      <td>0.05%</td>\n",
       "      <td>Medians are sensitive different. TWM has a sta...</td>\n",
       "      <td>stat=53819393.5</td>\n",
       "      <td>p_val=1.3736319942632023e-246</td>\n",
       "    </tr>\n",
       "    <tr>\n",
       "      <th>3</th>\n",
       "      <td>Diff in Travel Time</td>\n",
       "      <td>Shapiro</td>\n",
       "      <td></td>\n",
       "      <td>0.05%</td>\n",
       "      <td>We cannot assure that variances are equal</td>\n",
       "      <td>stat=-1.216511522020104</td>\n",
       "      <td>p_val=0.22379810913645015</td>\n",
       "    </tr>\n",
       "    <tr>\n",
       "      <th>4</th>\n",
       "      <td>Travel Time Diff secs</td>\n",
       "      <td>Shapiro Normality</td>\n",
       "      <td>secs</td>\n",
       "      <td>0.05%</td>\n",
       "      <td>Distrib is not normal</td>\n",
       "      <td></td>\n",
       "      <td>0</td>\n",
       "    </tr>\n",
       "    <tr>\n",
       "      <th>5</th>\n",
       "      <td>Travel Time Diff secs</td>\n",
       "      <td>mean</td>\n",
       "      <td>t.units</td>\n",
       "      <td>0.05%</td>\n",
       "      <td>has improved</td>\n",
       "      <td>151.958</td>\n",
       "      <td></td>\n",
       "    </tr>\n",
       "    <tr>\n",
       "      <th>6</th>\n",
       "      <td>Travel Time Diff secs</td>\n",
       "      <td>median</td>\n",
       "      <td>t.units</td>\n",
       "      <td>0.05%</td>\n",
       "      <td>has improved</td>\n",
       "      <td>12</td>\n",
       "      <td></td>\n",
       "    </tr>\n",
       "    <tr>\n",
       "      <th>7</th>\n",
       "      <td>Travel Time Diff secs</td>\n",
       "      <td>std.deviation</td>\n",
       "      <td>t.units</td>\n",
       "      <td>0.05%</td>\n",
       "      <td>has improved</td>\n",
       "      <td>821.663</td>\n",
       "      <td></td>\n",
       "    </tr>\n",
       "    <tr>\n",
       "      <th>8</th>\n",
       "      <td>Travel Time Diff %</td>\n",
       "      <td>Shapiro Normality</td>\n",
       "      <td>%</td>\n",
       "      <td></td>\n",
       "      <td>Distrib is not normal</td>\n",
       "      <td></td>\n",
       "      <td>0</td>\n",
       "    </tr>\n",
       "    <tr>\n",
       "      <th>9</th>\n",
       "      <td>Travel Time Diff %</td>\n",
       "      <td>mean</td>\n",
       "      <td>%</td>\n",
       "      <td></td>\n",
       "      <td>gets worse</td>\n",
       "      <td>-2.58852</td>\n",
       "      <td></td>\n",
       "    </tr>\n",
       "    <tr>\n",
       "      <th>10</th>\n",
       "      <td>Travel Time Diff %</td>\n",
       "      <td>median</td>\n",
       "      <td>%</td>\n",
       "      <td></td>\n",
       "      <td>has improved</td>\n",
       "      <td>2.51256</td>\n",
       "      <td></td>\n",
       "    </tr>\n",
       "    <tr>\n",
       "      <th>11</th>\n",
       "      <td>Travel Time Diff %</td>\n",
       "      <td>std.deviation</td>\n",
       "      <td>%</td>\n",
       "      <td></td>\n",
       "      <td>has improved</td>\n",
       "      <td>61.9109</td>\n",
       "      <td></td>\n",
       "    </tr>\n",
       "  </tbody>\n",
       "</table>"
      ],
      "text/plain": [
       "<IPython.core.display.HTML object>"
      ]
     },
     "metadata": {},
     "output_type": "display_data"
    },
    {
     "data": {
      "text/html": [
       "<h5>1.6. GLOBAL TRAFFIC. PAIRED - Individual Absolute Traveltime Enhancement histogram</h5>"
      ],
      "text/plain": [
       "<IPython.core.display.HTML object>"
      ]
     },
     "metadata": {},
     "output_type": "display_data"
    },
    {
     "name": "stderr",
     "output_type": "stream",
     "text": [
      "/Users/alvaro/anaconda3/lib/python3.6/site-packages/matplotlib/axes/_axes.py:6462: UserWarning: The 'normed' kwarg is deprecated, and has been replaced by the 'density' kwarg.\n",
      "  warnings.warn(\"The 'normed' kwarg is deprecated, and has been \"\n"
     ]
    },
    {
     "data": {
      "image/png": "[encoded data removed]",
      "text/plain": [
       "<Figure size 1296x576 with 1 Axes>"
      ]
     },
     "metadata": {},
     "output_type": "display_data"
    },
    {
     "data": {
      "text/html": [
       "<h5>1.7. GLOBAL TRAFFIC. PAIRED - Individual Relative Traveltime Enhancement histogram %</h5>"
      ],
      "text/plain": [
       "<IPython.core.display.HTML object>"
      ]
     },
     "metadata": {},
     "output_type": "display_data"
    },
    {
     "data": {
      "image/png": "[encoded data removed]",
      "text/plain": [
       "<Figure size 1296x576 with 1 Axes>"
      ]
     },
     "metadata": {},
     "output_type": "display_data"
    },
    {
     "data": {
      "image/png": "[encoded data removed]",
      "text/plain": [
       "<Figure size 1296x576 with 1 Axes>"
      ]
     },
     "metadata": {},
     "output_type": "display_data"
    },
    {
     "data": {
      "text/html": [
       "<h5>1.8. GLOBAL TRAFFIC. PAIRED - Cumulative distribution of Individual Traveltime Enhancement</h5>"
      ],
      "text/plain": [
       "<IPython.core.display.HTML object>"
      ]
     },
     "metadata": {},
     "output_type": "display_data"
    },
    {
     "data": {
      "image/png": "[encoded data removed]",
      "text/plain": [
       "<Figure size 1296x576 with 1 Axes>"
      ]
     },
     "metadata": {},
     "output_type": "display_data"
    },
    {
     "data": {
      "text/html": [
       "<h5>1.9. GLOBAL TRAFFIC. PAIRED - TWM Usage - Individual absolute traveltime enhancement histogram</h5>"
      ],
      "text/plain": [
       "<IPython.core.display.HTML object>"
      ]
     },
     "metadata": {},
     "output_type": "display_data"
    },
    {
     "data": {
      "image/png": "[encoded data removed]",
      "text/plain": [
       "<Figure size 1296x576 with 1 Axes>"
      ]
     },
     "metadata": {},
     "output_type": "display_data"
    },
    {
     "data": {
      "text/html": [
       "<h5>1.10. GLOBAL TRAFFIC. PAIRED - TWM Usage - Individual relative traveltime enhancement histogram</h5>"
      ],
      "text/plain": [
       "<IPython.core.display.HTML object>"
      ]
     },
     "metadata": {},
     "output_type": "display_data"
    },
    {
     "data": {
      "image/png": "[encoded data removed]",
      "text/plain": [
       "<Figure size 1296x576 with 1 Axes>"
      ]
     },
     "metadata": {},
     "output_type": "display_data"
    },
    {
     "data": {
      "image/png": "[encoded data removed]",
      "text/plain": [
       "<Figure size 1296x576 with 1 Axes>"
      ]
     },
     "metadata": {},
     "output_type": "display_data"
    }
   ],
   "source": [
    "compare_scenarios( BASTRA_PATH, label1, experiment1, label2, experiment2 )"
   ]
  },
  {
   "cell_type": "markdown",
   "metadata": {
    "collapsed": true
   },
   "source": [
    "# BACKUP"
   ]
  },
  {
   "cell_type": "code",
   "execution_count": 11,
   "metadata": {},
   "outputs": [],
   "source": [
    "# Bastra L con 1 mapa\n",
    "exp[1]=\"grid16_noBastra_nomaps_fulltraffic_161114_125258\"\n",
    "exp[2]=\"grid16_Bastra_rand05x1_timeALL_fulltraffic_logit05_161114_131513\"\n",
    "\n",
    "# Extra-Large con 2 lanes por edge + con 8 mapas\n",
    "exp[3]=\"XL2_grid16_Bastra_rand05x8_timeALL_fulltraffic_logit50_161114_190405\"\n",
    "exp[4]=\"XL2_grid16_Bastra_rand05x8_timeALL_fulltraffic_logit100_161114_183734\"\n",
    "\n",
    "\n",
    "# Small con 8 mapas\n",
    "exp[5]=\"S_grid16_noBastra_reference_fulltraffic_161114_115215\"\n",
    "exp[6]=\"S_grid16_Bastra_rand05x8_timeALL_fulltraffic_logit50_161114_114837\"\n",
    "exp[7]=\"S_grid16_Bastra_rand05x8_timeALL_fulltraffic_logit100_161114_114102\""
   ]
  },
  {
   "cell_type": "code",
   "execution_count": 12,
   "metadata": {},
   "outputs": [],
   "source": [
    "BASTRA_PATH=\"/Users/alvaro/Desktop/workspace/mutraff/uah-gist-mutraff-bastra\"\n",
    "label1=\"GRID16/MuTRAFF OFF/full traffic\"\n",
    "label2=\"GRID16/MuTRAFF ON/full traffic/1MAP/random5/logit100\"\n",
    "\n",
    "# Bastra L con 1 mapa\n",
    "exp[7]=\"grid16_noBastra_nomaps_fulltraffic_161114_125258\"\n",
    "exp[8]=\"grid16_Bastra_rand05x1_timeALL_fulltraffic_logit05_161114_131513\"\n",
    "\n",
    "# Extra-Large con 2 lanes por edge + con 8 mapas\n",
    "exp[9]=\"XL2_grid16_Bastra_rand05x8_timeALL_fulltraffic_logit50_161114_190405\"\n",
    "exp[10]=\"XL2_grid16_Bastra_rand05x8_timeALL_fulltraffic_logit100_161114_183734\"\n",
    "\n",
    "\n",
    "# Small con 8 mapas\n",
    "exp[11]=\"S_grid16_noBastra_reference_fulltraffic_161114_115215\"\n",
    "exp[12]=\"S_grid16_Bastra_rand05x8_timeALL_fulltraffic_logit50_161114_114837\"\n",
    "exp[13]=\"S_grid16_Bastra_rand05x8_timeALL_fulltraffic_logit100_161114_114102\""
   ]
  },
  {
   "cell_type": "code",
   "execution_count": 13,
   "metadata": {},
   "outputs": [],
   "source": [
    "# Experimento con los 8 mapas puestos = pesos de referencia --> deberia dar lo mismo que sin Bastra o con reference maps\n",
    "exp[14]=\"S_grid16_noBastra_reference_fulltraffic_161114_115215\"\n",
    "exp[15]=\"S_grid16_Bastra_rand05x8_timeALL_fulltraffic_logit100_161114_194134\""
   ]
  },
  {
   "cell_type": "code",
   "execution_count": 14,
   "metadata": {},
   "outputs": [],
   "source": [
    "# Extra-Small para no saturar y 8 mapas random (500 + 4x200)\n",
    "exp[20]=\"XS_grid16_noBastra_reference_fulltraffic_170130_225044\"\n",
    "exp[21]=\"XS_grid16_Bastra_rand05x8_timeALL_fulltraffic_logit10_161115_092404\"\n",
    "exp[22]=\"XS_grid16_Bastra_rand05x8_timeALL_fulltraffic_logit50_170130_225435\"\n",
    "\n",
    "exp[23]=\"XS_grid16_Bastra_rand05x8_timeALL_fulltraffic_logit05_161115_092039\"\n",
    "exp[24]=\"XS_grid16_Bastra_rand05x8_timeALL_fulltraffic_logit10_161115_092404\"\n",
    "exp[25]=\"XS_grid16_Bastra_rand05x8_timeALL_fulltraffic_logit20_161115_092738\"\n",
    "exp[26]=\"XS_grid16_Bastra_rand05x8_timeALL_fulltraffic_logit50_161115_093115\"\n",
    "exp[27]=\"XS_grid16_Bastra_rand05x8_timeALL_fulltraffic_logit100_161115_093432\"\n",
    "\n",
    "exp[60]=\"XS_grid16_Bastra_rand2x8_timeALL_fulltraffic_logit20_190527_060828\"\n",
    "exp[61]=\"XS_grid16_Bastra_rand2x8_timeALL_fulltraffic_logit50_190527_061056\"\n",
    "exp[62]=\"XS_grid16_Bastra_rand05x4_timeALL_fulltraffic_logit20_190527_061308\"\n",
    "exp[63]=\"XS_grid16_Bastra_rand05x4_timeALL_fulltraffic_logit50_190527_061541\"\n"
   ]
  },
  {
   "cell_type": "code",
   "execution_count": 15,
   "metadata": {},
   "outputs": [],
   "source": [
    "# 2 LANES con trafico grid16 normal (3000 + 4x200)\n",
    "#exp[30]=\"grid16_noBastra_reference_fulltraffic_161115_110544\"\n",
    "exp[30]=\"XL2_grid16_noBastra_reference_fulltraffic_161115_092630\"\n",
    "exp[31]=\"XL2_grid16_Bastra_rand05x8_timeALL_fulltraffic_logit50_161115_093151\"\n",
    "exp[32]=\"XL2_grid16_Bastra_rand05x8_timeALL_fulltraffic_logit100_161115_093621\"\n"
   ]
  },
  {
   "cell_type": "code",
   "execution_count": 16,
   "metadata": {},
   "outputs": [],
   "source": [
    "# 2 LANES con tráfico grid16 L (3000 + 4x200)\n",
    "exp[33]=\"grid16_noBastra_reference_fulltraffic_161115_164807\"\n",
    "\n",
    "exp[34]=\"XL2_grid16_noBastra_reference_fulltraffic_161115_132611\"\n",
    "exp[35]=\"XL2_grid16_Bastra_rand05x8_timeALL_fulltraffic_logit50_161115_133434\"\n",
    "exp[36]=\"XL2_grid16_Bastra_rand05x8_timeALL_fulltraffic_logit100_161115_134312\"\n",
    "\n",
    "exp[37]=\"grid16_M_noTWM_reference_fulltraffic_190314_003326\"\n",
    "exp[38]=\"grid16_M_noTWM_reference_2lanes_fulltraffic_190314_003712\""
   ]
  },
  {
   "cell_type": "code",
   "execution_count": 17,
   "metadata": {},
   "outputs": [],
   "source": [
    "# A* Routing algorithms comparison\n",
    "exp[40]=\"grid16_noBastra_reference_fulltraffic_161115_192127\"\n",
    "exp[41]=\"grid16_noBastraAstar_reference_fulltraffic_161115_191754\"\n",
    "exp[42]=\"grid16_BastraAstar_rand05x8_timeALL_fulltraffic_logit20_161115_222212\"\n",
    "exp[43]=\"grid16_BastraAstar_rand05x8_timeALL_fulltraffic_logit50_161115_223541\"\n",
    "exp[44]=\"grid16_BastraAstar_rand05x8_timeALL_fulltraffic_logit100_161115_225023\"\n"
   ]
  },
  {
   "cell_type": "code",
   "execution_count": 18,
   "metadata": {},
   "outputs": [],
   "source": [
    "# A* Routing algorithms comparison\n",
    "\n",
    "# First experiments:\n",
    "exp[50]=\"grid16_noBastra_reference_fulltraffic_161115_192127\"\n",
    "exp[51]=\"grid16_noBastraAstar_reference_fulltraffic_161115_191754\"\n",
    "#experiment2=\"grid16_BastraAstar_rand05x8_timeALL_fulltraffic_logit20_161115_222212\"\n",
    "#experiment2=\"grid16_BastraAstar_rand05x8_timeALL_fulltraffic_logit50_161115_223541\"\n",
    "#experiment2=\"grid16_BastraAstar_rand05x8_timeALL_fulltraffic_logit100_161115_225023\"\n",
    "\n",
    "# Second experiments:\n",
    "exp[52]=\"grid16_noBastraAstar_reference_fulltraffic_161115_191754\"\n",
    "exp[53]=\"grid16_noBastraAstar_reference_fulltraffic_161121_095357\"\n",
    "exp[54]=\"grid16_BastraAstar_rand05x8_timeALL_fulltraffic_logit20_161121_100716\"\n",
    "# experiment2=\"grid16_BastraAstar_rand05x8_timeALL_fulltraffic_logit50_161121_101535\"\n",
    "# experiment2=\"grid16_BastraAstar_rand05x8_timeALL_fulltraffic_logit100_161121_102631\"\n"
   ]
  },
  {
   "cell_type": "code",
   "execution_count": 19,
   "metadata": {},
   "outputs": [],
   "source": [
    "# ALCALA DE HENARES EXPERIMENTS\n",
    "# alcalahenares_noBastra_nomaps_fulltraffic_161216_110525\n",
    "# alcalahenares_L_Bastra_uni1x8_timeALL_fulltraffic_logit50_161216_114129\n",
    "# alcalahenares_L_Bastra_uni5x8_timeALL_fulltraffic_logit50_161216_121730\n",
    "# alcalahenares_L_Bastra_uni5x16_timeALL_fulltraffic_logit50_161216_153926\n",
    "\n",
    "exp[1004]=\"alcalahenares_noBastra_nomaps_fulltraffic_170115_230706\"\n",
    "exp[1005]=\"alcalahenares_noBastra_nomaps_fulltraffic_170115_230706\"\n",
    "\n",
    "exp[1000]=\"alcalahenares_noBastra_nomaps_tele300_fulltraffic_170116_000420\"\n",
    "exp[1001]=\"alcalahenares_L_Bastra_tele300_uni5x8_timeALL_fulltraffic_logit50_170116_004127\"\n",
    "exp[1002]=\"alcalahenares_L_Bastra_tele300_uni1x8_timeALL_fulltraffic_logit50_170116_002314\"\n",
    "exp[1003]=\"alcalahenares_L_Bastra_tele300_uni5x16_timeALL_fulltraffic_logit50_170116_005920\"\n",
    "\n",
    "exp[1100]=\"alcalahenares_noBastra_nomaps_tele60_fulltraffic_170126_201242\"\n",
    "exp[1101]=\"alcalahenares_L_Bastra_tele60_uni1x8_timeALL_fulltraffic_logit50_170126_203035\"\n",
    "exp[1102]=\"alcalahenares_L_Bastra_tele60_uni5x16_timeALL_fulltraffic_logit50_170126_204811\"\n",
    "exp[1103]=\"alcalahenares_L_Bastra_tele60_uni5x8_timeALL_fulltraffic_logit50_170126_210456\"\n",
    "\n",
    "set_experiments(1000,1001)"
   ]
  },
  {
   "cell_type": "code",
   "execution_count": 20,
   "metadata": {},
   "outputs": [],
   "source": [
    "# RADIAL16 EXPERIMENTS\n",
    "exp[500]=\"radial16_noBastra_XXS_fulltraffic_170111_232306\"\n",
    "exp[501]=\"radial16_noBastra_XS_fulltraffic_170111_232346\"\n",
    "exp[502]=\"radial16_noBastra_S_fulltraffic_170111_232444\"\n",
    "exp[503]=\"radial16_noBastra_M2_fulltraffic_170111_232549\"\n",
    "exp[504]=\"radial16_noBastra_M_fulltraffic_170111_233225\"\n",
    "exp[505]=\"radial16_noBastra_L_fulltraffic_170111_233357\"\n",
    "exp[506]=\"radial16_noBastra_XL2_fulltraffic_170111_234332\"\n",
    "exp[507]=\"radial16_XS_Bastra_rand05x1_timeALL_fulltraffic_logit05_170111_235743\"\n",
    "exp[508]=\"radial16_XS_Bastra_rand05x1_timeALL_fulltraffic_logit10_170111_235839\"\n",
    "exp[509]=\"radial16_XS_Bastra_rand05x1_timeALL_fulltraffic_logit100_170111_235936\"\n",
    "exp[510]=\"radial16_XS_Bastra_rand05x1_timeALL_fulltraffic_logit20_170112_000036\"\n",
    "exp[511]=\"radial16_XS_Bastra_rand05x1_timeALL_fulltraffic_logit50_170112_000133\"\n",
    "exp[512]=\"radial16_XS_Bastra_rand05x2_timeALL_fulltraffic_logit05_170112_000228\"\n",
    "exp[513]=\"radial16_XS_Bastra_rand05x2_timeALL_fulltraffic_logit10_170112_000324\"\n",
    "exp[514]=\"radial16_XS_Bastra_rand05x2_timeALL_fulltraffic_logit100_170112_000420\"\n",
    "exp[515]=\"radial16_XS_Bastra_rand05x2_timeALL_fulltraffic_logit20_170112_000519\"\n",
    "exp[516]=\"radial16_XS_Bastra_rand05x2_timeALL_fulltraffic_logit50_170112_000615\"\n",
    "exp[517]=\"radial16_XS_Bastra_rand05x4_timeALL_fulltraffic_logit05_170112_000713\"\n",
    "exp[518]=\"radial16_XS_Bastra_rand05x4_timeALL_fulltraffic_logit10_170112_000809\"\n",
    "exp[519]=\"radial16_XS_Bastra_rand05x4_timeALL_fulltraffic_logit100_170112_000905\"\n",
    "exp[520]=\"radial16_XS_Bastra_rand05x4_timeALL_fulltraffic_logit20_170112_001004\"\n",
    "exp[521]=\"radial16_XS_Bastra_rand05x4_timeALL_fulltraffic_logit50_170112_001101\"\n",
    "exp[522]=\"radial16_M2_Bastra_rand05x1_timeALL_fulltraffic_logit05_170112_001329\"\n",
    "exp[523]=\"radial16_M2_Bastra_rand05x1_timeALL_fulltraffic_logit10_170112_001438\"\n",
    "exp[524]=\"radial16_M2_Bastra_rand05x1_timeALL_fulltraffic_logit100_170112_001545\"\n",
    "exp[525]=\"radial16_M2_Bastra_rand05x1_timeALL_fulltraffic_logit20_170112_001658\"\n",
    "exp[526]=\"radial16_M2_Bastra_rand05x1_timeALL_fulltraffic_logit50_170112_001806\"\n",
    "exp[527]=\"radial16_M2_Bastra_rand05x2_timeALL_fulltraffic_logit05_170112_001917\"\n",
    "exp[528]=\"radial16_M2_Bastra_rand05x2_timeALL_fulltraffic_logit10_170112_002030\"\n",
    "exp[529]=\"radial16_M2_Bastra_rand05x2_timeALL_fulltraffic_logit100_170112_002142\"\n",
    "exp[530]=\"radial16_M2_Bastra_rand05x2_timeALL_fulltraffic_logit20_170112_002259\"\n",
    "exp[531]=\"radial16_M2_Bastra_rand05x2_timeALL_fulltraffic_logit50_170112_002412\"\n",
    "exp[532]=\"radial16_M2_Bastra_rand05x4_timeALL_fulltraffic_logit05_170112_002526\"\n",
    "exp[533]=\"radial16_M2_Bastra_rand05x4_timeALL_fulltraffic_logit10_170112_002638\"\n",
    "exp[534]=\"radial16_M2_Bastra_rand05x4_timeALL_fulltraffic_logit100_170112_002750\"\n",
    "exp[535]=\"radial16_M2_Bastra_rand05x4_timeALL_fulltraffic_logit20_170112_002905\"\n",
    "exp[536]=\"radial16_M2_Bastra_rand05x4_timeALL_fulltraffic_logit50_170112_003018\"\n",
    "exp[537]=\"radial16_M2_Bastra_rand05x8_timeALL_fulltraffic_logit05_170112_003130\"\n",
    "exp[538]=\"radial16_M2_Bastra_rand05x8_timeALL_fulltraffic_logit10_170112_003240\"\n",
    "exp[539]=\"radial16_M2_Bastra_rand05x8_timeALL_fulltraffic_logit100_170112_003349\"\n",
    "exp[540]=\"radial16_M2_Bastra_rand05x8_timeALL_fulltraffic_logit20_170112_003506\"\n",
    "exp[541]=\"radial16_M2_Bastra_rand05x8_timeALL_fulltraffic_logit50_170112_003615\"\n",
    "exp[542]=\"radial16_M2_Bastra_rand2x2_timeALL_fulltraffic_logit05_170112_003728\"\n",
    "exp[543]=\"radial16_M2_Bastra_rand2x2_timeALL_fulltraffic_logit10_170112_003838\"\n",
    "exp[544]=\"radial16_M2_Bastra_rand2x2_timeALL_fulltraffic_logit100_170112_003947\"\n",
    "exp[545]=\"radial16_M2_Bastra_rand2x2_timeALL_fulltraffic_logit20_170112_004101\"\n",
    "exp[546]=\"radial16_M2_Bastra_rand2x2_timeALL_fulltraffic_logit50_170112_004212\"\n",
    "exp[547]=\"radial16_M2_Bastra_rand2x4_timeALL_fulltraffic_logit05_170112_004323\"\n",
    "exp[548]=\"radial16_M2_Bastra_rand2x4_timeALL_fulltraffic_logit10_170112_004432\"\n",
    "exp[549]=\"radial16_M2_Bastra_rand2x4_timeALL_fulltraffic_logit100_170112_004542\"\n",
    "exp[550]=\"radial16_M2_Bastra_rand2x4_timeALL_fulltraffic_logit20_170112_004656\"\n",
    "exp[551]=\"radial16_M2_Bastra_rand2x4_timeALL_fulltraffic_logit50_170112_004805\"\n",
    "exp[552]=\"radial16_M_Bastra_rand05x1_timeALL_fulltraffic_logit05_170112_004917\"\n",
    "exp[553]=\"radial16_M_Bastra_rand05x1_timeALL_fulltraffic_logit10_170112_005041\"\n",
    "exp[554]=\"radial16_M_Bastra_rand05x1_timeALL_fulltraffic_logit100_170112_005207\"\n",
    "exp[555]=\"radial16_M_Bastra_rand05x1_timeALL_fulltraffic_logit20_170112_005329\"\n",
    "exp[556]=\"radial16_M_Bastra_rand05x1_timeALL_fulltraffic_logit50_170112_005450\"\n",
    "exp[557]=\"radial16_M_Bastra_rand05x2_timeALL_fulltraffic_logit05_170112_005609\"\n",
    "exp[558]=\"radial16_M_Bastra_rand05x2_timeALL_fulltraffic_logit10_170112_005733\"\n",
    "exp[559]=\"radial16_M_Bastra_rand05x2_timeALL_fulltraffic_logit100_170112_005856\"\n",
    "exp[560]=\"radial16_M_Bastra_rand05x2_timeALL_fulltraffic_logit20_170112_010018\"\n",
    "exp[561]=\"radial16_M_Bastra_rand05x2_timeALL_fulltraffic_logit50_170112_010144\"\n",
    "exp[562]=\"radial16_M_Bastra_rand05x4_timeALL_fulltraffic_logit05_170112_010301\"\n",
    "exp[563]=\"radial16_M_Bastra_rand05x4_timeALL_fulltraffic_logit10_170112_010426\"\n",
    "exp[564]=\"radial16_M_Bastra_rand05x4_timeALL_fulltraffic_logit100_170112_010551\"\n",
    "exp[565]=\"radial16_M_Bastra_rand05x4_timeALL_fulltraffic_logit20_170112_010710\"\n",
    "exp[566]=\"radial16_M_Bastra_rand05x4_timeALL_fulltraffic_logit50_170112_010832\"\n",
    "exp[567]=\"radial16_M_Bastra_rand05x8_timeALL_fulltraffic_logit05_170112_010953\"\n",
    "exp[568]=\"radial16_M_Bastra_rand05x8_timeALL_fulltraffic_logit10_170112_011121\"\n",
    "exp[569]=\"radial16_M_Bastra_rand05x8_timeALL_fulltraffic_logit100_170112_011245\"\n",
    "exp[570]=\"radial16_M_Bastra_rand05x8_timeALL_fulltraffic_logit20_170112_011407\"\n",
    "exp[571]=\"radial16_M_Bastra_rand05x8_timeALL_fulltraffic_logit50_170112_011530\"\n",
    "exp[572]=\"radial16_M_Bastra_rand2x2_timeALL_fulltraffic_logit05_170112_011650\"\n",
    "exp[573]=\"radial16_M_Bastra_rand2x2_timeALL_fulltraffic_logit10_170112_011812\"\n",
    "exp[574]=\"radial16_M_Bastra_rand2x2_timeALL_fulltraffic_logit100_170112_011939\"\n",
    "exp[575]=\"radial16_M_Bastra_rand2x2_timeALL_fulltraffic_logit20_170112_012101\"\n",
    "exp[576]=\"radial16_M_Bastra_rand2x2_timeALL_fulltraffic_logit50_170112_012223\"\n",
    "exp[577]=\"radial16_M_Bastra_rand2x4_timeALL_fulltraffic_logit05_170112_012345\"\n",
    "exp[578]=\"radial16_M_Bastra_rand2x4_timeALL_fulltraffic_logit10_170112_012510\"\n",
    "exp[579]=\"radial16_M_Bastra_rand2x4_timeALL_fulltraffic_logit100_170112_012636\"\n",
    "exp[580]=\"radial16_M_Bastra_rand2x4_timeALL_fulltraffic_logit20_170112_012802\"\n",
    "exp[581]=\"radial16_M_Bastra_rand2x4_timeALL_fulltraffic_logit50_170112_012930\"\n",
    "exp[582]=\"radial16_L_Bastra_rand05x1_timeALL_fulltraffic_logit05_170112_013056\"\n",
    "exp[583]=\"radial16_L_Bastra_rand05x1_timeALL_fulltraffic_logit10_170112_013341\"\n",
    "exp[584]=\"radial16_L_Bastra_rand05x1_timeALL_fulltraffic_logit100_170112_014126\"\n",
    "exp[585]=\"radial16_L_Bastra_rand05x1_timeALL_fulltraffic_logit20_170112_014538\"\n",
    "exp[586]=\"radial16_L_Bastra_rand05x1_timeALL_fulltraffic_logit50_170112_015044\"\n",
    "exp[587]=\"radial16_L_Bastra_rand05x2_timeALL_fulltraffic_logit05_170112_015238\"\n",
    "exp[588]=\"radial16_L_Bastra_rand05x2_timeALL_fulltraffic_logit10_170112_015517\"\n",
    "exp[589]=\"radial16_L_Bastra_rand05x2_timeALL_fulltraffic_logit100_170112_015750\"\n",
    "exp[590]=\"radial16_L_Bastra_rand05x2_timeALL_fulltraffic_logit20_170112_015935\"\n",
    "exp[591]=\"radial16_L_Bastra_rand05x2_timeALL_fulltraffic_logit50_170112_020159\"\n",
    "exp[592]=\"radial16_L_Bastra_rand05x4_timeALL_fulltraffic_logit05_170112_021001\"\n",
    "exp[593]=\"radial16_L_Bastra_rand05x4_timeALL_fulltraffic_logit10_170112_021256\"\n",
    "exp[594]=\"radial16_L_Bastra_rand05x4_timeALL_fulltraffic_logit100_170112_021533\"\n",
    "exp[595]=\"radial16_L_Bastra_rand05x4_timeALL_fulltraffic_logit20_170112_021720\"\n",
    "exp[596]=\"radial16_L_Bastra_rand05x4_timeALL_fulltraffic_logit50_170112_022433\"\n",
    "exp[597]=\"radial16_L_Bastra_rand05x8_timeALL_fulltraffic_logit05_170112_022635\"\n",
    "exp[598]=\"radial16_L_Bastra_rand05x8_timeALL_fulltraffic_logit10_170112_022915\"\n",
    "exp[599]=\"radial16_L_Bastra_rand05x8_timeALL_fulltraffic_logit100_170112_023151\"\n",
    "exp[600]=\"radial16_L_Bastra_rand05x8_timeALL_fulltraffic_logit20_170112_023348\"\n",
    "exp[601]=\"radial16_L_Bastra_rand05x8_timeALL_fulltraffic_logit50_170112_023634\"\n",
    "exp[602]=\"radial16_L_Bastra_rand2x2_timeALL_fulltraffic_logit05_170112_023841\"\n",
    "exp[603]=\"radial16_L_Bastra_rand2x2_timeALL_fulltraffic_logit10_170112_024334\"\n",
    "exp[604]=\"radial16_L_Bastra_rand2x2_timeALL_fulltraffic_logit100_170112_024609\"\n",
    "exp[605]=\"radial16_L_Bastra_rand2x2_timeALL_fulltraffic_logit20_170112_024808\"\n",
    "exp[606]=\"radial16_L_Bastra_rand2x2_timeALL_fulltraffic_logit50_170112_025416\"\n",
    "exp[607]=\"radial16_L_Bastra_rand2x4_timeALL_fulltraffic_logit05_170112_025627\"\n",
    "exp[608]=\"radial16_L_Bastra_rand2x4_timeALL_fulltraffic_logit10_170112_025912\"\n",
    "exp[609]=\"radial16_L_Bastra_rand2x4_timeALL_fulltraffic_logit100_170112_030549\"\n",
    "exp[610]=\"radial16_L_Bastra_rand2x4_timeALL_fulltraffic_logit20_170112_030740\"\n",
    "exp[611]=\"radial16_L_Bastra_rand2x4_timeALL_fulltraffic_logit50_170112_031439\"\n",
    "exp[612]=\"radial16_XL2_Bastra_rand05x1_timeALL_fulltraffic_logit05_170112_032025\"\n",
    "exp[613]=\"radial16_XL2_Bastra_rand05x1_timeALL_fulltraffic_logit10_170112_033553\"\n",
    "exp[614]=\"radial16_XL2_Bastra_rand05x1_timeALL_fulltraffic_logit100_170112_035126\"\n",
    "exp[615]=\"radial16_XL2_Bastra_rand05x1_timeALL_fulltraffic_logit20_170112_040946\"\n",
    "exp[616]=\"radial16_XL2_Bastra_rand05x1_timeALL_fulltraffic_logit50_170112_042434\"\n",
    "exp[617]=\"radial16_XL2_Bastra_rand05x2_timeALL_fulltraffic_logit05_170112_044047\"\n",
    "exp[618]=\"radial16_XL2_Bastra_rand05x2_timeALL_fulltraffic_logit10_170112_045651\"\n",
    "exp[619]=\"radial16_XL2_Bastra_rand05x2_timeALL_fulltraffic_logit100_170112_051128\"\n",
    "exp[620]=\"radial16_XL2_Bastra_rand05x2_timeALL_fulltraffic_logit20_170112_052741\"\n",
    "exp[621]=\"radial16_XL2_Bastra_rand05x2_timeALL_fulltraffic_logit50_170112_054329\"\n",
    "exp[622]=\"radial16_XL2_Bastra_rand05x4_timeALL_fulltraffic_logit05_170112_055700\"\n",
    "exp[623]=\"radial16_XL2_Bastra_rand05x4_timeALL_fulltraffic_logit10_170112_061213\"\n",
    "exp[624]=\"radial16_XL2_Bastra_rand05x4_timeALL_fulltraffic_logit100_170112_062626\"\n",
    "exp[625]=\"radial16_XL2_Bastra_rand05x4_timeALL_fulltraffic_logit20_170112_064052\"\n",
    "exp[626]=\"radial16_XL2_Bastra_rand05x4_timeALL_fulltraffic_logit50_170112_065703\"\n",
    "exp[627]=\"radial16_XL2_Bastra_rand05x8_timeALL_fulltraffic_logit05_170112_094500\"\n",
    "exp[628]=\"radial16_XL2_Bastra_rand05x8_timeALL_fulltraffic_logit10_170112_142512\"\n",
    "exp[629]=\"radial16_XL2_Bastra_rand05x8_timeALL_fulltraffic_logit100_170112_144117\"\n",
    "exp[630]=\"radial16_XL2_Bastra_rand05x8_timeALL_fulltraffic_logit20_170112_145550\"\n",
    "exp[631]=\"radial16_XL2_Bastra_rand05x8_timeALL_fulltraffic_logit50_170112_150929\"\n",
    "exp[632]=\"radial16_XL2_Bastra_rand2x2_timeALL_fulltraffic_logit05_170112_152321\"\n",
    "exp[633]=\"radial16_XL2_Bastra_rand2x2_timeALL_fulltraffic_logit10_170112_153713\"\n",
    "exp[634]=\"radial16_XL2_Bastra_rand2x2_timeALL_fulltraffic_logit100_170112_155127\"\n",
    "exp[635]=\"radial16_XL2_Bastra_rand2x2_timeALL_fulltraffic_logit20_170112_160558\"\n",
    "exp[636]=\"radial16_XL2_Bastra_rand2x2_timeALL_fulltraffic_logit50_170112_162104\"\n",
    "exp[637]=\"radial16_XL2_Bastra_rand2x4_timeALL_fulltraffic_logit05_170112_163311\"\n",
    "exp[638]=\"radial16_XL2_Bastra_rand2x4_timeALL_fulltraffic_logit10_170112_164810\"\n",
    "exp[639]=\"radial16_XL2_Bastra_rand2x4_timeALL_fulltraffic_logit100_170112_170303\"\n",
    "exp[640]=\"radial16_XL2_Bastra_rand2x4_timeALL_fulltraffic_logit20_170112_171722\"\n",
    "exp[641]=\"radial16_XL2_Bastra_rand2x4_timeALL_fulltraffic_logit50_170112_173237\"\n",
    "\n",
    "# -L- time-to-teleport = 30\n",
    "exp[642]=\"radial16_noBastra_L_fulltraffic_170115_222202\"  \n",
    "exp[643]=\"radial16_L_Bastra_rand05x8_timeALL_fulltraffic_logit50_170115_222455\"\n",
    "\n",
    "# -XL- time-to-teleport = 30\n",
    "exp[644]=\"radial16_noBastra_XL2_fulltraffic_170115_223107\"  \n",
    "exp[645]=\"radial16_XL2_Bastra_rand05x8_timeALL_fulltraffic_logit50_170115_223333\"\n",
    "\n",
    "# XXL\n",
    "exp[646]=\"radial16_noBastra_XXL_fulltraffic_170115_225021\"\n",
    "exp[647]=\"radial16_noBastra_XXL_fulltraffic_170115_225722\"\n",
    "\n",
    "# TELEPORTING time-to-teleport = 30\n",
    "exp[650]=\"radial16_XXL_noBastra_nomaps_fulltraffic_170125_231820\"\n",
    "exp[651]=\"radial16_XXL_Bastra_rand05x1_timeALL_fulltraffic_logit50_170116_002248\"\n",
    "exp[652]=\"radial16_XXL_Bastra_rand05x1_timeALL_fulltraffic_logit100_170116_002704\"\n",
    "exp[653]=\"radial16_XXL_Bastra_rand05x2_timeALL_fulltraffic_logit05_170116_003203\"\n",
    "exp[654]=\"radial16_XXL_Bastra_rand05x2_timeALL_fulltraffic_logit10_170116_003557\"\n",
    "exp[655]=\"radial16_XXL_Bastra_rand05x2_timeALL_fulltraffic_logit20_170116_003955\"\n",
    "exp[656]=\"radial16_XXL_Bastra_rand05x2_timeALL_fulltraffic_logit50_170116_004349\"\n",
    "exp[657]=\"radial16_XXL_Bastra_rand05x2_timeALL_fulltraffic_logit100_170116_004745\"\n",
    "exp[658]=\"radial16_XXL_Bastra_rand05x4_timeALL_fulltraffic_logit05_170116_005211\"\n",
    "exp[659]=\"radial16_XXL_Bastra_rand05x4_timeALL_fulltraffic_logit10_170116_005608\"\n",
    "exp[660]=\"radial16_XXL_Bastra_rand05x4_timeALL_fulltraffic_logit20_170116_010004\"\n",
    "exp[661]=\"radial16_XXL_Bastra_rand05x4_timeALL_fulltraffic_logit50_170116_010403\"\n",
    "exp[662]=\"radial16_XXL_Bastra_rand05x4_timeALL_fulltraffic_logit100_170116_010801\"\n",
    "exp[663]=\"radial16_XXL_Bastra_rand05x8_timeALL_fulltraffic_logit05_170116_011219\"\n",
    "exp[664]=\"radial16_XXL_Bastra_rand05x8_timeALL_fulltraffic_logit10_170116_011614\"\n",
    "exp[665]=\"radial16_XXL_Bastra_rand05x8_timeALL_fulltraffic_logit20_170116_012003\"\n",
    "exp[666]=\"radial16_XXL_Bastra_rand05x8_timeALL_fulltraffic_logit50_170116_012354\"\n",
    "exp[667]=\"radial16_XXL_Bastra_rand05x8_timeALL_fulltraffic_logit100_170116_012754\"\n",
    "exp[668]=\"radial16_XXL_Bastra_rand2x2_timeALL_fulltraffic_logit05_170116_013208\"\n",
    "exp[669]=\"radial16_XXL_Bastra_rand2x2_timeALL_fulltraffic_logit10_170116_013601\"\n",
    "exp[670]=\"radial16_XXL_Bastra_rand2x2_timeALL_fulltraffic_logit20_170116_013948\"\n",
    "exp[671]=\"radial16_XXL_Bastra_rand2x2_timeALL_fulltraffic_logit50_170116_014335\"\n",
    "exp[672]=\"radial16_XXL_Bastra_rand2x2_timeALL_fulltraffic_logit100_170116_014731\"\n",
    "exp[673]=\"radial16_XXL_Bastra_rand2x4_timeALL_fulltraffic_logit05_170116_015152\"\n",
    "exp[674]=\"radial16_XXL_Bastra_rand2x4_timeALL_fulltraffic_logit10_170116_015539\"\n",
    "exp[675]=\"radial16_XXL_Bastra_rand2x4_timeALL_fulltraffic_logit20_170116_015928\"\n",
    "exp[676]=\"radial16_XXL_Bastra_rand2x4_timeALL_fulltraffic_logit50_170116_020315\"\n",
    "exp[677]=\"radial16_XXL_Bastra_rand2x4_timeALL_fulltraffic_logit100_170116_020708\"\n",
    "\n",
    "# TELEPORT - time-to-teleport=60\n",
    "exp[700]=\"radial16_XXL_noBastra_tele60_nomaps_fulltraffic_170125_234213\"\n",
    "exp[701]=\"radial16_XXL_Bastra_tele60_rand05x8_timeALL_fulltraffic_logit50_170125_234652\"\n",
    "exp[702]=\"radial16_XXL_Bastra_tele60_rand05x2_timeALL_fulltraffic_logit50_170125_235111\"\n",
    "exp[703]=\"radial16_XXL_Bastra_tele60_rand05x1_timeALL_fulltraffic_logit05_170125_235649\"\n",
    "exp[704]=\"radial16_XXL_Bastra_tele60_rand05x1_timeALL_fulltraffic_logit10_170126_000104\"\n",
    "exp[705]=\"radial16_XXL_Bastra_tele60_rand05x1_timeALL_fulltraffic_logit20_170126_000516\"\n",
    "exp[706]=\"radial16_XXL_Bastra_tele60_rand05x1_timeALL_fulltraffic_logit50_170126_000928\"\n",
    "exp[707]=\"radial16_XXL_Bastra_tele60_rand05x1_timeALL_fulltraffic_logit100_170126_001405\"\n",
    "exp[708]=\"radial16_XXL_Bastra_tele60_rand05x2_timeALL_fulltraffic_logit05_170126_001957\"\n",
    "exp[709]=\"radial16_XXL_Bastra_tele60_rand05x2_timeALL_fulltraffic_logit10_170126_002412\"\n",
    "exp[710]=\"radial16_XXL_Bastra_tele60_rand05x2_timeALL_fulltraffic_logit20_170126_002829\"\n",
    "exp[711]=\"radial16_XXL_Bastra_tele60_rand05x2_timeALL_fulltraffic_logit100_170126_003238\"\n",
    "exp[712]=\"radial16_XXL_Bastra_tele60_rand05x4_timeALL_fulltraffic_logit05_170126_003745\"\n",
    "exp[713]=\"radial16_XXL_Bastra_tele60_rand05x4_timeALL_fulltraffic_logit10_170126_004200\"\n",
    "exp[714]=\"radial16_XXL_Bastra_tele60_rand05x4_timeALL_fulltraffic_logit20_170126_004614\"\n",
    "exp[715]=\"radial16_XXL_Bastra_tele60_rand05x4_timeALL_fulltraffic_logit50_170126_005025\"\n",
    "exp[716]=\"radial16_XXL_Bastra_tele60_rand05x4_timeALL_fulltraffic_logit100_170126_005440\"\n",
    "exp[717]=\"radial16_XXL_Bastra_tele60_rand05x8_timeALL_fulltraffic_logit05_170126_005920\"\n",
    "exp[718]=\"radial16_XXL_Bastra_tele60_rand05x8_timeALL_fulltraffic_logit10_170126_010340\"\n",
    "exp[719]=\"radial16_XXL_Bastra_tele60_rand05x8_timeALL_fulltraffic_logit20_170126_010753\"\n",
    "exp[720]=\"radial16_XXL_Bastra_tele60_rand05x8_timeALL_fulltraffic_logit100_170126_011207\"\n",
    "exp[721]=\"radial16_XXL_Bastra_tele60_rand2x2_timeALL_fulltraffic_logit05_170126_011634\"\n",
    "exp[722]=\"radial16_XXL_Bastra_tele60_rand2x2_timeALL_fulltraffic_logit10_170126_012047\"\n",
    "exp[723]=\"radial16_XXL_Bastra_tele60_rand2x2_timeALL_fulltraffic_logit20_170126_012501\"\n",
    "exp[724]=\"radial16_XXL_Bastra_tele60_rand2x2_timeALL_fulltraffic_logit50_170126_012914\"\n",
    "exp[725]=\"radial16_XXL_Bastra_tele60_rand2x2_timeALL_fulltraffic_logit100_170126_013333\"\n",
    "exp[726]=\"radial16_XXL_Bastra_tele60_rand2x4_timeALL_fulltraffic_logit05_170126_013852\"\n",
    "exp[727]=\"radial16_XXL_Bastra_tele60_rand2x4_timeALL_fulltraffic_logit10_170126_014309\"\n",
    "exp[728]=\"radial16_XXL_Bastra_tele60_rand2x4_timeALL_fulltraffic_logit20_170126_014723\"\n",
    "exp[729]=\"radial16_XXL_Bastra_tele60_rand2x4_timeALL_fulltraffic_logit50_170126_015141\""
   ]
  },
  {
   "cell_type": "code",
   "execution_count": 44,
   "metadata": {},
   "outputs": [],
   "source": [
    "# ALCALA DE HENARES EXPERIMENTS\n",
    "# alcalahenares_noBastra_nomaps_fulltraffic_161216_110525\n",
    "# alcalahenares_L_Bastra_uni1x8_timeALL_fulltraffic_logit50_161216_114129\n",
    "# alcalahenares_L_Bastra_uni5x8_timeALL_fulltraffic_logit50_161216_121730\n",
    "# alcalahenares_L_Bastra_uni5x16_timeALL_fulltraffic_logit50_161216_153926\n",
    "\n",
    "experiment1=\"alcalahenares_noBastra_nomaps_fulltraffic_170115_230706\"\n",
    "experiment2=\"alcalahenares_noBastra_nomaps_fulltraffic_170115_230706\"\n",
    "\n",
    "exp[1000]=\"alcalahenares_noBastra_nomaps_tele300_fulltraffic_170116_000420\"\n",
    "exp[1001]=\"alcalahenares_L_Bastra_tele300_uni5x8_timeALL_fulltraffic_logit50_170116_004127\"\n",
    "exp[1002]=\"alcalahenares_L_Bastra_tele300_uni1x8_timeALL_fulltraffic_logit50_170116_002314\"\n",
    "exp[1003]=\"alcalahenares_L_Bastra_tele300_uni5x16_timeALL_fulltraffic_logit50_170116_005920\"\n",
    "\n",
    "exp[1100]=\"alcalahenares_noBastra_nomaps_tele60_fulltraffic_170126_201242\"\n",
    "exp[1101]=\"alcalahenares_L_Bastra_tele60_uni1x8_timeALL_fulltraffic_logit50_170126_203035\"\n",
    "exp[1102]=\"alcalahenares_L_Bastra_tele60_uni5x16_timeALL_fulltraffic_logit50_170126_204811\"\n",
    "exp[1103]=\"alcalahenares_L_Bastra_tele60_uni5x8_timeALL_fulltraffic_logit50_170126_210456\"\n",
    "\n",
    "exp[1150]=\"alcalahenares_XL_nomutraff_tele60_nomaps_fulltraffic_170130_200632\"\n",
    "exp[1151]=\"alcalahenares_XL_mutraff_tele60_uni1x8_timeALL_fulltraffic_logit10_170130_202418\"\n",
    "exp[1152]=\"alcalahenares_XL_mutraff_tele60_uni1x8_timeALL_fulltraffic_logit20_170130_222842\"\n",
    "exp[1153]=\"alcalahenares_XL_mutraff_tele60_uni1x8_timeALL_fulltraffic_logit50_170131_002856\"\n",
    "exp[1154]=\"alcalahenares_XL_mutraff_tele60_uni1x8_timeALL_fulltraffic_logit100_170131_022031\"\n",
    "exp[1155]=\"alcalahenares_XL_mutraff_tele60_uni5x16_timeALL_fulltraffic_logit10_170131_040937\"\n",
    "exp[1156]=\"alcalahenares_XL_mutraff_tele60_uni5x16_timeALL_fulltraffic_logit20_170131_061125\"\n",
    "exp[1157]=\"alcalahenares_XL_mutraff_tele60_uni5x16_timeALL_fulltraffic_logit50_170131_081200\"\n",
    "exp[1158]=\"alcalahenares_XL_mutraff_tele60_uni5x16_timeALL_fulltraffic_logit100_170131_100628\"\n",
    "exp[1159]=\"alcalahenares_XL_mutraff_tele60_uni5x8_timeALL_fulltraffic_logit10_170131_120427\"\n",
    "exp[1160]=\"alcalahenares_XL_mutraff_tele60_uni5x8_timeALL_fulltraffic_logit20_170131_140843\"\n",
    "exp[1161]=\"alcalahenares_XL_mutraff_tele60_uni5x8_timeALL_fulltraffic_logit50_170131_161749\"\n",
    "exp[1162]=\"alcalahenares_XL_mutraff_tele60_uni5x8_timeALL_fulltraffic_logit100_170131_180507\"\n",
    "\n",
    "exp[1170]=\"alcalahenares_XL_nomutraff_tele60_nomaps_fulltraffic_170206_085516\"\n",
    "exp[1171]=\"alcalahenares_XL_mutraff_tele60_uni1x8_timeALL_fulltraffic_logit10_170206_101837\"\n",
    "exp[1172]=\"alcalahenares_XL_mutraff_tele60_uni1x8_timeALL_fulltraffic_logit20_170206_113945\"\n",
    "exp[1173]=\"alcalahenares_XL_mutraff_tele60_uni1x8_timeALL_fulltraffic_logit50_170206_130158\"\n",
    "exp[1174]=\"alcalahenares_XL_mutraff_tele60_uni1x8_timeALL_fulltraffic_logit100_170206_141519\"\n",
    "exp[1175]=\"alcalahenares_XL_mutraff_tele60_uni5x8_timeALL_fulltraffic_logit10_170206_153012\"\n",
    "exp[1176]=\"alcalahenares_XL_mutraff_tele60_uni5x8_timeALL_fulltraffic_logit20_170206_165216\"\n",
    "exp[1177]=\"alcalahenares_XL_mutraff_tele60_uni5x8_timeALL_fulltraffic_logit50_170206_181328\"\n",
    "exp[1178]=\"alcalahenares_XL_mutraff_tele60_uni5x8_timeALL_fulltraffic_logit100_170206_193055\"\n",
    "exp[1179]=\"alcalahenares_XL_mutraff_tele60_uni5x16_timeALL_fulltraffic_logit10_170206_204057\"\n",
    "exp[1180]=\"alcalahenares_XL_mutraff_tele60_uni5x16_timeALL_fulltraffic_logit20_170206_220415\"\n",
    "exp[1181]=\"alcalahenares_XL_mutraff_tele60_uni5x16_timeALL_fulltraffic_logit50_170206_232354\"\n",
    "exp[1182]=\"alcalahenares_XL_mutraff_tele60_uni5x16_timeALL_fulltraffic_logit100_170207_004023\"\n",
    "\n",
    "\n",
    "exp[1200]=\"alcalahenares_XXL_noBastra_tele60_nomaps_fulltraffic_170129_072912\"\n",
    "exp[1201]=\"alcalahenares_XXL_mutraff_tele60_uni1x8_timeALL_fulltraffic_logit10_170129_091235\"\n",
    "exp[1202]=\"alcalahenares_XXL_mutraff_tele60_uni5x8_timeALL_fulltraffic_logit10_170129_120212\"\n",
    "exp[1203]=\"alcalahenares_XXL_mutraff_tele60_uni5x16_timeALL_fulltraffic_logit10_170129_144702\"\n",
    "exp[1204]=\"alcalahenares_XXL_mutraff_tele60_uni1x8_timeALL_fulltraffic_logit20_170129_173323\"\n",
    "exp[1205]=\"alcalahenares_XXL_mutraff_tele60_uni5x8_timeALL_fulltraffic_logit20_170129_201805\"\n",
    "exp[1206]=\"alcalahenares_XXL_mutraff_tele60_uni5x16_timeALL_fulltraffic_logit20_170129_230412\"\n",
    "exp[1207]=\"alcalahenares_XXL_mutraff_tele60_uni5x8_timeALL_fulltraffic_logit50_170130_014946\"\n",
    "exp[1208]=\"alcalahenares_XXL_mutraff_tele60_uni1x8_timeALL_fulltraffic_logit100_170130_043133\"\n",
    "exp[1209]=\"alcalahenares_XXL_mutraff_tele60_uni5x8_timeALL_fulltraffic_logit100_170130_071541\""
   ]
  },
  {
   "cell_type": "code",
   "execution_count": 45,
   "metadata": {},
   "outputs": [],
   "source": [
    "exp[1210]=\"radial16_noBastra_XXXL_fulltraffic_181021_123147\"\n",
    "exp[1211]=\"radial16_XXXL_Bastra_nomaps_fulltraffic_logit50_181021_124339\"\n",
    "exp[1212]=\"radial16_XXXL_Bastra_rand05x8_timeALL_fulltraffic_logit05_181021_171052\"\n",
    "exp[1213]=\"radial16_XXXL_Bastra_rand05x8_timeALL_fulltraffic_logit10_181021_172210\"\n",
    "exp[1214]=\"radial16_XXXL_Bastra_rand05x8_timeALL_fulltraffic_logit20_181021_214113\"\n",
    "exp[1215]=\"radial16_XXXL_Bastra_rand05x8_timeALL_fulltraffic_logit50_181021_125449\"\n",
    "exp[1216]=\"radial16_XXXL_Bastra_rand05x8_timeALL_fulltraffic_logit100_181021_215241\"\n",
    "exp[1217]=\"radial16_XXXL_Bastra_rand05x2_timeALL_fulltraffic_logit50_181021_220642\"\n",
    "exp[1218]=\"radial16_XXXL_Bastra_rand05x1_timeALL_fulltraffic_logit50_181021_221936\"\n",
    "exp[1219]=\"radial16_XXXL_Bastra_rand05x4_timeALL_fulltraffic_logit50_181021_223318\"\n"
   ]
  },
  {
   "cell_type": "code",
   "execution_count": 47,
   "metadata": {},
   "outputs": [],
   "source": [
    "exp[1250]=\"madrid_barrio_salamanca_L_nomaps_tele60_fulltrafic_181025_181150\"\n",
    "exp[1251]=\"madrid_barrio_salamanca_L_Bastra_rand05x8_timeALL_tele60_fulltrafic_logit20_181025_183912\"\n",
    "exp[1252]=\"madrid_barrio_salamanca_L_Bastra_rand05x8_timeALL_tele60_fulltrafic_logit50_181025_185614\"\n",
    "exp[1253]=\"madrid_barrio_salamanca_L_Bastra_rand05x8_timeALL_tele60_fulltrafic_logit100_181025_191339\"\n",
    "\n",
    "exp[1260]=\"madrid_las_tablas_L_nomaps_tele60_fulltrafic_181025_182850\"\n",
    "exp[1261]=\"madrid_las_tablas_L_Bastra_rand05x8_timeALL_tele60_fulltrafic_logit100_181025_200125\"\n",
    "exp[1262]=\"madrid_las_tablas_L_Bastra_rand05x8_timeALL_tele60_fulltrafic_logit20_181025_194819\"\n",
    "exp[1263]=\"madrid_las_tablas_L_Bastra_rand05x8_timeALL_tele60_fulltrafic_logit50_181025_195445\"\n",
    "exp[1264]=\"madrid_las_tablas_L_Bastra_uni5x8_timeALL_tele60_fulltrafic_logit50_181025_200815\"\n",
    "\n",
    "exp[1265]=\"madrid_las_tablas_M_nomaps_tele60_fulltrafic_190207_004643\"\n",
    "exp[1266]=\"madrid_las_tablas_M_Bastra_rand05x8_timeALL_tele60_fulltrafic_logit20_190207_005208\"\n",
    "exp[1267]=\"madrid_las_tablas_M_Bastra_rand05x8_timeALL_tele60_fulltrafic_logit50_190207_005725\"\n",
    "exp[1268]=\"madrid_las_tablas_M_Bastra_rand05x8_timeALL_tele60_fulltrafic_logit100_190207_010238\"\n",
    "exp[1269]=\"madrid_las_tablas_M_Bastra_uni5x8_timeALL_tele60_fulltrafic_logit50_190207_010753\"\n",
    "\n",
    "exp[1270]=\"madrid_las_tablas_M_nomaps_tele60_fulltrafic_190207_080052\"\n",
    "\n",
    "exp[1271]=\"madrid_las_tablas_M_Bastra_rand05x8_timeALL_tele60_fulltrafic_logit20_190207_080704\"\n",
    "exp[1272]=\"madrid_las_tablas_M_Bastra_rand05x8_timeALL_tele60_fulltrafic_logit50_190207_081306\"\n",
    "exp[1273]=\"madrid_las_tablas_M_Bastra_rand05x8_timeALL_tele60_fulltrafic_logit100_190207_081914\"\n",
    "\n",
    "exp[1274]=\"madrid_las_tablas_M_Bastra_rand2x8_timeALL_tele60_fulltrafic_logit20_190213_165924\"\n",
    "exp[1275]=\"madrid_las_tablas_M_Bastra_rand2x8_timeALL_tele60_fulltrafic_logit50_190213_170525\"\n",
    "exp[1276]=\"madrid_las_tablas_M_Bastra_rand2x8_timeALL_tele60_fulltrafic_logit100_190213_171130\"\n",
    "\n",
    "exp[1279]=\"madrid_las_tablas_M_Bastra_uni5x8_timeALL_tele60_fulltrafic_logit50_190207_082532\"\n",
    "\n",
    "exp[1280]=\"madrid_retiro_L_nomaps_tele60_fulltrafic_181025_183528\""
   ]
  },
  {
   "cell_type": "code",
   "execution_count": 48,
   "metadata": {},
   "outputs": [],
   "source": [
    "exp[1300]=\"madrid_barrio_salamanca_M_nomaps_tele60_fulltrafic_181025_203259\"\n",
    "exp[1301]=\"madrid_barrio_salamanca_L_Bastra_rand05x8_timeALL_tele60_fulltrafic_logit50_181025_203822\""
   ]
  },
  {
   "cell_type": "code",
   "execution_count": 57,
   "metadata": {},
   "outputs": [],
   "source": [
    "exp[2000]=\"alcalahenares_M_nomaps_tele60_timeALL_fulltraffic_190505_231438\"\n",
    "exp[2001]=\"alcalahenares_M_mutraff_tele60_uni5x16_timeALL_fulltraffic_logit50_01_190502_234402\"\n",
    "exp[2002]=\"alcalahenares_M_mutraff_tele60_uni5x16_timeALL_fulltraffic_logit50_02_190503_083619\"\n",
    "exp[2003]=\"alcalahenares_M_mutraff_tele60_uni5x16_timeALL_fulltraffic_logit50_03_190503_085940\"\n",
    "exp[2004]=\"alcalahenares_M_mutraff_tele60_uni5x16_timeALL_fulltraffic_logit50_04_190503_160402\"\n",
    "exp[2005]=\"alcalahenares_M_mutraff_tele60_uni5x16_timeALL_fulltraffic_logit50_05_190503_162735\"\n",
    "exp[2006]=\"alcalahenares_M_mutraff_tele60_uni5x16_timeALL_fulltraffic_logit50_06_190503_165102\"\n",
    "exp[2007]=\"alcalahenares_M_mutraff_tele60_uni5x16_timeALL_fulltraffic_logit50_07_190503_171425\"\n",
    "exp[2008]=\"alcalahenares_M_mutraff_tele60_uni5x16_timeALL_fulltraffic_logit50_08_190503_173752\"\n",
    "exp[2009]=\"alcalahenares_M_mutraff_tele60_uni5x16_timeALL_fulltraffic_logit50_09_190503_180119\"\n",
    "exp[2010]=\"alcalahenares_M_mutraff_tele60_uni5x16_timeALL_fulltraffic_logit50_10_190503_182443\"\n",
    "exp[2011]=\"alcalahenares_M_mutraff_tele60_uni5x16_timeALL_fulltraffic_logit50_11_190503_184802\"\n",
    "exp[2012]=\"alcalahenares_M_mutraff_tele60_uni5x16_timeALL_fulltraffic_logit50_12_190503_191134\"\n",
    "exp[2013]=\"alcalahenares_M_mutraff_tele60_uni5x16_timeALL_fulltraffic_logit50_13_190503_193505\"\n",
    "exp[2014]=\"alcalahenares_M_mutraff_tele60_uni5x16_timeALL_fulltraffic_logit50_14_190503_195823\"\n",
    "exp[2015]=\"alcalahenares_M_mutraff_tele60_uni5x16_timeALL_fulltraffic_logit50_15_190503_202145\"\n",
    "exp[2016]=\"alcalahenares_M_mutraff_tele60_uni5x16_timeALL_fulltraffic_logit50_16_190503_204516\"\n",
    "exp[2017]=\"alcalahenares_M_mutraff_tele60_uni5x16_timeALL_fulltraffic_logit50_17_190503_210835\"\n",
    "exp[2018]=\"alcalahenares_M_mutraff_tele60_uni5x16_timeALL_fulltraffic_logit50_18_190503_213150\"\n",
    "exp[2019]=\"alcalahenares_M_mutraff_tele60_uni5x16_timeALL_fulltraffic_logit50_19_190503_215518\"\n",
    "exp[2020]=\"alcalahenares_M_mutraff_tele60_uni5x16_timeALL_fulltraffic_logit50_20_190503_221838\"\n",
    "exp[2025]=\"alcalahenares_M_mutraff_tele60_uni5x16_timeALL_fulltraffic_logit50_MEANS\"\n",
    "\n",
    "exp[2050]=\"alcalahenares_M_nomaps_tele60_timeALL_fulltraffic_190505_231438\"\n",
    "exp[2051]=\"alcalahenares_M_mutraff_tele60_uni5x16_timeALL_fulltraffic_logit50_01_190505_234455\""
   ]
  },
  {
   "cell_type": "code",
   "execution_count": 58,
   "metadata": {},
   "outputs": [],
   "source": [
    "exp[2100]=exp[1170]\n",
    "exp[2101]=\"alcalahenares_XL_mutraff_tele60_uni5x8_timeALL_fulltraffic_logit50_01_190424_193358\"\n",
    "exp[2102]=\"alcalahenares_XL_mutraff_tele60_uni5x8_timeALL_fulltraffic_logit50_02_190425_161729\"\n",
    "exp[2103]=\"alcalahenares_XL_mutraff_tele60_uni5x8_timeALL_fulltraffic_logit50_03_190427_161555\"\n",
    "exp[2104]=\"alcalahenares_XL_mutraff_tele60_uni5x8_timeALL_fulltraffic_logit50_04_190429_132405\"\n",
    "exp[2105]=\"alcalahenares_XL_mutraff_tele60_uni5x8_timeALL_fulltraffic_logit50_05_190501_045803\"\n",
    "exp[2106]=\"alcalahenares_XL_mutraff_tele60_uni5x8_timeALL_fulltraffic_logit50_06_190502_205915\"\n",
    "exp[2107]=\"alcalahenares_XL_mutraff_tele60_uni5x8_timeALL_fulltraffic_logit50_07_190502_233056\"\n",
    "exp[2108]=\"alcalahenares_XL_mutraff_tele60_uni5x8_timeALL_fulltraffic_logit50_08_190503_155803\"\n",
    "exp[2109]=\"alcalahenares_XL_mutraff_tele60_uni5x8_timeALL_fulltraffic_logit50_09_190503_172130\"\n",
    "exp[2110]=\"alcalahenares_XL_mutraff_tele60_uni5x8_timeALL_fulltraffic_logit50_10_190503_184224\"\n",
    "exp[2111]=\"alcalahenares_XL_mutraff_tele60_uni5x8_timeALL_fulltraffic_logit50_11_190503_200210\"\n",
    "exp[2112]=\"alcalahenares_XL_mutraff_tele60_uni5x8_timeALL_fulltraffic_logit50_12_190503_212320\"\n",
    "exp[2113]=\"alcalahenares_XL_mutraff_tele60_uni5x8_timeALL_fulltraffic_logit50_13_190503_224338\"\n",
    "exp[2114]=\"alcalahenares_XL_mutraff_tele60_uni5x8_timeALL_fulltraffic_logit50_14_190504_081013\"\n",
    "exp[2115]=\"alcalahenares_XL_mutraff_tele60_uni5x8_timeALL_fulltraffic_logit50_15_190504_092647\"\n",
    "exp[2116]=\"alcalahenares_XL_mutraff_tele60_uni5x8_timeALL_fulltraffic_logit50_16_190505_074706\"\n",
    "exp[2117]=\"alcalahenares_XL_mutraff_tele60_uni5x8_timeALL_fulltraffic_logit50_17_190505_105405\"\n",
    "exp[2118]=\"alcalahenares_XL_mutraff_tele60_uni5x8_timeALL_fulltraffic_logit50_18_190505_121444\"\n",
    "exp[2119]=\"alcalahenares_XL_mutraff_tele60_uni5x8_timeALL_fulltraffic_logit50_19_190505_135759\"\n",
    "exp[2120]=\"alcalahenares_XL_mutraff_tele60_uni5x8_timeALL_fulltraffic_logit50_20_190505_154245\"\n",
    "exp[2125]=\"alcalahenares_XL_mutraff_tele60_uni5x8_timeALL_fulltraffic_logit50_MEANS\"\n"
   ]
  },
  {
   "cell_type": "code",
   "execution_count": 59,
   "metadata": {},
   "outputs": [],
   "source": [
    "exp[2200]=\"alcalahenares_M3h_nomaps_tele60_timeALL_fulltraffic_190510_235642\"\n",
    "exp[2201]=\"alcalahenares_M3h_mutraff_tele60_uni5x16_timeALL_fulltraffic_logit50_01_190511_163910\"\n",
    "\n",
    "exp[2300]=\"alcalahenares_L3h_nomaps_tele60_timeALL_fulltraffic_190515_130939\"\n",
    "exp[2301]=\"alcalahenares_L3h_mutraff_tele60_uni5x16_timeALL_fulltraffic_logit50_01_190515_133434\"\n",
    "\n",
    "exp[2400]=\"alcalahenares_2L3h_nomaps_tele60_timeALL_fulltraffic_190515_150939\"\n",
    "exp[2401]=\"alcalahenares_2L3h_mutraff_tele60_uni5x16_timeALL_fulltraffic_logit50_01_190515_161514\"\n",
    "\n",
    "exp[2410]=\"alcalahenares_2L3h_nomaps_tele60_timeALL_fulltraffic_190515_182031\"\n",
    "exp[2411]=\"alcalahenares_2L3h_mutraff_tele60_uni5x8_timeALL_fulltraffic_logit50_01_190515_191357\"\n",
    "exp[2412]=\"alcalahenares_2L3h_mutraff_tele60_uni5x16_timeALL_fulltraffic_logit50_01_190515_200544\"\n",
    "\n",
    "exp[2420]=\"alcalahenares_2L3h_nomaps_tele60_timeALL_fulltraffic_190515_202233\"\n",
    "exp[2421]=\"alcalahenares_2L3h_mutraff_tele60_uni5x8_timeALL_fulltraffic_logit50_01_190515_205714\"\n",
    "exp[2422]=\"alcalahenares_2L3h_mutraff_tele60_uni5x16_timeALL_fulltraffic_logit50_01_190515_212938\"\n",
    "\n",
    "exp[2430]=\"alcalahenares_3L3h_nomaps_tele60_timeALL_fulltraffic_190516_084853\"\n",
    "exp[2431]=\"alcalahenares_3L3h_mutraff_tele60_uni5x8_timeALL_fulltraffic_logit10_01_190521_091537\"\n",
    "exp[2432]=\"alcalahenares_3L3h_mutraff_tele60_uni5x8_timeALL_fulltraffic_logit20_01_190521_143019\"\n",
    "exp[2433]=\"alcalahenares_3L3h_mutraff_tele60_uni5x8_timeALL_fulltraffic_logit50_01_190516_091540\"\n",
    "exp[2434]=\"alcalahenares_3L3h_mutraff_tele60_uni5x8_timeALL_fulltraffic_logit100_01_190521_210550\"\n",
    "\n",
    "exp[2441]=\"alcalahenares_3L3h_mutraff_tele60_uni5x16_timeALL_fulltraffic_logit10_01_190521_213112\"\n",
    "exp[2442]=\"alcalahenares_3L3h_mutraff_tele60_uni5x16_timeALL_fulltraffic_logit20_01_190521_220448\"\n",
    "exp[2443]=\"alcalahenares_3L3h_mutraff_tele60_uni5x16_timeALL_fulltraffic_logit50_01_190516_114311\"\n",
    "exp[2444]=\"alcalahenares_3L3h_mutraff_tele60_uni5x16_timeALL_fulltraffic_logit100_01_190521_223020\"\n",
    "\n",
    "exp[2500]=\"alcalahenares_3L3h_nomaps_tele60_timeALL_fulltraffic_190604_073604\"\n",
    "exp[2501]=\"alcalahenares_3L3h_nomaps_tele60_timeALL_fulltraffic_incident_190604_082709\"\n",
    "exp[2502]=\"alcalahenares_3L3h_mutraff_tele60_uni5x16_timeALL_fulltraffic_logit10_01_190604_091731\"\n",
    "exp[2503]=\"alcalahenares_3L3h_mutraff_tele60_uni5x8_timeALL_fulltraffic_logit10_01_190604_203151\"\n",
    "\n",
    "exp[2510]=\"alcalahenares_3L3h_nomaps_tele60_timeALL_crosstraffic_01_190604_211104\"\n",
    "exp[2511]=\"alcalahenares_3L3h_nomaps_tele600_timeALL_fulltraffic_01_190604_212948\"\n",
    "exp[2512]=\"alcalahenares_3L3h_nomaps_tele600_timeALL_crosstraffic_01_190604_221325\"\n",
    "exp[2513]=\"alcalahenares_3L3h_nomaps_tele600_timeALL_crosstraffic_incident_01_190604_225622\"\n"
   ]
  },
  {
   "cell_type": "code",
   "execution_count": 60,
   "metadata": {},
   "outputs": [],
   "source": [
    "exp[2599]=\"alcalahenares_3L3h_nomaps_timeALL_taz5-taz50_01_190605_225531\"\n",
    "\n",
    "exp[2600]=\"alcalahenares_3L3h_nomaps_timeALL_taz5-taz50S_01_190627_170247\"\n",
    "exp[2601]=\"alcalahenares_3L3h_nomaps_timeALL_taz5-taz50S_incident_01_190627_221837\"\n",
    "exp[2602]=\"alcalahenares_3L3h_nomaps_timeALL_taz5-taz50S_incident_01_190628_052629\"\n",
    "exp[2603]=\"alcalahenares_3L3h_nomaps_timeALL_taz5-taz50S_fore1-1-4-10_01_190627_173503\"\n",
    "exp[2604]=\"alcalahenares_3L3h_nomaps_timeALL_taz5-taz50S_fore1-1-4-10_incident_01_190628_000434\"\n",
    "\n"
   ]
  },
  {
   "cell_type": "code",
   "execution_count": null,
   "metadata": {
    "collapsed": true
   },
   "outputs": [],
   "source": []
  }
 ],
 "metadata": {
  "anaconda-cloud": {},
  "celltoolbar": "Slideshow",
  "kernelspec": {
   "display_name": "Python 3",
   "language": "python",
   "name": "python3"
  },
  "language_info": {
   "codemirror_mode": {
    "name": "ipython",
    "version": 3
   },
   "file_extension": ".py",
   "mimetype": "text/x-python",
   "name": "python",
   "nbconvert_exporter": "python",
   "pygments_lexer": "ipython3",
   "version": "3.6.5"
  },
  "nbpresent": {
   "slides": {
    "0e93617c-5659-44ad-a5a3-3b67f0917a8a": {
     "id": "0e93617c-5659-44ad-a5a3-3b67f0917a8a",
     "prev": "d2ee484a-f981-4b4e-96e0-fafec10ab31f",
     "regions": {
      "24f8c583-3bc9-475b-9e13-537eb880eccf": {
       "attrs": {
        "height": 0.8,
        "width": 0.8,
        "x": 0.1,
        "y": 0.1
       },
       "content": {
        "cell": "c7f66994-f059-4fa7-b87c-fcf87fcd4692",
        "part": "whole"
       },
       "id": "24f8c583-3bc9-475b-9e13-537eb880eccf"
      }
     }
    },
    "192eac39-0228-4273-ad57-1231cfedd981": {
     "id": "192eac39-0228-4273-ad57-1231cfedd981",
     "prev": "0e93617c-5659-44ad-a5a3-3b67f0917a8a",
     "regions": {
      "4d2c9d56-c2c4-4967-944f-b5fde27072d9": {
       "attrs": {
        "height": 0.4,
        "width": 0.8,
        "x": 0.1,
        "y": 0.5
       },
       "content": {
        "cell": "13cdafd0-e099-4df8-b330-ca35e5af9864",
        "part": "whole"
       },
       "id": "4d2c9d56-c2c4-4967-944f-b5fde27072d9"
      },
      "bbfe68c0-0433-4982-b147-1bb5e6507033": {
       "attrs": {
        "height": 0.4,
        "width": 0.8,
        "x": 0.1,
        "y": 0.5
       },
       "content": {
        "cell": "08badeff-9fcf-4a72-882f-406306564576",
        "part": "whole"
       },
       "id": "bbfe68c0-0433-4982-b147-1bb5e6507033"
      },
      "dc6c02d6-41e6-423f-889f-589b1356935c": {
       "attrs": {
        "height": 0.8,
        "width": 0.8,
        "x": 0.1,
        "y": 0.1
       },
       "content": {
        "cell": "478def4f-6428-4d47-a089-295db8ebbb0f",
        "part": "whole"
       },
       "id": "dc6c02d6-41e6-423f-889f-589b1356935c"
      }
     }
    },
    "318b4c1a-687f-49bb-b17e-090af20718df": {
     "id": "318b4c1a-687f-49bb-b17e-090af20718df",
     "prev": "db8c44bf-4546-44d6-bbe5-627a85244894",
     "regions": {
      "10d4c0a8-0d07-4118-98e6-4b6674a073b4": {
       "attrs": {
        "height": 0.8,
        "width": 0.8,
        "x": 0.1,
        "y": 0.1
       },
       "content": {
        "cell": "3874ab56-9646-45e2-99ae-cb18c9603f38",
        "part": "whole"
       },
       "id": "10d4c0a8-0d07-4118-98e6-4b6674a073b4"
      },
      "7270e0de-058e-4b5e-bd44-5910108f26b8": {
       "attrs": {
        "height": 0.4,
        "width": 0.8,
        "x": 0.1,
        "y": 0.5
       },
       "content": {
        "cell": "69d6520c-8cb1-48f0-942b-f3c057f6d32e",
        "part": "whole"
       },
       "id": "7270e0de-058e-4b5e-bd44-5910108f26b8"
      }
     }
    },
    "49be6fd5-37c9-4081-8941-b283985e0377": {
     "id": "49be6fd5-37c9-4081-8941-b283985e0377",
     "prev": "ac4b7a52-e61d-4b2e-a2d0-e78488fe662f",
     "regions": {
      "deb4410c-3665-4a55-9cb8-b9792388f552": {
       "attrs": {
        "height": 0.8,
        "width": 0.8,
        "x": 0.1,
        "y": 0.1
       },
       "content": {
        "cell": "a622efcf-0563-4216-9d5a-f4b1f55d42a0",
        "part": "whole"
       },
       "id": "deb4410c-3665-4a55-9cb8-b9792388f552"
      }
     }
    },
    "54356b59-8e84-4e66-a8f6-1d4ef0bca15f": {
     "id": "54356b59-8e84-4e66-a8f6-1d4ef0bca15f",
     "prev": null,
     "regions": {
      "b3560a32-169b-4d7f-b4fa-18fb3a36de9f": {
       "attrs": {
        "height": 0.8,
        "width": 0.8,
        "x": 0.1,
        "y": 0.1
       },
       "content": {
        "cell": "aa548334-3712-4bc8-a30a-5a2a2260bd1c",
        "part": "whole"
       },
       "id": "b3560a32-169b-4d7f-b4fa-18fb3a36de9f"
      }
     }
    },
    "ac4b7a52-e61d-4b2e-a2d0-e78488fe662f": {
     "id": "ac4b7a52-e61d-4b2e-a2d0-e78488fe662f",
     "prev": "318b4c1a-687f-49bb-b17e-090af20718df",
     "regions": {
      "9483ba7b-f75f-4b68-86a7-2a72826169c5": {
       "attrs": {
        "height": 0.4,
        "width": 0.8,
        "x": 0.1,
        "y": 0.5
       },
       "content": {
        "cell": "66306679-3be0-4087-bed0-760c7d275993",
        "part": "whole"
       },
       "id": "9483ba7b-f75f-4b68-86a7-2a72826169c5"
      },
      "ecb1b2c4-fdf2-4db7-975c-c797f9f6fcb8": {
       "attrs": {
        "height": 0.4,
        "width": 0.8,
        "x": 0.1,
        "y": 0.5
       },
       "content": {
        "cell": "745baf99-dab3-4a9a-b114-af69d3ab1633",
        "part": "whole"
       },
       "id": "ecb1b2c4-fdf2-4db7-975c-c797f9f6fcb8"
      },
      "edaccb11-8731-4b52-9075-f981f02e220c": {
       "attrs": {
        "height": 0.8,
        "width": 0.8,
        "x": 0.1,
        "y": 0.1
       },
       "content": {
        "cell": "076a1b7c-343b-4bb3-a2cf-20d64498445f",
        "part": "whole"
       },
       "id": "edaccb11-8731-4b52-9075-f981f02e220c"
      }
     }
    },
    "d2ee484a-f981-4b4e-96e0-fafec10ab31f": {
     "id": "d2ee484a-f981-4b4e-96e0-fafec10ab31f",
     "prev": "49be6fd5-37c9-4081-8941-b283985e0377",
     "regions": {
      "60f786b0-ee3e-41bc-b0c1-2d1bb85b226b": {
       "attrs": {
        "height": 0.8,
        "width": 0.8,
        "x": 0.1,
        "y": 0.1
       },
       "content": {
        "cell": "db3fb542-6dc1-44d6-8c08-adc17d7d044d",
        "part": "whole"
       },
       "id": "60f786b0-ee3e-41bc-b0c1-2d1bb85b226b"
      }
     }
    },
    "db8c44bf-4546-44d6-bbe5-627a85244894": {
     "id": "db8c44bf-4546-44d6-bbe5-627a85244894",
     "prev": "54356b59-8e84-4e66-a8f6-1d4ef0bca15f",
     "regions": {
      "c3afd57d-9edb-4cc5-9978-b437ee816cde": {
       "attrs": {
        "height": 0.8,
        "width": 0.8,
        "x": 0.1,
        "y": 0.1
       },
       "content": {
        "cell": "cc5f0cc1-0a51-4018-a01a-b9672f6f94a8",
        "part": "whole"
       },
       "id": "c3afd57d-9edb-4cc5-9978-b437ee816cde"
      }
     }
    }
   },
   "themes": {}
  }
 },
 "nbformat": 4,
 "nbformat_minor": 1
}
