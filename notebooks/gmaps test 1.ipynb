{
 "cells": [
  {
   "cell_type": "code",
   "execution_count": 1,
   "metadata": {
    "collapsed": false,
    "scrolled": false
   },
   "outputs": [
    {
     "ename": "ImportError",
     "evalue": "No module named 'gmaps'",
     "output_type": "error",
     "traceback": [
      "\u001b[0;31m---------------------------------------------------------------------------\u001b[0m",
      "\u001b[0;31mImportError\u001b[0m                               Traceback (most recent call last)",
      "\u001b[0;32m<ipython-input-1-f1318bc24e40>\u001b[0m in \u001b[0;36m<module>\u001b[0;34m()\u001b[0m\n\u001b[1;32m      3\u001b[0m \u001b[0;31m# https://github.com/pbugnion/gmaps\u001b[0m\u001b[0;34m\u001b[0m\u001b[0;34m\u001b[0m\u001b[0m\n\u001b[1;32m      4\u001b[0m \u001b[0;34m\u001b[0m\u001b[0m\n\u001b[0;32m----> 5\u001b[0;31m \u001b[0;32mimport\u001b[0m \u001b[0mgmaps\u001b[0m\u001b[0;34m\u001b[0m\u001b[0m\n\u001b[0m\u001b[1;32m      6\u001b[0m \u001b[0;32mimport\u001b[0m \u001b[0mgmaps\u001b[0m\u001b[0;34m.\u001b[0m\u001b[0mdatasets\u001b[0m\u001b[0;34m\u001b[0m\u001b[0m\n\u001b[1;32m      7\u001b[0m \u001b[0;32mimport\u001b[0m \u001b[0mos\u001b[0m\u001b[0;34m\u001b[0m\u001b[0m\n",
      "\u001b[0;31mImportError\u001b[0m: No module named 'gmaps'"
     ]
    }
   ],
   "source": [
    "# GOOGLE MAPS INTEGRATION\n",
    "# http://jupyter-gmaps.readthedocs.io/en/latest/authentication.html\n",
    "# https://github.com/pbugnion/gmaps\n",
    "\n",
    "import gmaps\n",
    "import gmaps.datasets\n",
    "import os\n",
    "# Alvaro GMAPS API KEY - DONT REUSE IT IF YOU ARE NOT ALVARO !!!!!\n",
    "# gmaps_api_key=\"xxxxxxxx\"\n",
    "gmaps_api_key=os.environ[\"GOOGLE_API_KEY\"]\n",
    "gmaps.configure(api_key=gmaps_api_key)\n",
    "print( \"--- INI ---\")\n",
    "print( \"APIKEY=\"+gmaps_api_key)\n",
    "\n",
    "taxis = gmaps.datasets.load_dataset(\"taxi_rides\")\n",
    "\n",
    "m = gmaps.Map()\n",
    "l_heat = gmaps.Heatmap(data=taxis,max_intensity=10)\n",
    "m.add_layer(l_heat)\n",
    "print(m)\n",
    "m\n",
    "print( \"--- FIN ---\")"
   ]
  },
  {
   "cell_type": "code",
   "execution_count": null,
   "metadata": {
    "collapsed": true
   },
   "outputs": [],
   "source": []
  }
 ],
 "metadata": {
  "anaconda-cloud": {},
  "kernelspec": {
   "display_name": "Python [Root]",
   "language": "python",
   "name": "Python [Root]"
  },
  "language_info": {
   "codemirror_mode": {
    "name": "ipython",
    "version": 3
   },
   "file_extension": ".py",
   "mimetype": "text/x-python",
   "name": "python",
   "nbconvert_exporter": "python",
   "pygments_lexer": "ipython3",
   "version": "3.5.2"
  }
 },
 "nbformat": 4,
 "nbformat_minor": 0
}
