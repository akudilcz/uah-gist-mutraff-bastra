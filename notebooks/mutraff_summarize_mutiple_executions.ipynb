{
 "cells": [
  {
   "cell_type": "markdown",
   "metadata": {},
   "source": [
    "# MuTraff - Unify Experiments\n",
    "Takes a list of multiple experiments over the same configuration, makes a statistical analysis and creates a mean-value experiment."
   ]
  },
  {
   "cell_type": "code",
   "execution_count": 12,
   "metadata": {
    "collapsed": true
   },
   "outputs": [],
   "source": [
    "import os\n",
    "import re\n",
    "import pandas as pd\n",
    "import numpy as np"
   ]
  },
  {
   "cell_type": "code",
   "execution_count": 13,
   "metadata": {
    "collapsed": false
   },
   "outputs": [],
   "source": [
    "MUTRAFF_HOME=\"/Users/alvaro/Desktop/workspace/mutraff/uah-gist-mutraff-bastra\"\n",
    "MUTRAFF_EXP_PATH=MUTRAFF_HOME + \"/experiments/tmp\"\n",
    "EXPERIMENTS={}\n",
    "MEASURES=None\n",
    "COLUMNS=[]\n",
    "VEHICLES=None"
   ]
  },
  {
   "cell_type": "markdown",
   "metadata": {},
   "source": [
    "## Experiments"
   ]
  },
  {
   "cell_type": "code",
   "execution_count": 28,
   "metadata": {
    "collapsed": true
   },
   "outputs": [],
   "source": [
    "experiment=\"alcalahenares_XL_mutraff_tele60_uni5x8_timeALL_fulltraffic_logit50\"\n",
    "experiment=\"alcalahenares_M_mutraff_tele60_uni5x16_timeALL_fulltraffic_logit50\"\n"
   ]
  },
  {
   "cell_type": "markdown",
   "metadata": {},
   "source": [
    "## Code"
   ]
  },
  {
   "cell_type": "code",
   "execution_count": 29,
   "metadata": {
    "collapsed": false
   },
   "outputs": [],
   "source": [
    "def load_results_file( n, filename):\n",
    "    df = pd.read_csv(filename)\n",
    "    df['STATS_experiment']=n\n",
    "    \n",
    "    global EXPERIMENTS\n",
    "    EXPERIMENTS[n]=df"
   ]
  },
  {
   "cell_type": "code",
   "execution_count": 30,
   "metadata": {
    "collapsed": false,
    "scrolled": true
   },
   "outputs": [],
   "source": [
    "def calculate_means():\n",
    "    global MEASURES\n",
    "    veh_list=[]\n",
    "    print( \"Found {} trips corresponding to {} measures\".format( len(MEASURES['id'].unique()), len(MEASURES['id']) ))\n",
    "    n=0\n",
    "    print( \"Creating statistics... please be patient, it takes some time\")\n",
    "    for veh in MEASURES['id'].unique():\n",
    "        if( np.isnan(veh) ):\n",
    "            continue\n",
    "        veh_measures = MEASURES.loc[MEASURES['id']==veh]\n",
    "        veh_attended = veh_measures.loc[veh_measures['is_attended']==True]\n",
    "        veh_finished = veh_measures.loc[veh_measures['has_finished']==True]\n",
    "        # print(\"* Add vehicle {} --> {} measures \".format(veh,len(veh_measures)) )\n",
    "        values = dict(veh_measures.iloc[0])\n",
    "        values.update( dict(veh_finished.mean( axis = 0 )) )\n",
    "        values.pop('STATS_experiment')\n",
    "        values['STATS_exp_total']=len(veh_measures)\n",
    "        values['has_finished']=len(veh_finished)\n",
    "        values['is_attended']=len(veh_attended)\n",
    "    #    print(values)\n",
    "        veh_list.append( values) \n",
    "        n=n+1\n",
    "    print( \"Analyzed {} vehicles\".format(n) )\n",
    "    df = pd.DataFrame( veh_list )\n",
    "    return df\n"
   ]
  },
  {
   "cell_type": "code",
   "execution_count": 31,
   "metadata": {
    "collapsed": true
   },
   "outputs": [],
   "source": [
    "def save_file_means(experiment):\n",
    "    global MUTRAFF_EXP_PATH, VEHICLES\n",
    "    out_dir = \"{}/{}_{}\".format( MUTRAFF_EXP_PATH, experiment, \"MEANS\")\n",
    "    out_file_means = \"{}/{}_{}\".format( out_dir, experiment, \"MEANS.csv\")\n",
    "    print(\"creating directory \"+out_dir)\n",
    "    try:\n",
    "        os.makedirs(out_dir) \n",
    "    except:\n",
    "        print( \"(Directory exists: skipped)\")\n",
    "    print(\"Saving to file \"+out_file_means)\n",
    "    VEHICLES.to_csv( out_file_means )"
   ]
  },
  {
   "cell_type": "code",
   "execution_count": 32,
   "metadata": {
    "collapsed": false,
    "scrolled": false
   },
   "outputs": [
    {
     "name": "stdout",
     "output_type": "stream",
     "text": [
      "Loading  alcalahenares_M_mutraff_tele60_uni5x16_timeALL_fulltraffic_logit50_01_190502_234402\n",
      "Loading  alcalahenares_M_mutraff_tele60_uni5x16_timeALL_fulltraffic_logit50_02_190503_083619\n",
      "Loading  alcalahenares_M_mutraff_tele60_uni5x16_timeALL_fulltraffic_logit50_03_190503_085940\n",
      "Loading  alcalahenares_M_mutraff_tele60_uni5x16_timeALL_fulltraffic_logit50_04_190503_160402\n",
      "Loading  alcalahenares_M_mutraff_tele60_uni5x16_timeALL_fulltraffic_logit50_05_190503_162735\n",
      "Loading  alcalahenares_M_mutraff_tele60_uni5x16_timeALL_fulltraffic_logit50_06_190503_165102\n",
      "Loading  alcalahenares_M_mutraff_tele60_uni5x16_timeALL_fulltraffic_logit50_07_190503_171425\n",
      "Loading  alcalahenares_M_mutraff_tele60_uni5x16_timeALL_fulltraffic_logit50_08_190503_173752\n",
      "Loading  alcalahenares_M_mutraff_tele60_uni5x16_timeALL_fulltraffic_logit50_09_190503_180119\n",
      "Loading  alcalahenares_M_mutraff_tele60_uni5x16_timeALL_fulltraffic_logit50_10_190503_182443\n",
      "Loading  alcalahenares_M_mutraff_tele60_uni5x16_timeALL_fulltraffic_logit50_11_190503_184802\n",
      "Loading  alcalahenares_M_mutraff_tele60_uni5x16_timeALL_fulltraffic_logit50_12_190503_191134\n",
      "Loading  alcalahenares_M_mutraff_tele60_uni5x16_timeALL_fulltraffic_logit50_13_190503_193505\n",
      "Loading  alcalahenares_M_mutraff_tele60_uni5x16_timeALL_fulltraffic_logit50_14_190503_195823\n",
      "Loading  alcalahenares_M_mutraff_tele60_uni5x16_timeALL_fulltraffic_logit50_15_190503_202145\n",
      "Loading  alcalahenares_M_mutraff_tele60_uni5x16_timeALL_fulltraffic_logit50_16_190503_204516\n",
      "Loading  alcalahenares_M_mutraff_tele60_uni5x16_timeALL_fulltraffic_logit50_17_190503_210835\n",
      "Loading  alcalahenares_M_mutraff_tele60_uni5x16_timeALL_fulltraffic_logit50_18_190503_213150\n",
      "Loading  alcalahenares_M_mutraff_tele60_uni5x16_timeALL_fulltraffic_logit50_19_190503_215518\n",
      "Loading  alcalahenares_M_mutraff_tele60_uni5x16_timeALL_fulltraffic_logit50_20_190503_221838\n",
      "Read 20 files\n",
      "Obtained 96400 experiment measures\n",
      "Found 4820 trips corresponding to 96400 measures\n",
      "Creating statistics... please be patient, it takes some time\n",
      "Analyzed 4820 vehicles\n",
      "creating directory /Users/alvaro/Desktop/workspace/mutraff/uah-gist-mutraff-bastra/experiments/tmp/alcalahenares_M_mutraff_tele60_uni5x16_timeALL_fulltraffic_logit50_MEANS\n",
      "Saving to file /Users/alvaro/Desktop/workspace/mutraff/uah-gist-mutraff-bastra/experiments/tmp/alcalahenares_M_mutraff_tele60_uni5x16_timeALL_fulltraffic_logit50_MEANS/alcalahenares_M_mutraff_tele60_uni5x16_timeALL_fulltraffic_logit50_MEANS.csv\n"
     ]
    }
   ],
   "source": [
    "# files = sorted(filter( lambda f: f.startswith(experiment_prefix), os.listdir(MUTRAFF_EXP_PATH) ))\n",
    "experiment_regexp=experiment+\"_[012]._.*\"\n",
    "regexp = re.compile(experiment_regexp)\n",
    "files = sorted(filter( lambda f: regexp.match(f), os.listdir(MUTRAFF_EXP_PATH) ))\n",
    "max_files = 30\n",
    "n=0\n",
    "for name in files:\n",
    "    if( n>=max_files ):\n",
    "        break\n",
    "    print(\"Loading \",name)\n",
    "    filename = \"{}/{}/{}.csv\".format(MUTRAFF_EXP_PATH,name,name)\n",
    "    load_results_file(n,filename)\n",
    "    n=n+1\n",
    "\n",
    "print(\"Read {} files\".format(n))\n",
    "MEASURES = pd.concat(EXPERIMENTS)\n",
    "print(\"Obtained {} experiment measures\".format(len(MEASURES)))\n",
    "# MEASURES.rename( columns={'is_attended':'is_rerouted', 'id':'veh_id'}, inplace=True)\n",
    "COLUMNS=MEASURES.columns.values.tolist()\n",
    "\n",
    "VEHICLES=calculate_means()\n",
    "VEHICLES.head()\n",
    "save_file_means(experiment)\n"
   ]
  },
  {
   "cell_type": "markdown",
   "metadata": {},
   "source": [
    "# GARBAGE AND TESTS"
   ]
  },
  {
   "cell_type": "code",
   "execution_count": 6,
   "metadata": {
    "collapsed": false
   },
   "outputs": [
    {
     "name": "stdout",
     "output_type": "stream",
     "text": [
      "['id', 'veh_type', 't_depart_secs', 't_arrival_secs', 't_traveltime_secs', 'origin', 'destiny', 'route_calc_num', 'route_detail', 'route_path_num', 'route_distance', 'is_attended', 'has_finished', 'maps', 'tripfile', 'STATS_experiment']\n"
     ]
    }
   ],
   "source": [
    "print(COLUMNS)"
   ]
  },
  {
   "cell_type": "raw",
   "metadata": {},
   "source": [
    "print(VEHICLES)"
   ]
  },
  {
   "cell_type": "code",
   "execution_count": 329,
   "metadata": {
    "collapsed": true
   },
   "outputs": [
    {
     "name": "stdout",
     "output_type": "stream",
     "text": [
      "============ VEHICLE 63 ===========\n",
      "     experiment  veh_id veh_type  t_depart_secs  t_arrival_secs  \\\n",
      "0 0           0      63      car              0               0   \n",
      "1 0           1      63      car              0             299   \n",
      "2 0           2      63      car              0             297   \n",
      "3 0           3      63      car              0             336   \n",
      "4 0           4      63      car              0             297   \n",
      "5 0           5      63      car              0             306   \n",
      "6 0           6      63      car              0             301   \n",
      "7 0           7      63      car              0             309   \n",
      "8 0           8      63      car              0             330   \n",
      "9 0           9      63      car              0             300   \n",
      "\n",
      "     t_traveltime_secs    origin     destiny  route_calc_num  \\\n",
      "0 0                  0  35576028  76508304#3               1   \n",
      "1 0                299  35576028  76508304#3               0   \n",
      "2 0                297  35576028  76508304#3               0   \n",
      "3 0                336  35576028  76508304#3               1   \n",
      "4 0                297  35576028  76508304#3               0   \n",
      "5 0                306  35576028  76508304#3               1   \n",
      "6 0                301  35576028  76508304#3               0   \n",
      "7 0                309  35576028  76508304#3               0   \n",
      "8 0                330  35576028  76508304#3               1   \n",
      "9 0                300  35576028  76508304#3               0   \n",
      "\n",
      "                                          route_detail  route_path_num  \\\n",
      "0 0  35576028:410102852#0:76043570:330982391:330982...               8   \n",
      "1 0  35576028:410102852#0:76043570:330982391:330982...              57   \n",
      "2 0  35576028:410102852#0:76043570:330982391:330982...              57   \n",
      "3 0  35576028:4616723#0:4616723#1:4616721#0:4616721...              67   \n",
      "4 0  35576028:410102852#0:76043570:330982391:330982...              56   \n",
      "5 0  35576028:410102852#0:76043570:330982391:330982...              57   \n",
      "6 0  35576028:410102852#0:76043570:330982391:330982...              59   \n",
      "7 0  35576028:410102852#0:76043570:330982391:330982...              58   \n",
      "8 0  35576028:4616723#0:4616723#1:4616721#0:4616721...              65   \n",
      "9 0  35576028:410102852#0:76043570:330982391:330982...              58   \n",
      "\n",
      "     route_distance is_rerouted has_finished  \\\n",
      "0 0         2807.14        True        False   \n",
      "1 0         5333.94       False         True   \n",
      "2 0         5319.91       False         True   \n",
      "3 0         5450.71        True         True   \n",
      "4 0         5324.29       False         True   \n",
      "5 0         5318.72        True         True   \n",
      "6 0         5339.78       False         True   \n",
      "7 0         5339.04       False         True   \n",
      "8 0         5454.09        True         True   \n",
      "9 0         5331.70       False         True   \n",
      "\n",
      "                                                  maps                tripfile  \n",
      "0 0  ['../../../scenes/alcalahenares_XL_mutraff_tel...  ./dumps/trip_file_I0_0  \n",
      "1 0                                                 []                     NaN  \n",
      "2 0                                                 []                     NaN  \n",
      "3 0  ['../../../scenes/alcalahenares_XL_mutraff_tel...  ./dumps/trip_file_I0_0  \n",
      "4 0                                                 []                     NaN  \n",
      "5 0  ['../../../scenes/alcalahenares_XL_mutraff_tel...  ./dumps/trip_file_I0_0  \n",
      "6 0                                                 []                     NaN  \n",
      "7 0                                                 []                     NaN  \n",
      "8 0  ['../../../scenes/alcalahenares_XL_mutraff_tel...  ./dumps/trip_file_I0_0  \n",
      "9 0                                                 []                     NaN  \n",
      "============ VEHICLE 63 finished ===========\n",
      "     experiment  veh_id veh_type  t_depart_secs  t_arrival_secs  \\\n",
      "1 0           1      63      car              0             299   \n",
      "2 0           2      63      car              0             297   \n",
      "3 0           3      63      car              0             336   \n",
      "4 0           4      63      car              0             297   \n",
      "5 0           5      63      car              0             306   \n",
      "6 0           6      63      car              0             301   \n",
      "7 0           7      63      car              0             309   \n",
      "8 0           8      63      car              0             330   \n",
      "9 0           9      63      car              0             300   \n",
      "\n",
      "     t_traveltime_secs    origin     destiny  route_calc_num  \\\n",
      "1 0                299  35576028  76508304#3               0   \n",
      "2 0                297  35576028  76508304#3               0   \n",
      "3 0                336  35576028  76508304#3               1   \n",
      "4 0                297  35576028  76508304#3               0   \n",
      "5 0                306  35576028  76508304#3               1   \n",
      "6 0                301  35576028  76508304#3               0   \n",
      "7 0                309  35576028  76508304#3               0   \n",
      "8 0                330  35576028  76508304#3               1   \n",
      "9 0                300  35576028  76508304#3               0   \n",
      "\n",
      "                                          route_detail  route_path_num  \\\n",
      "1 0  35576028:410102852#0:76043570:330982391:330982...              57   \n",
      "2 0  35576028:410102852#0:76043570:330982391:330982...              57   \n",
      "3 0  35576028:4616723#0:4616723#1:4616721#0:4616721...              67   \n",
      "4 0  35576028:410102852#0:76043570:330982391:330982...              56   \n",
      "5 0  35576028:410102852#0:76043570:330982391:330982...              57   \n",
      "6 0  35576028:410102852#0:76043570:330982391:330982...              59   \n",
      "7 0  35576028:410102852#0:76043570:330982391:330982...              58   \n",
      "8 0  35576028:4616723#0:4616723#1:4616721#0:4616721...              65   \n",
      "9 0  35576028:410102852#0:76043570:330982391:330982...              58   \n",
      "\n",
      "     route_distance is_rerouted has_finished  \\\n",
      "1 0         5333.94       False         True   \n",
      "2 0         5319.91       False         True   \n",
      "3 0         5450.71        True         True   \n",
      "4 0         5324.29       False         True   \n",
      "5 0         5318.72        True         True   \n",
      "6 0         5339.78       False         True   \n",
      "7 0         5339.04       False         True   \n",
      "8 0         5454.09        True         True   \n",
      "9 0         5331.70       False         True   \n",
      "\n",
      "                                                  maps                tripfile  \n",
      "1 0                                                 []                     NaN  \n",
      "2 0                                                 []                     NaN  \n",
      "3 0  ['../../../scenes/alcalahenares_XL_mutraff_tel...  ./dumps/trip_file_I0_0  \n",
      "4 0                                                 []                     NaN  \n",
      "5 0  ['../../../scenes/alcalahenares_XL_mutraff_tel...  ./dumps/trip_file_I0_0  \n",
      "6 0                                                 []                     NaN  \n",
      "7 0                                                 []                     NaN  \n",
      "8 0  ['../../../scenes/alcalahenares_XL_mutraff_tel...  ./dumps/trip_file_I0_0  \n",
      "9 0                                                 []                     NaN  \n",
      "Mean values:\n",
      "experiment              5.000000\n",
      "veh_id                 63.000000\n",
      "t_depart_secs           0.000000\n",
      "t_arrival_secs        308.333333\n",
      "t_traveltime_secs     308.333333\n",
      "route_calc_num          0.333333\n",
      "route_path_num         59.333333\n",
      "route_distance       5356.908889\n",
      "is_rerouted             0.333333\n",
      "has_finished            1.000000\n",
      "dtype: float64\n"
     ]
    }
   ],
   "source": [
    "veh_63_all = MEASURES.loc[MEASURES['id']==63]\n",
    "veh_63_finished = MEASURES.loc[ (MEASURES['id']==63) & (MEASURES['is_attended']==True)]\n",
    "print( \"============ VEHICLE 63 ===========\")\n",
    "print( veh_63_all )\n",
    "print( \"============ VEHICLE 63 finished ===========\")\n",
    "print( veh_63_finished )\n",
    "print('Mean values:\\n{df}'.format(df=veh_63_finished.mean(axis=0)))\n"
   ]
  },
  {
   "cell_type": "code",
   "execution_count": 122,
   "metadata": {
    "collapsed": false
   },
   "outputs": [
    {
     "name": "stdout",
     "output_type": "stream",
     "text": [
      "   0\n",
      "a  2\n",
      "b  4\n",
      "c  6\n"
     ]
    }
   ],
   "source": [
    "df1=pd.DataFrame( [2,4,6], ['a','b','c'] )\n",
    "df2=pd.DataFrame( [4,6,8], ['a','b','c'] )\n",
    "df3=pd.DataFrame( [0,2,4], ['a','b','c'] )\n",
    "#print(df1)\n",
    "#print(df2)\n",
    "#print(df3)\n",
    "df_concat = pd.concat(( df1, df2, df3 ))\n",
    "#print(df_concat)\n",
    "by_row_index = df_concat.groupby(df_concat.index)\n",
    "df_means = by_row_index.mean()\n",
    "print(df_means)"
   ]
  },
  {
   "cell_type": "code",
   "execution_count": 264,
   "metadata": {
    "collapsed": false,
    "scrolled": false
   },
   "outputs": [
    {
     "name": "stdout",
     "output_type": "stream",
     "text": [
      "DF0:\n",
      "   experiment  age  weight  points   name\n",
      "0           0    0       1       2  Peter\n",
      "1           0    3       4       5   John\n",
      "2           0    6       7       8   Mary\n",
      "3           0    9      10      11   Luke\n",
      "\n",
      "DF1:\n",
      "   experiment  age  weight  points   name\n",
      "0           1    0       1       2  Peter\n",
      "1           1    3       4       5   John\n",
      "2           1    6       7       8   Mary\n",
      "3           1    9      10      11   Luke\n",
      "\n",
      "DF2:\n",
      "   experiment  age  weight  points   name\n",
      "0           2    0       2       4  Peter\n",
      "1           2    6       8      10   John\n",
      "2           2   12      14      16   Mary\n",
      "3           2   18      20      22   Luke\n",
      "\n",
      "DF3:\n",
      "   experiment  age  weight  points   name\n",
      "0           3    0       3       6  Peter\n",
      "1           3    9      12      15   John\n",
      "2           3   18      21      24   Mary\n",
      "3           3   27      30      33   Luke\n",
      "\n",
      "     experiment  age  weight  points   name\n",
      "0 0           0    0       1       2  Peter\n",
      "  1           0    3       4       5   John\n",
      "  2           0    6       7       8   Mary\n",
      "  3           0    9      10      11   Luke\n",
      "1 0           1    0       1       2  Peter\n",
      "  1           1    3       4       5   John\n",
      "  2           1    6       7       8   Mary\n",
      "  3           1    9      10      11   Luke\n",
      "2 0           2    0       2       4  Peter\n",
      "  1           2    6       8      10   John\n",
      "  2           2   12      14      16   Mary\n",
      "  3           2   18      20      22   Luke\n",
      "3 0           3    0       3       6  Peter\n",
      "  1           3    9      12      15   John\n",
      "  2           3   18      21      24   Mary\n",
      "  3           3   27      30      33   Luke\n"
     ]
    }
   ],
   "source": [
    "dfs = {}\n",
    "nrows = 4\n",
    "ncols = 3\n",
    "for i in range(4):\n",
    "    if(i==0):\n",
    "        x=np.arange(i, nrows*ncols+i).reshape(nrows, ncols)\n",
    "    else:\n",
    "        x=np.arange(0, nrows*ncols*i, step=i).reshape(nrows, ncols)\n",
    "    dfs[i] = pd.DataFrame(x, columns=['age','weight','points'])\n",
    "    dfs[i]['name']=['Peter', 'John', 'Mary', 'Luke']\n",
    "    dfs[i].insert(0,'experiment',i)\n",
    "    print('DF{i}:\\n{df}\\n'.format(i=i, df=dfs[i]))\n",
    "#panel = pd.Panel(dfs)\n",
    "panel = pd.concat(dfs)\n",
    "print(panel)"
   ]
  },
  {
   "cell_type": "code",
   "execution_count": 266,
   "metadata": {
    "collapsed": false
   },
   "outputs": [
    {
     "name": "stdout",
     "output_type": "stream",
     "text": [
      "     experiment  age  weight  points  name\n",
      "0 1           0    3       4       5  John\n",
      "1 1           1    3       4       5  John\n",
      "2 1           2    6       8      10  John\n",
      "3 1           3    9      12      15  John\n"
     ]
    }
   ],
   "source": [
    "# Busquedas\n",
    "print( panel.loc[panel['name']=='John'])\n"
   ]
  },
  {
   "cell_type": "code",
   "execution_count": 268,
   "metadata": {
    "collapsed": false
   },
   "outputs": [
    {
     "name": "stdout",
     "output_type": "stream",
     "text": [
      "Mean of stacked DFs:\n",
      "experiment     1.500\n",
      "age            7.875\n",
      "weight         9.625\n",
      "points        11.375\n",
      "dtype: float64\n"
     ]
    }
   ],
   "source": [
    "print('Mean of stacked DFs:\\n{df}'.format(df=panel.mean(axis=0)))"
   ]
  },
  {
   "cell_type": "code",
   "execution_count": null,
   "metadata": {
    "collapsed": true
   },
   "outputs": [],
   "source": []
  }
 ],
 "metadata": {
  "anaconda-cloud": {},
  "kernelspec": {
   "display_name": "Python [Root]",
   "language": "python",
   "name": "Python [Root]"
  },
  "language_info": {
   "codemirror_mode": {
    "name": "ipython",
    "version": 3
   },
   "file_extension": ".py",
   "mimetype": "text/x-python",
   "name": "python",
   "nbconvert_exporter": "python",
   "pygments_lexer": "ipython3",
   "version": "3.5.2"
  }
 },
 "nbformat": 4,
 "nbformat_minor": 0
}
