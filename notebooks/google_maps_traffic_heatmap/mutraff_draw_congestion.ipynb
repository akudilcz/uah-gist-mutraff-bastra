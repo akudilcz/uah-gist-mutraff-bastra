{
 "cells": [
  {
   "cell_type": "markdown",
   "metadata": {},
   "source": [
    "# MUTRAFF - Congestion Map Drawing\n",
    "Congestion tracing based on Mutraff Experiments over Google Maps\n",
    "References:\n",
    "* Mutraff\n",
    "* Jupyter gmaps: https://jupyter-gmaps.readthedocs.io/en/v0.3.3/gmaps.html\n",
    "* Blog examples: https://people.revoledu.com/kardi/tutorial/Python/Displaying+Locations+using+Heatmap.html"
   ]
  },
  {
   "cell_type": "markdown",
   "metadata": {},
   "source": [
    "## Imports section"
   ]
  },
  {
   "cell_type": "code",
   "execution_count": 1,
   "metadata": {},
   "outputs": [],
   "source": [
    "import pandas as pd\n",
    "import numpy as np\n",
    "import googlemaps\n",
    "import gmaps\n",
    "import yaml"
   ]
  },
  {
   "cell_type": "code",
   "execution_count": 2,
   "metadata": {},
   "outputs": [],
   "source": [
    "# https://martin-thoma.com/configuration-files-in-python/\n",
    "def load_config( file ):\n",
    "    config = {}\n",
    "    with open(file, 'r') as ymlfile:\n",
    "        config = yaml.load(ymlfile)\n",
    "        ymlfile.close()\n",
    "        # print(config)\n",
    "    return config"
   ]
  },
  {
   "cell_type": "code",
   "execution_count": 3,
   "metadata": {},
   "outputs": [],
   "source": [
    "cfg = load_config( \"config.yaml\")\n",
    "\n",
    "# Import API_KEY from YAML\n",
    "gm = googlemaps.Client(key=cfg['google_maps']['API_KEY'])\n",
    "gmaps.configure(api_key=cfg['google_maps']['API_KEY']) # Your Google API key"
   ]
  },
  {
   "cell_type": "markdown",
   "metadata": {},
   "source": [
    "## Definitions"
   ]
  },
  {
   "cell_type": "code",
   "execution_count": 4,
   "metadata": {},
   "outputs": [],
   "source": [
    "MUTRAFF_HOME=\"/Users/alvaro/Desktop/workspace/mutraff/uah-gist-mutraff-bastra\"\n",
    "MUTRAFF_EXP_PATH=MUTRAFF_HOME + \"/experiments/tmp\"\n",
    "SIMUL_TIME_STATS=None\n",
    "COLUMNS=[]\n",
    "exp={}\n",
    "label={}\n",
    "\n",
    "SMALL_FONT_SIZE=10\n",
    "MID_FONT_SIZE=12\n",
    "BIG_FONT_SIZE=14"
   ]
  },
  {
   "cell_type": "markdown",
   "metadata": {},
   "source": [
    "## Functions Library"
   ]
  },
  {
   "cell_type": "markdown",
   "metadata": {},
   "source": [
    "### Geocode and GeocodeStreetLocationCity functions\n",
    "In case of receiving just edge names or address, the following functions will do the geocoding of street, location and the city.\n",
    "The algorithm goes as follow:\n",
    "* the code will try to search for street, location and city.\n",
    "* If it is not succesful, it will try to search for street and the city.\n",
    "* If it is still unsuccessful, it will search for location and city.\n",
    "* If all of these attempts are not successful, it will produce fail in geocoding. \n",
    "* If any of the attempt is successful, it will append the result into the list and return this list of latitude and longitude."
   ]
  },
  {
   "cell_type": "code",
   "execution_count": 5,
   "metadata": {},
   "outputs": [],
   "source": [
    "def Geocode(query):\n",
    "    # do geocoding\n",
    "    try:\n",
    "        geocode_result = gm.geocode(query)[0]       \n",
    "        latitude = geocode_result['geometry']['location']['lat']\n",
    "        longitude = geocode_result['geometry']['location']['lng']\n",
    "        return latitude,longitude\n",
    "    except IndexError:\n",
    "        return 0\n",
    "        \n",
    "def GeocodeStreetLocationCity(data):\n",
    "    lat=[]                            # initialize latitude list\n",
    "    lng=[]                            # initialize longitude list\n",
    "    start = data.index[0]             # start from the first data\n",
    "    end = data.index[maxRow-1]        # end at maximum number of row\n",
    "    #end = 100\n",
    "    for i in range(start,end+1,1):    # iterate all rows in the data\n",
    "        isSuccess=True                # initial Boolean flag\n",
    "        \n",
    "        #query = data.Street[i] + ',' + data.Location[i]\n",
    "        query = data.Street[i] + ',' + 'Manila' # data.Location[i]\n",
    "        # query = data.Location[i]\n",
    "        # result=Geocode(query)\n",
    "        result = 0\n",
    "        if result==0:         # if not successful,\n",
    "            print(i, 'is failed')\n",
    "            isSuccess = False\n",
    "        else:\n",
    "            print(i, result)\n",
    "        if isSuccess==True:           # if geocoding is successful,\n",
    "            # store the results\n",
    "            lat.append(result[0])     # latitude\n",
    "            lng.append(result[1])     # longitude\n",
    "    return lat,lng"
   ]
  },
  {
   "cell_type": "markdown",
   "metadata": {},
   "source": [
    "### DrawHeatMap function\n",
    "Creates a heat map to represent congestion data"
   ]
  },
  {
   "cell_type": "code",
   "execution_count": 6,
   "metadata": {},
   "outputs": [],
   "source": [
    "def drawHeatMap( center_address, v_lat_long, v_weigths, zoom, intensity, radius):\n",
    "    # do geocode for the whole mega city\n",
    "    geocode_result = gm.geocode(center_address)[0]  # change the name into your city of interest\n",
    "\n",
    "    # get the center of the city\n",
    "    center_lat=geocode_result['geometry']['location']['lat']\n",
    "    center_lng=geocode_result['geometry']['location']['lng']\n",
    "    # print('center=',center_lat,center_lng)\n",
    "\n",
    "    # setting the data and parameters\n",
    "    # heatmap_layer = gmaps.heatmap_layer(locations, val, dissipating = True)\n",
    "    heatmap_layer = gmaps.heatmap_layer(v_lat_long, v_weigths, dissipating = True)\n",
    "    # heatmap_layer = gmaps.WeightedHeatmap(v_lat_long)\n",
    "    heatmap_layer.disspating = True\n",
    "    heatmap_layer.max_intensity = intensity\n",
    "    heatmap_layer.point_radius = radius\n",
    "    # draw the heatmap into a figure\n",
    "    fig = gmaps.figure()\n",
    "    fig = gmaps.figure(center = [center_lat,center_lng], zoom_level=zoom)\n",
    "    fig.add_layer(heatmap_layer)\n",
    "    return fig"
   ]
  },
  {
   "cell_type": "markdown",
   "metadata": {},
   "source": [
    "### loadExperiment function\n",
    "Import csv data from experiments into valuable data"
   ]
  },
  {
   "cell_type": "code",
   "execution_count": 7,
   "metadata": {},
   "outputs": [],
   "source": [
    "def load_data(experiment):\n",
    "    global MUTRAFF_EXP_PATH\n",
    "    \n",
    "    theFile=\"edges.csv\"\n",
    "    filename = \"{}/{}/{}\".format(MUTRAFF_EXP_PATH,experiment,theFile)\n",
    "    filename=\"alcalahenares.edges.csv\"\n",
    "    print(\"Parsing edges catalog \"+theFile)\n",
    "    df1 = pd.read_csv(filename)\n",
    "    \n",
    "    theFile=\"edge_stats.csv\"\n",
    "    filename = \"{}/{}/{}\".format(MUTRAFF_EXP_PATH,experiment,theFile)\n",
    "    print(\"Parsing data traffic file \"+theFile)\n",
    "    df2 = pd.read_csv(filename)\n",
    "    \n",
    "    return df1, df2"
   ]
  },
  {
   "cell_type": "markdown",
   "metadata": {},
   "source": [
    "## Experiments"
   ]
  },
  {
   "cell_type": "code",
   "execution_count": 8,
   "metadata": {},
   "outputs": [],
   "source": [
    "exp[0]=\"alcalahenares_M_mutraff_tele60_uni5x16_timeALL_fulltraffic_logit20_11_190508_003728\"\n",
    "\n",
    "exp[2200]=\"alcalahenares_M3h_nomaps_tele60_timeALL_fulltraffic_190510_235642\"\n",
    "exp[2201]=\"alcalahenares_M3h_mutraff_tele60_uni5x16_timeALL_fulltraffic_logit50_01_190511_163910\"\n",
    "\n",
    "exp[2300]=\"alcalahenares_L3h_nomaps_tele60_timeALL_fulltraffic_190515_130939\"\n",
    "exp[2301]=\"alcalahenares_L3h_mutraff_tele60_uni5x16_timeALL_fulltraffic_logit50_01_190515_133434\"\n",
    "\n",
    "exp[2400]=\"alcalahenares_2L3h_nomaps_tele60_timeALL_fulltraffic_190515_150939\"\n",
    "exp[2401]=\"alcalahenares_2L3h_mutraff_tele60_uni5x16_timeALL_fulltraffic_logit50_01_190515_161514\"\n",
    "\n",
    "exp[2410]=\"alcalahenares_2L3h_nomaps_tele60_timeALL_fulltraffic_190515_182031\"\n",
    "exp[2411]=\"alcalahenares_2L3h_mutraff_tele60_uni5x8_timeALL_fulltraffic_logit50_01_190515_191357\"\n",
    "exp[2412]=\"alcalahenares_2L3h_mutraff_tele60_uni5x16_timeALL_fulltraffic_logit50_01_190515_200544\"\n",
    "\n",
    "exp[2420]=\"alcalahenares_2L3h_nomaps_tele60_timeALL_fulltraffic_190515_202233\"\n",
    "exp[2421]=\"alcalahenares_2L3h_mutraff_tele60_uni5x8_timeALL_fulltraffic_logit50_01_190515_205714\"\n",
    "exp[2422]=\"alcalahenares_2L3h_mutraff_tele60_uni5x16_timeALL_fulltraffic_logit50_01_190515_212938\"\n",
    "\n",
    "exp[2430]=\"alcalahenares_3L3h_nomaps_tele60_timeALL_fulltraffic_190516_084853\"\n",
    "exp[2431]=\"alcalahenares_3L3h_mutraff_tele60_uni5x8_timeALL_fulltraffic_logit10_01_190521_091537\"\n",
    "exp[2432]=\"alcalahenares_3L3h_mutraff_tele60_uni5x8_timeALL_fulltraffic_logit20_01_190521_143019\"\n",
    "exp[2433]=\"alcalahenares_3L3h_mutraff_tele60_uni5x8_timeALL_fulltraffic_logit50_01_190516_091540\"\n",
    "exp[2434]=\"alcalahenares_3L3h_mutraff_tele60_uni5x8_timeALL_fulltraffic_logit100_01_190521_210550\"\n",
    "\n",
    "exp[2441]=\"alcalahenares_3L3h_mutraff_tele60_uni5x16_timeALL_fulltraffic_logit10_01_190521_213112\"\n",
    "exp[2442]=\"alcalahenares_3L3h_mutraff_tele60_uni5x16_timeALL_fulltraffic_logit20_01_190521_220448\"\n",
    "exp[2443]=\"alcalahenares_3L3h_mutraff_tele60_uni5x16_timeALL_fulltraffic_logit50_01_190516_114311\"\n",
    "exp[2444]=\"alcalahenares_3L3h_mutraff_tele60_uni5x16_timeALL_fulltraffic_logit100_01_190521_223020\"\n",
    "\n",
    "exp[2500]=\"alcalahenares_3L3h_nomaps_tele60_timeALL_fulltraffic_190604_073604\"\n",
    "exp[2501]=\"alcalahenares_3L3h_nomaps_tele60_timeALL_fulltraffic_incident_190604_082709\"\n",
    "exp[2502]=\"alcalahenares_3L3h_mutraff_tele60_uni5x16_timeALL_fulltraffic_logit10_01_190604_091731\""
   ]
  },
  {
   "cell_type": "code",
   "execution_count": 9,
   "metadata": {},
   "outputs": [],
   "source": [
    "label[2430]=\"Alcala 3L - No MuTraff maps\"\n",
    "label[2431]=\"Alcala 3L - 8  MuTraff maps - uniform(5) - 10% usage\"\n",
    "label[2432]=\"Alcala 3L - 8  MuTraff maps - uniform(5) - 20% usage\"\n",
    "label[2433]=\"Alcala 3L - 8  MuTraff maps - uniform(5) - 50% usage\"\n",
    "label[2434]=\"Alcala 3L - 8  MuTraff maps - uniform(5) - 100% usage\"\n",
    "label[2441]=\"Alcala 3L - 16 MuTraff maps - uniform(5) - 10% usage\"\n",
    "label[2442]=\"Alcala 3L - 16 MuTraff maps - uniform(5) - 20% usage\"\n",
    "label[2443]=\"Alcala 3L - 16 MuTraff maps - uniform(5) - 50% usage\"\n",
    "label[2444]=\"Alcala 3L - 16 MuTraff maps - uniform(5) - 100% usage\"\n",
    "\n",
    "label[2500]=\"Alcala 3L - no TWM\"\n",
    "label[2501]=\"Alcala 3L - no TWM - Incident\"\n",
    "label[2502]=\"Alcala 3L - no TWM 16 MuTraff maps - uniform(5) - 10% usage\""
   ]
  },
  {
   "cell_type": "markdown",
   "metadata": {},
   "source": [
    "### Incident management"
   ]
  },
  {
   "cell_type": "code",
   "execution_count": 10,
   "metadata": {},
   "outputs": [],
   "source": [
    "exp[2500]=\"alcalahenares_3L3h_nomaps_tele60_timeALL_fulltraffic_incident_190603_000953\"\n",
    "label[2500]=\"Alcala 3L - No MuTraff maps - Incident 30' main roundabout\""
   ]
  },
  {
   "cell_type": "markdown",
   "metadata": {},
   "source": [
    "### FORESIGHT AND TWM"
   ]
  },
  {
   "cell_type": "code",
   "execution_count": 11,
   "metadata": {},
   "outputs": [],
   "source": [
    "exp[2599]=\"alcalahenares_3L3h_nomaps_timeALL_taz5-taz50_01_190605_225531\"\n",
    "exp[2600]=\"alcalahenares_3L3h_nomaps_timeALL_taz5-taz50_01_190607_163410\"\n",
    "exp[2601]=\"alcalahenares_3L3h_nomaps_timeALL_taz5-taz50_incident_01_190605_233312\"\n",
    "exp[2602]=\"alcalahenares_3L3h_nomaps_timeALL_taz5-taz50_foresight_01_190606_072936\"\n",
    "exp[2603]=\"alcalahenares_3L3h_nomaps_timeALL_taz5-taz50_foresight_incident_01_190606_082447\"\n",
    "\n",
    "label[2599]=\"No TWM - Alcala - Taz5 to Taz50 - No foresight - Exp1\"\n",
    "label[2600]=\"No TWM - Alcala - Taz5 to Taz50 - No foresight - Exp2\"\n",
    "label[2601]=\"No TWM - Alcala - Taz5 to Taz50 - No foresight - INCIDENT\"\n",
    "label[2602]=\"No TWM - Alcala - Taz5 to Taz50 - Fore2-3-4-10\"\n",
    "label[2603]=\"No TWM - Alcala - Taz5 to Taz50 - Fore2-3-4-10 - INCIDENT\""
   ]
  },
  {
   "cell_type": "code",
   "execution_count": 12,
   "metadata": {},
   "outputs": [],
   "source": [
    "experiment=exp[2430]\n",
    "experiment=exp[2500]\n",
    "experiment=exp[2601]"
   ]
  },
  {
   "cell_type": "markdown",
   "metadata": {},
   "source": [
    "## Pollution Measures"
   ]
  },
  {
   "cell_type": "code",
   "execution_count": 23,
   "metadata": {},
   "outputs": [],
   "source": [
    "exp[3000]=\"grid16EMISSIONS_noBastra_reference_fulltraffic_01_190817_222335\"\n",
    "label[3000]=\"GRID16 - FullTraffic - NoTWM\""
   ]
  },
  {
   "cell_type": "code",
   "execution_count": 24,
   "metadata": {},
   "outputs": [],
   "source": [
    "experiment=exp[3000]"
   ]
  },
  {
   "cell_type": "markdown",
   "metadata": {},
   "source": [
    "## Part 1 : Load traffic data from measures or experiments"
   ]
  },
  {
   "cell_type": "code",
   "execution_count": 25,
   "metadata": {},
   "outputs": [
    {
     "name": "stdout",
     "output_type": "stream",
     "text": [
      "Parsing edges catalog edges.csv\n",
      "Parsing data traffic file edge_stats.csv\n"
     ]
    }
   ],
   "source": [
    "edges, stats = load_data( experiment )"
   ]
  },
  {
   "cell_type": "code",
   "execution_count": 26,
   "metadata": {},
   "outputs": [
    {
     "data": {
      "text/html": [
       "<div>\n",
       "<style scoped>\n",
       "    .dataframe tbody tr th:only-of-type {\n",
       "        vertical-align: middle;\n",
       "    }\n",
       "\n",
       "    .dataframe tbody tr th {\n",
       "        vertical-align: top;\n",
       "    }\n",
       "\n",
       "    .dataframe thead th {\n",
       "        text-align: right;\n",
       "    }\n",
       "</style>\n",
       "<table border=\"1\" class=\"dataframe\">\n",
       "  <thead>\n",
       "    <tr style=\"text-align: right;\">\n",
       "      <th></th>\n",
       "      <th>edge_id</th>\n",
       "      <th>odmat_id</th>\n",
       "      <th>from_node</th>\n",
       "      <th>to_node</th>\n",
       "      <th>from_lat</th>\n",
       "      <th>from_long</th>\n",
       "      <th>to_lat</th>\n",
       "      <th>to_long</th>\n",
       "      <th>center_lat</th>\n",
       "      <th>center_long</th>\n",
       "      <th>name</th>\n",
       "    </tr>\n",
       "  </thead>\n",
       "  <tbody>\n",
       "    <tr>\n",
       "      <th>0</th>\n",
       "      <td>1</td>\n",
       "      <td>-100851682</td>\n",
       "      <td>1165482312</td>\n",
       "      <td>1165482328</td>\n",
       "      <td>40.476015</td>\n",
       "      <td>-3.394803</td>\n",
       "      <td>40.476372</td>\n",
       "      <td>-3.393535</td>\n",
       "      <td>40.476194</td>\n",
       "      <td>-3.394169</td>\n",
       "      <td>NaN</td>\n",
       "    </tr>\n",
       "    <tr>\n",
       "      <th>1</th>\n",
       "      <td>2</td>\n",
       "      <td>-100851688</td>\n",
       "      <td>1165482328</td>\n",
       "      <td>1165482290</td>\n",
       "      <td>40.476372</td>\n",
       "      <td>-3.393535</td>\n",
       "      <td>40.476832</td>\n",
       "      <td>-3.391995</td>\n",
       "      <td>40.476602</td>\n",
       "      <td>-3.392765</td>\n",
       "      <td>NaN</td>\n",
       "    </tr>\n",
       "    <tr>\n",
       "      <th>2</th>\n",
       "      <td>3</td>\n",
       "      <td>-100851690</td>\n",
       "      <td>1165482325</td>\n",
       "      <td>1165482312</td>\n",
       "      <td>40.475548</td>\n",
       "      <td>-3.396469</td>\n",
       "      <td>40.476015</td>\n",
       "      <td>-3.394803</td>\n",
       "      <td>40.475782</td>\n",
       "      <td>-3.395636</td>\n",
       "      <td>NaN</td>\n",
       "    </tr>\n",
       "    <tr>\n",
       "      <th>3</th>\n",
       "      <td>4</td>\n",
       "      <td>-100851695</td>\n",
       "      <td>1165482322</td>\n",
       "      <td>1165482272</td>\n",
       "      <td>40.468375</td>\n",
       "      <td>-3.405725</td>\n",
       "      <td>40.469638</td>\n",
       "      <td>-3.401857</td>\n",
       "      <td>40.469007</td>\n",
       "      <td>-3.403791</td>\n",
       "      <td>NaN</td>\n",
       "    </tr>\n",
       "    <tr>\n",
       "      <th>4</th>\n",
       "      <td>5</td>\n",
       "      <td>-103584157</td>\n",
       "      <td>311472409</td>\n",
       "      <td>1195985289</td>\n",
       "      <td>40.484626</td>\n",
       "      <td>-3.396309</td>\n",
       "      <td>40.485168</td>\n",
       "      <td>-3.396721</td>\n",
       "      <td>40.484897</td>\n",
       "      <td>-3.396515</td>\n",
       "      <td>NaN</td>\n",
       "    </tr>\n",
       "  </tbody>\n",
       "</table>\n",
       "</div>"
      ],
      "text/plain": [
       "   edge_id    odmat_id   from_node     to_node   from_lat  from_long  \\\n",
       "0        1  -100851682  1165482312  1165482328  40.476015  -3.394803   \n",
       "1        2  -100851688  1165482328  1165482290  40.476372  -3.393535   \n",
       "2        3  -100851690  1165482325  1165482312  40.475548  -3.396469   \n",
       "3        4  -100851695  1165482322  1165482272  40.468375  -3.405725   \n",
       "4        5  -103584157   311472409  1195985289  40.484626  -3.396309   \n",
       "\n",
       "      to_lat   to_long  center_lat  center_long  name  \n",
       "0  40.476372 -3.393535   40.476194    -3.394169   NaN  \n",
       "1  40.476832 -3.391995   40.476602    -3.392765   NaN  \n",
       "2  40.476015 -3.394803   40.475782    -3.395636   NaN  \n",
       "3  40.469638 -3.401857   40.469007    -3.403791   NaN  \n",
       "4  40.485168 -3.396721   40.484897    -3.396515   NaN  "
      ]
     },
     "execution_count": 26,
     "metadata": {},
     "output_type": "execute_result"
    }
   ],
   "source": [
    "edges.head()"
   ]
  },
  {
   "cell_type": "markdown",
   "metadata": {},
   "source": [
    "* Latitud: 40.4994044\n",
    "\n",
    "* Longitud: -3.3401732"
   ]
  },
  {
   "cell_type": "code",
   "execution_count": 27,
   "metadata": {
    "scrolled": false
   },
   "outputs": [
    {
     "data": {
      "text/html": [
       "<div>\n",
       "<style scoped>\n",
       "    .dataframe tbody tr th:only-of-type {\n",
       "        vertical-align: middle;\n",
       "    }\n",
       "\n",
       "    .dataframe tbody tr th {\n",
       "        vertical-align: top;\n",
       "    }\n",
       "\n",
       "    .dataframe thead th {\n",
       "        text-align: right;\n",
       "    }\n",
       "</style>\n",
       "<table border=\"1\" class=\"dataframe\">\n",
       "  <thead>\n",
       "    <tr style=\"text-align: right;\">\n",
       "      <th></th>\n",
       "      <th>time</th>\n",
       "      <th>edge_id</th>\n",
       "      <th>traf_travel_time</th>\n",
       "      <th>traf_waiting_time</th>\n",
       "      <th>traf_total_veh_num</th>\n",
       "      <th>traf_halted_veh_num</th>\n",
       "      <th>traf_av_occupancy</th>\n",
       "      <th>traf_av_speed</th>\n",
       "      <th>emission_co2</th>\n",
       "      <th>emission_co</th>\n",
       "      <th>emission_hc</th>\n",
       "      <th>emission_noise</th>\n",
       "      <th>emission_nox</th>\n",
       "      <th>emission_PMx</th>\n",
       "      <th>consum_epower</th>\n",
       "      <th>consum_fuel</th>\n",
       "    </tr>\n",
       "  </thead>\n",
       "  <tbody>\n",
       "    <tr>\n",
       "      <th>0</th>\n",
       "      <td>0</td>\n",
       "      <td>0</td>\n",
       "      <td>3.597122</td>\n",
       "      <td>0.0</td>\n",
       "      <td>0.0</td>\n",
       "      <td>0.0</td>\n",
       "      <td>0.0</td>\n",
       "      <td>13.9</td>\n",
       "      <td>0.0</td>\n",
       "      <td>0.0</td>\n",
       "      <td>0.0</td>\n",
       "      <td>0.0</td>\n",
       "      <td>0.0</td>\n",
       "      <td>0.0</td>\n",
       "      <td>0.0</td>\n",
       "      <td>0.0</td>\n",
       "    </tr>\n",
       "    <tr>\n",
       "      <th>1</th>\n",
       "      <td>0</td>\n",
       "      <td>1</td>\n",
       "      <td>3.597122</td>\n",
       "      <td>0.0</td>\n",
       "      <td>0.0</td>\n",
       "      <td>0.0</td>\n",
       "      <td>0.0</td>\n",
       "      <td>13.9</td>\n",
       "      <td>0.0</td>\n",
       "      <td>0.0</td>\n",
       "      <td>0.0</td>\n",
       "      <td>0.0</td>\n",
       "      <td>0.0</td>\n",
       "      <td>0.0</td>\n",
       "      <td>0.0</td>\n",
       "      <td>0.0</td>\n",
       "    </tr>\n",
       "    <tr>\n",
       "      <th>2</th>\n",
       "      <td>0</td>\n",
       "      <td>2</td>\n",
       "      <td>3.597122</td>\n",
       "      <td>0.0</td>\n",
       "      <td>0.0</td>\n",
       "      <td>0.0</td>\n",
       "      <td>0.0</td>\n",
       "      <td>13.9</td>\n",
       "      <td>0.0</td>\n",
       "      <td>0.0</td>\n",
       "      <td>0.0</td>\n",
       "      <td>0.0</td>\n",
       "      <td>0.0</td>\n",
       "      <td>0.0</td>\n",
       "      <td>0.0</td>\n",
       "      <td>0.0</td>\n",
       "    </tr>\n",
       "    <tr>\n",
       "      <th>3</th>\n",
       "      <td>0</td>\n",
       "      <td>3</td>\n",
       "      <td>3.597122</td>\n",
       "      <td>0.0</td>\n",
       "      <td>0.0</td>\n",
       "      <td>0.0</td>\n",
       "      <td>0.0</td>\n",
       "      <td>13.9</td>\n",
       "      <td>0.0</td>\n",
       "      <td>0.0</td>\n",
       "      <td>0.0</td>\n",
       "      <td>0.0</td>\n",
       "      <td>0.0</td>\n",
       "      <td>0.0</td>\n",
       "      <td>0.0</td>\n",
       "      <td>0.0</td>\n",
       "    </tr>\n",
       "    <tr>\n",
       "      <th>4</th>\n",
       "      <td>0</td>\n",
       "      <td>4</td>\n",
       "      <td>3.597122</td>\n",
       "      <td>0.0</td>\n",
       "      <td>0.0</td>\n",
       "      <td>0.0</td>\n",
       "      <td>0.0</td>\n",
       "      <td>13.9</td>\n",
       "      <td>0.0</td>\n",
       "      <td>0.0</td>\n",
       "      <td>0.0</td>\n",
       "      <td>0.0</td>\n",
       "      <td>0.0</td>\n",
       "      <td>0.0</td>\n",
       "      <td>0.0</td>\n",
       "      <td>0.0</td>\n",
       "    </tr>\n",
       "  </tbody>\n",
       "</table>\n",
       "</div>"
      ],
      "text/plain": [
       "   time  edge_id  traf_travel_time  traf_waiting_time  traf_total_veh_num  \\\n",
       "0     0        0          3.597122                0.0                 0.0   \n",
       "1     0        1          3.597122                0.0                 0.0   \n",
       "2     0        2          3.597122                0.0                 0.0   \n",
       "3     0        3          3.597122                0.0                 0.0   \n",
       "4     0        4          3.597122                0.0                 0.0   \n",
       "\n",
       "   traf_halted_veh_num  traf_av_occupancy  traf_av_speed  emission_co2  \\\n",
       "0                  0.0                0.0           13.9           0.0   \n",
       "1                  0.0                0.0           13.9           0.0   \n",
       "2                  0.0                0.0           13.9           0.0   \n",
       "3                  0.0                0.0           13.9           0.0   \n",
       "4                  0.0                0.0           13.9           0.0   \n",
       "\n",
       "   emission_co  emission_hc  emission_noise  emission_nox  emission_PMx  \\\n",
       "0          0.0          0.0             0.0           0.0           0.0   \n",
       "1          0.0          0.0             0.0           0.0           0.0   \n",
       "2          0.0          0.0             0.0           0.0           0.0   \n",
       "3          0.0          0.0             0.0           0.0           0.0   \n",
       "4          0.0          0.0             0.0           0.0           0.0   \n",
       "\n",
       "   consum_epower  consum_fuel  \n",
       "0            0.0          0.0  \n",
       "1            0.0          0.0  \n",
       "2            0.0          0.0  \n",
       "3            0.0          0.0  \n",
       "4            0.0          0.0  "
      ]
     },
     "execution_count": 27,
     "metadata": {},
     "output_type": "execute_result"
    }
   ],
   "source": [
    "stats.head()\n"
   ]
  },
  {
   "cell_type": "markdown",
   "metadata": {},
   "source": [
    "### drawTrafficInstantShot\n",
    "Prints a heatmap with an spatial and time exposure"
   ]
  },
  {
   "cell_type": "code",
   "execution_count": 16,
   "metadata": {},
   "outputs": [],
   "source": [
    "def drawInstantShot( city, dataset, timestamp, variable_name ):\n",
    "    time_shot = dataset[dataset['time']==timestamp].groupby(['time','edge_id']).sum() # .unstack()['traf_halted_veh_num']\n",
    "    v_lat_long = time_shot[['center_lat','center_long']]\n",
    "    v_weight = time_shot[variable_name]\n",
    "    \n",
    "    print( \"Lat/Long size={}\".format( len(v_lat_long) ))\n",
    "    print( \"Weight size={}\".format( len(v_weight) ))\n",
    "    # set up parameters\n",
    "    zoom=13\n",
    "    max_intensity=float(np.max(v_weight))\n",
    "    radius=10\n",
    "\n",
    "    # call the function to draw the heatmap\n",
    "    drawHeatMap(city, v_lat_long, v_weight, zoom, max_intensity, radius)"
   ]
  },
  {
   "cell_type": "markdown",
   "metadata": {},
   "source": [
    "merge informacion together"
   ]
  },
  {
   "cell_type": "code",
   "execution_count": 17,
   "metadata": {},
   "outputs": [],
   "source": [
    "dataset = pd.merge(edges, stats, left_on='edge_id', right_on='edge_id')"
   ]
  },
  {
   "cell_type": "code",
   "execution_count": 18,
   "metadata": {},
   "outputs": [
    {
     "name": "stdout",
     "output_type": "stream",
     "text": [
      "Lat/Long size=7828\n",
      "Weight size=7828\n"
     ]
    }
   ],
   "source": [
    "time=2520\n",
    "drawInstantShot( 'Alcala de Henares', dataset, time, 'traf_halted_veh_num' )"
   ]
  },
  {
   "cell_type": "markdown",
   "metadata": {},
   "source": [
    "### Join data and extract a time snapshot\n",
    "Summarize all the data corresponding to the *timestamp* time and combines this data with edge values."
   ]
  },
  {
   "cell_type": "code",
   "execution_count": 19,
   "metadata": {
    "scrolled": false
   },
   "outputs": [],
   "source": [
    "timestamp=3000\n",
    "timestamp=2520\n",
    "time_stats_shot  = stats[stats['time']==timestamp].groupby(['time','edge_id']).sum() # .unstack()['traf_halted_veh_num']\n",
    "#time_stats_shot\n",
    "dataset = pd.merge(edges, time_stats_shot, left_on='edge_id', right_on='edge_id')"
   ]
  },
  {
   "cell_type": "code",
   "execution_count": 20,
   "metadata": {
    "scrolled": true
   },
   "outputs": [
    {
     "data": {
      "text/plain": [
       "0            0\n",
       "1            0\n",
       "2            0\n",
       "3            0\n",
       "4            0\n",
       "5            0\n",
       "6            0\n",
       "7            0\n",
       "8            0\n",
       "9            0\n",
       "10           0\n",
       "11           0\n",
       "12           0\n",
       "13           0\n",
       "14           0\n",
       "15           0\n",
       "16           0\n",
       "17           0\n",
       "18           0\n",
       "19           0\n",
       "20           0\n",
       "21           0\n",
       "22           0\n",
       "23           0\n",
       "24           0\n",
       "25           0\n",
       "26           0\n",
       "27           0\n",
       "28           0\n",
       "29           0\n",
       "          ... \n",
       "782870    7128\n",
       "782871    7128\n",
       "782872    7128\n",
       "782873    7128\n",
       "782874    7128\n",
       "782875    7128\n",
       "782876    7128\n",
       "782877    7128\n",
       "782878    7128\n",
       "782879    7128\n",
       "782880    7128\n",
       "782881    7128\n",
       "782882    7128\n",
       "782883    7128\n",
       "782884    7128\n",
       "782885    7128\n",
       "782886    7128\n",
       "782887    7128\n",
       "782888    7128\n",
       "782889    7128\n",
       "782890    7128\n",
       "782891    7128\n",
       "782892    7128\n",
       "782893    7128\n",
       "782894    7128\n",
       "782895    7128\n",
       "782896    7128\n",
       "782897    7128\n",
       "782898    7128\n",
       "782899    7128\n",
       "Name: time, Length: 782900, dtype: int64"
      ]
     },
     "execution_count": 20,
     "metadata": {},
     "output_type": "execute_result"
    }
   ],
   "source": [
    "stats['time']"
   ]
  },
  {
   "cell_type": "markdown",
   "metadata": {},
   "source": [
    "## Part 3 : Draw the heatmap"
   ]
  },
  {
   "cell_type": "code",
   "execution_count": 21,
   "metadata": {},
   "outputs": [],
   "source": [
    "# df=pd.read_csv('locations.csv', low_memory=False, index_col = 'key')  # read geocoded location from file\n",
    "v_lat_long = dataset[['center_lat','center_long']]\n",
    "v_weight = dataset['traf_halted_veh_num']"
   ]
  },
  {
   "cell_type": "markdown",
   "metadata": {},
   "source": [
    "### Drawing the map\n",
    "To call the function drawHeatMap, set up the parameters and call the function to draw the heatmap. You can experiment with different parameter values. The result map can also be saved as PNG file."
   ]
  },
  {
   "cell_type": "code",
   "execution_count": 22,
   "metadata": {},
   "outputs": [
    {
     "data": {
      "application/vnd.jupyter.widget-view+json": {
       "model_id": "632d75c62c5140bcbcda1978b85ac20a",
       "version_major": 2,
       "version_minor": 0
      },
      "text/plain": [
       "Figure(layout=FigureLayout(height='420px'))"
      ]
     },
     "metadata": {},
     "output_type": "display_data"
    }
   ],
   "source": [
    "# set up parameters\n",
    "zoom=13\n",
    "max_intensity=float(np.max(v_weight))\n",
    "radius=10\n",
    "\n",
    "# call the function to draw the heatmap\n",
    "drawHeatMap('Alcala de Henares', v_lat_long, v_weight, zoom, max_intensity, radius)"
   ]
  }
 ],
 "metadata": {
  "anaconda-cloud": {},
  "kernelspec": {
   "display_name": "Python 3",
   "language": "python",
   "name": "python3"
  },
  "language_info": {
   "codemirror_mode": {
    "name": "ipython",
    "version": 3
   },
   "file_extension": ".py",
   "mimetype": "text/x-python",
   "name": "python",
   "nbconvert_exporter": "python",
   "pygments_lexer": "ipython3",
   "version": "3.6.5"
  }
 },
 "nbformat": 4,
 "nbformat_minor": 1
}
