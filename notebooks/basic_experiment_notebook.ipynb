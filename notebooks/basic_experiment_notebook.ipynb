{
 "cells": [
  {
   "cell_type": "markdown",
   "metadata": {},
   "source": [
    "# BASTRA NOTEBOOK"
   ]
  },
  {
   "cell_type": "markdown",
   "metadata": {},
   "source": [
    "En este *notebook* vamos a trabajar con los datos generados por las simulaciones de BASTRA.\n",
    "Los datos se agruparán por escenarios."
   ]
  },
  {
   "cell_type": "markdown",
   "metadata": {},
   "source": [
    "Autor: Alvaro Paricio. sept.2016"
   ]
  },
  {
   "cell_type": "markdown",
   "metadata": {},
   "source": [
    "## Preliminares"
   ]
  },
  {
   "cell_type": "markdown",
   "metadata": {},
   "source": [
    "Antes de ejecutar los escenarios es preciso hacer las correspondienes importaciones de módulos de python para cálculo científico."
   ]
  },
  {
   "cell_type": "markdown",
   "metadata": {},
   "source": [
    "### Imports"
   ]
  },
  {
   "cell_type": "code",
   "execution_count": 1,
   "metadata": {
    "collapsed": false
   },
   "outputs": [],
   "source": [
    "%matplotlib inline\n",
    "\n",
    "import numpy as np\n",
    "import matplotlib.pyplot as plt\n",
    "import matplotlib.mlab as mlab\n",
    "import sklearn as sk\n",
    "import pandas as pd"
   ]
  },
  {
   "cell_type": "markdown",
   "metadata": {},
   "source": [
    "### Function declarations"
   ]
  },
  {
   "cell_type": "code",
   "execution_count": null,
   "metadata": {
    "collapsed": true
   },
   "outputs": [],
   "source": []
  },
  {
   "cell_type": "markdown",
   "metadata": {},
   "source": [
    "## Escenario TAPAS"
   ]
  },
  {
   "cell_type": "markdown",
   "metadata": {},
   "source": [
    "(incluir la descripción)"
   ]
  },
  {
   "cell_type": "code",
   "execution_count": 2,
   "metadata": {
    "collapsed": false
   },
   "outputs": [
    {
     "data": {
      "text/html": [
       "<div>\n",
       "<table border=\"1\" class=\"dataframe\">\n",
       "  <thead>\n",
       "    <tr style=\"text-align: right;\">\n",
       "      <th></th>\n",
       "      <th>id</th>\n",
       "      <th>t_depart_secs</th>\n",
       "      <th>t_arrival_secs</th>\n",
       "      <th>t_traveltime_secs</th>\n",
       "      <th>origin</th>\n",
       "      <th>destiny</th>\n",
       "      <th>route_detail</th>\n",
       "      <th>route_path_num</th>\n",
       "      <th>is_attended</th>\n",
       "      <th>has_finished</th>\n",
       "    </tr>\n",
       "  </thead>\n",
       "  <tbody>\n",
       "    <tr>\n",
       "      <th>0</th>\n",
       "      <td>2304</td>\n",
       "      <td>0</td>\n",
       "      <td>241</td>\n",
       "      <td>241</td>\n",
       "      <td>1/11to2/11</td>\n",
       "      <td>11/3to12/3</td>\n",
       "      <td>1/11to2/11:2/11to3/11:3/11to4/11:4/11to5/11:5/...</td>\n",
       "      <td>19</td>\n",
       "      <td>False</td>\n",
       "      <td>True</td>\n",
       "    </tr>\n",
       "    <tr>\n",
       "      <th>1</th>\n",
       "      <td>3126</td>\n",
       "      <td>0</td>\n",
       "      <td>161</td>\n",
       "      <td>161</td>\n",
       "      <td>bottom7to7/0</td>\n",
       "      <td>10/9to10/10</td>\n",
       "      <td>bottom7to7/0:7/0to7/1:7/1to7/2:7/2to7/3:7/3to7...</td>\n",
       "      <td>14</td>\n",
       "      <td>True</td>\n",
       "      <td>True</td>\n",
       "    </tr>\n",
       "    <tr>\n",
       "      <th>2</th>\n",
       "      <td>74</td>\n",
       "      <td>0</td>\n",
       "      <td>373</td>\n",
       "      <td>373</td>\n",
       "      <td>left15to0/15</td>\n",
       "      <td>15/0tobottom15</td>\n",
       "      <td>left15to0/15:0/15to0/14:0/14to0/13:0/13to0/12:...</td>\n",
       "      <td>32</td>\n",
       "      <td>True</td>\n",
       "      <td>True</td>\n",
       "    </tr>\n",
       "    <tr>\n",
       "      <th>3</th>\n",
       "      <td>65</td>\n",
       "      <td>0</td>\n",
       "      <td>382</td>\n",
       "      <td>382</td>\n",
       "      <td>left15to0/15</td>\n",
       "      <td>15/0tobottom15</td>\n",
       "      <td>left15to0/15:0/15to0/14:0/14to0/13:0/13to0/12:...</td>\n",
       "      <td>32</td>\n",
       "      <td>True</td>\n",
       "      <td>True</td>\n",
       "    </tr>\n",
       "    <tr>\n",
       "      <th>4</th>\n",
       "      <td>690</td>\n",
       "      <td>0</td>\n",
       "      <td>35</td>\n",
       "      <td>35</td>\n",
       "      <td>13/7to14/7</td>\n",
       "      <td>14/6to14/5</td>\n",
       "      <td>13/7to14/7:14/7to14/6:14/6to14/5:</td>\n",
       "      <td>3</td>\n",
       "      <td>True</td>\n",
       "      <td>True</td>\n",
       "    </tr>\n",
       "  </tbody>\n",
       "</table>\n",
       "</div>"
      ],
      "text/plain": [
       "     id  t_depart_secs  t_arrival_secs  t_traveltime_secs        origin  \\\n",
       "0  2304              0             241                241    1/11to2/11   \n",
       "1  3126              0             161                161  bottom7to7/0   \n",
       "2    74              0             373                373  left15to0/15   \n",
       "3    65              0             382                382  left15to0/15   \n",
       "4   690              0              35                 35    13/7to14/7   \n",
       "\n",
       "          destiny                                       route_detail  \\\n",
       "0      11/3to12/3  1/11to2/11:2/11to3/11:3/11to4/11:4/11to5/11:5/...   \n",
       "1     10/9to10/10  bottom7to7/0:7/0to7/1:7/1to7/2:7/2to7/3:7/3to7...   \n",
       "2  15/0tobottom15  left15to0/15:0/15to0/14:0/14to0/13:0/13to0/12:...   \n",
       "3  15/0tobottom15  left15to0/15:0/15to0/14:0/14to0/13:0/13to0/12:...   \n",
       "4      14/6to14/5                  13/7to14/7:14/7to14/6:14/6to14/5:   \n",
       "\n",
       "   route_path_num is_attended has_finished  \n",
       "0              19       False         True  \n",
       "1              14        True         True  \n",
       "2              32        True         True  \n",
       "3              32        True         True  \n",
       "4               3        True         True  "
      ]
     },
     "execution_count": 2,
     "metadata": {},
     "output_type": "execute_result"
    }
   ],
   "source": [
    "dir = \"/Users/alvaro/Desktop/workspace/mutraff/uah-gist-mutraff-bastra/\"\n",
    "# experiment = \"data_TAPAS_160923_105800\"\n",
    "experiment = \"data_Grid_160926_124432\"\n",
    "datafile = dir + \"/\" + experiment + \"/statistics.dat\"\n",
    "\n",
    "# ds = dataset\n",
    "ds_raw = pd.read_csv(datafile)\n",
    "ds_raw.head()"
   ]
  },
  {
   "cell_type": "markdown",
   "metadata": {},
   "source": [
    "Process and prepare data in ds \"dataset\":\n",
    "    * Select those cars that finish the trip, i.e. have arrive time > 0."
   ]
  },
  {
   "cell_type": "code",
   "execution_count": 3,
   "metadata": {
    "collapsed": false,
    "scrolled": true
   },
   "outputs": [
    {
     "data": {
      "text/html": [
       "<div>\n",
       "<table border=\"1\" class=\"dataframe\">\n",
       "  <thead>\n",
       "    <tr style=\"text-align: right;\">\n",
       "      <th></th>\n",
       "      <th>id</th>\n",
       "      <th>t_depart_secs</th>\n",
       "      <th>t_arrival_secs</th>\n",
       "      <th>t_traveltime_secs</th>\n",
       "      <th>origin</th>\n",
       "      <th>destiny</th>\n",
       "      <th>route_detail</th>\n",
       "      <th>route_path_num</th>\n",
       "      <th>is_attended</th>\n",
       "      <th>has_finished</th>\n",
       "    </tr>\n",
       "  </thead>\n",
       "  <tbody>\n",
       "    <tr>\n",
       "      <th>0</th>\n",
       "      <td>2304</td>\n",
       "      <td>0</td>\n",
       "      <td>241</td>\n",
       "      <td>241</td>\n",
       "      <td>1/11to2/11</td>\n",
       "      <td>11/3to12/3</td>\n",
       "      <td>1/11to2/11:2/11to3/11:3/11to4/11:4/11to5/11:5/...</td>\n",
       "      <td>19</td>\n",
       "      <td>False</td>\n",
       "      <td>True</td>\n",
       "    </tr>\n",
       "    <tr>\n",
       "      <th>1</th>\n",
       "      <td>3126</td>\n",
       "      <td>0</td>\n",
       "      <td>161</td>\n",
       "      <td>161</td>\n",
       "      <td>bottom7to7/0</td>\n",
       "      <td>10/9to10/10</td>\n",
       "      <td>bottom7to7/0:7/0to7/1:7/1to7/2:7/2to7/3:7/3to7...</td>\n",
       "      <td>14</td>\n",
       "      <td>True</td>\n",
       "      <td>True</td>\n",
       "    </tr>\n",
       "    <tr>\n",
       "      <th>2</th>\n",
       "      <td>74</td>\n",
       "      <td>0</td>\n",
       "      <td>373</td>\n",
       "      <td>373</td>\n",
       "      <td>left15to0/15</td>\n",
       "      <td>15/0tobottom15</td>\n",
       "      <td>left15to0/15:0/15to0/14:0/14to0/13:0/13to0/12:...</td>\n",
       "      <td>32</td>\n",
       "      <td>True</td>\n",
       "      <td>True</td>\n",
       "    </tr>\n",
       "    <tr>\n",
       "      <th>3</th>\n",
       "      <td>65</td>\n",
       "      <td>0</td>\n",
       "      <td>382</td>\n",
       "      <td>382</td>\n",
       "      <td>left15to0/15</td>\n",
       "      <td>15/0tobottom15</td>\n",
       "      <td>left15to0/15:0/15to0/14:0/14to0/13:0/13to0/12:...</td>\n",
       "      <td>32</td>\n",
       "      <td>True</td>\n",
       "      <td>True</td>\n",
       "    </tr>\n",
       "    <tr>\n",
       "      <th>4</th>\n",
       "      <td>690</td>\n",
       "      <td>0</td>\n",
       "      <td>35</td>\n",
       "      <td>35</td>\n",
       "      <td>13/7to14/7</td>\n",
       "      <td>14/6to14/5</td>\n",
       "      <td>13/7to14/7:14/7to14/6:14/6to14/5:</td>\n",
       "      <td>3</td>\n",
       "      <td>True</td>\n",
       "      <td>True</td>\n",
       "    </tr>\n",
       "  </tbody>\n",
       "</table>\n",
       "</div>"
      ],
      "text/plain": [
       "     id  t_depart_secs  t_arrival_secs  t_traveltime_secs        origin  \\\n",
       "0  2304              0             241                241    1/11to2/11   \n",
       "1  3126              0             161                161  bottom7to7/0   \n",
       "2    74              0             373                373  left15to0/15   \n",
       "3    65              0             382                382  left15to0/15   \n",
       "4   690              0              35                 35    13/7to14/7   \n",
       "\n",
       "          destiny                                       route_detail  \\\n",
       "0      11/3to12/3  1/11to2/11:2/11to3/11:3/11to4/11:4/11to5/11:5/...   \n",
       "1     10/9to10/10  bottom7to7/0:7/0to7/1:7/1to7/2:7/2to7/3:7/3to7...   \n",
       "2  15/0tobottom15  left15to0/15:0/15to0/14:0/14to0/13:0/13to0/12:...   \n",
       "3  15/0tobottom15  left15to0/15:0/15to0/14:0/14to0/13:0/13to0/12:...   \n",
       "4      14/6to14/5                  13/7to14/7:14/7to14/6:14/6to14/5:   \n",
       "\n",
       "   route_path_num is_attended has_finished  \n",
       "0              19       False         True  \n",
       "1              14        True         True  \n",
       "2              32        True         True  \n",
       "3              32        True         True  \n",
       "4               3        True         True  "
      ]
     },
     "execution_count": 3,
     "metadata": {},
     "output_type": "execute_result"
    }
   ],
   "source": [
    "ds = ds_raw.loc[ ds_raw['t_arrival_secs'] > 0 ]\n",
    "ds.head()"
   ]
  },
  {
   "cell_type": "code",
   "execution_count": 12,
   "metadata": {
    "collapsed": false
   },
   "outputs": [
    {
     "data": {
      "image/png": "[encoded data removed]",
      "text/plain": [
       "<matplotlib.figure.Figure at 0x11ab16550>"
      ]
     },
     "metadata": {},
     "output_type": "display_data"
    }
   ],
   "source": [
    "travel_times = ds['t_traveltime_secs']\n",
    "# plt.hist(travel_times, bins=np.arange(travel_times.min(), travel_times.max()+1))\n",
    "cols = 50\n",
    "y_vals, x_bins, patches = plt.hist(travel_times, cols, normed=0, facecolor='green', alpha=0.75)\n",
    "\n",
    "# add a 'best fit' line\n",
    "y1_vals = np.append( y_vals, y_vals[cols-1] )\n",
    "# print( \"X-VALS: \", len(x_bins), \" \", x_bins.__repr__, \"\\n\", x_bins, )\n",
    "# print( \"Y_VALS: \", len(y1_vals), \" \", y1_vals.__repr__, \"\\n\", y1_vals )\n",
    "l = plt.plot(x_bins, y1_vals, 'r--', linewidth=2)\n",
    "\n",
    "plt.xlabel('Travel Time')\n",
    "plt.ylabel('Frecuency')\n",
    "plt.title(r'$\\mathrm{Histogram\\ of\\ Travel Times. Experiment: }\\ $' + experiment )\n",
    "\n",
    "# plt.axis([travel_times.min(), travel_times.max()+1, 0, 0.03])\n",
    "plt.grid(True)\n",
    "\n",
    "# If plotting OUTSIDE the notebook, set interactive mode ON/OFF\n",
    "# plt.ioff()\n",
    "# plt.ion()\n",
    "\n",
    "plt.show()"
   ]
  },
  {
   "cell_type": "code",
   "execution_count": null,
   "metadata": {
    "collapsed": true
   },
   "outputs": [],
   "source": []
  }
 ],
 "metadata": {
  "anaconda-cloud": {},
  "kernelspec": {
   "display_name": "Python [Root]",
   "language": "python",
   "name": "Python [Root]"
  },
  "language_info": {
   "codemirror_mode": {
    "name": "ipython",
    "version": 3
   },
   "file_extension": ".py",
   "mimetype": "text/x-python",
   "name": "python",
   "nbconvert_exporter": "python",
   "pygments_lexer": "ipython3",
   "version": "3.5.2"
  }
 },
 "nbformat": 4,
 "nbformat_minor": 0
}
