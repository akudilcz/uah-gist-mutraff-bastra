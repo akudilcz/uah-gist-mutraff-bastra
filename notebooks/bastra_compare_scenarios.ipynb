{
 "cells": [
  {
   "cell_type": "markdown",
   "metadata": {
    "slideshow": {
     "slide_type": "slide"
    }
   },
   "source": [
    "# BASTRA COMPARE SCENARIOS\n",
    "Compares two traffic scenarios data analysis based on BASTRA simulator.\n",
    "\n",
    "Author: Alvaro Paricio. sept.2016\n",
    "\n",
    "## References\n",
    "* For Wilcoxon tests:\n",
    "    * http://docs.scipy.org/doc/scipy-0.14.0/reference/generated/scipy.stats.wilcoxon.html\n",
    "    * https://gist.github.com/mblondel/1761714\n",
    "    * http://www.randalolson.com/2012/08/06/statistical-analysis-made-easy-in-python/"
   ]
  },
  {
   "cell_type": "code",
   "execution_count": 1,
   "metadata": {
    "collapsed": false
   },
   "outputs": [
    {
     "data": {
      "text/html": [
       "<script>jQuery(function() {if (jQuery(\"body.notebook_app\").length == 0) { jQuery(\".input_area\").toggle(); jQuery(\".prompt\").toggle();}});</script>"
      ]
     },
     "metadata": {},
     "output_type": "display_data"
    },
    {
     "data": {
      "text/html": [
       "<button onclick=\"jQuery('.input_area').toggle(); jQuery('.prompt').toggle();\">Toggle code</button>"
      ]
     },
     "metadata": {},
     "output_type": "display_data"
    }
   ],
   "source": [
    "from IPython.display import display\n",
    "from IPython.display import HTML\n",
    "import IPython.core.display as di\n",
    "\n",
    "# This line will hide code by default when the notebook is exported as HTML\n",
    "di.display_html('<script>jQuery(function() {if (jQuery(\"body.notebook_app\").length == 0) { jQuery(\".input_area\").toggle(); jQuery(\".prompt\").toggle();}});</script>', raw=True)\n",
    "\n",
    "# This line will add a button to toggle visibility of code blocks, for use with the HTML export version\n",
    "di.display_html('''<button onclick=\"jQuery('.input_area').toggle(); jQuery('.prompt').toggle();\">Toggle code</button>''', raw=True)"
   ]
  },
  {
   "cell_type": "code",
   "execution_count": 67,
   "metadata": {
    "collapsed": true
   },
   "outputs": [],
   "source": [
    "# OPTIONS\n",
    "flag_show_scenarios = True\n",
    "flag_show_fleets = False\n",
    "flag_show_heat_maps = False\n",
    "flag_show_heat_maps_speed = False\n",
    "flag_show_demand_stats = True\n",
    "flag_show_traveltime_stats = True\n",
    "flag_show_route_stats = True\n",
    "flag_show_paired_stats = True\n",
    "flag_show_paired_histo_secs = True\n",
    "flag_show_paired_histo_perc = True\n",
    "flag_show_paired_histo_usage = True\n",
    "flag_show_paired_histo_cumsum = True\n",
    "flag_paired_stats_save_csv = False\n",
    "flag_display_gmaps = False\n",
    "\n",
    "conf_paired_stats_confidence = 0.05\n",
    "conf_single_stats_confidence = 0.05\n"
   ]
  },
  {
   "cell_type": "code",
   "execution_count": 3,
   "metadata": {
    "collapsed": true
   },
   "outputs": [],
   "source": [
    "## Scenarios setup"
   ]
  },
  {
   "cell_type": "code",
   "execution_count": 4,
   "metadata": {
    "collapsed": true
   },
   "outputs": [],
   "source": [
    "BASTRA_PATH=\"/Users/alvaro/Desktop/workspace/mutraff/uah-gist-mutraff-bastra\"\n",
    "label1=\"GRID16/MuTRAFF OFF/full traffic\"\n",
    "label2=\"GRID16/MuTRAFF ON/full traffic/1MAP/random5/logit100\"\n",
    "\n",
    "# Bastra L con 1 mapa\n",
    "experiment1=\"grid16_noBastra_nomaps_fulltraffic_161114_125258\"\n",
    "experiment2=\"grid16_Bastra_rand05x1_timeALL_fulltraffic_logit05_161114_131513\"\n",
    "\n",
    "# Extra-Large con 2 lanes por edge + con 8 mapas\n",
    "experiment1=\"XL2_grid16_Bastra_rand05x8_timeALL_fulltraffic_logit50_161114_190405\"\n",
    "experiment2=\"XL2_grid16_Bastra_rand05x8_timeALL_fulltraffic_logit100_161114_183734\"\n",
    "\n",
    "\n",
    "# Small con 8 mapas\n",
    "experiment1=\"S_grid16_noBastra_reference_fulltraffic_161114_115215\"\n",
    "experiment2=\"S_grid16_Bastra_rand05x8_timeALL_fulltraffic_logit50_161114_114837\"\n",
    "experiment2=\"S_grid16_Bastra_rand05x8_timeALL_fulltraffic_logit100_161114_114102\""
   ]
  },
  {
   "cell_type": "code",
   "execution_count": 5,
   "metadata": {
    "collapsed": true
   },
   "outputs": [],
   "source": [
    "# Experimento con los 8 mapas puestos = pesos de referencia --> deberia dar lo mismo que sin Bastra o con reference maps\n",
    "experiment1=\"S_grid16_noBastra_reference_fulltraffic_161114_115215\"\n",
    "experiment2=\"S_grid16_Bastra_rand05x8_timeALL_fulltraffic_logit100_161114_194134\""
   ]
  },
  {
   "cell_type": "code",
   "execution_count": 6,
   "metadata": {
    "collapsed": true
   },
   "outputs": [],
   "source": [
    "# Extra-Small para no saturar y 8 mapas random (500 + 4x200)\n",
    "experiment1=\"XS_grid16_Bastra_rand05x8_timeALL_fulltraffic_logit10_161115_092404\"\n",
    "experiment1=\"XS_grid16_noBastra_reference_fulltraffic_161114_223026\"\n",
    "\n",
    "experiment2=\"XS_grid16_Bastra_rand05x8_timeALL_fulltraffic_logit05_161115_092039\"\n",
    "experiment2=\"XS_grid16_Bastra_rand05x8_timeALL_fulltraffic_logit10_161115_092404\"\n",
    "experiment2=\"XS_grid16_Bastra_rand05x8_timeALL_fulltraffic_logit20_161115_092738\"\n",
    "experiment2=\"XS_grid16_Bastra_rand05x8_timeALL_fulltraffic_logit50_161115_093115\"\n",
    "experiment1=\"XS_grid16_Bastra_rand05x8_timeALL_fulltraffic_logit50_161115_093115\"\n",
    "experiment2=\"XS_grid16_Bastra_rand05x8_timeALL_fulltraffic_logit100_161115_093432\"\n",
    "\n"
   ]
  },
  {
   "cell_type": "code",
   "execution_count": 7,
   "metadata": {
    "collapsed": true
   },
   "outputs": [],
   "source": [
    "# 2 LANES con trafico grid16 normal (2000 + 4x200)\n",
    "experiment1=\"grid16_noBastra_reference_fulltraffic_161115_110544\"\n",
    "# experiment1=\"XL2_grid16_noBastra_reference_fulltraffic_161115_092630\"\n",
    "experiment2=\"XL2_grid16_Bastra_rand05x8_timeALL_fulltraffic_logit50_161115_093151\"\n",
    "experiment2=\"XL2_grid16_Bastra_rand05x8_timeALL_fulltraffic_logit100_161115_093621\"\n"
   ]
  },
  {
   "cell_type": "code",
   "execution_count": 8,
   "metadata": {
    "collapsed": true
   },
   "outputs": [],
   "source": [
    "# 2 LANES con tráfico grid16 L (3000 + 4x200)\n",
    "experiment1=\"grid16_noBastra_reference_fulltraffic_161115_164807\"\n",
    "experiment2=\"XL2_grid16_Bastra_rand05x8_timeALL_fulltraffic_logit50_161115_133434\"\n",
    "experiment2=\"XL2_grid16_Bastra_rand05x8_timeALL_fulltraffic_logit100_161115_134312\"\n",
    "experiment2=\"XL2_grid16_noBastra_reference_fulltraffic_161115_132611\"\n"
   ]
  },
  {
   "cell_type": "code",
   "execution_count": 9,
   "metadata": {
    "collapsed": true
   },
   "outputs": [],
   "source": [
    "# A* Routing algorithms comparison\n",
    "experiment1=\"grid16_noBastra_reference_fulltraffic_161115_192127\"\n",
    "experiment1=\"grid16_noBastraAstar_reference_fulltraffic_161115_191754\"\n",
    "experiment2=\"grid16_BastraAstar_rand05x8_timeALL_fulltraffic_logit20_161115_222212\"\n",
    "experiment2=\"grid16_BastraAstar_rand05x8_timeALL_fulltraffic_logit50_161115_223541\"\n",
    "experiment2=\"grid16_BastraAstar_rand05x8_timeALL_fulltraffic_logit100_161115_225023\"\n"
   ]
  },
  {
   "cell_type": "code",
   "execution_count": 10,
   "metadata": {
    "collapsed": true
   },
   "outputs": [],
   "source": [
    "# A* Routing algorithms comparison\n",
    "\n",
    "# First experiments:\n",
    "experiment1=\"grid16_noBastra_reference_fulltraffic_161115_192127\"\n",
    "experiment1=\"grid16_noBastraAstar_reference_fulltraffic_161115_191754\"\n",
    "#experiment2=\"grid16_BastraAstar_rand05x8_timeALL_fulltraffic_logit20_161115_222212\"\n",
    "#experiment2=\"grid16_BastraAstar_rand05x8_timeALL_fulltraffic_logit50_161115_223541\"\n",
    "#experiment2=\"grid16_BastraAstar_rand05x8_timeALL_fulltraffic_logit100_161115_225023\"\n",
    "\n",
    "# Second experiments:\n",
    "experiment1=\"grid16_noBastraAstar_reference_fulltraffic_161115_191754\"\n",
    "experiment1=\"grid16_noBastraAstar_reference_fulltraffic_161121_095357\"\n",
    "experiment2=\"grid16_BastraAstar_rand05x8_timeALL_fulltraffic_logit20_161121_100716\"\n",
    "# experiment2=\"grid16_BastraAstar_rand05x8_timeALL_fulltraffic_logit50_161121_101535\"\n",
    "# experiment2=\"grid16_BastraAstar_rand05x8_timeALL_fulltraffic_logit100_161121_102631\"\n"
   ]
  },
  {
   "cell_type": "code",
   "execution_count": 73,
   "metadata": {
    "collapsed": true
   },
   "outputs": [],
   "source": [
    "# ALCALA DE HENARES EXPERIMENTS\n",
    "# alcalahenares_noBastra_nomaps_fulltraffic_161216_110525\n",
    "# alcalahenares_L_Bastra_uni1x8_timeALL_fulltraffic_logit50_161216_114129\n",
    "# alcalahenares_L_Bastra_uni5x8_timeALL_fulltraffic_logit50_161216_121730\n",
    "# alcalahenares_L_Bastra_uni5x16_timeALL_fulltraffic_logit50_161216_153926\n",
    "\n",
    "experiment1=\"alcalahenares_noBastra_nomaps_fulltraffic_161216_181131\"\n",
    "experiment2=\"alcalahenares_L_Bastra_uni1x8_timeALL_fulltraffic_logit50_161216_182824\""
   ]
  },
  {
   "cell_type": "code",
   "execution_count": 12,
   "metadata": {
    "collapsed": false,
    "slideshow": {
     "slide_type": "fragment"
    }
   },
   "outputs": [],
   "source": [
    "## IMPORTS\n",
    "\n",
    "%matplotlib inline\n",
    "\n",
    "import fileinput\n",
    "import re\n",
    "import numpy as np\n",
    "import matplotlib.pyplot as plt\n",
    "import matplotlib.mlab as mlab\n",
    "import matplotlib.lines as mlines\n",
    "import matplotlib as mpl\n",
    "from IPython.display import display, HTML\n",
    "# from scipy.stats import ttest_1samp, wilcoxon, ttest_ind, mannwhitneyu\n",
    "from scipy import stats as st\n",
    "\n",
    "import sklearn as sk\n",
    "import pandas as pd"
   ]
  },
  {
   "cell_type": "code",
   "execution_count": 13,
   "metadata": {
    "collapsed": true,
    "slideshow": {
     "slide_type": "subslide"
    }
   },
   "outputs": [],
   "source": [
    "### Functions"
   ]
  },
  {
   "cell_type": "code",
   "execution_count": 14,
   "metadata": {
    "collapsed": false
   },
   "outputs": [
    {
     "data": {
      "text/html": [
       "<script>jQuery(function() {if (jQuery(\"body.notebook_app\").length == 0) { jQuery(\".input_area\").toggle(); jQuery(\".prompt\").toggle();}});</script>"
      ]
     },
     "metadata": {},
     "output_type": "display_data"
    },
    {
     "data": {
      "text/html": [
       "<button onclick=\"jQuery('.input_area').toggle(); jQuery('.prompt').toggle();\">Toggle code</button>"
      ]
     },
     "metadata": {},
     "output_type": "display_data"
    }
   ],
   "source": [
    "# Toggle CODE ON/OFF\n",
    "from IPython.display import display\n",
    "from IPython.display import HTML\n",
    "import IPython.core.display as di\n",
    "\n",
    "# This line will hide code by default when the notebook is exported as HTML\n",
    "di.display_html('<script>jQuery(function() {if (jQuery(\"body.notebook_app\").length == 0) { jQuery(\".input_area\").toggle(); jQuery(\".prompt\").toggle();}});</script>', raw=True)\n",
    "\n",
    "# This line will add a button to toggle visibility of code blocks, for use with the HTML export version\n",
    "di.display_html('''<button onclick=\"jQuery('.input_area').toggle(); jQuery('.prompt').toggle();\">Toggle code</button>''', raw=True)"
   ]
  },
  {
   "cell_type": "code",
   "execution_count": 15,
   "metadata": {
    "collapsed": true
   },
   "outputs": [],
   "source": [
    "# Reporting functions\n",
    "\n",
    "idx1=0\n",
    "idx2=0\n",
    "idx3=0\n",
    "def print_h0( title ):\n",
    "    global idx1, idx2, idx3\n",
    "    display(HTML(\"<h2>\"+ title + \"</h2>\"))\n",
    "    display(HTML(\"<style>div.output_subarea table {font-size: 10px;}</style>\"))\n",
    "\n",
    "    idx1 = 0\n",
    "    idx2 = 0\n",
    "    idx3 = 0\n",
    "\n",
    "def print_h1( title, chapter ):\n",
    "    global idx1, idx2, idx3\n",
    "    idx1 +=1\n",
    "    idx2 = 0\n",
    "    idx3 = 0\n",
    "    display(HTML(\"<h4>\"+str(idx1)+\". \"+ title+\". \"+ chapter + \"</h4>\"))\n",
    "\n",
    "def print_h2( title, chapter ):\n",
    "    global idx1, idx2, idx3\n",
    "    idx2 +=1\n",
    "    idx3 = 0\n",
    "    display(HTML(\"<h5>\"+str(idx1)+\".\"+str(idx2)+\". \"+ title+\". \"+ chapter + \"</h5>\"))\n",
    "\n",
    "def print_h3( title, chapter ):\n",
    "    global idx1, idx2, idx3\n",
    "    idx3 +=1\n",
    "    display(HTML(\"<h6>\"+str(idx1)+\".\"+str(idx2)+\".\"+str(idx3)+\". \"+ title+\". \"+ chapter + \"</h6>\"))\n"
   ]
  },
  {
   "cell_type": "code",
   "execution_count": 16,
   "metadata": {
    "collapsed": false
   },
   "outputs": [],
   "source": [
    "#### Function str_vals_percent\n",
    "# Given two values, print them with their percent difference\n",
    "def str_val( n ):\n",
    "    return \"{0:.2f}\".format(n)\n",
    "def str_perc( n1, n2 ):\n",
    "    txt = \"{0:.2f}\".format((n2-n1)*100/n1) + \"%\"\n",
    "    return txt\n",
    "def str_vals_percent( n1, n2 ):\n",
    "    return \"[\" + str_val(n1) + \",\" + str_val(n2) +\"] \"+ str_perc( n1, n2 ) "
   ]
  },
  {
   "cell_type": "code",
   "execution_count": 17,
   "metadata": {
    "collapsed": true
   },
   "outputs": [],
   "source": [
    "#### Function dataset_obtain_unique_fleets\n",
    "# Extract unique values for 'veh_types' column from the datasets.\n",
    "#\n",
    "# Support 0,1,2 datasets. Easy to extend to more dataserts. Not needed by now.\n",
    "def dataset_obtain_unique_fleets( *ds ):\n",
    "    size = len(ds)\n",
    "    if( len(ds) == 0):\n",
    "        return []\n",
    "    if( len(ds) == 1):\n",
    "        return ds[0]['veh_type'].unique()\n",
    "    if( len(ds) == 2):\n",
    "        vt1 = ds[0]['veh_type'].unique()\n",
    "        vt2 = ds[1]['veh_type'].unique()\n",
    "        return list(set().union(vt2, vt2))"
   ]
  },
  {
   "cell_type": "code",
   "execution_count": 18,
   "metadata": {
    "collapsed": true
   },
   "outputs": [],
   "source": [
    "#### Function dataset_filter_per_veh_type\n",
    "# Filter a dataset per type of veh_type\n",
    "def dataset_filter_per_veh_type(ds, vt):\n",
    "    return ds.loc[ ds['veh_type']==vt ]"
   ]
  },
  {
   "cell_type": "code",
   "execution_count": 63,
   "metadata": {
    "collapsed": false
   },
   "outputs": [],
   "source": [
    "def compare_values(diff,op):\n",
    "  if( diff==0):\n",
    "    return \"hasn't changed\"\n",
    "  if( op == '>'):\n",
    "    return \"has improved\" if diff>0 else \"gets worse\"\n",
    "  if( op == '<'):\n",
    "    return \"has improved\" if diff<0 else \"gets worse\"\n",
    "  return \"\"\n",
    "\n",
    "#### Function printPairedStats\n",
    "# Print paired statistics for two data sets\n",
    "# Print Statistics for paired values\n",
    "def printPairedStats( title, label1, ds_raw1, label2, ds_raw2 ):\n",
    "    if( not flag_show_paired_stats ):\n",
    "        return\n",
    "\n",
    "    confidence_str = str(conf_paired_stats_confidence)+\"%\"\n",
    "    # Copy DataFrames and change column names\n",
    "    ds1 = ds_raw1.loc[ ds_raw1['t_arrival_secs'] > 0 ].copy()\n",
    "    # WARNING: CHECK WITH THIS SENTENCE THAT EVERYTHIGN IS CORRECT: print(ds1.columns)\n",
    "    ds1.columns = ['id1','veh_type1','t_depart_secs1','t_arrival_secs1','t_traveltime_secs1',\n",
    "                   'origin1','destiny1', 'route_calc_num1',\n",
    "                   'route_detail1','route_path_num1','route_distance1','is_attended1','has_finished1',\n",
    "                   'maps1','tripfile1']\n",
    "    ds2 = ds_raw2.loc[ ds_raw2['t_arrival_secs'] > 0 ].copy()\n",
    "    ds2.columns = ['id2','veh_type2','t_depart_secs2','t_arrival_secs2','t_traveltime_secs2',\n",
    "                   'origin2','destiny2', 'route_calc_num2',\n",
    "                   'route_detail2','route_path_num2','route_distance2','is_attended2','has_finished2',\n",
    "                   'maps2','tripfile2']\n",
    "\n",
    "    # Inner join for vehicles that completed in both scenarios\n",
    "    ds3 = pd.merge(left=ds1,right=ds2, left_on='id1', right_on='id2')\n",
    "    ds3['diff_traveltime_secs']=ds3['t_traveltime_secs1']-ds3['t_traveltime_secs2']\n",
    "    # percent\n",
    "    ds3['diff_traveltime_perc']=100.0*ds3['diff_traveltime_secs']/ds3['t_traveltime_secs1']\n",
    "\n",
    "    # Inner join for vehicles that completed and used MUTRAFF in both scenarios\n",
    "    # ds4 used Mutraff\n",
    "    # ds5 didn't use Mutraff\n",
    "    ds4 = ds3.loc[ ds3['is_attended2'] == True ].copy()\n",
    "    ds5 = ds3.loc[ ds3['is_attended2'] == False ].copy()\n",
    "\n",
    "    travel_times1 = ds3['t_traveltime_secs1']\n",
    "    travel_times2 = ds3['t_traveltime_secs2']\n",
    "\n",
    "    # --- VARIANCE COMPARISON STATISTICS\n",
    "    x_t_test  = st.ttest_ind( travel_times1, travel_times2 )\n",
    "    if( x_t_test.pvalue < conf_paired_stats_confidence ):\n",
    "        x_t_test_str = \"Variances are different (standard independent 2 sample test) \"\n",
    "    else:\n",
    "        x_t_test_str = \"We cannot assure that variances are equal\"\n",
    "    r_t_test  = st.ttest_ind( ds1['route_path_num1'], ds2['route_path_num2'])\n",
    "    if( r_t_test.pvalue < conf_paired_stats_confidence ):\n",
    "        r_t_test_str = \"Variances are different (standard independent 2 sample test) \"\n",
    "    else:\n",
    "        r_t_test_str = \"We cannot assure that variances are equal\"\n",
    "\n",
    "    # SHAPIRO normality test\n",
    "    diff_shapiro1_secs=st.shapiro(ds3['diff_traveltime_secs'])\n",
    "    diff_shapiro1_perc=st.shapiro(ds3['diff_traveltime_perc'])\n",
    "    diff_shapiro1_secs_str = (\"Distrib is not normal\" if diff_shapiro1_secs[1] < conf_paired_stats_confidence else \"cannot reject that is normal\")\n",
    "    diff_shapiro1_perc_str = (\"Distrib is not normal\" if diff_shapiro1_perc[1] < conf_paired_stats_confidence else \"cannot reject that is normal\")\n",
    "\n",
    "    # SIGN AND RANK SIGN WILCOXON TESTS\n",
    "    diff_ranksign_test = st.wilcoxon( travel_times1, travel_times2 )\n",
    "    diff_ranksign_test_str = (\"Medians are sensitive different. MuTRAFF has a statistical significative impact\" if diff_ranksign_test.pvalue < conf_paired_stats_confidence else \"cannot reject that Medians are sensitive different\")\n",
    "    \n",
    "    theStats = pd.DataFrame([\n",
    "        [ 'Travel Time', 'T-TEST',  '(t_stat)(p_value)', confidence_str, x_t_test_str, 'stat='+str(x_t_test.statistic), 'p_val='+str(x_t_test.pvalue) ],\n",
    "        [ 'Route Length', 'T-TEST',  '(t_stat)(p_value)', confidence_str, r_t_test_str, 'stat='+str(r_t_test.statistic), 'p_val='+str(r_t_test.pvalue) ],\n",
    "        [ 'Travel Time', 'Wilcoxon Paired RankSign',  '', confidence_str, diff_ranksign_test_str, 'stat='+str(diff_ranksign_test.statistic), 'p_val='+str(diff_ranksign_test.pvalue) ],\n",
    "        [ 'Diff in Travel Time', 'Shapiro',  '', confidence_str, r_t_test_str, 'stat='+str(r_t_test.statistic), 'p_val='+str(r_t_test.pvalue) ],\n",
    "        [ 'Travel Time Diff secs', 'Shapiro Normality', 'secs', confidence_str, diff_shapiro1_secs_str, '', diff_shapiro1_secs[1] ],\n",
    "        [ 'Travel Time Diff secs', 'mean',  't.units', confidence_str, compare_values(np.mean(ds3['diff_traveltime_secs']),'>'), np.mean(ds3['diff_traveltime_secs']), ''],\n",
    "        [ 'Travel Time Diff secs', 'median',  't.units', confidence_str, compare_values(np.median(ds3['diff_traveltime_secs']),'>'),np.median(ds3['diff_traveltime_secs']), '' ],\n",
    "        [ 'Travel Time Diff secs', 'std.deviation',  't.units', confidence_str, compare_values(np.std(ds3['diff_traveltime_secs']),'>'), np.std(ds3['diff_traveltime_secs']), '' ],\n",
    "        [ 'Travel Time Diff %', 'Shapiro Normality', '%', '', diff_shapiro1_perc_str, '', diff_shapiro1_perc[1] ],\n",
    "        [ 'Travel Time Diff %', 'mean',  '%', '', compare_values(np.mean(ds3['diff_traveltime_perc']),'>'), np.mean(ds3['diff_traveltime_perc']), ''],\n",
    "        [ 'Travel Time Diff %', 'median',  '%', '', compare_values(np.median(ds3['diff_traveltime_perc']),'>'), np.median(ds3['diff_traveltime_perc']), '' ],\n",
    "        [ 'Travel Time Diff %', 'std.deviation',  '%', '', compare_values(np.std(ds3['diff_traveltime_perc']),'>'), np.std(ds3['diff_traveltime_perc']), '' ],\n",
    "        ])\n",
    "    theStats.columns = [ '', 'Stat', 'Units', 'confidence', 'Analysis', 'stat', 'pvalue']\n",
    "    print_h2(title,\"PAIRED STATISTICS\")\n",
    "    display(HTML(theStats.to_html()))\n",
    "    \n",
    "    if( flag_show_paired_histo_secs ):\n",
    "        print_h2(title,\"PAIRED - Individual Absolute Traveltime Enhacenment histogram\")\n",
    "        cols = 80\n",
    "        fig, ax = plt.subplots(figsize=(18,8))\n",
    "\n",
    "        plt.xlabel('Travel Time Enhacenment (time units)')\n",
    "        plt.ylabel('Frecuency')\n",
    "        plt.title(\"Individual travel time enhancement (time units)\" )\n",
    "\n",
    "        y_vals_secs, x_bins, patches = ax.hist(ds3['diff_traveltime_secs'], cols, normed=0, color=['blue'], alpha=0.30, histtype='bar')\n",
    "\n",
    "        plt.show()\n",
    "\n",
    "    if( flag_show_paired_histo_perc ):\n",
    "        print_h2(title,\"PAIRED - Individual Relative Traveltime Enhacenment histogram %\")\n",
    "        fig, ax = plt.subplots(figsize=(18,8))\n",
    "\n",
    "        plt.xlabel('Travel Time Enhacenment (%)')\n",
    "        plt.ylabel('Frecuency')\n",
    "        plt.title(\"Percentual Individual travel time enhancement (% enhancement relative to original travel time)\" )\n",
    "\n",
    "        # bins = np.linspace(-100, 100, 200)\n",
    "        # y_vals, x_bins, patches = ax.hist(ds3['diff_traveltime_perc'], bins, normed=0, color=['blue'], alpha=0.30, histtype='bar')\n",
    "        cols = 80\n",
    "        y_vals, x_bins, patches = ax.hist(ds3['diff_traveltime_perc'], cols, normed=0, color=['blue'], alpha=0.30, histtype='bar')\n",
    "\n",
    "        plt.show()\n",
    "\n",
    "        # Percent Graphic zoom...\n",
    "        bins = np.linspace(-100, 100, 200)\n",
    "        fig, ax = plt.subplots(figsize=(18,8))\n",
    "\n",
    "        plt.xlabel('Travel Time Enhacenment (%)')\n",
    "        plt.ylabel('Frecuency')\n",
    "        plt.title(\"(Zoomed -100%,100%) Percentual Individual travel time enhancement (% enhancement relative to original travel time)\" )\n",
    "        y_vals, x_bins, patches = ax.hist(ds3['diff_traveltime_perc'], bins, normed=0, color=['blue'], alpha=0.30, histtype='bar')\n",
    "\n",
    "        plt.show()\n",
    "        if( flag_show_paired_histo_cumsum ):\n",
    "            print_h2(title,\"PAIRED - Cumulative distribution of Individual Traveltime Enhacenment\")\n",
    "            fig, ax = plt.subplots(figsize=(18,8))\n",
    "\n",
    "            bins = len(y_vals)\n",
    "            y_cum = np.cumsum(y_vals)\n",
    "            y_cum_max = y_cum[bins-1]\n",
    "            y_cum = y_cum/y_cum_max\n",
    "\n",
    "            x1 = np.ones(bins)\n",
    "            x_cum = np.cumsum(x1)\n",
    "            #x_cum = x_cum/bins\n",
    "\n",
    "            #print( \"Enhancement differences (X):\", x_cum )\n",
    "            #print( \"Enhancement differences (Y):\", y_cum )\n",
    "\n",
    "            plt.title(\"Cumulative distribution of Individual travel time enhancement\" )\n",
    "            plt.xlabel('Travel Time Enhacenment')\n",
    "            plt.ylabel('Probability')\n",
    "            # plot the cumulative function\n",
    "            # plt.plot(base[:-1], cumulative, c='red')\n",
    "            plt.plot(x_cum, y_cum, c='red')\n",
    "            # plot the survival function\n",
    "            # plt.plot(base[:-1], len(ds3['diff_traveltime_perc'])-cumulative, c='brown')\n",
    "            plt.show()\n",
    "\n",
    "    if( flag_show_paired_histo_usage ):\n",
    "        print_h2(title,\"PAIRED - MuTRAFF Usage - Individual absolute traveltime enhancement histogram\")\n",
    "        # Graph for Using Mutraff or not\n",
    "        cols = 80\n",
    "        fig, ax = plt.subplots(figsize=(18,8))\n",
    "\n",
    "        plt.xlabel('Travel Time Enhacenment based on MuTRAFF usage (time units)')\n",
    "        plt.ylabel('Frecuency')\n",
    "        plt.title(\"Individual travel time enhacenment (time units)\" )\n",
    "\n",
    "        ax.hist([ds4['diff_traveltime_secs'],ds5['diff_traveltime_secs']], cols, color=['green','red'], label=['Using MuTRAFF','Not using'], alpha=0.7, histtype='bar')      \n",
    "        ax.grid(True)\n",
    "        ax.legend(loc='upper right')\n",
    "        plt.show()\n",
    "        \n",
    "        print_h2(title,\"PAIRED - MuTRAFF Usage - Individual relative traveltime enhancement histogram\")\n",
    "        fig, ax = plt.subplots(figsize=(18,8))\n",
    "        plt.xlabel('Travel Time Enhacenment (%)')\n",
    "        plt.ylabel('Frecuency')\n",
    "        plt.title(\"Percentual Individual travel time enhancement based on MuTRAFF usage(% enhancement relative to original travel time)\" )\n",
    "\n",
    "        cols = 80\n",
    "        ax.hist([ds4['diff_traveltime_perc'],ds5['diff_traveltime_perc']], cols, color=['green','red'], label=['Using MuTRAFF','Not using'], alpha=0.7, histtype='bar')\n",
    "        ax.grid(True)\n",
    "        ax.legend(loc='upper left')\n",
    "        plt.show()\n",
    "\n",
    "        # Percent Graphic zoom...\n",
    "        bins = np.linspace(-100, 100, 100)\n",
    "        fig, ax = plt.subplots(figsize=(18,8))\n",
    "\n",
    "        plt.xlabel('Travel Time Enhacenment (%)')\n",
    "        plt.ylabel('Frecuency')\n",
    "        plt.title(\"(Zoomed -100%,100%) Percentual Individual travel time enhancement based on MuTRAFF usage(% enhancement relative to original travel time)\" )\n",
    "        ax.hist([ds4['diff_traveltime_perc'],ds5['diff_traveltime_perc']], bins, color=['green','red'], label=['Using MuTRAFF','Not using'], alpha=0.7, histtype='bar')\n",
    "        ax.grid(True)\n",
    "        ax.legend(loc='upper left')\n",
    "        plt.show()\n",
    "\n",
    "    if( flag_paired_stats_save_csv ):\n",
    "        stats_file = '/tmp/mutraff-'+label1+\"-\"+label2+\".csv\"\n",
    "        ds3.to_csv( stats_file )\n",
    "        print( \"Saved file \" + stats_file )\n"
   ]
  },
  {
   "cell_type": "code",
   "execution_count": 20,
   "metadata": {
    "collapsed": false,
    "slideshow": {
     "slide_type": "skip"
    }
   },
   "outputs": [],
   "source": [
    "#### Function draw_2histograms\n",
    "# Plots the comparison between two overlapped histograms based on the datasets.\n",
    "def draw_2histograms( title, label1, experiment1, ds_raw1, label2, experiment2, ds_raw2 ):\n",
    "    confidence_str = str(conf_single_stats_confidence)+\"%\"\n",
    "\n",
    "    ds1 = ds_raw1.loc[ ds_raw1['t_arrival_secs'] > 0 ]\n",
    "    ds2 = ds_raw2.loc[ ds_raw2['t_arrival_secs'] > 0 ]\n",
    "    ds3 = ds_raw2.loc[ ds_raw2['is_attended'] == True ]\n",
    "\n",
    "    travel_times1 = ds1['t_traveltime_secs']\n",
    "    travel_times2 = ds2['t_traveltime_secs']\n",
    "    travel_times = [ travel_times1, travel_times2 ]\n",
    "\n",
    "    cols = 80\n",
    "    fig, ax = plt.subplots(figsize=(18,8))\n",
    "\n",
    "    plt.xlabel('Travel Time')\n",
    "    plt.ylabel('Frecuency')\n",
    "    plt.title(\"Travel Times Histogram: \"+label1+\" <--> \"+label2 )\n",
    "    \n",
    "    # y_vals1, x_bins1, patches1 = ax.hist(travel_times1, histtype='bar', cols, normed=0, facecolor='green', alpha=0.30)\n",
    "    # y_vals2, x_bins2, patches2 = ax.hist(travel_times2, histtype='bar', cols, normed=0, facecolor='blue', alpha=0.30)\n",
    "    [y_vals1, y_vals2], x_bins, patches = ax.hist(travel_times, cols, normed=0, color=['green', 'blue'], alpha=0.30, histtype='bar')\n",
    "    \n",
    "    conf_int=0.68\n",
    "    \n",
    "    # first histogram ------------------------------------\n",
    "    x_size1   = len(travel_times1)\n",
    "    x_mean1   = np.mean(travel_times1)\n",
    "    x_median1 = np.median(travel_times1)\n",
    "    x_std1    = np.std(travel_times1)\n",
    "    x_var1    = np.var(travel_times1)\n",
    "    x_conf_int1  = st.norm.interval(conf_int, loc=x_mean1, scale=x_std1)\n",
    "    x_m_conf_int1= st.norm.interval(conf_int, loc=x_mean1, scale=x_std1/np.sqrt(x_size1))\n",
    "    x_shapiro1=st.shapiro(travel_times1)\n",
    "    x_shapiro_str1 = confidence_str + (\"is not normal\" if x_shapiro1[1] < conf_single_stats_confidence else \"cannot reject that is normal\")\n",
    "    y_mean1   = np.mean(y_vals1)\n",
    "    y_median1 = np.median(y_vals1)\n",
    "    y_std1    = np.std(y_vals1)\n",
    "    r_mean1   = np.mean(ds1['route_path_num'])\n",
    "    r_median1 = np.median(ds1['route_path_num'])\n",
    "    r_std1    = np.std(ds1['route_path_num'])\n",
    "    r_var1    = np.var(ds1['route_path_num'])\n",
    "    r_conf_int1= st.norm.interval(conf_int, loc=r_mean1, scale=r_std1)\n",
    "    r_conf_int1= st.norm.interval(conf_int, loc=r_mean1, scale=r_std1)\n",
    "    r_m_conf_int1= st.norm.interval(conf_int, loc=r_mean1, scale=r_std1/np.sqrt(x_size1))\n",
    "    # l_mean1   = np.mean(ds1['route_length'])\n",
    "    # l_median1 = np.median(ds1['route_length'])\n",
    "    l_mean1   = 1\n",
    "    l_median1 = 1\n",
    "\n",
    "    # add a 'best fit' line\n",
    "    y1_vals1 = np.append( y_vals1, y_vals1[cols-1] )\n",
    "\n",
    "    x2_mean1   = [ x_mean1   for i in y1_vals1 ]\n",
    "    x3_median1 = [ x_median1 for i in y1_vals1 ]\n",
    "    y2_mean1   = [ y_mean1   for i in x_bins ]\n",
    "    y3_median1 = [ y_median1 for i in x_bins ]\n",
    "\n",
    "    # second histogram ------------------------------------\n",
    "    x_size2   = len(travel_times2)\n",
    "    x_mean2   = np.mean(travel_times2)\n",
    "    x_median2 = np.median(travel_times2)\n",
    "    x_std2    = np.std(travel_times2)\n",
    "    x_var2    = np.var(travel_times2)\n",
    "    x_conf_int2  = st.norm.interval(conf_int, loc=x_mean2, scale=x_std2)\n",
    "    x_m_conf_int2= st.norm.interval(conf_int, loc=x_mean2, scale=x_std2/np.sqrt(x_size2))\n",
    "    x_shapiro2=st.shapiro(travel_times2)\n",
    "    x_shapiro_str2 = confidence_str + (\"is not normal\" if x_shapiro2[1] < conf_single_stats_confidence else \"cannot reject that is normal\")\n",
    "    y_mean2   = np.mean(y_vals2)\n",
    "    y_median2 = np.median(y_vals2)\n",
    "    y_std2    = np.std(y_vals2)\n",
    "    r_mean2   = np.mean(ds2['route_path_num'])\n",
    "    r_median2 = np.median(ds2['route_path_num'])\n",
    "    r_std2    = np.std(ds2['route_path_num'])\n",
    "    r_var2    = np.var(ds2['route_path_num'])\n",
    "    r_conf_int2  = st.norm.interval(conf_int, loc=r_mean2, scale=r_std2)\n",
    "    r_m_conf_int2= st.norm.interval(conf_int, loc=r_mean2, scale=r_std2/np.sqrt(x_size2))\n",
    "    r_t_test  = st.ttest_ind( ds1['route_path_num'], ds2['route_path_num'])\n",
    "    # l_mean2   = np.mean(ds2['route_length'])\n",
    "    # l_median2 = np.median(ds2['route_length'])\n",
    "    l_mean2   = 1\n",
    "    l_median2 = 1\n",
    "     \n",
    "    # add a 'best fit' line\n",
    "    y1_vals2 = np.append( y_vals2, y_vals2[cols-1] )\n",
    "\n",
    "    x2_mean2   = [ x_mean2   for i in y1_vals2 ]\n",
    "    x3_median2 = [ x_median2 for i in y1_vals2 ]\n",
    "    y2_mean2   = [ y_mean2   for i in x_bins ]\n",
    "    y3_median2 = [ y_median2 for i in x_bins ]\n",
    "\n",
    "    if( flag_show_demand_stats ):\n",
    "      theStats = pd.DataFrame([\n",
    "        [ 'Trips Planned', 'num',  'trips', str_perc(ds_raw1['id'].count(),ds_raw2['id'].count()), ds_raw1['id'].count(), ds_raw2['id'].count()],\n",
    "        [ 'Trips Routed',  'num',  'trips', str_perc(travel_times1.count(),travel_times2.count()), travel_times1.count(), travel_times2.count()],\n",
    "        [ 'Trips using MuTRAFF',  'num',  'trips', str_perc(travel_times1.count(),len(ds3)), travel_times1.count(), len(ds3)],\n",
    "        ])\n",
    "      theStats.columns = [ '', 'Stat', 'Units', 'variation', label1, label2]        \n",
    "      print_h2(title, \"NON-PAIRED STATS - ROUTED DEMAND\")\n",
    "      display(HTML(theStats.to_html()))\n",
    "\n",
    "    if( flag_show_traveltime_stats ):\n",
    "      theStats = pd.DataFrame([\n",
    "        [ 'Travel Time', 'mean',  't.units', str_perc(x_mean1,x_mean2), x_mean1, x_mean2 ],\n",
    "        [ 'Travel Time', 'median',  't.units', str_perc(x_median1,x_median2), x_median1, x_median2 ],\n",
    "        # [ 'Travel Time', 'variance',  't.units', str_perc(x_var1,x_var2), x_var1, x_var2 ],\n",
    "        [ 'Travel Time', 'std.deviation',  't.units', str_perc(x_std1,x_std2), x_std1,x_std2 ],\n",
    "        [ 'Travel Time', 'Value Confidence Interval',  't.units', '', str(x_conf_int1), str(x_conf_int2) ],\n",
    "        [ 'Travel Time', 'Mean Confidence Interval',  't.units', '', str(x_m_conf_int1), str(x_m_conf_int2) ],\n",
    "        [ 'Travel Time', 'Shapiro', '', '', x_shapiro_str1, x_shapiro_str2 ]\n",
    "        ])\n",
    "      theStats.columns = [ '', 'Stat', 'Units', 'variation', label1, label2]\n",
    "      print_h2(title, \"NON-PAIRED STATS - TRAVELTIME\")\n",
    "      display(HTML(theStats.to_html()))\n",
    "\n",
    "    if( flag_show_route_stats ):\n",
    "      theStats = pd.DataFrame([\n",
    "        [ 'Route Length', 'mean',  'mts', str_perc(r_mean1,r_mean2), r_mean1, r_mean2 ],\n",
    "        [ 'Route Length', 'median',  'mts', str_perc(r_median1,r_median2), r_median1, r_median2 ],\n",
    "        # [ 'Route Length', 'variance',  'mts', str_perc(r_var1,r_var2), r_var1, r_var2 ],\n",
    "        [ 'Route Length', 'std.deviation',  'mts', str_perc(r_std1,r_std2), r_std1, r_std2 ],\n",
    "        [ 'Route Length', 'Value Confidence Interval',  'mts', '', str(r_conf_int1), str(r_conf_int2) ],\n",
    "        [ 'Route Length', 'Mean Confidence Interval',  'mts', '', str(r_m_conf_int1), str(r_m_conf_int2) ],\n",
    "        ])\n",
    "      theStats.columns = [ '', 'Stat', 'Units', 'variation', label1, label2]        \n",
    "      print_h2(title, \"NON-PAIRED STATS - ROUTE LENGTH\")\n",
    "      display(HTML(theStats.to_html()))\n",
    "\n",
    "    print_h2(title, \"NON-PAIRED STATS - TRAVELTIMES COMPARED HISTOGRAM\")\n",
    "    line_estimation1 = ax.plot(x_bins, y1_vals1, 'r-', label='Estimation', linewidth=2, color='darkgreen')\n",
    "    line_estimation2 = ax.plot(x_bins, y1_vals2, 'r-', label='Estimation', linewidth=2, color='darkblue')\n",
    "\n",
    "    max_y = np.linspace(0, max( max(y_vals1), max(y_vals2)), num=len(x_bins))\n",
    "    line_mean1 = ax.plot(x2_mean1, max_y, label='Mean', linestyle='--', linewidth=2, color='darkgreen')\n",
    "    line_median1 = ax.plot(x3_median1, max_y, label='Median', linestyle='-', linewidth=2, color='darkgreen')\n",
    "\n",
    "    line_mean2 = ax.plot(x2_mean2, y1_vals2, label='Mean', linestyle='--', linewidth=2, color='darkblue')\n",
    "    line_median2 = ax.plot(x3_median2, max_y, label='Median', linestyle='-', linewidth=2, color='darkblue')\n",
    "\n",
    "    mean_line1   = mlines.Line2D([], [], linestyle='--',color='darkgreen', markersize=1, label=label1+':Mean')\n",
    "    median_line1 = mlines.Line2D([], [], linestyle='-', color='darkgreen', markersize=1, label=label1+':Median')\n",
    "    mean_line2   = mlines.Line2D([], [], linestyle='--',color='darkblue',  markersize=1, label=label2+':Mean')\n",
    "    median_line2 = mlines.Line2D([], [], linestyle='-', color='darkblue',  markersize=1, label=label2+':Median')\n",
    "    ax.legend(handles=[median_line1, mean_line1, median_line2, mean_line2], loc='upper right')\n",
    "    # plt.axis([travel_times.min(), travel_times.max()+1, 0, 0.03])\n",
    "    ax.grid(True)\n",
    "\n",
    "    # If plotting OUTSIDE the notebook, set interactive mode ON/OFF\n",
    "    # plt.ioff()\n",
    "    # plt.ion()\n",
    "\n",
    "    plt.show()"
   ]
  },
  {
   "cell_type": "code",
   "execution_count": 21,
   "metadata": {
    "collapsed": true
   },
   "outputs": [],
   "source": [
    "#### Function map_coord\n",
    "# Maps edge coordinates into a grid representation for heatmaps.\n",
    "# Receives as input parameters:\n",
    "#    * (x,y) values to be mapped\n",
    "#    * (max, min)(x,y) value ranges for x,y\n",
    "#    * grid dimensions\n",
    "# Test code to create distribution in array of heatmap\n",
    "def map_coord(x,y,min_x,max_x,min_y,max_y,dim_x,dim_y):\n",
    "    c_x = int(x/(max_x-min_x)*dim_x)\n",
    "    c_y = int(y/(max_y-min_y)*dim_y)\n",
    "    # print( \"(x,y):(\", x, \":\", y, \") --> coords:(\", c_x, \",\", c_y, \")\")\n",
    "    return [ c_x, c_y ]"
   ]
  },
  {
   "cell_type": "code",
   "execution_count": 22,
   "metadata": {
    "collapsed": false
   },
   "outputs": [],
   "source": [
    "def subplot_heatmap(title, column, criteria, heatmap, scale_min, scale_max, vals, x_min, x_max, y_min, y_max, grid_size_x, grid_size_y):\n",
    "    max_v = vals[column].max()\n",
    "    min_v = vals[column].min()\n",
    "\n",
    "    heatmap.grid(True)\n",
    "    heatmap.set_title(title+\" / min:\"+str(min_v)+\", max:\"+str(max_v) )\n",
    "    vmap = np.zeros( (grid_size_x,grid_size_y) )\n",
    "    for i in range(len(vals)):\n",
    "        x, y = map_coord( vals.ix[i,'av_x'], vals.ix[i,'av_y'],\n",
    "                    x_min,x_max,y_min,y_max, grid_size_x, grid_size_y )\n",
    "        vals.ix[i,'canvas_x'] = x\n",
    "        vals.ix[i,'canvas_y'] = y\n",
    "        # METHOD: AGGREGATE VALUES \n",
    "        # OTHER METHODS WOULD BE POSSIBLE !!!\n",
    "        if( criteria.lower() == 'max' ):\n",
    "            if( vals.ix[i,column]> vmap[x,y] ):\n",
    "                vmap[x,y] = vals.ix[i,column]\n",
    "        else:\n",
    "            if( criteria.lower() == 'min' ):\n",
    "                if( vals.ix[i,column]< vmap[x,y] ):\n",
    "                    vmap[x,y] = vals.ix[i,column]\n",
    "            else:\n",
    "                # Additive critieria:\n",
    "                vmap[x,y] += vals.ix[i,column]\n",
    "        \n",
    "        # if( values.ix[i,column] > 0.1 ):\n",
    "        #  print( \"{:d} : {:d},{:d} = {:f} <-- {:f},{:f}\".format(\n",
    "        #        i, x, y, values.ix[i,column], values.ix[i,'av_x'], values.ix[i,'av_y']),\n",
    "        #        \"...\", canvas_x_min,canvas_x_max,canvas_y_min,canvas_y_max, size_x, size_y )\n",
    "    hot_vals = pd.DataFrame( vmap )\n",
    "    # print(values[['canvas_x','canvas_y',column,'av_x','av_y']].sort_values(by=column,ascending=False))\n",
    "    \n",
    "    # interploation='bilinear', 'bicubic', 'nearest'\n",
    "    # other colormaps are also possible such as: 'Reds'\n",
    "    img = heatmap.imshow( hot_vals, cmap='YlOrBr', interpolation='bicubic', vmin=scale_min, vmax=scale_max)\n",
    "    return img"
   ]
  },
  {
   "cell_type": "code",
   "execution_count": 23,
   "metadata": {
    "collapsed": false,
    "scrolled": false
   },
   "outputs": [],
   "source": [
    "#### Function plot_traffic_heatmap\n",
    "# Creates a heatmap plot for a given variable in a determinate time epoch. Considers only data coming from this epoch.\n",
    "#Input parameters:\n",
    "#    * Plot title\n",
    "#    * Traffic network edges (as map representation)\n",
    "#    * Edge dat sets obtained\n",
    "#    * Size of the heatmap grid to be represented\n",
    "#    * Time epoch to be considered\n",
    "def plot_traffic_heatmap_single( title, edges, edge_ds_1, edge_ds_2, column, criteria, grid_size_x, grid_size_y, epoch ):\n",
    "\n",
    "    # Extract the columns edge and <<measure>>\n",
    "    ds1 = edge_ds_1.loc[ edge_ds_1['time']==epoch ][['edge_id',column]]\n",
    "    ds2 = edge_ds_2.loc[ edge_ds_2['time']==epoch ][['edge_id',column]]\n",
    "    \n",
    "    # merge with edge coordinates\n",
    "    values1 = pd.merge(ds1, edges, how='left', left_on=['edge_id'], right_on=['name'])\n",
    "    values2 = pd.merge(ds2, edges, how='left', left_on=['edge_id'], right_on=['name'])\n",
    "    \n",
    "    # print(values)\n",
    "    max_v1 = values1[column].max()\n",
    "    max_v2 = values2[column].max()\n",
    "    min_v1 = values1[column].min()\n",
    "    min_v2 = values2[column].min()\n",
    "    max_v = max( [ max_v1, max_v2 ] )\n",
    "    min_v = min( [ min_v1, min_v2 ] )\n",
    "\n",
    "    #Calculate canvas axis x,y over the whole map\n",
    "    edge_vals_x = edges[['x1','x2']]\n",
    "    x_min = edge_vals_x.values.min()\n",
    "    x_max = edge_vals_x.values.max()\n",
    "    \n",
    "    edge_vals_y = edges[['y1','y2']]\n",
    "    y_min = edge_vals_y.values.min()\n",
    "    y_max = edge_vals_y.values.max()\n",
    "    # print(\"VALUES\",\"min:\", min_v, \" max:\",max_v)\n",
    "    # print(\"X_AXIS\",\"min:\", canvas_x_min, \" max:\",canvas_x_max)\n",
    "    # print(\"Y_AXIS\",\"min:\", canvas_y_min, \" max:\",canvas_y_max)\n",
    "\n",
    "    fig, heatmaps = plt.subplots(1, 2, figsize=(20,8) )\n",
    "    # fig, heatmaps = plt.subplots(1, 2 )\n",
    "    fig.suptitle( title+\". Time: \"+str(epoch) )\n",
    "    # plt.figure(figsize=(20,8))\n",
    "    im = subplot_heatmap(column, column, criteria, heatmaps[0], min_v, max_v,\n",
    "                    values1, x_min, x_max, y_min, y_max, grid_size_x, grid_size_y)\n",
    "    im = subplot_heatmap(column,  column, criteria, heatmaps[1], min_v, max_v,\n",
    "                    values2, x_min, x_max, y_min, y_max, grid_size_x, grid_size_y)\n",
    "    \n",
    "    fig.subplots_adjust(right=0.8)\n",
    "    # cbar_ax = fig.add_axes([0.85, 0.15, 0.05, 0.7])\n",
    "    # cbar_ax = fig.add_axes()\n",
    "    # fig.colorbar(im, cax=cbar_ax)\n",
    "    cax,kw = mpl.colorbar.make_axes([ax for ax in heatmaps.flat])\n",
    "    plt.colorbar(im, cax=cax, **kw)\n",
    "    plt.show()"
   ]
  },
  {
   "cell_type": "code",
   "execution_count": 24,
   "metadata": {
    "collapsed": true
   },
   "outputs": [],
   "source": [
    "def plot_traffic_heatmap( title, edge_map, edge_stats1, edge_stats2, measure, criteria, grid_size_x, grid_size_y, graphic_samples ):\n",
    "\n",
    "    times = edge_stats1.time.unique()\n",
    "    graphic_step = int((len(times)-1)/graphic_samples)\n",
    "    # print(\"=== COMPARING\",measure,\"in\", graphic_samples, \"steps\")\n",
    "\n",
    "    for t in range(0,graphic_samples):\n",
    "        timestamp = times[t*graphic_step]\n",
    "        print (measure+\"[time:\"+str(timestamp)+\"]\" )\n",
    "        plot_traffic_heatmap_single( \"Halted vehicles (num)\", edge_map,\n",
    "                             edge_stats1, edge_stats2, measure, criteria,\n",
    "                             grid_size_x, grid_size_y, timestamp )\n",
    "\n",
    "    plot_traffic_heatmap_single( \"Halted vehicles (num)\", edge_map,\n",
    "                             edge_stats1, edge_stats2, measure, criteria,\n",
    "                             grid_size_x, grid_size_y, times[len(times)-1] )"
   ]
  },
  {
   "cell_type": "code",
   "execution_count": 25,
   "metadata": {
    "collapsed": false
   },
   "outputs": [],
   "source": [
    "#### Function compare_scenarios\n",
    "# Uploads results from 2 scenario executions and plotting the histogram curves based on the dataset.\n",
    "# * Select only those vehicles that finish the trip, i.e. have arrive time > 0.\n",
    "def load_scenario_data( path, label, experiment ):\n",
    "    expr = re.compile('^__.+')\n",
    "    data={}\n",
    "    # print( \"Scenario: \", label, \"\\nExperiment: \", experiment, \"\\n\" )\n",
    "    descriptor = path + \"/experiments/tmp/\" + experiment + \"/SCENARIO_DESCRIPTION.md\"\n",
    "    # print( \"FILE:\", descriptor, \"\\n\")\n",
    "    data['TITLE']=label\n",
    "    data['EXPERIMENT']=experiment\n",
    "    for line in fileinput.input([descriptor]):\n",
    "        if( expr.match(line) ):\n",
    "            [key,val] = line.rstrip().split(\"=\")\n",
    "            data[key]=val\n",
    "    return data\n",
    "    \n",
    "def print_scenarios( path, label1, experiment1, label2, experiment2 ):\n",
    "    par1 = load_scenario_data(path, label1, experiment1)\n",
    "    par2 = load_scenario_data(path, label2, experiment2)\n",
    "    df = pd.DataFrame([par1, par2]).T\n",
    "    df.columns = ['exp1','exp2']\n",
    "    display(HTML(df.to_html()))\n",
    "    return df\n"
   ]
  },
  {
   "cell_type": "markdown",
   "metadata": {
    "collapsed": true
   },
   "source": [
    "# GOOGLE MAPS INTEGRATION\n",
    "# http://jupyter-gmaps.readthedocs.io/en/latest/authentication.html\n",
    "# https://github.com/pbugnion/gmaps\n",
    "\n",
    "import gmaps\n",
    "import gmaps.datasets\n",
    "import os\n",
    "# Alvaro GMAPS API KEY - DONT REUSE IT IF YOU ARE NOT ALVARO !!!!!\n",
    "# gmaps_api_key=\"xxxxxxxx\"\n",
    "gmaps_api_key=os.environ[\"GOOGLE_API_KEY\"]\n",
    "gmaps.configure(api_key=gmaps_api_key)\n",
    "\n",
    "def plot_gmaps( title, edge_map1, edge_stats1, edge_stats2 ):\n",
    "    if( not flag_display_gmaps ):\n",
    "        return\n",
    "    #print_h3(title, \"CONGESTION - EDGE TRAVELTIMES\")\n",
    "    print_h3(title, \"CONGESTION - EDGE HALTED VEHICLES\")\n",
    "    locations = gmaps.datasets.load_dataset(\"starbucks_uk\")\n",
    "    print( \"Locations:\", locations)\n",
    "    m = gmaps.Map()\n",
    "    starbucks_layer = gmaps.symbol_layer(\n",
    "            locations, fill_color=\"green\", stroke_color=\"green\", scale=2)\n",
    "    m.add_layer(starbucks_layer)\n",
    "    m\n",
    "    #print_h3(title, \"CONGESTION - EDGE SPEEDS\")\n",
    "    print( \"--- FIN ---\")"
   ]
  },
  {
   "cell_type": "code",
   "execution_count": 26,
   "metadata": {
    "collapsed": false,
    "slideshow": {
     "slide_type": "skip"
    }
   },
   "outputs": [],
   "source": [
    "\n",
    "def compare_scenarios( path, lab1, experiment1, lab2, experiment2 ):\n",
    "    print_h0(\"EXPERIMENT SCENARIOS COMPARISON\")\n",
    "\n",
    "    if( flag_show_scenarios ):\n",
    "        df = print_scenarios( BASTRA_PATH, lab1, experiment1, lab2, experiment2 )\n",
    "\n",
    "    datafile1 = path + \"/experiments/tmp/\" + experiment1 + \"/\" + experiment1 + \".csv\"\n",
    "    datafile2 = path + \"/experiments/tmp/\" + experiment2 + \"/\" + experiment2 + \".csv\"\n",
    "    label1 = lab1\n",
    "    label2 = lab2\n",
    "    label1 = df.loc['__PREFIX','exp1']\n",
    "    label2 = df.loc['__PREFIX','exp2']\n",
    "    # print( \"DATAFILE: \", datafile )\n",
    "    # ds means \"dataset\"\n",
    "    ds_raw1 = pd.read_csv(datafile1)\n",
    "    ds_raw2 = pd.read_csv(datafile2)\n",
    "    veh_types = dataset_obtain_unique_fleets( ds_raw1, ds_raw2 )\n",
    "\n",
    "    print_h1(\"GLOBAL TRAFFIC\",\"STATISTICS\")\n",
    "    draw_2histograms( \"GLOBAL TRAFFIC\",\n",
    "                      label1, experiment1, ds_raw1, label2, experiment2, ds_raw2 )\n",
    "    # Print Statistics for paired values\n",
    "    printPairedStats( \"GLOBAL TRAFFIC\", label1, ds_raw1, label2, ds_raw2 )\n",
    "\n",
    "    if( flag_show_fleets ):\n",
    "      if ( len(veh_types) > 0 ):\n",
    "        for vt in veh_types:\n",
    "          ds_raw1b = dataset_filter_per_veh_type(ds_raw1, vt)\n",
    "          ds_raw2b = dataset_filter_per_veh_type(ds_raw2, vt)\n",
    "          # ds_raw1b.head()\n",
    "        \n",
    "          print_h1(\"FLEET: \"+vt,\"STATISTICS\")\n",
    "          draw_2histograms( \"FLEET: \"+vt,\n",
    "                    label1, experiment1, ds_raw1b, label2, experiment2, ds_raw2b )\n",
    "          # Print Statistics for paired values\n",
    "          printPairedStats( \"FLEET: \"+vt, label1, ds_raw1b, label2, ds_raw2b )\n",
    "    \n",
    "    edge_map_file1 = path + \"/experiments/tmp/\" + experiment1 + \"/edges.csv\"\n",
    "    edge_map1 = pd.read_csv( edge_map_file1)\n",
    "    edge_stats_file1 = path + \"/experiments/tmp/\" + experiment1 + \"/edge_stats.csv\"\n",
    "    edge_stats1 = pd.read_csv( edge_stats_file1)\n",
    "    edge_stats_file2 = path + \"/experiments/tmp/\" + experiment2 + \"/edge_stats.csv\"\n",
    "    edge_stats2 = pd.read_csv( edge_stats_file2)\n",
    "\n",
    "    # print(label1, \" / \", label2)\n",
    "    if( flag_show_heat_maps ):\n",
    "      # print(\"=== ROAD EDGE STATISTICS COLLECTED:\", edge_stats1.columns.values.tolist())\n",
    "      graphic_samples = 10\n",
    "    \n",
    "      print_h2(\"GLOBAL TRAFFIC\", \"GEOGRAPHICAL DENSITIES DISTRIBUTIONS\")\n",
    "\n",
    "      measure = 'traf_av_occupancy'\n",
    "      print_h3(\"GLOBAL TRAFFIC\", \"CONGESTION - EDGE TRAVELTIMES\")\n",
    "      plot_traffic_heatmap( \"Congestion (traveltime)\", edge_map1,\n",
    "                             edge_stats1, edge_stats2, measure, \"max\",\n",
    "                             32,32, graphic_samples )\n",
    "\n",
    "        \n",
    "      measure = 'traf_halted_veh_num'\n",
    "      print_h3(\"GLOBAL TRAFFIC\", \"CONGESTION - EDGE HALTED VEHICLES\")\n",
    "      plot_traffic_heatmap( \"Halted vehicles (num)\", edge_map1,\n",
    "                             edge_stats1, edge_stats2, measure, \"add\",\n",
    "                             16,16, graphic_samples )\n",
    "\n",
    "      if( flag_show_heat_maps_speed ):\n",
    "        measure = 'traf_av_speed'\n",
    "        print_h3(\"GLOBAL TRAFFIC\", \"CONGESTION - EDGE SPEEDS\")\n",
    "        plot_traffic_heatmap( \"Mean speed (m/s)\", edge_map1,\n",
    "                               edge_stats1, edge_stats2, measure, \"min\",\n",
    "                               16,16, graphic_samples )\n",
    "    # print_h2(\"GLOBAL TRAFFIC\", \"GOOGLE MAPS\")\n",
    "    # plot_gmaps( \"GLOBAL TRAFFIC\", edge_map1, edge_stats1, edge_stats2 )"
   ]
  },
  {
   "cell_type": "code",
   "execution_count": 74,
   "metadata": {
    "collapsed": false,
    "scrolled": false,
    "slideshow": {
     "slide_type": "slide"
    }
   },
   "outputs": [
    {
     "data": {
      "text/html": [
       "<h2>EXPERIMENT SCENARIOS COMPARISON</h2>"
      ],
      "text/plain": [
       "<IPython.core.display.HTML object>"
      ]
     },
     "metadata": {},
     "output_type": "display_data"
    },
    {
     "data": {
      "text/html": [
       "<style>div.output_subarea table {font-size: 10px;}</style>"
      ],
      "text/plain": [
       "<IPython.core.display.HTML object>"
      ]
     },
     "metadata": {},
     "output_type": "display_data"
    },
    {
     "data": {
      "text/html": [
       "<table border=\"1\" class=\"dataframe\">\n",
       "  <thead>\n",
       "    <tr style=\"text-align: right;\">\n",
       "      <th></th>\n",
       "      <th>exp1</th>\n",
       "      <th>exp2</th>\n",
       "    </tr>\n",
       "  </thead>\n",
       "  <tbody>\n",
       "    <tr>\n",
       "      <th>EXPERIMENT</th>\n",
       "      <td>alcalahenares_noBastra_nomaps_fulltraffic_1612...</td>\n",
       "      <td>alcalahenares_L_Bastra_uni1x8_timeALL_fulltraf...</td>\n",
       "    </tr>\n",
       "    <tr>\n",
       "      <th>TITLE</th>\n",
       "      <td>GRID16/MuTRAFF OFF/full traffic</td>\n",
       "      <td>GRID16/MuTRAFF ON/full traffic/1MAP/random5/lo...</td>\n",
       "    </tr>\n",
       "    <tr>\n",
       "      <th>__BASTRA_FORESIGHT_HALTING</th>\n",
       "      <td>0</td>\n",
       "      <td>0</td>\n",
       "    </tr>\n",
       "    <tr>\n",
       "      <th>__BASTRA_FORESIGHT_PENALTY</th>\n",
       "      <td>1</td>\n",
       "      <td>1</td>\n",
       "    </tr>\n",
       "    <tr>\n",
       "      <th>__BASTRA_FORESIGHT_STEPS</th>\n",
       "      <td>0</td>\n",
       "      <td>0</td>\n",
       "    </tr>\n",
       "    <tr>\n",
       "      <th>__BASTRA_FORESIGHT_TRIES</th>\n",
       "      <td>0</td>\n",
       "      <td>0</td>\n",
       "    </tr>\n",
       "    <tr>\n",
       "      <th>__BASTRA_LOGIT</th>\n",
       "      <td>1</td>\n",
       "      <td>50</td>\n",
       "    </tr>\n",
       "    <tr>\n",
       "      <th>__BASTRA_USE_BALANCE</th>\n",
       "      <td>false</td>\n",
       "      <td>true</td>\n",
       "    </tr>\n",
       "    <tr>\n",
       "      <th>__GRID_SIZE</th>\n",
       "      <td>16</td>\n",
       "      <td>16</td>\n",
       "    </tr>\n",
       "    <tr>\n",
       "      <th>__LANES</th>\n",
       "      <td>1</td>\n",
       "      <td>1</td>\n",
       "    </tr>\n",
       "    <tr>\n",
       "      <th>__MAP_TIME_END</th>\n",
       "      <td>10000</td>\n",
       "      <td>10000</td>\n",
       "    </tr>\n",
       "    <tr>\n",
       "      <th>__MAP_TIME_INI</th>\n",
       "      <td>0</td>\n",
       "      <td>0</td>\n",
       "    </tr>\n",
       "    <tr>\n",
       "      <th>__MAP_USAGE</th>\n",
       "      <td>nomaps</td>\n",
       "      <td>uni1x8_timeALL</td>\n",
       "    </tr>\n",
       "    <tr>\n",
       "      <th>__MAX_SPEED</th>\n",
       "      <td>13.9</td>\n",
       "      <td>13.9</td>\n",
       "    </tr>\n",
       "    <tr>\n",
       "      <th>__NET_NAME</th>\n",
       "      <td>alcalahenares</td>\n",
       "      <td>alcalahenares</td>\n",
       "    </tr>\n",
       "    <tr>\n",
       "      <th>__NET_TYPE</th>\n",
       "      <td>city</td>\n",
       "      <td>city</td>\n",
       "    </tr>\n",
       "    <tr>\n",
       "      <th>__PREFIX</th>\n",
       "      <td>alcalahenares_noBastra_nomaps_fulltraffic</td>\n",
       "      <td>alcalahenares_L_Bastra_uni1x8_timeALL_fulltraf...</td>\n",
       "    </tr>\n",
       "    <tr>\n",
       "      <th>__ROADLENGTH</th>\n",
       "      <td>50</td>\n",
       "      <td>50</td>\n",
       "    </tr>\n",
       "    <tr>\n",
       "      <th>__ROUTING_ALGORITHM</th>\n",
       "      <td></td>\n",
       "      <td></td>\n",
       "    </tr>\n",
       "    <tr>\n",
       "      <th>__SIMUL_TIME_END</th>\n",
       "      <td>4000</td>\n",
       "      <td>4000</td>\n",
       "    </tr>\n",
       "    <tr>\n",
       "      <th>__SIMUL_TIME_INI</th>\n",
       "      <td>0</td>\n",
       "      <td>0</td>\n",
       "    </tr>\n",
       "    <tr>\n",
       "      <th>__SPIDER_ARMS</th>\n",
       "      <td>0</td>\n",
       "      <td>0</td>\n",
       "    </tr>\n",
       "    <tr>\n",
       "      <th>__SPIDER_CIRCLES</th>\n",
       "      <td>0</td>\n",
       "      <td>0</td>\n",
       "    </tr>\n",
       "    <tr>\n",
       "      <th>__TRAFFIC_BASELINE</th>\n",
       "      <td>3000</td>\n",
       "      <td>3000</td>\n",
       "    </tr>\n",
       "    <tr>\n",
       "      <th>__TRAFFIC_BRANCH</th>\n",
       "      <td>500</td>\n",
       "      <td>500</td>\n",
       "    </tr>\n",
       "    <tr>\n",
       "      <th>__TRAFFIC_TYPE</th>\n",
       "      <td>fulltraffic</td>\n",
       "      <td>fulltraffic</td>\n",
       "    </tr>\n",
       "    <tr>\n",
       "      <th>__USE_BASTRA</th>\n",
       "      <td>noBastra</td>\n",
       "      <td>Bastra</td>\n",
       "    </tr>\n",
       "  </tbody>\n",
       "</table>"
      ],
      "text/plain": [
       "<IPython.core.display.HTML object>"
      ]
     },
     "metadata": {},
     "output_type": "display_data"
    },
    {
     "data": {
      "text/html": [
       "<h4>1. GLOBAL TRAFFIC. STATISTICS</h4>"
      ],
      "text/plain": [
       "<IPython.core.display.HTML object>"
      ]
     },
     "metadata": {},
     "output_type": "display_data"
    },
    {
     "data": {
      "text/html": [
       "<h5>1.1. GLOBAL TRAFFIC. NON-PAIRED STATS - ROUTED DEMAND</h5>"
      ],
      "text/plain": [
       "<IPython.core.display.HTML object>"
      ]
     },
     "metadata": {},
     "output_type": "display_data"
    },
    {
     "data": {
      "text/html": [
       "<table border=\"1\" class=\"dataframe\">\n",
       "  <thead>\n",
       "    <tr style=\"text-align: right;\">\n",
       "      <th></th>\n",
       "      <th></th>\n",
       "      <th>Stat</th>\n",
       "      <th>Units</th>\n",
       "      <th>variation</th>\n",
       "      <th>alcalahenares_noBastra_nomaps_fulltraffic</th>\n",
       "      <th>alcalahenares_L_Bastra_uni1x8_timeALL_fulltraffic_logit50</th>\n",
       "    </tr>\n",
       "  </thead>\n",
       "  <tbody>\n",
       "    <tr>\n",
       "      <th>0</th>\n",
       "      <td>Trips Planned</td>\n",
       "      <td>num</td>\n",
       "      <td>trips</td>\n",
       "      <td>0.00%</td>\n",
       "      <td>9250</td>\n",
       "      <td>9250</td>\n",
       "    </tr>\n",
       "    <tr>\n",
       "      <th>1</th>\n",
       "      <td>Trips Routed</td>\n",
       "      <td>num</td>\n",
       "      <td>trips</td>\n",
       "      <td>0.77%</td>\n",
       "      <td>3639</td>\n",
       "      <td>3667</td>\n",
       "    </tr>\n",
       "    <tr>\n",
       "      <th>2</th>\n",
       "      <td>Trips using MuTRAFF</td>\n",
       "      <td>num</td>\n",
       "      <td>trips</td>\n",
       "      <td>27.92%</td>\n",
       "      <td>3639</td>\n",
       "      <td>4655</td>\n",
       "    </tr>\n",
       "  </tbody>\n",
       "</table>"
      ],
      "text/plain": [
       "<IPython.core.display.HTML object>"
      ]
     },
     "metadata": {},
     "output_type": "display_data"
    },
    {
     "data": {
      "text/html": [
       "<h5>1.2. GLOBAL TRAFFIC. NON-PAIRED STATS - TRAVELTIME</h5>"
      ],
      "text/plain": [
       "<IPython.core.display.HTML object>"
      ]
     },
     "metadata": {},
     "output_type": "display_data"
    },
    {
     "data": {
      "text/html": [
       "<table border=\"1\" class=\"dataframe\">\n",
       "  <thead>\n",
       "    <tr style=\"text-align: right;\">\n",
       "      <th></th>\n",
       "      <th></th>\n",
       "      <th>Stat</th>\n",
       "      <th>Units</th>\n",
       "      <th>variation</th>\n",
       "      <th>alcalahenares_noBastra_nomaps_fulltraffic</th>\n",
       "      <th>alcalahenares_L_Bastra_uni1x8_timeALL_fulltraffic_logit50</th>\n",
       "    </tr>\n",
       "  </thead>\n",
       "  <tbody>\n",
       "    <tr>\n",
       "      <th>0</th>\n",
       "      <td>Travel Time</td>\n",
       "      <td>mean</td>\n",
       "      <td>t.units</td>\n",
       "      <td>-3.07%</td>\n",
       "      <td>1681.89</td>\n",
       "      <td>1630.28</td>\n",
       "    </tr>\n",
       "    <tr>\n",
       "      <th>1</th>\n",
       "      <td>Travel Time</td>\n",
       "      <td>median</td>\n",
       "      <td>t.units</td>\n",
       "      <td>3.40%</td>\n",
       "      <td>1117</td>\n",
       "      <td>1155</td>\n",
       "    </tr>\n",
       "    <tr>\n",
       "      <th>2</th>\n",
       "      <td>Travel Time</td>\n",
       "      <td>std.deviation</td>\n",
       "      <td>t.units</td>\n",
       "      <td>-3.98%</td>\n",
       "      <td>1436.24</td>\n",
       "      <td>1379.07</td>\n",
       "    </tr>\n",
       "    <tr>\n",
       "      <th>3</th>\n",
       "      <td>Travel Time</td>\n",
       "      <td>Value Confidence Interval</td>\n",
       "      <td>t.units</td>\n",
       "      <td></td>\n",
       "      <td>(253.61072343005935, 3110.1694359543872)</td>\n",
       "      <td>(258.84484594808282, 3001.7054676597713)</td>\n",
       "    </tr>\n",
       "    <tr>\n",
       "      <th>4</th>\n",
       "      <td>Travel Time</td>\n",
       "      <td>Mean Confidence Interval</td>\n",
       "      <td>t.units</td>\n",
       "      <td></td>\n",
       "      <td>(1658.2133273572117, 1705.5668320272343)</td>\n",
       "      <td>(1607.6277600279341, 1652.9225535799196)</td>\n",
       "    </tr>\n",
       "    <tr>\n",
       "      <th>5</th>\n",
       "      <td>Travel Time</td>\n",
       "      <td>Shapiro</td>\n",
       "      <td></td>\n",
       "      <td></td>\n",
       "      <td>0.05%is not normal</td>\n",
       "      <td>0.05%is not normal</td>\n",
       "    </tr>\n",
       "  </tbody>\n",
       "</table>"
      ],
      "text/plain": [
       "<IPython.core.display.HTML object>"
      ]
     },
     "metadata": {},
     "output_type": "display_data"
    },
    {
     "data": {
      "text/html": [
       "<h5>1.3. GLOBAL TRAFFIC. NON-PAIRED STATS - ROUTE LENGTH</h5>"
      ],
      "text/plain": [
       "<IPython.core.display.HTML object>"
      ]
     },
     "metadata": {},
     "output_type": "display_data"
    },
    {
     "data": {
      "text/html": [
       "<table border=\"1\" class=\"dataframe\">\n",
       "  <thead>\n",
       "    <tr style=\"text-align: right;\">\n",
       "      <th></th>\n",
       "      <th></th>\n",
       "      <th>Stat</th>\n",
       "      <th>Units</th>\n",
       "      <th>variation</th>\n",
       "      <th>alcalahenares_noBastra_nomaps_fulltraffic</th>\n",
       "      <th>alcalahenares_L_Bastra_uni1x8_timeALL_fulltraffic_logit50</th>\n",
       "    </tr>\n",
       "  </thead>\n",
       "  <tbody>\n",
       "    <tr>\n",
       "      <th>0</th>\n",
       "      <td>Route Length</td>\n",
       "      <td>mean</td>\n",
       "      <td>mts</td>\n",
       "      <td>1.65%</td>\n",
       "      <td>22.3822</td>\n",
       "      <td>22.7513</td>\n",
       "    </tr>\n",
       "    <tr>\n",
       "      <th>1</th>\n",
       "      <td>Route Length</td>\n",
       "      <td>median</td>\n",
       "      <td>mts</td>\n",
       "      <td>0.00%</td>\n",
       "      <td>16</td>\n",
       "      <td>16</td>\n",
       "    </tr>\n",
       "    <tr>\n",
       "      <th>2</th>\n",
       "      <td>Route Length</td>\n",
       "      <td>std.deviation</td>\n",
       "      <td>mts</td>\n",
       "      <td>3.28%</td>\n",
       "      <td>14.0591</td>\n",
       "      <td>14.5206</td>\n",
       "    </tr>\n",
       "    <tr>\n",
       "      <th>3</th>\n",
       "      <td>Route Length</td>\n",
       "      <td>Value Confidence Interval</td>\n",
       "      <td>mts</td>\n",
       "      <td></td>\n",
       "      <td>(8.4010187274309533, 36.363477013157123)</td>\n",
       "      <td>(8.3111869185787253, 37.191403754996408)</td>\n",
       "    </tr>\n",
       "    <tr>\n",
       "      <th>4</th>\n",
       "      <td>Route Length</td>\n",
       "      <td>Mean Confidence Interval</td>\n",
       "      <td>mts</td>\n",
       "      <td></td>\n",
       "      <td>(22.150479415262296, 22.614016325325778)</td>\n",
       "      <td>(22.512835633624487, 22.989755039950641)</td>\n",
       "    </tr>\n",
       "  </tbody>\n",
       "</table>"
      ],
      "text/plain": [
       "<IPython.core.display.HTML object>"
      ]
     },
     "metadata": {},
     "output_type": "display_data"
    },
    {
     "data": {
      "text/html": [
       "<h5>1.4. GLOBAL TRAFFIC. NON-PAIRED STATS - TRAVELTIMES COMPARED HISTOGRAM</h5>"
      ],
      "text/plain": [
       "<IPython.core.display.HTML object>"
      ]
     },
     "metadata": {},
     "output_type": "display_data"
    },
    {
     "data": {
      "image/png": "[encoded data removed]",
      "text/plain": [
       "<matplotlib.figure.Figure at 0x11fcb0c50>"
      ]
     },
     "metadata": {},
     "output_type": "display_data"
    },
    {
     "data": {
      "text/html": [
       "<h5>1.5. GLOBAL TRAFFIC. PAIRED STATISTICS</h5>"
      ],
      "text/plain": [
       "<IPython.core.display.HTML object>"
      ]
     },
     "metadata": {},
     "output_type": "display_data"
    },
    {
     "data": {
      "text/html": [
       "<table border=\"1\" class=\"dataframe\">\n",
       "  <thead>\n",
       "    <tr style=\"text-align: right;\">\n",
       "      <th></th>\n",
       "      <th></th>\n",
       "      <th>Stat</th>\n",
       "      <th>Units</th>\n",
       "      <th>confidence</th>\n",
       "      <th>Analysis</th>\n",
       "      <th>stat</th>\n",
       "      <th>pvalue</th>\n",
       "    </tr>\n",
       "  </thead>\n",
       "  <tbody>\n",
       "    <tr>\n",
       "      <th>0</th>\n",
       "      <td>Travel Time</td>\n",
       "      <td>T-TEST</td>\n",
       "      <td>(t_stat)(p_value)</td>\n",
       "      <td>0.05%</td>\n",
       "      <td>We cannot assure that variances are equal</td>\n",
       "      <td>stat=0.82832494368</td>\n",
       "      <td>p_val=0.407540777063</td>\n",
       "    </tr>\n",
       "    <tr>\n",
       "      <th>1</th>\n",
       "      <td>Route Length</td>\n",
       "      <td>T-TEST</td>\n",
       "      <td>(t_stat)(p_value)</td>\n",
       "      <td>0.05%</td>\n",
       "      <td>We cannot assure that variances are equal</td>\n",
       "      <td>stat=-1.10336153628</td>\n",
       "      <td>p_val=0.269906543694</td>\n",
       "    </tr>\n",
       "    <tr>\n",
       "      <th>2</th>\n",
       "      <td>Travel Time</td>\n",
       "      <td>Wilcoxon Paired RankSign</td>\n",
       "      <td></td>\n",
       "      <td>0.05%</td>\n",
       "      <td>Medians are sensitive different. MuTRAFF has a...</td>\n",
       "      <td>stat=563111.0</td>\n",
       "      <td>p_val=4.27544102229e-19</td>\n",
       "    </tr>\n",
       "    <tr>\n",
       "      <th>3</th>\n",
       "      <td>Diff in Travel Time</td>\n",
       "      <td>Shapiro</td>\n",
       "      <td></td>\n",
       "      <td>0.05%</td>\n",
       "      <td>We cannot assure that variances are equal</td>\n",
       "      <td>stat=-1.10336153628</td>\n",
       "      <td>p_val=0.269906543694</td>\n",
       "    </tr>\n",
       "    <tr>\n",
       "      <th>4</th>\n",
       "      <td>Travel Time Diff secs</td>\n",
       "      <td>Shapiro Normality</td>\n",
       "      <td>secs</td>\n",
       "      <td>0.05%</td>\n",
       "      <td>Distrib is not normal</td>\n",
       "      <td></td>\n",
       "      <td>0</td>\n",
       "    </tr>\n",
       "    <tr>\n",
       "      <th>5</th>\n",
       "      <td>Travel Time Diff secs</td>\n",
       "      <td>mean</td>\n",
       "      <td>t.units</td>\n",
       "      <td>0.05%</td>\n",
       "      <td>has improved</td>\n",
       "      <td>38.3974</td>\n",
       "      <td></td>\n",
       "    </tr>\n",
       "    <tr>\n",
       "      <th>6</th>\n",
       "      <td>Travel Time Diff secs</td>\n",
       "      <td>median</td>\n",
       "      <td>t.units</td>\n",
       "      <td>0.05%</td>\n",
       "      <td>has improved</td>\n",
       "      <td>4</td>\n",
       "      <td></td>\n",
       "    </tr>\n",
       "    <tr>\n",
       "      <th>7</th>\n",
       "      <td>Travel Time Diff secs</td>\n",
       "      <td>std.deviation</td>\n",
       "      <td>t.units</td>\n",
       "      <td>0.05%</td>\n",
       "      <td>has improved</td>\n",
       "      <td>225.027</td>\n",
       "      <td></td>\n",
       "    </tr>\n",
       "    <tr>\n",
       "      <th>8</th>\n",
       "      <td>Travel Time Diff %</td>\n",
       "      <td>Shapiro Normality</td>\n",
       "      <td>%</td>\n",
       "      <td></td>\n",
       "      <td>Distrib is not normal</td>\n",
       "      <td></td>\n",
       "      <td>0</td>\n",
       "    </tr>\n",
       "    <tr>\n",
       "      <th>9</th>\n",
       "      <td>Travel Time Diff %</td>\n",
       "      <td>mean</td>\n",
       "      <td>%</td>\n",
       "      <td></td>\n",
       "      <td>has improved</td>\n",
       "      <td>0.522663</td>\n",
       "      <td></td>\n",
       "    </tr>\n",
       "    <tr>\n",
       "      <th>10</th>\n",
       "      <td>Travel Time Diff %</td>\n",
       "      <td>median</td>\n",
       "      <td>%</td>\n",
       "      <td></td>\n",
       "      <td>has improved</td>\n",
       "      <td>0.590003</td>\n",
       "      <td></td>\n",
       "    </tr>\n",
       "    <tr>\n",
       "      <th>11</th>\n",
       "      <td>Travel Time Diff %</td>\n",
       "      <td>std.deviation</td>\n",
       "      <td>%</td>\n",
       "      <td></td>\n",
       "      <td>has improved</td>\n",
       "      <td>12.1216</td>\n",
       "      <td></td>\n",
       "    </tr>\n",
       "  </tbody>\n",
       "</table>"
      ],
      "text/plain": [
       "<IPython.core.display.HTML object>"
      ]
     },
     "metadata": {},
     "output_type": "display_data"
    },
    {
     "data": {
      "text/html": [
       "<h5>1.6. GLOBAL TRAFFIC. PAIRED - Individual Absolute Traveltime Enhacenment histogram</h5>"
      ],
      "text/plain": [
       "<IPython.core.display.HTML object>"
      ]
     },
     "metadata": {},
     "output_type": "display_data"
    },
    {
     "data": {
      "image/png": "[encoded data removed]",
      "text/plain": [
       "<matplotlib.figure.Figure at 0x12199cbe0>"
      ]
     },
     "metadata": {},
     "output_type": "display_data"
    },
    {
     "data": {
      "text/html": [
       "<h5>1.7. GLOBAL TRAFFIC. PAIRED - Individual Relative Traveltime Enhacenment histogram %</h5>"
      ],
      "text/plain": [
       "<IPython.core.display.HTML object>"
      ]
     },
     "metadata": {},
     "output_type": "display_data"
    },
    {
     "data": {
      "image/png": "[encoded data removed]",
      "text/plain": [
       "<matplotlib.figure.Figure at 0x120c47080>"
      ]
     },
     "metadata": {},
     "output_type": "display_data"
    },
    {
     "data": {
      "image/png": "[encoded data removed]",
      "text/plain": [
       "<matplotlib.figure.Figure at 0x11b5f6198>"
      ]
     },
     "metadata": {},
     "output_type": "display_data"
    },
    {
     "data": {
      "text/html": [
       "<h5>1.8. GLOBAL TRAFFIC. PAIRED - Cumulative distribution of Individual Traveltime Enhacenment</h5>"
      ],
      "text/plain": [
       "<IPython.core.display.HTML object>"
      ]
     },
     "metadata": {},
     "output_type": "display_data"
    },
    {
     "data": {
      "image/png": "[encoded data removed]",
      "text/plain": [
       "<matplotlib.figure.Figure at 0x11b614978>"
      ]
     },
     "metadata": {},
     "output_type": "display_data"
    },
    {
     "data": {
      "text/html": [
       "<h5>1.9. GLOBAL TRAFFIC. PAIRED - MuTRAFF Usage - Individual absolute traveltime enhancement histogram</h5>"
      ],
      "text/plain": [
       "<IPython.core.display.HTML object>"
      ]
     },
     "metadata": {},
     "output_type": "display_data"
    },
    {
     "data": {
      "image/png": "[encoded data removed]",
      "text/plain": [
       "<matplotlib.figure.Figure at 0x11b5d6b00>"
      ]
     },
     "metadata": {},
     "output_type": "display_data"
    },
    {
     "data": {
      "text/html": [
       "<h5>1.10. GLOBAL TRAFFIC. PAIRED - MuTRAFF Usage - Individual relative traveltime enhancement histogram</h5>"
      ],
      "text/plain": [
       "<IPython.core.display.HTML object>"
      ]
     },
     "metadata": {},
     "output_type": "display_data"
    },
    {
     "data": {
      "image/png": "[encoded data removed]",
      "text/plain": [
       "<matplotlib.figure.Figure at 0x11f143b38>"
      ]
     },
     "metadata": {},
     "output_type": "display_data"
    },
    {
     "data": {
      "image/png": "[encoded data removed]",
      "text/plain": [
       "<matplotlib.figure.Figure at 0x11b5fe3c8>"
      ]
     },
     "metadata": {},
     "output_type": "display_data"
    },
    {
     "ename": "OSError",
     "evalue": "File b'/Users/alvaro/Desktop/workspace/mutraff/uah-gist-mutraff-bastra/experiments/tmp/alcalahenares_noBastra_nomaps_fulltraffic_161216_181131/edge_stats.csv' does not exist",
     "output_type": "error",
     "traceback": [
      "\u001b[0;31m---------------------------------------------------------------------------\u001b[0m",
      "\u001b[0;31mOSError\u001b[0m                                   Traceback (most recent call last)",
      "\u001b[0;32m<ipython-input-74-6ddc2c51ddef>\u001b[0m in \u001b[0;36m<module>\u001b[0;34m()\u001b[0m\n\u001b[0;32m----> 1\u001b[0;31m \u001b[0mcompare_scenarios\u001b[0m\u001b[0;34m(\u001b[0m \u001b[0mBASTRA_PATH\u001b[0m\u001b[0;34m,\u001b[0m \u001b[0mlabel1\u001b[0m\u001b[0;34m,\u001b[0m \u001b[0mexperiment1\u001b[0m\u001b[0;34m,\u001b[0m \u001b[0mlabel2\u001b[0m\u001b[0;34m,\u001b[0m \u001b[0mexperiment2\u001b[0m \u001b[0;34m)\u001b[0m\u001b[0;34m\u001b[0m\u001b[0m\n\u001b[0m",
      "\u001b[0;32m<ipython-input-26-6c4eb8c546c1>\u001b[0m in \u001b[0;36mcompare_scenarios\u001b[0;34m(path, lab1, experiment1, lab2, experiment2)\u001b[0m\n\u001b[1;32m     40\u001b[0m     \u001b[0medge_map1\u001b[0m \u001b[0;34m=\u001b[0m \u001b[0mpd\u001b[0m\u001b[0;34m.\u001b[0m\u001b[0mread_csv\u001b[0m\u001b[0;34m(\u001b[0m \u001b[0medge_map_file1\u001b[0m\u001b[0;34m)\u001b[0m\u001b[0;34m\u001b[0m\u001b[0m\n\u001b[1;32m     41\u001b[0m     \u001b[0medge_stats_file1\u001b[0m \u001b[0;34m=\u001b[0m \u001b[0mpath\u001b[0m \u001b[0;34m+\u001b[0m \u001b[0;34m\"/experiments/tmp/\"\u001b[0m \u001b[0;34m+\u001b[0m \u001b[0mexperiment1\u001b[0m \u001b[0;34m+\u001b[0m \u001b[0;34m\"/edge_stats.csv\"\u001b[0m\u001b[0;34m\u001b[0m\u001b[0m\n\u001b[0;32m---> 42\u001b[0;31m     \u001b[0medge_stats1\u001b[0m \u001b[0;34m=\u001b[0m \u001b[0mpd\u001b[0m\u001b[0;34m.\u001b[0m\u001b[0mread_csv\u001b[0m\u001b[0;34m(\u001b[0m \u001b[0medge_stats_file1\u001b[0m\u001b[0;34m)\u001b[0m\u001b[0;34m\u001b[0m\u001b[0m\n\u001b[0m\u001b[1;32m     43\u001b[0m     \u001b[0medge_stats_file2\u001b[0m \u001b[0;34m=\u001b[0m \u001b[0mpath\u001b[0m \u001b[0;34m+\u001b[0m \u001b[0;34m\"/experiments/tmp/\"\u001b[0m \u001b[0;34m+\u001b[0m \u001b[0mexperiment2\u001b[0m \u001b[0;34m+\u001b[0m \u001b[0;34m\"/edge_stats.csv\"\u001b[0m\u001b[0;34m\u001b[0m\u001b[0m\n\u001b[1;32m     44\u001b[0m     \u001b[0medge_stats2\u001b[0m \u001b[0;34m=\u001b[0m \u001b[0mpd\u001b[0m\u001b[0;34m.\u001b[0m\u001b[0mread_csv\u001b[0m\u001b[0;34m(\u001b[0m \u001b[0medge_stats_file2\u001b[0m\u001b[0;34m)\u001b[0m\u001b[0;34m\u001b[0m\u001b[0m\n",
      "\u001b[0;32m/Users/alvaro/anaconda3/lib/python3.5/site-packages/pandas/io/parsers.py\u001b[0m in \u001b[0;36mparser_f\u001b[0;34m(filepath_or_buffer, sep, delimiter, header, names, index_col, usecols, squeeze, prefix, mangle_dupe_cols, dtype, engine, converters, true_values, false_values, skipinitialspace, skiprows, skipfooter, nrows, na_values, keep_default_na, na_filter, verbose, skip_blank_lines, parse_dates, infer_datetime_format, keep_date_col, date_parser, dayfirst, iterator, chunksize, compression, thousands, decimal, lineterminator, quotechar, quoting, escapechar, comment, encoding, dialect, tupleize_cols, error_bad_lines, warn_bad_lines, skip_footer, doublequote, delim_whitespace, as_recarray, compact_ints, use_unsigned, low_memory, buffer_lines, memory_map, float_precision)\u001b[0m\n\u001b[1;32m    560\u001b[0m                     skip_blank_lines=skip_blank_lines)\n\u001b[1;32m    561\u001b[0m \u001b[0;34m\u001b[0m\u001b[0m\n\u001b[0;32m--> 562\u001b[0;31m         \u001b[0;32mreturn\u001b[0m \u001b[0m_read\u001b[0m\u001b[0;34m(\u001b[0m\u001b[0mfilepath_or_buffer\u001b[0m\u001b[0;34m,\u001b[0m \u001b[0mkwds\u001b[0m\u001b[0;34m)\u001b[0m\u001b[0;34m\u001b[0m\u001b[0m\n\u001b[0m\u001b[1;32m    563\u001b[0m \u001b[0;34m\u001b[0m\u001b[0m\n\u001b[1;32m    564\u001b[0m     \u001b[0mparser_f\u001b[0m\u001b[0;34m.\u001b[0m\u001b[0m__name__\u001b[0m \u001b[0;34m=\u001b[0m \u001b[0mname\u001b[0m\u001b[0;34m\u001b[0m\u001b[0m\n",
      "\u001b[0;32m/Users/alvaro/anaconda3/lib/python3.5/site-packages/pandas/io/parsers.py\u001b[0m in \u001b[0;36m_read\u001b[0;34m(filepath_or_buffer, kwds)\u001b[0m\n\u001b[1;32m    313\u001b[0m \u001b[0;34m\u001b[0m\u001b[0m\n\u001b[1;32m    314\u001b[0m     \u001b[0;31m# Create the parser.\u001b[0m\u001b[0;34m\u001b[0m\u001b[0;34m\u001b[0m\u001b[0m\n\u001b[0;32m--> 315\u001b[0;31m     \u001b[0mparser\u001b[0m \u001b[0;34m=\u001b[0m \u001b[0mTextFileReader\u001b[0m\u001b[0;34m(\u001b[0m\u001b[0mfilepath_or_buffer\u001b[0m\u001b[0;34m,\u001b[0m \u001b[0;34m**\u001b[0m\u001b[0mkwds\u001b[0m\u001b[0;34m)\u001b[0m\u001b[0;34m\u001b[0m\u001b[0m\n\u001b[0m\u001b[1;32m    316\u001b[0m \u001b[0;34m\u001b[0m\u001b[0m\n\u001b[1;32m    317\u001b[0m     \u001b[0;32mif\u001b[0m \u001b[0;34m(\u001b[0m\u001b[0mnrows\u001b[0m \u001b[0;32mis\u001b[0m \u001b[0;32mnot\u001b[0m \u001b[0;32mNone\u001b[0m\u001b[0;34m)\u001b[0m \u001b[0;32mand\u001b[0m \u001b[0;34m(\u001b[0m\u001b[0mchunksize\u001b[0m \u001b[0;32mis\u001b[0m \u001b[0;32mnot\u001b[0m \u001b[0;32mNone\u001b[0m\u001b[0;34m)\u001b[0m\u001b[0;34m:\u001b[0m\u001b[0;34m\u001b[0m\u001b[0m\n",
      "\u001b[0;32m/Users/alvaro/anaconda3/lib/python3.5/site-packages/pandas/io/parsers.py\u001b[0m in \u001b[0;36m__init__\u001b[0;34m(self, f, engine, **kwds)\u001b[0m\n\u001b[1;32m    643\u001b[0m             \u001b[0mself\u001b[0m\u001b[0;34m.\u001b[0m\u001b[0moptions\u001b[0m\u001b[0;34m[\u001b[0m\u001b[0;34m'has_index_names'\u001b[0m\u001b[0;34m]\u001b[0m \u001b[0;34m=\u001b[0m \u001b[0mkwds\u001b[0m\u001b[0;34m[\u001b[0m\u001b[0;34m'has_index_names'\u001b[0m\u001b[0;34m]\u001b[0m\u001b[0;34m\u001b[0m\u001b[0m\n\u001b[1;32m    644\u001b[0m \u001b[0;34m\u001b[0m\u001b[0m\n\u001b[0;32m--> 645\u001b[0;31m         \u001b[0mself\u001b[0m\u001b[0;34m.\u001b[0m\u001b[0m_make_engine\u001b[0m\u001b[0;34m(\u001b[0m\u001b[0mself\u001b[0m\u001b[0;34m.\u001b[0m\u001b[0mengine\u001b[0m\u001b[0;34m)\u001b[0m\u001b[0;34m\u001b[0m\u001b[0m\n\u001b[0m\u001b[1;32m    646\u001b[0m \u001b[0;34m\u001b[0m\u001b[0m\n\u001b[1;32m    647\u001b[0m     \u001b[0;32mdef\u001b[0m \u001b[0mclose\u001b[0m\u001b[0;34m(\u001b[0m\u001b[0mself\u001b[0m\u001b[0;34m)\u001b[0m\u001b[0;34m:\u001b[0m\u001b[0;34m\u001b[0m\u001b[0m\n",
      "\u001b[0;32m/Users/alvaro/anaconda3/lib/python3.5/site-packages/pandas/io/parsers.py\u001b[0m in \u001b[0;36m_make_engine\u001b[0;34m(self, engine)\u001b[0m\n\u001b[1;32m    797\u001b[0m     \u001b[0;32mdef\u001b[0m \u001b[0m_make_engine\u001b[0m\u001b[0;34m(\u001b[0m\u001b[0mself\u001b[0m\u001b[0;34m,\u001b[0m \u001b[0mengine\u001b[0m\u001b[0;34m=\u001b[0m\u001b[0;34m'c'\u001b[0m\u001b[0;34m)\u001b[0m\u001b[0;34m:\u001b[0m\u001b[0;34m\u001b[0m\u001b[0m\n\u001b[1;32m    798\u001b[0m         \u001b[0;32mif\u001b[0m \u001b[0mengine\u001b[0m \u001b[0;34m==\u001b[0m \u001b[0;34m'c'\u001b[0m\u001b[0;34m:\u001b[0m\u001b[0;34m\u001b[0m\u001b[0m\n\u001b[0;32m--> 799\u001b[0;31m             \u001b[0mself\u001b[0m\u001b[0;34m.\u001b[0m\u001b[0m_engine\u001b[0m \u001b[0;34m=\u001b[0m \u001b[0mCParserWrapper\u001b[0m\u001b[0;34m(\u001b[0m\u001b[0mself\u001b[0m\u001b[0;34m.\u001b[0m\u001b[0mf\u001b[0m\u001b[0;34m,\u001b[0m \u001b[0;34m**\u001b[0m\u001b[0mself\u001b[0m\u001b[0;34m.\u001b[0m\u001b[0moptions\u001b[0m\u001b[0;34m)\u001b[0m\u001b[0;34m\u001b[0m\u001b[0m\n\u001b[0m\u001b[1;32m    800\u001b[0m         \u001b[0;32melse\u001b[0m\u001b[0;34m:\u001b[0m\u001b[0;34m\u001b[0m\u001b[0m\n\u001b[1;32m    801\u001b[0m             \u001b[0;32mif\u001b[0m \u001b[0mengine\u001b[0m \u001b[0;34m==\u001b[0m \u001b[0;34m'python'\u001b[0m\u001b[0;34m:\u001b[0m\u001b[0;34m\u001b[0m\u001b[0m\n",
      "\u001b[0;32m/Users/alvaro/anaconda3/lib/python3.5/site-packages/pandas/io/parsers.py\u001b[0m in \u001b[0;36m__init__\u001b[0;34m(self, src, **kwds)\u001b[0m\n\u001b[1;32m   1211\u001b[0m         \u001b[0mkwds\u001b[0m\u001b[0;34m[\u001b[0m\u001b[0;34m'allow_leading_cols'\u001b[0m\u001b[0;34m]\u001b[0m \u001b[0;34m=\u001b[0m \u001b[0mself\u001b[0m\u001b[0;34m.\u001b[0m\u001b[0mindex_col\u001b[0m \u001b[0;32mis\u001b[0m \u001b[0;32mnot\u001b[0m \u001b[0;32mFalse\u001b[0m\u001b[0;34m\u001b[0m\u001b[0m\n\u001b[1;32m   1212\u001b[0m \u001b[0;34m\u001b[0m\u001b[0m\n\u001b[0;32m-> 1213\u001b[0;31m         \u001b[0mself\u001b[0m\u001b[0;34m.\u001b[0m\u001b[0m_reader\u001b[0m \u001b[0;34m=\u001b[0m \u001b[0m_parser\u001b[0m\u001b[0;34m.\u001b[0m\u001b[0mTextReader\u001b[0m\u001b[0;34m(\u001b[0m\u001b[0msrc\u001b[0m\u001b[0;34m,\u001b[0m \u001b[0;34m**\u001b[0m\u001b[0mkwds\u001b[0m\u001b[0;34m)\u001b[0m\u001b[0;34m\u001b[0m\u001b[0m\n\u001b[0m\u001b[1;32m   1214\u001b[0m \u001b[0;34m\u001b[0m\u001b[0m\n\u001b[1;32m   1215\u001b[0m         \u001b[0;31m# XXX\u001b[0m\u001b[0;34m\u001b[0m\u001b[0;34m\u001b[0m\u001b[0m\n",
      "\u001b[0;32mpandas/parser.pyx\u001b[0m in \u001b[0;36mpandas.parser.TextReader.__cinit__ (pandas/parser.c:3427)\u001b[0;34m()\u001b[0m\n",
      "\u001b[0;32mpandas/parser.pyx\u001b[0m in \u001b[0;36mpandas.parser.TextReader._setup_parser_source (pandas/parser.c:6861)\u001b[0;34m()\u001b[0m\n",
      "\u001b[0;31mOSError\u001b[0m: File b'/Users/alvaro/Desktop/workspace/mutraff/uah-gist-mutraff-bastra/experiments/tmp/alcalahenares_noBastra_nomaps_fulltraffic_161216_181131/edge_stats.csv' does not exist"
     ]
    }
   ],
   "source": [
    "compare_scenarios( BASTRA_PATH, label1, experiment1, label2, experiment2 )"
   ]
  },
  {
   "cell_type": "markdown",
   "metadata": {
    "collapsed": true
   },
   "source": [
    "# BACKUP"
   ]
  }
 ],
 "metadata": {
  "anaconda-cloud": {},
  "celltoolbar": "Slideshow",
  "kernelspec": {
   "display_name": "Python [Root]",
   "language": "python",
   "name": "Python [Root]"
  },
  "language_info": {
   "codemirror_mode": {
    "name": "ipython",
    "version": 3
   },
   "file_extension": ".py",
   "mimetype": "text/x-python",
   "name": "python",
   "nbconvert_exporter": "python",
   "pygments_lexer": "ipython3",
   "version": "3.5.2"
  },
  "nbpresent": {
   "slides": {
    "0e93617c-5659-44ad-a5a3-3b67f0917a8a": {
     "id": "0e93617c-5659-44ad-a5a3-3b67f0917a8a",
     "prev": "d2ee484a-f981-4b4e-96e0-fafec10ab31f",
     "regions": {
      "24f8c583-3bc9-475b-9e13-537eb880eccf": {
       "attrs": {
        "height": 0.8,
        "width": 0.8,
        "x": 0.1,
        "y": 0.1
       },
       "content": {
        "cell": "c7f66994-f059-4fa7-b87c-fcf87fcd4692",
        "part": "whole"
       },
       "id": "24f8c583-3bc9-475b-9e13-537eb880eccf"
      }
     }
    },
    "192eac39-0228-4273-ad57-1231cfedd981": {
     "id": "192eac39-0228-4273-ad57-1231cfedd981",
     "prev": "0e93617c-5659-44ad-a5a3-3b67f0917a8a",
     "regions": {
      "4d2c9d56-c2c4-4967-944f-b5fde27072d9": {
       "attrs": {
        "height": 0.4,
        "width": 0.8,
        "x": 0.1,
        "y": 0.5
       },
       "content": {
        "cell": "13cdafd0-e099-4df8-b330-ca35e5af9864",
        "part": "whole"
       },
       "id": "4d2c9d56-c2c4-4967-944f-b5fde27072d9"
      },
      "bbfe68c0-0433-4982-b147-1bb5e6507033": {
       "attrs": {
        "height": 0.4,
        "width": 0.8,
        "x": 0.1,
        "y": 0.5
       },
       "content": {
        "cell": "08badeff-9fcf-4a72-882f-406306564576",
        "part": "whole"
       },
       "id": "bbfe68c0-0433-4982-b147-1bb5e6507033"
      },
      "dc6c02d6-41e6-423f-889f-589b1356935c": {
       "attrs": {
        "height": 0.8,
        "width": 0.8,
        "x": 0.1,
        "y": 0.1
       },
       "content": {
        "cell": "478def4f-6428-4d47-a089-295db8ebbb0f",
        "part": "whole"
       },
       "id": "dc6c02d6-41e6-423f-889f-589b1356935c"
      }
     }
    },
    "318b4c1a-687f-49bb-b17e-090af20718df": {
     "id": "318b4c1a-687f-49bb-b17e-090af20718df",
     "prev": "db8c44bf-4546-44d6-bbe5-627a85244894",
     "regions": {
      "10d4c0a8-0d07-4118-98e6-4b6674a073b4": {
       "attrs": {
        "height": 0.8,
        "width": 0.8,
        "x": 0.1,
        "y": 0.1
       },
       "content": {
        "cell": "3874ab56-9646-45e2-99ae-cb18c9603f38",
        "part": "whole"
       },
       "id": "10d4c0a8-0d07-4118-98e6-4b6674a073b4"
      },
      "7270e0de-058e-4b5e-bd44-5910108f26b8": {
       "attrs": {
        "height": 0.4,
        "width": 0.8,
        "x": 0.1,
        "y": 0.5
       },
       "content": {
        "cell": "69d6520c-8cb1-48f0-942b-f3c057f6d32e",
        "part": "whole"
       },
       "id": "7270e0de-058e-4b5e-bd44-5910108f26b8"
      }
     }
    },
    "49be6fd5-37c9-4081-8941-b283985e0377": {
     "id": "49be6fd5-37c9-4081-8941-b283985e0377",
     "prev": "ac4b7a52-e61d-4b2e-a2d0-e78488fe662f",
     "regions": {
      "deb4410c-3665-4a55-9cb8-b9792388f552": {
       "attrs": {
        "height": 0.8,
        "width": 0.8,
        "x": 0.1,
        "y": 0.1
       },
       "content": {
        "cell": "a622efcf-0563-4216-9d5a-f4b1f55d42a0",
        "part": "whole"
       },
       "id": "deb4410c-3665-4a55-9cb8-b9792388f552"
      }
     }
    },
    "54356b59-8e84-4e66-a8f6-1d4ef0bca15f": {
     "id": "54356b59-8e84-4e66-a8f6-1d4ef0bca15f",
     "prev": null,
     "regions": {
      "b3560a32-169b-4d7f-b4fa-18fb3a36de9f": {
       "attrs": {
        "height": 0.8,
        "width": 0.8,
        "x": 0.1,
        "y": 0.1
       },
       "content": {
        "cell": "aa548334-3712-4bc8-a30a-5a2a2260bd1c",
        "part": "whole"
       },
       "id": "b3560a32-169b-4d7f-b4fa-18fb3a36de9f"
      }
     }
    },
    "ac4b7a52-e61d-4b2e-a2d0-e78488fe662f": {
     "id": "ac4b7a52-e61d-4b2e-a2d0-e78488fe662f",
     "prev": "318b4c1a-687f-49bb-b17e-090af20718df",
     "regions": {
      "9483ba7b-f75f-4b68-86a7-2a72826169c5": {
       "attrs": {
        "height": 0.4,
        "width": 0.8,
        "x": 0.1,
        "y": 0.5
       },
       "content": {
        "cell": "66306679-3be0-4087-bed0-760c7d275993",
        "part": "whole"
       },
       "id": "9483ba7b-f75f-4b68-86a7-2a72826169c5"
      },
      "ecb1b2c4-fdf2-4db7-975c-c797f9f6fcb8": {
       "attrs": {
        "height": 0.4,
        "width": 0.8,
        "x": 0.1,
        "y": 0.5
       },
       "content": {
        "cell": "745baf99-dab3-4a9a-b114-af69d3ab1633",
        "part": "whole"
       },
       "id": "ecb1b2c4-fdf2-4db7-975c-c797f9f6fcb8"
      },
      "edaccb11-8731-4b52-9075-f981f02e220c": {
       "attrs": {
        "height": 0.8,
        "width": 0.8,
        "x": 0.1,
        "y": 0.1
       },
       "content": {
        "cell": "076a1b7c-343b-4bb3-a2cf-20d64498445f",
        "part": "whole"
       },
       "id": "edaccb11-8731-4b52-9075-f981f02e220c"
      }
     }
    },
    "d2ee484a-f981-4b4e-96e0-fafec10ab31f": {
     "id": "d2ee484a-f981-4b4e-96e0-fafec10ab31f",
     "prev": "49be6fd5-37c9-4081-8941-b283985e0377",
     "regions": {
      "60f786b0-ee3e-41bc-b0c1-2d1bb85b226b": {
       "attrs": {
        "height": 0.8,
        "width": 0.8,
        "x": 0.1,
        "y": 0.1
       },
       "content": {
        "cell": "db3fb542-6dc1-44d6-8c08-adc17d7d044d",
        "part": "whole"
       },
       "id": "60f786b0-ee3e-41bc-b0c1-2d1bb85b226b"
      }
     }
    },
    "db8c44bf-4546-44d6-bbe5-627a85244894": {
     "id": "db8c44bf-4546-44d6-bbe5-627a85244894",
     "prev": "54356b59-8e84-4e66-a8f6-1d4ef0bca15f",
     "regions": {
      "c3afd57d-9edb-4cc5-9978-b437ee816cde": {
       "attrs": {
        "height": 0.8,
        "width": 0.8,
        "x": 0.1,
        "y": 0.1
       },
       "content": {
        "cell": "cc5f0cc1-0a51-4018-a01a-b9672f6f94a8",
        "part": "whole"
       },
       "id": "c3afd57d-9edb-4cc5-9978-b437ee816cde"
      }
     }
    }
   },
   "themes": {}
  }
 },
 "nbformat": 4,
 "nbformat_minor": 0
}
