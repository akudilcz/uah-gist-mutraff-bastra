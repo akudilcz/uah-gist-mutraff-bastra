{
 "cells": [
  {
   "cell_type": "markdown",
   "metadata": {
    "nbpresent": {
     "id": "aa548334-3712-4bc8-a30a-5a2a2260bd1c"
    },
    "slideshow": {
     "slide_type": "slide"
    }
   },
   "source": [
    "# BASTRA GRID ANALYSIS\n",
    "This notebook will cover the GRID scenario data analysis based on BASTRA simulator.\n",
    "\n",
    "Author: Alvaro Paricio. sept.2016\n",
    "\n",
    "## Scenarios\n",
    "* Reference scenario: Grid_NoBastra\n",
    "    * A GRID map routing traffic without BASTRA map distribution mechanisms.\n",
    "## References\n",
    "* For Wilcoxon tests:\n",
    "    * http://docs.scipy.org/doc/scipy-0.14.0/reference/generated/scipy.stats.wilcoxon.html\n",
    "    * https://gist.github.com/mblondel/1761714"
   ]
  },
  {
   "cell_type": "markdown",
   "metadata": {
    "nbpresent": {
     "id": "3874ab56-9646-45e2-99ae-cb18c9603f38"
    },
    "slideshow": {
     "slide_type": "subslide"
    }
   },
   "source": [
    "### Imports"
   ]
  },
  {
   "cell_type": "code",
   "execution_count": 1,
   "metadata": {
    "collapsed": false,
    "nbpresent": {
     "id": "69d6520c-8cb1-48f0-942b-f3c057f6d32e"
    },
    "slideshow": {
     "slide_type": "fragment"
    }
   },
   "outputs": [],
   "source": [
    "%matplotlib inline\n",
    "\n",
    "import numpy as np\n",
    "import matplotlib.pyplot as plt\n",
    "import matplotlib.mlab as mlab\n",
    "import matplotlib.lines as mlines\n",
    "import matplotlib as mpl\n",
    "from scipy.stats import ttest_1samp, wilcoxon, ttest_ind, mannwhitneyu\n",
    "\n",
    "import sklearn as sk\n",
    "import pandas as pd"
   ]
  },
  {
   "cell_type": "markdown",
   "metadata": {
    "nbpresent": {
     "id": "076a1b7c-343b-4bb3-a2cf-20d64498445f"
    },
    "slideshow": {
     "slide_type": "subslide"
    }
   },
   "source": [
    "### Functions"
   ]
  },
  {
   "cell_type": "markdown",
   "metadata": {},
   "source": [
    "#### Function str_vals_percent\n",
    "Given two values, print them with their percent difference"
   ]
  },
  {
   "cell_type": "code",
   "execution_count": 2,
   "metadata": {
    "collapsed": false
   },
   "outputs": [],
   "source": [
    "def str_vals_percent( n1, n2 ):\n",
    "    return \"[\" + \"{0:.2f}\".format(n1) + \",\" + \"{0:.2f}\".format(n2) +\"] \"+ \"{0:.2f}\".format((n2-n1)*100/n1) + \"%\" "
   ]
  },
  {
   "cell_type": "markdown",
   "metadata": {},
   "source": [
    "#### Function dataset_obtain_unique_fleets\n",
    "Extract unique values for 'veh_types' column from the datasets.\n",
    "\n",
    "Support 0,1,2 datasets. Easy to extend to more dataserts. Not needed by now."
   ]
  },
  {
   "cell_type": "code",
   "execution_count": 3,
   "metadata": {
    "collapsed": true
   },
   "outputs": [],
   "source": [
    "def dataset_obtain_unique_fleets( *ds ):\n",
    "    size = len(ds)\n",
    "    if( len(ds) == 0):\n",
    "        return []\n",
    "    if( len(ds) == 1):\n",
    "        return ds[0]['veh_type'].unique()\n",
    "    if( len(ds) == 2):\n",
    "        vt1 = ds[0]['veh_type'].unique()\n",
    "        vt2 = ds[1]['veh_type'].unique()\n",
    "        return list(set().union(vt2, vt2))"
   ]
  },
  {
   "cell_type": "markdown",
   "metadata": {},
   "source": [
    "#### Function dataset_filter_per_veh_type\n",
    "Filter a dataset per type of veh_type"
   ]
  },
  {
   "cell_type": "code",
   "execution_count": 4,
   "metadata": {
    "collapsed": true
   },
   "outputs": [],
   "source": [
    "def dataset_filter_per_veh_type(ds, vt):\n",
    "    return ds.loc[ ds['veh_type']==vt ]"
   ]
  },
  {
   "cell_type": "markdown",
   "metadata": {
    "collapsed": true,
    "nbpresent": {
     "id": "745baf99-dab3-4a9a-b114-af69d3ab1633"
    },
    "slideshow": {
     "slide_type": "fragment"
    }
   },
   "source": [
    "#### Function draw_histogram\n",
    "Plots an histogram based on the dataset."
   ]
  },
  {
   "cell_type": "code",
   "execution_count": 5,
   "metadata": {
    "collapsed": true,
    "nbpresent": {
     "id": "52715953-f6ac-4bfd-bd28-e678c2e1b118"
    },
    "slideshow": {
     "slide_type": "skip"
    }
   },
   "outputs": [],
   "source": [
    "def draw_histogram( name, ds_raw ):\n",
    "    ds = ds_raw.loc[ ds_raw['t_arrival_secs'] > 0 ]\n",
    "    # ds_raw.head()\n",
    "    travel_times = ds['t_traveltime_secs']\n",
    "\n",
    "    cols = 80\n",
    "    plt.figure(figsize=(18,8)) \n",
    "    y_vals, x_bins, patches = plt.hist(travel_times, cols, normed=0, facecolor='green', alpha=0.50)\n",
    "    x_mean = np.mean(travel_times)\n",
    "    x_median = np.median(travel_times)\n",
    "    y_mean = np.mean(y_vals)\n",
    "    y_median = np.median(y_vals)\n",
    "    r_mean = np.mean(ds['route_path_num'])\n",
    "    r_median = np.median(ds['route_path_num'])\n",
    "    # l_mean = np.mean(ds['route_length'])\n",
    "    # l_median = np.median(ds['route_length'])\n",
    "    l_mean = 1\n",
    "    l_median = 1\n",
    "\n",
    "    # add a 'best fit' line\n",
    "    y1_vals = np.append( y_vals, y_vals[cols-1] )\n",
    "\n",
    "    x2_mean = [ x_mean for i in y1_vals ]\n",
    "    x3_median = [ x_median for i in y1_vals ]\n",
    "    y2_mean = [ y_mean for i in x_bins ]\n",
    "    y3_median = [ y_median for i in x_bins ]\n",
    "\n",
    "    # print( \"X-VALS: \", len(x_bins), \" \", x_bins.__repr__, )\n",
    "    # print( \"Y_VALS: \", len(y1_vals), \" \", y1_vals.__repr__, )\n",
    "    # print( \"X-MEAN: \", len(x2_mean), \" \", x2_mean.__repr__, )\n",
    "    # print( \"X-MEDIAN: \", len(x3_median), \" \", x3_median.__repr__, )\n",
    "\n",
    "    print(\n",
    "        \"Experiment:\", name, \"\\n\",\n",
    "        \"Trips Total:\", ds_raw['id'].count(), \"\\n\",\n",
    "        \"Trips Completed:\", travel_times.count(), \"\\n\",\n",
    "        \"   * Travel time (mean):\", x_mean, \"\\n\",\n",
    "        \"  * Travel time (median):\", x_median, \"\\n\",\n",
    "        \"  * Route lengths (mean):\", l_mean, \"\\n\",\n",
    "        \"  * Route lengths (median):\", l_median, \"\\n\",\n",
    "        \"  * Route paths (mean):\", r_mean, \"\\n\",\n",
    "        \"  * Route paths (median):\", r_median, \"\\n\",\n",
    "        )\n",
    "\n",
    "    line_estimation = plt.plot(x_bins, y1_vals, 'r-', label='Estimation', linewidth=2, color='darkgreen')\n",
    "    line_mean = plt.plot(x2_mean, y1_vals, label='Mean', linestyle='-', linewidth=2, color='blue')\n",
    "    line_median = plt.plot(x3_median, y1_vals, label='Median', linestyle='-', linewidth=2, color='red')\n",
    "\n",
    "    plt.xlabel('Travel Time')\n",
    "    plt.ylabel('Frecuency')\n",
    "    # plt.title(r'$\\mathrm{Histogram\\ of\\ Travel Times: }\\ $' + name )\n",
    "    plt.title(\"Travel Times Histogram: \"+name )\n",
    "    mean_line = mlines.Line2D([], [], color='blue', markersize=1, label='Mean')\n",
    "    median_line = mlines.Line2D([], [], color='red', markersize=1, label='Median')\n",
    "    plt.legend(handles=[median_line, mean_line], bbox_to_anchor=(1.15, 0.9))\n",
    "\n",
    "    # plt.axis([travel_times.min(), travel_times.max()+1, 0, 0.03])\n",
    "    plt.grid(True)\n",
    "\n",
    "    # If plotting OUTSIDE the notebook, set interactive mode ON/OFF\n",
    "    # plt.ioff()\n",
    "    # plt.ion()\n",
    "\n",
    "    plt.show()"
   ]
  },
  {
   "cell_type": "markdown",
   "metadata": {
    "collapsed": true,
    "slideshow": {
     "slide_type": "fragment"
    }
   },
   "source": [
    "#### Function draw_2histograms\n",
    "Plots the comparison between two overlapped histograms based on the datasets."
   ]
  },
  {
   "cell_type": "code",
   "execution_count": 6,
   "metadata": {
    "collapsed": false,
    "slideshow": {
     "slide_type": "skip"
    }
   },
   "outputs": [],
   "source": [
    "def draw_2histograms( title, label1, experiment1, ds_raw1, label2, experiment2, ds_raw2 ):\n",
    "    ds1 = ds_raw1.loc[ ds_raw1['t_arrival_secs'] > 0 ]\n",
    "    ds2 = ds_raw2.loc[ ds_raw2['t_arrival_secs'] > 0 ]\n",
    "\n",
    "    travel_times1 = ds1['t_traveltime_secs']\n",
    "    travel_times2 = ds2['t_traveltime_secs']\n",
    "    travel_times = [ travel_times1, travel_times2 ]\n",
    "    \n",
    "    cols = 80\n",
    "    fig, ax = plt.subplots(figsize=(18,8))\n",
    "\n",
    "    plt.xlabel('Travel Time')\n",
    "    plt.ylabel('Frecuency')\n",
    "    plt.title(\"Travel Times Histogram: \"+label1+\" <--> \"+label2 )\n",
    "    \n",
    "    # y_vals1, x_bins1, patches1 = ax.hist(travel_times1, histtype='bar', cols, normed=0, facecolor='green', alpha=0.30)\n",
    "    # y_vals2, x_bins2, patches2 = ax.hist(travel_times2, histtype='bar', cols, normed=0, facecolor='blue', alpha=0.30)\n",
    "    [y_vals1, y_vals2], x_bins, patches = ax.hist(travel_times, cols, normed=0, color=['green', 'blue'], alpha=0.30, histtype='bar')\n",
    "    \n",
    "    # first histogram ------------------------------------\n",
    "    x_mean1   = np.mean(travel_times1)\n",
    "    x_median1 = np.median(travel_times1)\n",
    "    y_mean1   = np.mean(y_vals1)\n",
    "    y_median1 = np.median(y_vals1)\n",
    "    r_mean1   = np.mean(ds1['route_path_num'])\n",
    "    r_median1 = np.median(ds1['route_path_num'])\n",
    "    # l_mean1   = np.mean(ds1['route_length'])\n",
    "    # l_median1 = np.median(ds1['route_length'])\n",
    "    l_mean1   = 1\n",
    "    l_median1 = 1\n",
    "\n",
    "    # add a 'best fit' line\n",
    "    y1_vals1 = np.append( y_vals1, y_vals1[cols-1] )\n",
    "\n",
    "    x2_mean1   = [ x_mean1   for i in y1_vals1 ]\n",
    "    x3_median1 = [ x_median1 for i in y1_vals1 ]\n",
    "    y2_mean1   = [ y_mean1   for i in x_bins ]\n",
    "    y3_median1 = [ y_median1 for i in x_bins ]\n",
    "\n",
    "    # second histogram ------------------------------------\n",
    "    x_mean2   = np.mean(travel_times2)\n",
    "    x_median2 = np.median(travel_times2)\n",
    "    y_mean2   = np.mean(y_vals2)\n",
    "    y_median2 = np.median(y_vals2)\n",
    "    r_mean2   = np.mean(ds2['route_path_num'])\n",
    "    r_median2 = np.median(ds2['route_path_num'])\n",
    "    # l_mean2   = np.mean(ds2['route_length'])\n",
    "    # l_median2 = np.median(ds2['route_length'])\n",
    "    l_mean2   = 1\n",
    "    l_median2 = 1\n",
    "    \n",
    "    # add a 'best fit' line\n",
    "    y1_vals2 = np.append( y_vals2, y_vals2[cols-1] )\n",
    "\n",
    "    x2_mean2   = [ x_mean2   for i in y1_vals2 ]\n",
    "    x3_median2 = [ x_median2 for i in y1_vals2 ]\n",
    "    y2_mean2   = [ y_mean2   for i in x_bins ]\n",
    "    y3_median2 = [ y_median2 for i in x_bins ]\n",
    "    print(\n",
    "        \"=== \", title, \" ============================== \\n\",\n",
    "        \"Trips Total:\", str_vals_percent(ds_raw1['id'].count(), ds_raw2['id'].count() ), \"\\n\",\n",
    "        \"Trips Completed:\", str_vals_percent(travel_times1.count(),travel_times2.count()), \"\\n\",\n",
    "        \"  * Travel time (mean)    :\",    str_vals_percent( x_mean1, x_mean2), \"\\n\",\n",
    "        \"  * Travel time (median)  :\",   str_vals_percent( x_median1, x_median2), \"\\n\",\n",
    "        # \"  * Route lengths (mean)  :\",   str_vals_percent( l_mean1, l_mean2), \"\\n\",\n",
    "        # \"  * Route lengths (median):\", str_vals_percent( l_median1, l_median2), \"\\n\",\n",
    "        \"  * Route paths (mean)    :\",     str_vals_percent( r_mean1, r_mean2), \"\\n\",\n",
    "        \"  * Route paths (median)  :\",   str_vals_percent( r_median1, r_median2), \"\\n\"\n",
    "        )\n",
    "\n",
    "    line_estimation1 = ax.plot(x_bins, y1_vals1, 'r-', label='Estimation', linewidth=2, color='darkgreen')\n",
    "    line_estimation2 = ax.plot(x_bins, y1_vals2, 'r-', label='Estimation', linewidth=2, color='darkblue')\n",
    "\n",
    "    max_y = np.linspace(0, max( max(y_vals1), max(y_vals2)), num=len(x_bins))\n",
    "    line_mean1 = ax.plot(x2_mean1, max_y, label='Mean', linestyle='--', linewidth=2, color='darkgreen')\n",
    "    line_median1 = ax.plot(x3_median1, max_y, label='Median', linestyle='-', linewidth=2, color='darkgreen')\n",
    "\n",
    "    line_mean2 = ax.plot(x2_mean2, y1_vals2, label='Mean', linestyle='--', linewidth=2, color='darkblue')\n",
    "    line_median2 = ax.plot(x3_median2, max_y, label='Median', linestyle='-', linewidth=2, color='darkblue')\n",
    "\n",
    "    mean_line1   = mlines.Line2D([], [], linestyle='--',color='darkgreen', markersize=1, label='1:Mean')\n",
    "    median_line1 = mlines.Line2D([], [], linestyle='-', color='darkgreen', markersize=1, label='1:Median')\n",
    "    mean_line2   = mlines.Line2D([], [], linestyle='--',color='darkblue',  markersize=1, label='2:Mean')\n",
    "    median_line2 = mlines.Line2D([], [], linestyle='-', color='darkblue',  markersize=1, label='2:Median')\n",
    "    ax.legend(handles=[median_line1, mean_line1, median_line2, mean_line2], bbox_to_anchor=(1.15, 0.9))\n",
    "\n",
    "    # plt.axis([travel_times.min(), travel_times.max()+1, 0, 0.03])\n",
    "    ax.grid(True)\n",
    "\n",
    "    # If plotting OUTSIDE the notebook, set interactive mode ON/OFF\n",
    "    # plt.ioff()\n",
    "    # plt.ion()\n",
    "\n",
    "    plt.show()"
   ]
  },
  {
   "cell_type": "markdown",
   "metadata": {
    "collapsed": true,
    "nbpresent": {
     "id": "66306679-3be0-4087-bed0-760c7d275993"
    },
    "slideshow": {
     "slide_type": "fragment"
    }
   },
   "source": [
    "#### Function process_scenario\n",
    "Uploads results from scenario execution and plots an histogram based on the dataset.\n",
    "* Select only those vehicles that finish the trip, i.e. have arrive time > 0."
   ]
  },
  {
   "cell_type": "code",
   "execution_count": 7,
   "metadata": {
    "collapsed": true,
    "nbpresent": {
     "id": "e69b902d-06a7-43de-8d38-6545b079eeb8"
    },
    "slideshow": {
     "slide_type": "skip"
    }
   },
   "outputs": [],
   "source": [
    "def process_scenario( path, experiment ):\n",
    "    datafile = path + \"/experiments/\" + experiment + \".csv\"\n",
    "    # print( \"DATAFILE: \", datafile )\n",
    "    # ds means \"dataset\"\n",
    "    ds_raw = pd.read_csv(datafile)\n",
    "    draw_histogram( experiment, ds_raw )"
   ]
  },
  {
   "cell_type": "markdown",
   "metadata": {
    "collapsed": true,
    "slideshow": {
     "slide_type": "fragment"
    }
   },
   "source": [
    "#### Function compare_scenarios\n",
    "Uploads results from 2 scenario executions and plotting the histogram curves based on the dataset.\n",
    "* Select only those vehicles that finish the trip, i.e. have arrive time > 0."
   ]
  },
  {
   "cell_type": "code",
   "execution_count": 28,
   "metadata": {
    "collapsed": false,
    "slideshow": {
     "slide_type": "skip"
    }
   },
   "outputs": [],
   "source": [
    "def compare_scenarios( path, label1, experiment1, label2, experiment2 ):\n",
    "    datafile1 = path + \"/experiments/tmp/\" + experiment1 + \"/\" + experiment1 + \".csv\"\n",
    "    datafile2 = path + \"/experiments/tmp/\" + experiment2 + \"/\" + experiment2 + \".csv\"\n",
    "    # print( \"DATAFILE: \", datafile )\n",
    "    # ds means \"dataset\"\n",
    "    ds_raw1 = pd.read_csv(datafile1)\n",
    "    ds_raw2 = pd.read_csv(datafile2)\n",
    "    veh_types = dataset_obtain_unique_fleets( ds_raw1, ds_raw2 )\n",
    "    print(\n",
    "        \"Scenario: \", label1, \" <--> \", label2, \"\\n\",\n",
    "        \"Experiments: \", experiment1, \" <--> \", experiment2, \"\\n\"\n",
    "        )\n",
    "    if( False ):\n",
    "      if ( len(veh_types) > 0 ):\n",
    "        for vt in veh_types:\n",
    "          ds_raw1b = dataset_filter_per_veh_type(ds_raw1, vt)\n",
    "          ds_raw2b = dataset_filter_per_veh_type(ds_raw2, vt)\n",
    "          ds_raw1b.head()\n",
    "          draw_2histograms( \"VEHICLE TYPE: \"+vt,\n",
    "                    label1, experiment1, ds_raw1b, label2, experiment2, ds_raw2b )\n",
    "\n",
    "    draw_2histograms( \"FULL DATA SET\",\n",
    "                      label1, experiment1, ds_raw1, label2, experiment2, ds_raw2 )"
   ]
  },
  {
   "cell_type": "code",
   "execution_count": 27,
   "metadata": {
    "collapsed": false,
    "scrolled": false
   },
   "outputs": [
    {
     "name": "stdout",
     "output_type": "stream",
     "text": [
      "[nan, nan]\n",
      "Scenario:  GRID16/no BASTRA/random traffic  <-->  GRID16/no BASTRA/full traffic \n",
      " Experiments:  canogrid_noBastra_nomaps_randomtraffic_161017_142334  <-->  canogrid_noBastra_nomaps_fulltraffic_161017_144020 \n",
      "\n",
      "===  FULL DATA SET  ============================== \n",
      " Trips Total: [4000.00,6000.00] 50.00% \n",
      " Trips Completed: [1836.00,1464.00] -20.26% \n",
      "   * Travel time (mean)    : [172.94,203.17] 17.48% \n",
      "   * Travel time (median)  : [120.00,127.50] 6.25% \n",
      "   * Route paths (mean)    : [11.28,12.59] 11.64% \n",
      "   * Route paths (median)  : [10.00,11.00] 10.00% \n",
      "\n"
     ]
    },
    {
     "data": {
      "image/png": "[encoded data removed]",
      "text/plain": [
       "<matplotlib.figure.Figure at 0x1198906d8>"
      ]
     },
     "metadata": {},
     "output_type": "display_data"
    }
   ],
   "source": [
    "compare_scenarios( \"/Users/alvaro/Desktop/workspace/mutraff/uah-gist-mutraff-bastra\",\n",
    "                \"GRID16/no BASTRA/random traffic\", \"canogrid_noBastra_nomaps_randomtraffic_161017_142334\",\n",
    "                \"GRID16/no BASTRA/full traffic\", \"canogrid_noBastra_nomaps_fulltraffic_161017_144020\" )"
   ]
  },
  {
   "cell_type": "code",
   "execution_count": null,
   "metadata": {
    "collapsed": false,
    "scrolled": true
   },
   "outputs": [],
   "source": [
    "path = \"/Users/alvaro/Desktop/workspace/mutraff/uah-gist-mutraff-bastra\"\n",
    "experiment1 = \"data_Grid_noBastra_160930_104052\"\n",
    "datafile1 = path + \"/experiments/\" + experiment1 + \".csv\"\n",
    "datafile2 = path + \"/routelengths/\" + \"grid.net.xml.edges.csv\"\n",
    "ds_raw1 = pd.read_csv(datafile1)\n",
    "ds_raw2 = pd.read_csv(datafile2)\n",
    "ds_raw1.head()\n",
    "# ds_raw2.head()"
   ]
  },
  {
   "cell_type": "markdown",
   "metadata": {
    "nbpresent": {
     "id": "a622efcf-0563-4216-9d5a-f4b1f55d42a0"
    },
    "slideshow": {
     "slide_type": "slide"
    }
   },
   "source": [
    "## Simulation: GRID basic\n",
    "Apply 2 weighted maps with penalty to routes, inside a network with GRID topology. Maps will be applied during all the simulation. Only 50% of the vehicles will use the system.\n",
    "\n",
    "**Scenario**\n",
    "* Name = \"Grid\"\n",
    "* Basic reference GRID scenario.\n",
    "* Execution date: 160926_124432\n",
    "* Process time: 781 sec\n",
    "* Platform: MAC-PRO OS-X Darwin\n",
    "\n",
    "**Simulation Time**\n",
    "* Begin = 0\n",
    "* End = 10000\n",
    "\n",
    "**SUMO Traffic**\n",
    "* Network:\n",
    "    * Grid style: 16x16\n",
    "    * File = \"../scenes/Grid/grid.net.xml\"\n",
    "* Vehicle Types:\n",
    "    * car (weight=4 -> 80%)\n",
    "    * motorcycle (weight=1 -> 20%)\n",
    "* Demand:\n",
    "    * Traffic background:\n",
    "        * Time: full simulation\n",
    "        * Volume: 3000 vehicles\n",
    "        * Distribution: O/D random (normal)\n",
    "    * Traffic flows:\n",
    "        * Time: full simulation\n",
    "        * 4 traffic flows end2end of grid.\n",
    "        * Volume: 100 vehicles\n",
    "\n",
    "**Bastra parameters**\n",
    "* Logit = 0,5\n",
    "* Use_blance = true\n",
    "* foresight_steps = 1 <-- Number of edges in the planned route to be scanned to consider jam.\n",
    "* foresight_tries = 3 <-- Number of trials to achieve a new route that avoids jam.\n",
    "* foresight_halting = 3 <-- Size of vehicles queued to understand that there is a jam. \n",
    "* foresight_penalty = 50.0 <-- Weight-factor to apply to an edge in the rerouting algorithm, to force duarouter to over-weight this edge selection and thus avoid selection.\n",
    "* Commands:\n",
    "    * **Weighted maps**\n",
    "        * Apply during all the simulation\n",
    "        * 2 weighted maps, applying 50% to each vehicle type (2) with weights_factor=3 (x3) in the selected routes. So \"edge weight = travel_time * weight_factor\"\n",
    "            * file=\"../scenes/Grid/maps/map1.pen.map.xml\" prob=\"0.50\" tag=\"motorcycle\"\n",
    "            * file=\"../scenes/Grid/maps/map2.pen.map.xml\" prob=\"0.50\" tag=\"motorcycle\"\n",
    "            * file=\"../scenes/Grid/maps/map1.pen.map.xml\" prob=\"0.50\" tag=\"car\"\n",
    "            * file=\"../scenes/Grid/maps/map2.pen.map.xml\" prob=\"0.50\" tag=\"car\""
   ]
  },
  {
   "cell_type": "code",
   "execution_count": null,
   "metadata": {
    "collapsed": false,
    "nbpresent": {
     "id": "db3fb542-6dc1-44d6-8c08-adc17d7d044d"
    },
    "scrolled": false,
    "slideshow": {
     "slide_type": "subslide"
    }
   },
   "outputs": [],
   "source": [
    " process_scenario(\"/Users/alvaro/Desktop/workspace/mutraff/uah-gist-mutraff-bastra\",\n",
    "                  \"data_Grid_161005_111230\" )"
   ]
  },
  {
   "cell_type": "markdown",
   "metadata": {
    "slideshow": {
     "slide_type": "slide"
    }
   },
   "source": [
    "## Simulation: GRID no Bastra (I)\n",
    "Execute the simulation without Bastra rerouting mechanism.\n",
    "\n",
    "**Scenario**\n",
    "* Name = \"Grid\"\n",
    "* Basic reference GRID scenario.\n",
    "* Execution date: 160928_235551\n",
    "* Process time: 621 sec\n",
    "* Platform: MAC-PRO OS-X Darwin\n",
    "\n",
    "**Simulation Time**\n",
    "* Begin = 0\n",
    "* End = 10000\n",
    "\n",
    "**SUMO Traffic**\n",
    "* Network:\n",
    "    * Grid style: 16x16\n",
    "    * File = \"../scenes/Grid/grid.net.xml\"\n",
    "* Vehicle Types:\n",
    "    * car (weight=4 -> 80%)\n",
    "    * motorcycle (weight=1 -> 20%)\n",
    "* Demand:\n",
    "    * Traffic background:\n",
    "        * Time: full simulation\n",
    "        * Volume: 3000 vehicles\n",
    "        * Distribution: O/D random (normal)\n",
    "    * Traffic flows:\n",
    "        * Time: full simulation\n",
    "        * 4 traffic flows end2end of grid.\n",
    "        * Volume: 100 vehicles\n",
    "\n",
    "**Bastra parameters**\n",
    "* Logit = 0\n",
    "* Use_balance = false\n",
    "* foresight_steps = 0 <-- Number of edges in the planned route to be scanned to consider jam.\n",
    "* foresight_tries = 0 <-- Number of trials to achieve a new route that avoids jam.\n",
    "* foresight_halting = 0 <-- Size of vehicles queued to understand that there is a jam. \n",
    "* foresight_penalty = 1 <-- Weight-factor to apply to an edge in the rerouting algorithm, to force duarouter to over-weight this edge selection and thus avoid selection.\n",
    "* Commands:\n",
    "    * **Weighted maps**\n",
    "        * NONE"
   ]
  },
  {
   "cell_type": "code",
   "execution_count": null,
   "metadata": {
    "collapsed": false,
    "scrolled": false,
    "slideshow": {
     "slide_type": "subslide"
    }
   },
   "outputs": [],
   "source": [
    "process_scenario( \"/Users/alvaro/Desktop/workspace/mutraff/uah-gist-mutraff-bastra\",\n",
    "                 \"data_Grid_noBastra_160930_104052\" )"
   ]
  },
  {
   "cell_type": "markdown",
   "metadata": {},
   "source": [
    "# HOT MAPS PLOTTING\n",
    "In the second version of BASTRA we are able to dump edge measures during time:\n",
    "* Occupation\n",
    "* Emissions\n",
    "* Noise\n",
    "We are also able to \"play\" screens."
   ]
  },
  {
   "cell_type": "code",
   "execution_count": 29,
   "metadata": {
    "collapsed": false,
    "scrolled": true
   },
   "outputs": [
    {
     "data": {
      "text/html": [
       "<div>\n",
       "<table border=\"1\" class=\"dataframe\">\n",
       "  <thead>\n",
       "    <tr style=\"text-align: right;\">\n",
       "      <th></th>\n",
       "      <th>id</th>\n",
       "      <th>name</th>\n",
       "      <th>priority</th>\n",
       "      <th>from</th>\n",
       "      <th>to</th>\n",
       "      <th>x1</th>\n",
       "      <th>y1</th>\n",
       "      <th>x2</th>\n",
       "      <th>y2</th>\n",
       "      <th>av_x</th>\n",
       "      <th>av_y</th>\n",
       "    </tr>\n",
       "  </thead>\n",
       "  <tbody>\n",
       "    <tr>\n",
       "      <th>0</th>\n",
       "      <td>1/9to1/10</td>\n",
       "      <td>125</td>\n",
       "      <td>-1</td>\n",
       "      <td>1/9</td>\n",
       "      <td>1/10</td>\n",
       "      <td>131.65</td>\n",
       "      <td>934.75</td>\n",
       "      <td>131.65</td>\n",
       "      <td>1025.25</td>\n",
       "      <td>131.65</td>\n",
       "      <td>980.000</td>\n",
       "    </tr>\n",
       "    <tr>\n",
       "      <th>1</th>\n",
       "      <td>2/12to3/12</td>\n",
       "      <td>527</td>\n",
       "      <td>-1</td>\n",
       "      <td>2/12</td>\n",
       "      <td>3/12</td>\n",
       "      <td>234.75</td>\n",
       "      <td>1228.35</td>\n",
       "      <td>325.25</td>\n",
       "      <td>1228.35</td>\n",
       "      <td>280.00</td>\n",
       "      <td>1228.350</td>\n",
       "    </tr>\n",
       "    <tr>\n",
       "      <th>2</th>\n",
       "      <td>bottom10to10/0</td>\n",
       "      <td>1025</td>\n",
       "      <td>-1</td>\n",
       "      <td>bottom10</td>\n",
       "      <td>10/0</td>\n",
       "      <td>1031.65</td>\n",
       "      <td>0.00</td>\n",
       "      <td>1031.65</td>\n",
       "      <td>25.25</td>\n",
       "      <td>1031.65</td>\n",
       "      <td>12.625</td>\n",
       "    </tr>\n",
       "    <tr>\n",
       "      <th>3</th>\n",
       "      <td>6/15to6/14</td>\n",
       "      <td>793</td>\n",
       "      <td>-1</td>\n",
       "      <td>6/15</td>\n",
       "      <td>6/14</td>\n",
       "      <td>628.35</td>\n",
       "      <td>1525.25</td>\n",
       "      <td>628.35</td>\n",
       "      <td>1434.75</td>\n",
       "      <td>628.35</td>\n",
       "      <td>1480.000</td>\n",
       "    </tr>\n",
       "    <tr>\n",
       "      <th>4</th>\n",
       "      <td>12/2to11/2</td>\n",
       "      <td>288</td>\n",
       "      <td>-1</td>\n",
       "      <td>12/2</td>\n",
       "      <td>11/2</td>\n",
       "      <td>1225.25</td>\n",
       "      <td>231.65</td>\n",
       "      <td>1134.75</td>\n",
       "      <td>231.65</td>\n",
       "      <td>1180.00</td>\n",
       "      <td>231.650</td>\n",
       "    </tr>\n",
       "  </tbody>\n",
       "</table>\n",
       "</div>"
      ],
      "text/plain": [
       "               id  name  priority      from    to       x1       y1       x2  \\\n",
       "0       1/9to1/10   125        -1       1/9  1/10   131.65   934.75   131.65   \n",
       "1      2/12to3/12   527        -1      2/12  3/12   234.75  1228.35   325.25   \n",
       "2  bottom10to10/0  1025        -1  bottom10  10/0  1031.65     0.00  1031.65   \n",
       "3      6/15to6/14   793        -1      6/15  6/14   628.35  1525.25   628.35   \n",
       "4      12/2to11/2   288        -1      12/2  11/2  1225.25   231.65  1134.75   \n",
       "\n",
       "        y2     av_x      av_y  \n",
       "0  1025.25   131.65   980.000  \n",
       "1  1228.35   280.00  1228.350  \n",
       "2    25.25  1031.65    12.625  \n",
       "3  1434.75   628.35  1480.000  \n",
       "4   231.65  1180.00   231.650  "
      ]
     },
     "execution_count": 29,
     "metadata": {},
     "output_type": "execute_result"
    }
   ],
   "source": [
    "# This is just demo code\n",
    "edges = pd.read_csv( \"/tmp/edges.csv\")\n",
    "edges.head()"
   ]
  },
  {
   "cell_type": "code",
   "execution_count": 30,
   "metadata": {
    "collapsed": false
   },
   "outputs": [
    {
     "ename": "OSError",
     "evalue": "File b'/Users/alvaro/Desktop/workspace/mutraff/uah-gist-mutraff-bastra/data_devFastTest_161011_174130/edge_stats.csv' does not exist",
     "output_type": "error",
     "traceback": [
      "\u001b[0;31m---------------------------------------------------------------------------\u001b[0m",
      "\u001b[0;31mOSError\u001b[0m                                   Traceback (most recent call last)",
      "\u001b[0;32m<ipython-input-30-989e17b1c58c>\u001b[0m in \u001b[0;36m<module>\u001b[0;34m()\u001b[0m\n\u001b[1;32m      3\u001b[0m \u001b[0mexperiment\u001b[0m\u001b[0;34m=\u001b[0m\u001b[0;34m'data_devFastTest_161011_174130'\u001b[0m\u001b[0;34m\u001b[0m\u001b[0m\n\u001b[1;32m      4\u001b[0m \u001b[0mdatafile\u001b[0m \u001b[0;34m=\u001b[0m \u001b[0mdir\u001b[0m \u001b[0;34m+\u001b[0m \u001b[0mexperiment\u001b[0m \u001b[0;34m+\u001b[0m \u001b[0;34m'/edge_stats.csv'\u001b[0m\u001b[0;34m\u001b[0m\u001b[0m\n\u001b[0;32m----> 5\u001b[0;31m \u001b[0mds\u001b[0m \u001b[0;34m=\u001b[0m \u001b[0mpd\u001b[0m\u001b[0;34m.\u001b[0m\u001b[0mread_csv\u001b[0m\u001b[0;34m(\u001b[0m\u001b[0mdatafile\u001b[0m\u001b[0;34m)\u001b[0m\u001b[0;34m\u001b[0m\u001b[0m\n\u001b[0m\u001b[1;32m      6\u001b[0m \u001b[0mtimes\u001b[0m \u001b[0;34m=\u001b[0m \u001b[0mds\u001b[0m\u001b[0;34m.\u001b[0m\u001b[0mtime\u001b[0m\u001b[0;34m.\u001b[0m\u001b[0munique\u001b[0m\u001b[0;34m(\u001b[0m\u001b[0;34m)\u001b[0m\u001b[0;34m\u001b[0m\u001b[0m\n\u001b[1;32m      7\u001b[0m \u001b[0mds\u001b[0m\u001b[0;34m.\u001b[0m\u001b[0mhead\u001b[0m\u001b[0;34m(\u001b[0m\u001b[0;34m)\u001b[0m\u001b[0;34m\u001b[0m\u001b[0m\n",
      "\u001b[0;32m/Users/alvaro/anaconda3/lib/python3.5/site-packages/pandas/io/parsers.py\u001b[0m in \u001b[0;36mparser_f\u001b[0;34m(filepath_or_buffer, sep, delimiter, header, names, index_col, usecols, squeeze, prefix, mangle_dupe_cols, dtype, engine, converters, true_values, false_values, skipinitialspace, skiprows, skipfooter, nrows, na_values, keep_default_na, na_filter, verbose, skip_blank_lines, parse_dates, infer_datetime_format, keep_date_col, date_parser, dayfirst, iterator, chunksize, compression, thousands, decimal, lineterminator, quotechar, quoting, escapechar, comment, encoding, dialect, tupleize_cols, error_bad_lines, warn_bad_lines, skip_footer, doublequote, delim_whitespace, as_recarray, compact_ints, use_unsigned, low_memory, buffer_lines, memory_map, float_precision)\u001b[0m\n\u001b[1;32m    560\u001b[0m                     skip_blank_lines=skip_blank_lines)\n\u001b[1;32m    561\u001b[0m \u001b[0;34m\u001b[0m\u001b[0m\n\u001b[0;32m--> 562\u001b[0;31m         \u001b[0;32mreturn\u001b[0m \u001b[0m_read\u001b[0m\u001b[0;34m(\u001b[0m\u001b[0mfilepath_or_buffer\u001b[0m\u001b[0;34m,\u001b[0m \u001b[0mkwds\u001b[0m\u001b[0;34m)\u001b[0m\u001b[0;34m\u001b[0m\u001b[0m\n\u001b[0m\u001b[1;32m    563\u001b[0m \u001b[0;34m\u001b[0m\u001b[0m\n\u001b[1;32m    564\u001b[0m     \u001b[0mparser_f\u001b[0m\u001b[0;34m.\u001b[0m\u001b[0m__name__\u001b[0m \u001b[0;34m=\u001b[0m \u001b[0mname\u001b[0m\u001b[0;34m\u001b[0m\u001b[0m\n",
      "\u001b[0;32m/Users/alvaro/anaconda3/lib/python3.5/site-packages/pandas/io/parsers.py\u001b[0m in \u001b[0;36m_read\u001b[0;34m(filepath_or_buffer, kwds)\u001b[0m\n\u001b[1;32m    313\u001b[0m \u001b[0;34m\u001b[0m\u001b[0m\n\u001b[1;32m    314\u001b[0m     \u001b[0;31m# Create the parser.\u001b[0m\u001b[0;34m\u001b[0m\u001b[0;34m\u001b[0m\u001b[0m\n\u001b[0;32m--> 315\u001b[0;31m     \u001b[0mparser\u001b[0m \u001b[0;34m=\u001b[0m \u001b[0mTextFileReader\u001b[0m\u001b[0;34m(\u001b[0m\u001b[0mfilepath_or_buffer\u001b[0m\u001b[0;34m,\u001b[0m \u001b[0;34m**\u001b[0m\u001b[0mkwds\u001b[0m\u001b[0;34m)\u001b[0m\u001b[0;34m\u001b[0m\u001b[0m\n\u001b[0m\u001b[1;32m    316\u001b[0m \u001b[0;34m\u001b[0m\u001b[0m\n\u001b[1;32m    317\u001b[0m     \u001b[0;32mif\u001b[0m \u001b[0;34m(\u001b[0m\u001b[0mnrows\u001b[0m \u001b[0;32mis\u001b[0m \u001b[0;32mnot\u001b[0m \u001b[0;32mNone\u001b[0m\u001b[0;34m)\u001b[0m \u001b[0;32mand\u001b[0m \u001b[0;34m(\u001b[0m\u001b[0mchunksize\u001b[0m \u001b[0;32mis\u001b[0m \u001b[0;32mnot\u001b[0m \u001b[0;32mNone\u001b[0m\u001b[0;34m)\u001b[0m\u001b[0;34m:\u001b[0m\u001b[0;34m\u001b[0m\u001b[0m\n",
      "\u001b[0;32m/Users/alvaro/anaconda3/lib/python3.5/site-packages/pandas/io/parsers.py\u001b[0m in \u001b[0;36m__init__\u001b[0;34m(self, f, engine, **kwds)\u001b[0m\n\u001b[1;32m    643\u001b[0m             \u001b[0mself\u001b[0m\u001b[0;34m.\u001b[0m\u001b[0moptions\u001b[0m\u001b[0;34m[\u001b[0m\u001b[0;34m'has_index_names'\u001b[0m\u001b[0;34m]\u001b[0m \u001b[0;34m=\u001b[0m \u001b[0mkwds\u001b[0m\u001b[0;34m[\u001b[0m\u001b[0;34m'has_index_names'\u001b[0m\u001b[0;34m]\u001b[0m\u001b[0;34m\u001b[0m\u001b[0m\n\u001b[1;32m    644\u001b[0m \u001b[0;34m\u001b[0m\u001b[0m\n\u001b[0;32m--> 645\u001b[0;31m         \u001b[0mself\u001b[0m\u001b[0;34m.\u001b[0m\u001b[0m_make_engine\u001b[0m\u001b[0;34m(\u001b[0m\u001b[0mself\u001b[0m\u001b[0;34m.\u001b[0m\u001b[0mengine\u001b[0m\u001b[0;34m)\u001b[0m\u001b[0;34m\u001b[0m\u001b[0m\n\u001b[0m\u001b[1;32m    646\u001b[0m \u001b[0;34m\u001b[0m\u001b[0m\n\u001b[1;32m    647\u001b[0m     \u001b[0;32mdef\u001b[0m \u001b[0mclose\u001b[0m\u001b[0;34m(\u001b[0m\u001b[0mself\u001b[0m\u001b[0;34m)\u001b[0m\u001b[0;34m:\u001b[0m\u001b[0;34m\u001b[0m\u001b[0m\n",
      "\u001b[0;32m/Users/alvaro/anaconda3/lib/python3.5/site-packages/pandas/io/parsers.py\u001b[0m in \u001b[0;36m_make_engine\u001b[0;34m(self, engine)\u001b[0m\n\u001b[1;32m    797\u001b[0m     \u001b[0;32mdef\u001b[0m \u001b[0m_make_engine\u001b[0m\u001b[0;34m(\u001b[0m\u001b[0mself\u001b[0m\u001b[0;34m,\u001b[0m \u001b[0mengine\u001b[0m\u001b[0;34m=\u001b[0m\u001b[0;34m'c'\u001b[0m\u001b[0;34m)\u001b[0m\u001b[0;34m:\u001b[0m\u001b[0;34m\u001b[0m\u001b[0m\n\u001b[1;32m    798\u001b[0m         \u001b[0;32mif\u001b[0m \u001b[0mengine\u001b[0m \u001b[0;34m==\u001b[0m \u001b[0;34m'c'\u001b[0m\u001b[0;34m:\u001b[0m\u001b[0;34m\u001b[0m\u001b[0m\n\u001b[0;32m--> 799\u001b[0;31m             \u001b[0mself\u001b[0m\u001b[0;34m.\u001b[0m\u001b[0m_engine\u001b[0m \u001b[0;34m=\u001b[0m \u001b[0mCParserWrapper\u001b[0m\u001b[0;34m(\u001b[0m\u001b[0mself\u001b[0m\u001b[0;34m.\u001b[0m\u001b[0mf\u001b[0m\u001b[0;34m,\u001b[0m \u001b[0;34m**\u001b[0m\u001b[0mself\u001b[0m\u001b[0;34m.\u001b[0m\u001b[0moptions\u001b[0m\u001b[0;34m)\u001b[0m\u001b[0;34m\u001b[0m\u001b[0m\n\u001b[0m\u001b[1;32m    800\u001b[0m         \u001b[0;32melse\u001b[0m\u001b[0;34m:\u001b[0m\u001b[0;34m\u001b[0m\u001b[0m\n\u001b[1;32m    801\u001b[0m             \u001b[0;32mif\u001b[0m \u001b[0mengine\u001b[0m \u001b[0;34m==\u001b[0m \u001b[0;34m'python'\u001b[0m\u001b[0;34m:\u001b[0m\u001b[0;34m\u001b[0m\u001b[0m\n",
      "\u001b[0;32m/Users/alvaro/anaconda3/lib/python3.5/site-packages/pandas/io/parsers.py\u001b[0m in \u001b[0;36m__init__\u001b[0;34m(self, src, **kwds)\u001b[0m\n\u001b[1;32m   1211\u001b[0m         \u001b[0mkwds\u001b[0m\u001b[0;34m[\u001b[0m\u001b[0;34m'allow_leading_cols'\u001b[0m\u001b[0;34m]\u001b[0m \u001b[0;34m=\u001b[0m \u001b[0mself\u001b[0m\u001b[0;34m.\u001b[0m\u001b[0mindex_col\u001b[0m \u001b[0;32mis\u001b[0m \u001b[0;32mnot\u001b[0m \u001b[0;32mFalse\u001b[0m\u001b[0;34m\u001b[0m\u001b[0m\n\u001b[1;32m   1212\u001b[0m \u001b[0;34m\u001b[0m\u001b[0m\n\u001b[0;32m-> 1213\u001b[0;31m         \u001b[0mself\u001b[0m\u001b[0;34m.\u001b[0m\u001b[0m_reader\u001b[0m \u001b[0;34m=\u001b[0m \u001b[0m_parser\u001b[0m\u001b[0;34m.\u001b[0m\u001b[0mTextReader\u001b[0m\u001b[0;34m(\u001b[0m\u001b[0msrc\u001b[0m\u001b[0;34m,\u001b[0m \u001b[0;34m**\u001b[0m\u001b[0mkwds\u001b[0m\u001b[0;34m)\u001b[0m\u001b[0;34m\u001b[0m\u001b[0m\n\u001b[0m\u001b[1;32m   1214\u001b[0m \u001b[0;34m\u001b[0m\u001b[0m\n\u001b[1;32m   1215\u001b[0m         \u001b[0;31m# XXX\u001b[0m\u001b[0;34m\u001b[0m\u001b[0;34m\u001b[0m\u001b[0m\n",
      "\u001b[0;32mpandas/parser.pyx\u001b[0m in \u001b[0;36mpandas.parser.TextReader.__cinit__ (pandas/parser.c:3427)\u001b[0;34m()\u001b[0m\n",
      "\u001b[0;32mpandas/parser.pyx\u001b[0m in \u001b[0;36mpandas.parser.TextReader._setup_parser_source (pandas/parser.c:6861)\u001b[0;34m()\u001b[0m\n",
      "\u001b[0;31mOSError\u001b[0m: File b'/Users/alvaro/Desktop/workspace/mutraff/uah-gist-mutraff-bastra/data_devFastTest_161011_174130/edge_stats.csv' does not exist"
     ]
    }
   ],
   "source": [
    "# This is just demo code\n",
    "dir='/Users/alvaro/Desktop/workspace/mutraff/uah-gist-mutraff-bastra/'\n",
    "experiment='data_devFastTest_161011_174130'\n",
    "datafile = dir + experiment + '/edge_stats.csv'\n",
    "ds = pd.read_csv(datafile)\n",
    "times = ds.time.unique()\n",
    "ds.head()\n"
   ]
  },
  {
   "cell_type": "code",
   "execution_count": 31,
   "metadata": {
    "collapsed": false,
    "scrolled": false
   },
   "outputs": [],
   "source": [
    "# Test code to create distribution in array of heatmap\n",
    "def map_coord(x,y,min_x,max_x,min_y,max_y,dim_x,dim_y):\n",
    "    c_x = int(x/(max_x-min_x)*dim_x)\n",
    "    c_y = int(y/(max_y-min_y)*dim_y)\n",
    "    # print( \"(x,y):(\", x, \":\", y, \") --> coords:(\", c_x, \",\", c_y, \")\")\n",
    "    return [ c_x, c_y ]\n",
    "\n",
    "def plot_traffic_heatmap( title, edges, ds, column, grid_size_x, grid_size_y, epoch ):\n",
    "    # Extract the columns edge and <<measure>>\n",
    "    ds1 = ds.loc[ ds['time']==epoch ][['edge',column]]\n",
    "    \n",
    "    # merge with edge coordinates\n",
    "    values = pd.merge(ds1, edges, how='left', left_on=['edge'], right_on=['id'])\n",
    "    \n",
    "    # print(values)\n",
    "    max_v = values[column].max()\n",
    "    min_v = values[column].min()\n",
    "    size_x = grid_size_x\n",
    "    size_y = grid_size_y\n",
    "    vmap = np.zeros( (size_x,size_y) )\n",
    "    \n",
    "    #Calculate canvas axis x,y over the whole map\n",
    "    x_vals = edges[['x1','x2']]\n",
    "    canvas_x_min = x_vals.values.min()\n",
    "    canvas_x_max = x_vals.values.max()\n",
    "    y_vals = edges[['y1','y2']]\n",
    "    canvas_y_min = y_vals.values.min()\n",
    "    canvas_y_max = y_vals.values.max()\n",
    "    # print(\"VALUES\",\"min:\", min_v, \" max:\",max_v)\n",
    "    # print(\"X_AXIS\",\"min:\", canvas_x_min, \" max:\",canvas_x_max)\n",
    "    # print(\"Y_AXIS\",\"min:\", canvas_y_min, \" max:\",canvas_y_max)\n",
    "\n",
    "    plt.figure(figsize=(20,8))\n",
    "    plt.grid(True)\n",
    "    plt.title(title+\". Time: \"+str(epoch)+\", min:\"+str(min_v)+\", max:\"+str(max_v) )\n",
    "    for i in range(len(values)):\n",
    "        x, y = map_coord( values.ix[i,'av_x'], values.ix[i,'av_y'],\n",
    "                    canvas_x_min,canvas_x_max,canvas_y_min,canvas_y_max, size_x, size_y )\n",
    "        values.ix[i,'canvas_x'] = x\n",
    "        values.ix[i,'canvas_y'] = y\n",
    "        vmap[x,y] += values.ix[i,column]\n",
    "        # if( values.ix[i,column] > 0.1 ):\n",
    "        #  print( \"{:d} : {:d},{:d} = {:f} <-- {:f},{:f}\".format(\n",
    "        #        i, x, y, values.ix[i,column], values.ix[i,'av_x'], values.ix[i,'av_y']),\n",
    "        #        \"...\", canvas_x_min,canvas_x_max,canvas_y_min,canvas_y_max, size_x, size_y )\n",
    "    hot_vals = pd.DataFrame( vmap )\n",
    "    # print(values[['canvas_x','canvas_y',column,'av_x','av_y']].sort_values(by=column,ascending=False))\n",
    "    \n",
    "    # interploation='bilinear', 'bicubic', 'nearest'\n",
    "    img = plt.imshow( hot_vals, cmap='YlOrBr', interpolation='bicubic', vmin=0, vmax=1)\n",
    "    # img = plt.imshow( ds_map, cmap='Reds', interpolation='nearest')\n",
    "    plt.colorbar()\n",
    "    plt.show()"
   ]
  },
  {
   "cell_type": "code",
   "execution_count": 32,
   "metadata": {
    "collapsed": false
   },
   "outputs": [
    {
     "ename": "NameError",
     "evalue": "name 'ds' is not defined",
     "output_type": "error",
     "traceback": [
      "\u001b[0;31m---------------------------------------------------------------------------\u001b[0m",
      "\u001b[0;31mNameError\u001b[0m                                 Traceback (most recent call last)",
      "\u001b[0;32m<ipython-input-32-3457156cc97c>\u001b[0m in \u001b[0;36m<module>\u001b[0;34m()\u001b[0m\n\u001b[0;32m----> 1\u001b[0;31m \u001b[0mplot_traffic_heatmap\u001b[0m\u001b[0;34m(\u001b[0m \u001b[0;34m\"Congestion (traveltime)\"\u001b[0m\u001b[0;34m,\u001b[0m \u001b[0medges\u001b[0m\u001b[0;34m,\u001b[0m \u001b[0mds\u001b[0m\u001b[0;34m,\u001b[0m \u001b[0;34m'occupation'\u001b[0m\u001b[0;34m,\u001b[0m \u001b[0;36m16\u001b[0m\u001b[0;34m,\u001b[0m\u001b[0;36m16\u001b[0m\u001b[0;34m,\u001b[0m \u001b[0;36m100\u001b[0m\u001b[0;34m)\u001b[0m\u001b[0;34m\u001b[0m\u001b[0m\n\u001b[0m",
      "\u001b[0;31mNameError\u001b[0m: name 'ds' is not defined"
     ]
    }
   ],
   "source": [
    "plot_traffic_heatmap( \"Congestion (traveltime)\", edges, ds, 'occupation', 16,16, 100)"
   ]
  },
  {
   "cell_type": "code",
   "execution_count": null,
   "metadata": {
    "collapsed": true
   },
   "outputs": [],
   "source": []
  },
  {
   "cell_type": "code",
   "execution_count": null,
   "metadata": {
    "collapsed": true
   },
   "outputs": [],
   "source": []
  }
 ],
 "metadata": {
  "anaconda-cloud": {},
  "celltoolbar": "Slideshow",
  "kernelspec": {
   "display_name": "Python [Root]",
   "language": "python",
   "name": "Python [Root]"
  },
  "language_info": {
   "codemirror_mode": {
    "name": "ipython",
    "version": 3
   },
   "file_extension": ".py",
   "mimetype": "text/x-python",
   "name": "python",
   "nbconvert_exporter": "python",
   "pygments_lexer": "ipython3",
   "version": "3.5.2"
  },
  "nbpresent": {
   "slides": {
    "0e93617c-5659-44ad-a5a3-3b67f0917a8a": {
     "id": "0e93617c-5659-44ad-a5a3-3b67f0917a8a",
     "prev": "d2ee484a-f981-4b4e-96e0-fafec10ab31f",
     "regions": {
      "24f8c583-3bc9-475b-9e13-537eb880eccf": {
       "attrs": {
        "height": 0.8,
        "width": 0.8,
        "x": 0.1,
        "y": 0.1
       },
       "content": {
        "cell": "c7f66994-f059-4fa7-b87c-fcf87fcd4692",
        "part": "whole"
       },
       "id": "24f8c583-3bc9-475b-9e13-537eb880eccf"
      }
     }
    },
    "192eac39-0228-4273-ad57-1231cfedd981": {
     "id": "192eac39-0228-4273-ad57-1231cfedd981",
     "prev": "0e93617c-5659-44ad-a5a3-3b67f0917a8a",
     "regions": {
      "4d2c9d56-c2c4-4967-944f-b5fde27072d9": {
       "attrs": {
        "height": 0.4,
        "width": 0.8,
        "x": 0.1,
        "y": 0.5
       },
       "content": {
        "cell": "13cdafd0-e099-4df8-b330-ca35e5af9864",
        "part": "whole"
       },
       "id": "4d2c9d56-c2c4-4967-944f-b5fde27072d9"
      },
      "bbfe68c0-0433-4982-b147-1bb5e6507033": {
       "attrs": {
        "height": 0.4,
        "width": 0.8,
        "x": 0.1,
        "y": 0.5
       },
       "content": {
        "cell": "08badeff-9fcf-4a72-882f-406306564576",
        "part": "whole"
       },
       "id": "bbfe68c0-0433-4982-b147-1bb5e6507033"
      },
      "dc6c02d6-41e6-423f-889f-589b1356935c": {
       "attrs": {
        "height": 0.8,
        "width": 0.8,
        "x": 0.1,
        "y": 0.1
       },
       "content": {
        "cell": "478def4f-6428-4d47-a089-295db8ebbb0f",
        "part": "whole"
       },
       "id": "dc6c02d6-41e6-423f-889f-589b1356935c"
      }
     }
    },
    "318b4c1a-687f-49bb-b17e-090af20718df": {
     "id": "318b4c1a-687f-49bb-b17e-090af20718df",
     "prev": "db8c44bf-4546-44d6-bbe5-627a85244894",
     "regions": {
      "10d4c0a8-0d07-4118-98e6-4b6674a073b4": {
       "attrs": {
        "height": 0.8,
        "width": 0.8,
        "x": 0.1,
        "y": 0.1
       },
       "content": {
        "cell": "3874ab56-9646-45e2-99ae-cb18c9603f38",
        "part": "whole"
       },
       "id": "10d4c0a8-0d07-4118-98e6-4b6674a073b4"
      },
      "7270e0de-058e-4b5e-bd44-5910108f26b8": {
       "attrs": {
        "height": 0.4,
        "width": 0.8,
        "x": 0.1,
        "y": 0.5
       },
       "content": {
        "cell": "69d6520c-8cb1-48f0-942b-f3c057f6d32e",
        "part": "whole"
       },
       "id": "7270e0de-058e-4b5e-bd44-5910108f26b8"
      }
     }
    },
    "49be6fd5-37c9-4081-8941-b283985e0377": {
     "id": "49be6fd5-37c9-4081-8941-b283985e0377",
     "prev": "ac4b7a52-e61d-4b2e-a2d0-e78488fe662f",
     "regions": {
      "deb4410c-3665-4a55-9cb8-b9792388f552": {
       "attrs": {
        "height": 0.8,
        "width": 0.8,
        "x": 0.1,
        "y": 0.1
       },
       "content": {
        "cell": "a622efcf-0563-4216-9d5a-f4b1f55d42a0",
        "part": "whole"
       },
       "id": "deb4410c-3665-4a55-9cb8-b9792388f552"
      }
     }
    },
    "54356b59-8e84-4e66-a8f6-1d4ef0bca15f": {
     "id": "54356b59-8e84-4e66-a8f6-1d4ef0bca15f",
     "prev": null,
     "regions": {
      "b3560a32-169b-4d7f-b4fa-18fb3a36de9f": {
       "attrs": {
        "height": 0.8,
        "width": 0.8,
        "x": 0.1,
        "y": 0.1
       },
       "content": {
        "cell": "aa548334-3712-4bc8-a30a-5a2a2260bd1c",
        "part": "whole"
       },
       "id": "b3560a32-169b-4d7f-b4fa-18fb3a36de9f"
      }
     }
    },
    "ac4b7a52-e61d-4b2e-a2d0-e78488fe662f": {
     "id": "ac4b7a52-e61d-4b2e-a2d0-e78488fe662f",
     "prev": "318b4c1a-687f-49bb-b17e-090af20718df",
     "regions": {
      "9483ba7b-f75f-4b68-86a7-2a72826169c5": {
       "attrs": {
        "height": 0.4,
        "width": 0.8,
        "x": 0.1,
        "y": 0.5
       },
       "content": {
        "cell": "66306679-3be0-4087-bed0-760c7d275993",
        "part": "whole"
       },
       "id": "9483ba7b-f75f-4b68-86a7-2a72826169c5"
      },
      "ecb1b2c4-fdf2-4db7-975c-c797f9f6fcb8": {
       "attrs": {
        "height": 0.4,
        "width": 0.8,
        "x": 0.1,
        "y": 0.5
       },
       "content": {
        "cell": "745baf99-dab3-4a9a-b114-af69d3ab1633",
        "part": "whole"
       },
       "id": "ecb1b2c4-fdf2-4db7-975c-c797f9f6fcb8"
      },
      "edaccb11-8731-4b52-9075-f981f02e220c": {
       "attrs": {
        "height": 0.8,
        "width": 0.8,
        "x": 0.1,
        "y": 0.1
       },
       "content": {
        "cell": "076a1b7c-343b-4bb3-a2cf-20d64498445f",
        "part": "whole"
       },
       "id": "edaccb11-8731-4b52-9075-f981f02e220c"
      }
     }
    },
    "d2ee484a-f981-4b4e-96e0-fafec10ab31f": {
     "id": "d2ee484a-f981-4b4e-96e0-fafec10ab31f",
     "prev": "49be6fd5-37c9-4081-8941-b283985e0377",
     "regions": {
      "60f786b0-ee3e-41bc-b0c1-2d1bb85b226b": {
       "attrs": {
        "height": 0.8,
        "width": 0.8,
        "x": 0.1,
        "y": 0.1
       },
       "content": {
        "cell": "db3fb542-6dc1-44d6-8c08-adc17d7d044d",
        "part": "whole"
       },
       "id": "60f786b0-ee3e-41bc-b0c1-2d1bb85b226b"
      }
     }
    },
    "db8c44bf-4546-44d6-bbe5-627a85244894": {
     "id": "db8c44bf-4546-44d6-bbe5-627a85244894",
     "prev": "54356b59-8e84-4e66-a8f6-1d4ef0bca15f",
     "regions": {
      "c3afd57d-9edb-4cc5-9978-b437ee816cde": {
       "attrs": {
        "height": 0.8,
        "width": 0.8,
        "x": 0.1,
        "y": 0.1
       },
       "content": {
        "cell": "cc5f0cc1-0a51-4018-a01a-b9672f6f94a8",
        "part": "whole"
       },
       "id": "c3afd57d-9edb-4cc5-9978-b437ee816cde"
      }
     }
    }
   },
   "themes": {}
  }
 },
 "nbformat": 4,
 "nbformat_minor": 0
}
